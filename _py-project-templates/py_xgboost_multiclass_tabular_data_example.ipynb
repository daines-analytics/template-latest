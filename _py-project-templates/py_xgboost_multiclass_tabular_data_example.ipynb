{
 "cells": [
  {
   "cell_type": "markdown",
   "metadata": {},
   "source": [
    "# Multi-Class Model for [PROJECT NAME] Using Python and XGBoost version 2\n",
    "### David Lowe\n",
    "### October 7, 2020\n",
    "\n",
    "Template Credit: Adapted from a template made available by Dr. Jason Brownlee of Machine Learning Mastery. [https://machinelearningmastery.com/]\n",
    "\n",
    "SUMMARY: The purpose of this project is to construct a predictive model using various machine learning algorithms and to document the end-to-end steps using a template. The [PROJECT NAME] dataset is a multi-class modeling situation where we are trying to predict one of several (more than two) possible outcomes.\n",
    "\n",
    "INTRODUCTION: [Sample Paragraph - The dataset involves predicting, from USA Forensic Science Service, six types of glass; defined in terms of their oxide content (i.e. Na, Fe, K, etc). The study of classification of types of glass was also partly motivated by criminological investigation. At the scene of the crime, the glass left can be used as evidence…if it is correctly identified!]\n",
    "\n",
    "ANALYSIS: [Sample Paragraph - The performance of the preliminary XGBoost model achieved an accuracy benchmark of 78.40%. After a series of tuning trials, the best XGBoost model processed the training dataset with an accuracy score of 79.54%. When we applied the final model to the previously unseen test dataset, we obtained an accuracy score of 81.39%.]\n",
    "\n",
    "CONCLUSION: [Sample Paragraph - In this iteration, XGBoost appeared to be a suitable algorithm for modeling this dataset. We should consider experimenting with XGBoost for further modeling.]\n",
    "\n",
    "Dataset Used: [PROJECT NAME] Data Set\n",
    "\n",
    "Dataset ML Model: Multi-class with [numerical | categorical] attributes\n",
    "\n",
    "Dataset Reference: [https://archive.ics.uci.edu/ml/datasets/glass+identification]\n",
    "\n",
    "One source of potential performance benchmarks: [https://www.kaggle.com/uciml/glass]\n",
    "\n",
    "Any predictive modeling machine learning project generally can be broken down into about six major tasks:\n",
    "\n",
    "1. Prepare Environment\n",
    "2. Summarize and Visualize Data\n",
    "3. Pre-process Data\n",
    "4. Train and Evaluate Models\n",
    "5. Fine-tune and Improve Models\n",
    "6. Finalize Model and Present Analysis"
   ]
  },
  {
   "cell_type": "markdown",
   "metadata": {},
   "source": [
    "## Task 1 - Prepare Environment"
   ]
  },
  {
   "cell_type": "code",
   "execution_count": 1,
   "metadata": {},
   "outputs": [],
   "source": [
    "# Install the necessary packages for Colab\n",
    "# !pip install python-dotenv PyMySQL"
   ]
  },
  {
   "cell_type": "code",
   "execution_count": 2,
   "metadata": {},
   "outputs": [],
   "source": [
    "# Retrieve the GPU information from Colab\n",
    "# gpu_info = !nvidia-smi\n",
    "# gpu_info = '\\n'.join(gpu_info)\n",
    "# if gpu_info.find('failed') >= 0:\n",
    "#     print('Select the Runtime → \"Change runtime type\" menu to enable a GPU accelerator, ')\n",
    "#     print('and then re-execute this cell.')\n",
    "# else:\n",
    "#     print(gpu_info)"
   ]
  },
  {
   "cell_type": "code",
   "execution_count": 3,
   "metadata": {},
   "outputs": [],
   "source": [
    "# Retrieve the memory configuration from Colab\n",
    "# from psutil import virtual_memory\n",
    "# ram_gb = virtual_memory().total / 1e9\n",
    "# print('Your runtime has {:.1f} gigabytes of available RAM\\n'.format(ram_gb))\n",
    "\n",
    "# if ram_gb < 20:\n",
    "#     print('To enable a high-RAM runtime, select the Runtime → \"Change runtime type\"')\n",
    "#     print('menu, and then select High-RAM in the Runtime shape dropdown. Then, ')\n",
    "#     print('re-execute this cell.')\n",
    "# else:\n",
    "#     print('You are using a high-RAM runtime!')"
   ]
  },
  {
   "cell_type": "code",
   "execution_count": 4,
   "metadata": {},
   "outputs": [
    {
     "name": "stdout",
     "output_type": "stream",
     "text": [
      "The number of available CPUs is: 4\n"
     ]
    }
   ],
   "source": [
    "# Retrieve the CPU information\n",
    "ncpu = !nproc\n",
    "print(\"The number of available CPUs is:\", ncpu[0])"
   ]
  },
  {
   "cell_type": "markdown",
   "metadata": {},
   "source": [
    "### 1.a) Load libraries and modules"
   ]
  },
  {
   "cell_type": "code",
   "execution_count": 5,
   "metadata": {},
   "outputs": [],
   "source": [
    "# Set the random seed number for reproducible results\n",
    "seedNum = 888"
   ]
  },
  {
   "cell_type": "code",
   "execution_count": 6,
   "metadata": {},
   "outputs": [],
   "source": [
    "import numpy as np\n",
    "import pandas as pd\n",
    "import matplotlib.pyplot as plt\n",
    "import os\n",
    "import sys\n",
    "import boto3\n",
    "from datetime import datetime\n",
    "from dotenv import load_dotenv\n",
    "from sklearn import preprocessing\n",
    "from sklearn.model_selection import train_test_split\n",
    "from sklearn.model_selection import StratifiedKFold\n",
    "from sklearn.model_selection import cross_val_score\n",
    "from sklearn.model_selection import GridSearchCV\n",
    "from sklearn.metrics import classification_report\n",
    "from sklearn.metrics import confusion_matrix\n",
    "from sklearn.metrics import accuracy_score\n",
    "from sklearn.pipeline import Pipeline\n",
    "from sklearn.compose import ColumnTransformer\n",
    "# from sklearn.impute import SimpleImputer\n",
    "# from sklearn.feature_selection import RFE\n",
    "# from imblearn.pipeline import Pipeline\n",
    "# from imblearn.over_sampling import SMOTE\n",
    "# from imblearn.under_sampling import RandomUnderSampler\n",
    "from xgboost import XGBClassifier"
   ]
  },
  {
   "cell_type": "markdown",
   "metadata": {},
   "source": [
    "### 1.b) Set up the controlling parameters and functions"
   ]
  },
  {
   "cell_type": "code",
   "execution_count": 7,
   "metadata": {},
   "outputs": [],
   "source": [
    "# Begin the timer for the script processing\n",
    "startTimeScript = datetime.now()\n",
    "\n",
    "# Set up the number of CPU cores available for multi-thread processing\n",
    "n_jobs = 1\n",
    "\n",
    "# Set up the flag to stop sending progress emails (setting to True will send status emails!)\n",
    "notifyStatus = False\n",
    "\n",
    "# Set up the parent directory location for loading the dotenv files\n",
    "# useColab = False\n",
    "# if useColab:\n",
    "#     # Mount Google Drive locally for storing files\n",
    "#     from google.colab import drive\n",
    "#     drive.mount('/content/gdrive')\n",
    "#     gdrivePrefix = '/content/gdrive/My Drive/Colab_Downloads/'\n",
    "#     env_path = '/content/gdrive/My Drive/Colab Notebooks/'\n",
    "#     dotenv_path = env_path + \"python_script.env\"\n",
    "#     load_dotenv(dotenv_path=dotenv_path)\n",
    "\n",
    "# Set up the dotenv file for retrieving environment variables\n",
    "# useLocalPC = False\n",
    "# if useLocalPC:\n",
    "#     env_path = \"/Users/david/PycharmProjects/\"\n",
    "#     dotenv_path = env_path + \"python_script.env\"\n",
    "#     load_dotenv(dotenv_path=dotenv_path)\n",
    "\n",
    "# Set Pandas options\n",
    "pd.set_option(\"display.max_rows\", 500)\n",
    "pd.set_option(\"display.width\", 140)\n",
    "\n",
    "# Set the percentage sizes for splitting the dataset\n",
    "test_set_size = 0.2\n",
    "val_set_size = 0.25\n",
    "\n",
    "# Set the number of folds for cross validation\n",
    "n_folds = 5\n",
    "\n",
    "# Set various default modeling parameters\n",
    "scoring = 'accuracy'\n",
    "\n",
    "# Set the number of classes for XGBoost\n",
    "n_classes = 3"
   ]
  },
  {
   "cell_type": "code",
   "execution_count": 8,
   "metadata": {},
   "outputs": [],
   "source": [
    "# Set up the email notification function\n",
    "def status_notify(msg_text):\n",
    "    access_key = os.environ.get('SNS_ACCESS_KEY')\n",
    "    secret_key = os.environ.get('SNS_SECRET_KEY')\n",
    "    aws_region = os.environ.get('SNS_AWS_REGION')\n",
    "    topic_arn = os.environ.get('SNS_TOPIC_ARN')\n",
    "    if (access_key is None) or (secret_key is None) or (aws_region is None):\n",
    "        sys.exit(\"Incomplete notification setup info. Script Processing Aborted!!!\")\n",
    "    sns = boto3.client('sns', aws_access_key_id=access_key, aws_secret_access_key=secret_key, region_name=aws_region)\n",
    "    response = sns.publish(TopicArn=topic_arn, Message=msg_text)\n",
    "    if response['ResponseMetadata']['HTTPStatusCode'] != 200 :\n",
    "        print('Status notification not OK with HTTP status code:', response['ResponseMetadata']['HTTPStatusCode'])"
   ]
  },
  {
   "cell_type": "code",
   "execution_count": 9,
   "metadata": {},
   "outputs": [],
   "source": [
    "if notifyStatus: status_notify(\"Task 1 - Prepare Environment has begun! \" + datetime.now().strftime('%a %B %d, %Y %I:%M:%S %p'))"
   ]
  },
  {
   "cell_type": "markdown",
   "metadata": {},
   "source": [
    "### 1.c) Load dataset"
   ]
  },
  {
   "cell_type": "code",
   "execution_count": 10,
   "metadata": {},
   "outputs": [
    {
     "data": {
      "text/html": [
       "<div>\n",
       "<style scoped>\n",
       "    .dataframe tbody tr th:only-of-type {\n",
       "        vertical-align: middle;\n",
       "    }\n",
       "\n",
       "    .dataframe tbody tr th {\n",
       "        vertical-align: top;\n",
       "    }\n",
       "\n",
       "    .dataframe thead th {\n",
       "        text-align: right;\n",
       "    }\n",
       "</style>\n",
       "<table border=\"1\" class=\"dataframe\">\n",
       "  <thead>\n",
       "    <tr style=\"text-align: right;\">\n",
       "      <th></th>\n",
       "      <th>RI</th>\n",
       "      <th>Na</th>\n",
       "      <th>Mg</th>\n",
       "      <th>Al</th>\n",
       "      <th>Si</th>\n",
       "      <th>K</th>\n",
       "      <th>Ca</th>\n",
       "      <th>Ba</th>\n",
       "      <th>Fe</th>\n",
       "      <th>targetVar</th>\n",
       "    </tr>\n",
       "  </thead>\n",
       "  <tbody>\n",
       "    <tr>\n",
       "      <th>1</th>\n",
       "      <td>1.52101</td>\n",
       "      <td>13.64</td>\n",
       "      <td>4.49</td>\n",
       "      <td>1.10</td>\n",
       "      <td>71.78</td>\n",
       "      <td>0.06</td>\n",
       "      <td>8.75</td>\n",
       "      <td>0.0</td>\n",
       "      <td>0.0</td>\n",
       "      <td>1</td>\n",
       "    </tr>\n",
       "    <tr>\n",
       "      <th>2</th>\n",
       "      <td>1.51761</td>\n",
       "      <td>13.89</td>\n",
       "      <td>3.60</td>\n",
       "      <td>1.36</td>\n",
       "      <td>72.73</td>\n",
       "      <td>0.48</td>\n",
       "      <td>7.83</td>\n",
       "      <td>0.0</td>\n",
       "      <td>0.0</td>\n",
       "      <td>1</td>\n",
       "    </tr>\n",
       "    <tr>\n",
       "      <th>3</th>\n",
       "      <td>1.51618</td>\n",
       "      <td>13.53</td>\n",
       "      <td>3.55</td>\n",
       "      <td>1.54</td>\n",
       "      <td>72.99</td>\n",
       "      <td>0.39</td>\n",
       "      <td>7.78</td>\n",
       "      <td>0.0</td>\n",
       "      <td>0.0</td>\n",
       "      <td>1</td>\n",
       "    </tr>\n",
       "    <tr>\n",
       "      <th>4</th>\n",
       "      <td>1.51766</td>\n",
       "      <td>13.21</td>\n",
       "      <td>3.69</td>\n",
       "      <td>1.29</td>\n",
       "      <td>72.61</td>\n",
       "      <td>0.57</td>\n",
       "      <td>8.22</td>\n",
       "      <td>0.0</td>\n",
       "      <td>0.0</td>\n",
       "      <td>1</td>\n",
       "    </tr>\n",
       "    <tr>\n",
       "      <th>5</th>\n",
       "      <td>1.51742</td>\n",
       "      <td>13.27</td>\n",
       "      <td>3.62</td>\n",
       "      <td>1.24</td>\n",
       "      <td>73.08</td>\n",
       "      <td>0.55</td>\n",
       "      <td>8.07</td>\n",
       "      <td>0.0</td>\n",
       "      <td>0.0</td>\n",
       "      <td>1</td>\n",
       "    </tr>\n",
       "  </tbody>\n",
       "</table>\n",
       "</div>"
      ],
      "text/plain": [
       "        RI     Na    Mg    Al     Si     K    Ca   Ba   Fe  targetVar\n",
       "1  1.52101  13.64  4.49  1.10  71.78  0.06  8.75  0.0  0.0          1\n",
       "2  1.51761  13.89  3.60  1.36  72.73  0.48  7.83  0.0  0.0          1\n",
       "3  1.51618  13.53  3.55  1.54  72.99  0.39  7.78  0.0  0.0          1\n",
       "4  1.51766  13.21  3.69  1.29  72.61  0.57  8.22  0.0  0.0          1\n",
       "5  1.51742  13.27  3.62  1.24  73.08  0.55  8.07  0.0  0.0          1"
      ]
     },
     "execution_count": 10,
     "metadata": {},
     "output_type": "execute_result"
    }
   ],
   "source": [
    "dataset_path = 'https://archive.ics.uci.edu/ml/machine-learning-databases/glass/glass.data'\n",
    "colNames = ['RI','Na','Mg','Al','Si','K','Ca','Ba','Fe','targetVar']\n",
    "Xy_original = pd.read_csv(dataset_path, names=colNames, sep=',', header=None, index_col=0)\n",
    "\n",
    "# Take a peek at the dataframe after import\n",
    "Xy_original.head()"
   ]
  },
  {
   "cell_type": "code",
   "execution_count": 11,
   "metadata": {},
   "outputs": [
    {
     "name": "stdout",
     "output_type": "stream",
     "text": [
      "<class 'pandas.core.frame.DataFrame'>\n",
      "Int64Index: 214 entries, 1 to 214\n",
      "Data columns (total 10 columns):\n",
      " #   Column     Non-Null Count  Dtype  \n",
      "---  ------     --------------  -----  \n",
      " 0   RI         214 non-null    float64\n",
      " 1   Na         214 non-null    float64\n",
      " 2   Mg         214 non-null    float64\n",
      " 3   Al         214 non-null    float64\n",
      " 4   Si         214 non-null    float64\n",
      " 5   K          214 non-null    float64\n",
      " 6   Ca         214 non-null    float64\n",
      " 7   Ba         214 non-null    float64\n",
      " 8   Fe         214 non-null    float64\n",
      " 9   targetVar  214 non-null    int64  \n",
      "dtypes: float64(9), int64(1)\n",
      "memory usage: 18.4 KB\n"
     ]
    }
   ],
   "source": [
    "Xy_original.info(verbose=True)"
   ]
  },
  {
   "cell_type": "code",
   "execution_count": 12,
   "metadata": {},
   "outputs": [
    {
     "data": {
      "text/html": [
       "<div>\n",
       "<style scoped>\n",
       "    .dataframe tbody tr th:only-of-type {\n",
       "        vertical-align: middle;\n",
       "    }\n",
       "\n",
       "    .dataframe tbody tr th {\n",
       "        vertical-align: top;\n",
       "    }\n",
       "\n",
       "    .dataframe thead th {\n",
       "        text-align: right;\n",
       "    }\n",
       "</style>\n",
       "<table border=\"1\" class=\"dataframe\">\n",
       "  <thead>\n",
       "    <tr style=\"text-align: right;\">\n",
       "      <th></th>\n",
       "      <th>RI</th>\n",
       "      <th>Na</th>\n",
       "      <th>Mg</th>\n",
       "      <th>Al</th>\n",
       "      <th>Si</th>\n",
       "      <th>K</th>\n",
       "      <th>Ca</th>\n",
       "      <th>Ba</th>\n",
       "      <th>Fe</th>\n",
       "      <th>targetVar</th>\n",
       "    </tr>\n",
       "  </thead>\n",
       "  <tbody>\n",
       "    <tr>\n",
       "      <th>count</th>\n",
       "      <td>214.000000</td>\n",
       "      <td>214.000000</td>\n",
       "      <td>214.000000</td>\n",
       "      <td>214.000000</td>\n",
       "      <td>214.000000</td>\n",
       "      <td>214.000000</td>\n",
       "      <td>214.000000</td>\n",
       "      <td>214.000000</td>\n",
       "      <td>214.000000</td>\n",
       "      <td>214.000000</td>\n",
       "    </tr>\n",
       "    <tr>\n",
       "      <th>mean</th>\n",
       "      <td>1.518365</td>\n",
       "      <td>13.407850</td>\n",
       "      <td>2.684533</td>\n",
       "      <td>1.444907</td>\n",
       "      <td>72.650935</td>\n",
       "      <td>0.497056</td>\n",
       "      <td>8.956963</td>\n",
       "      <td>0.175047</td>\n",
       "      <td>0.057009</td>\n",
       "      <td>2.780374</td>\n",
       "    </tr>\n",
       "    <tr>\n",
       "      <th>std</th>\n",
       "      <td>0.003037</td>\n",
       "      <td>0.816604</td>\n",
       "      <td>1.442408</td>\n",
       "      <td>0.499270</td>\n",
       "      <td>0.774546</td>\n",
       "      <td>0.652192</td>\n",
       "      <td>1.423153</td>\n",
       "      <td>0.497219</td>\n",
       "      <td>0.097439</td>\n",
       "      <td>2.103739</td>\n",
       "    </tr>\n",
       "    <tr>\n",
       "      <th>min</th>\n",
       "      <td>1.511150</td>\n",
       "      <td>10.730000</td>\n",
       "      <td>0.000000</td>\n",
       "      <td>0.290000</td>\n",
       "      <td>69.810000</td>\n",
       "      <td>0.000000</td>\n",
       "      <td>5.430000</td>\n",
       "      <td>0.000000</td>\n",
       "      <td>0.000000</td>\n",
       "      <td>1.000000</td>\n",
       "    </tr>\n",
       "    <tr>\n",
       "      <th>25%</th>\n",
       "      <td>1.516523</td>\n",
       "      <td>12.907500</td>\n",
       "      <td>2.115000</td>\n",
       "      <td>1.190000</td>\n",
       "      <td>72.280000</td>\n",
       "      <td>0.122500</td>\n",
       "      <td>8.240000</td>\n",
       "      <td>0.000000</td>\n",
       "      <td>0.000000</td>\n",
       "      <td>1.000000</td>\n",
       "    </tr>\n",
       "    <tr>\n",
       "      <th>50%</th>\n",
       "      <td>1.517680</td>\n",
       "      <td>13.300000</td>\n",
       "      <td>3.480000</td>\n",
       "      <td>1.360000</td>\n",
       "      <td>72.790000</td>\n",
       "      <td>0.555000</td>\n",
       "      <td>8.600000</td>\n",
       "      <td>0.000000</td>\n",
       "      <td>0.000000</td>\n",
       "      <td>2.000000</td>\n",
       "    </tr>\n",
       "    <tr>\n",
       "      <th>75%</th>\n",
       "      <td>1.519157</td>\n",
       "      <td>13.825000</td>\n",
       "      <td>3.600000</td>\n",
       "      <td>1.630000</td>\n",
       "      <td>73.087500</td>\n",
       "      <td>0.610000</td>\n",
       "      <td>9.172500</td>\n",
       "      <td>0.000000</td>\n",
       "      <td>0.100000</td>\n",
       "      <td>3.000000</td>\n",
       "    </tr>\n",
       "    <tr>\n",
       "      <th>max</th>\n",
       "      <td>1.533930</td>\n",
       "      <td>17.380000</td>\n",
       "      <td>4.490000</td>\n",
       "      <td>3.500000</td>\n",
       "      <td>75.410000</td>\n",
       "      <td>6.210000</td>\n",
       "      <td>16.190000</td>\n",
       "      <td>3.150000</td>\n",
       "      <td>0.510000</td>\n",
       "      <td>7.000000</td>\n",
       "    </tr>\n",
       "  </tbody>\n",
       "</table>\n",
       "</div>"
      ],
      "text/plain": [
       "               RI          Na          Mg          Al          Si           K          Ca          Ba          Fe   targetVar\n",
       "count  214.000000  214.000000  214.000000  214.000000  214.000000  214.000000  214.000000  214.000000  214.000000  214.000000\n",
       "mean     1.518365   13.407850    2.684533    1.444907   72.650935    0.497056    8.956963    0.175047    0.057009    2.780374\n",
       "std      0.003037    0.816604    1.442408    0.499270    0.774546    0.652192    1.423153    0.497219    0.097439    2.103739\n",
       "min      1.511150   10.730000    0.000000    0.290000   69.810000    0.000000    5.430000    0.000000    0.000000    1.000000\n",
       "25%      1.516523   12.907500    2.115000    1.190000   72.280000    0.122500    8.240000    0.000000    0.000000    1.000000\n",
       "50%      1.517680   13.300000    3.480000    1.360000   72.790000    0.555000    8.600000    0.000000    0.000000    2.000000\n",
       "75%      1.519157   13.825000    3.600000    1.630000   73.087500    0.610000    9.172500    0.000000    0.100000    3.000000\n",
       "max      1.533930   17.380000    4.490000    3.500000   75.410000    6.210000   16.190000    3.150000    0.510000    7.000000"
      ]
     },
     "execution_count": 12,
     "metadata": {},
     "output_type": "execute_result"
    }
   ],
   "source": [
    "Xy_original.describe()"
   ]
  },
  {
   "cell_type": "code",
   "execution_count": 13,
   "metadata": {},
   "outputs": [
    {
     "data": {
      "text/plain": [
       "RI           0\n",
       "Na           0\n",
       "Mg           0\n",
       "Al           0\n",
       "Si           0\n",
       "K            0\n",
       "Ca           0\n",
       "Ba           0\n",
       "Fe           0\n",
       "targetVar    0\n",
       "dtype: int64"
      ]
     },
     "execution_count": 13,
     "metadata": {},
     "output_type": "execute_result"
    }
   ],
   "source": [
    "Xy_original.isnull().sum()"
   ]
  },
  {
   "cell_type": "code",
   "execution_count": 14,
   "metadata": {},
   "outputs": [
    {
     "name": "stdout",
     "output_type": "stream",
     "text": [
      "Total number of NaN in the dataframe:  0\n"
     ]
    }
   ],
   "source": [
    "print('Total number of NaN in the dataframe: ', Xy_original.isnull().sum().sum())"
   ]
  },
  {
   "cell_type": "markdown",
   "metadata": {},
   "source": [
    "### 1.d) Data Cleaning"
   ]
  },
  {
   "cell_type": "code",
   "execution_count": 15,
   "metadata": {},
   "outputs": [
    {
     "data": {
      "text/html": [
       "<div>\n",
       "<style scoped>\n",
       "    .dataframe tbody tr th:only-of-type {\n",
       "        vertical-align: middle;\n",
       "    }\n",
       "\n",
       "    .dataframe tbody tr th {\n",
       "        vertical-align: top;\n",
       "    }\n",
       "\n",
       "    .dataframe thead th {\n",
       "        text-align: right;\n",
       "    }\n",
       "</style>\n",
       "<table border=\"1\" class=\"dataframe\">\n",
       "  <thead>\n",
       "    <tr style=\"text-align: right;\">\n",
       "      <th></th>\n",
       "      <th>RI</th>\n",
       "      <th>Na</th>\n",
       "      <th>Mg</th>\n",
       "      <th>Al</th>\n",
       "      <th>Si</th>\n",
       "      <th>K</th>\n",
       "      <th>Ca</th>\n",
       "      <th>Ba</th>\n",
       "      <th>Fe</th>\n",
       "      <th>targetVar</th>\n",
       "    </tr>\n",
       "  </thead>\n",
       "  <tbody>\n",
       "    <tr>\n",
       "      <th>1</th>\n",
       "      <td>1.52101</td>\n",
       "      <td>13.64</td>\n",
       "      <td>4.49</td>\n",
       "      <td>1.10</td>\n",
       "      <td>71.78</td>\n",
       "      <td>0.06</td>\n",
       "      <td>8.75</td>\n",
       "      <td>0.0</td>\n",
       "      <td>0.0</td>\n",
       "      <td>1</td>\n",
       "    </tr>\n",
       "    <tr>\n",
       "      <th>2</th>\n",
       "      <td>1.51761</td>\n",
       "      <td>13.89</td>\n",
       "      <td>3.60</td>\n",
       "      <td>1.36</td>\n",
       "      <td>72.73</td>\n",
       "      <td>0.48</td>\n",
       "      <td>7.83</td>\n",
       "      <td>0.0</td>\n",
       "      <td>0.0</td>\n",
       "      <td>1</td>\n",
       "    </tr>\n",
       "    <tr>\n",
       "      <th>3</th>\n",
       "      <td>1.51618</td>\n",
       "      <td>13.53</td>\n",
       "      <td>3.55</td>\n",
       "      <td>1.54</td>\n",
       "      <td>72.99</td>\n",
       "      <td>0.39</td>\n",
       "      <td>7.78</td>\n",
       "      <td>0.0</td>\n",
       "      <td>0.0</td>\n",
       "      <td>1</td>\n",
       "    </tr>\n",
       "    <tr>\n",
       "      <th>4</th>\n",
       "      <td>1.51766</td>\n",
       "      <td>13.21</td>\n",
       "      <td>3.69</td>\n",
       "      <td>1.29</td>\n",
       "      <td>72.61</td>\n",
       "      <td>0.57</td>\n",
       "      <td>8.22</td>\n",
       "      <td>0.0</td>\n",
       "      <td>0.0</td>\n",
       "      <td>1</td>\n",
       "    </tr>\n",
       "    <tr>\n",
       "      <th>5</th>\n",
       "      <td>1.51742</td>\n",
       "      <td>13.27</td>\n",
       "      <td>3.62</td>\n",
       "      <td>1.24</td>\n",
       "      <td>73.08</td>\n",
       "      <td>0.55</td>\n",
       "      <td>8.07</td>\n",
       "      <td>0.0</td>\n",
       "      <td>0.0</td>\n",
       "      <td>1</td>\n",
       "    </tr>\n",
       "  </tbody>\n",
       "</table>\n",
       "</div>"
      ],
      "text/plain": [
       "        RI     Na    Mg    Al     Si     K    Ca   Ba   Fe  targetVar\n",
       "1  1.52101  13.64  4.49  1.10  71.78  0.06  8.75  0.0  0.0          1\n",
       "2  1.51761  13.89  3.60  1.36  72.73  0.48  7.83  0.0  0.0          1\n",
       "3  1.51618  13.53  3.55  1.54  72.99  0.39  7.78  0.0  0.0          1\n",
       "4  1.51766  13.21  3.69  1.29  72.61  0.57  8.22  0.0  0.0          1\n",
       "5  1.51742  13.27  3.62  1.24  73.08  0.55  8.07  0.0  0.0          1"
      ]
     },
     "execution_count": 15,
     "metadata": {},
     "output_type": "execute_result"
    }
   ],
   "source": [
    "# Standardize the class column to the name of targetVar if required\n",
    "# Xy_original = Xy_original.rename(columns={'old_name': 'targetVar'})\n",
    "\n",
    "# Dropping features\n",
    "# Xy_original.drop(columns=['column1','column2','column3'], inplace=True)\n",
    "\n",
    "# Impute missing values\n",
    "# Xy_original['col_name'].fillna('someValue', inplace=True)\n",
    "# Xy_original['col_name'].fillna(value=Xy_original['col_name'].median(), inplace=True)\n",
    "\n",
    "# Convert columns from one data type to another\n",
    "# Xy_original.column_name = Xy_original.column_name.astype('int')\n",
    "# Xy_original.column_name = Xy_original.column_name.astype('category')\n",
    "\n",
    "# Take a peek at the dataframe after cleaning\n",
    "Xy_original.head()"
   ]
  },
  {
   "cell_type": "code",
   "execution_count": 16,
   "metadata": {},
   "outputs": [
    {
     "name": "stdout",
     "output_type": "stream",
     "text": [
      "<class 'pandas.core.frame.DataFrame'>\n",
      "Int64Index: 214 entries, 1 to 214\n",
      "Data columns (total 10 columns):\n",
      " #   Column     Non-Null Count  Dtype  \n",
      "---  ------     --------------  -----  \n",
      " 0   RI         214 non-null    float64\n",
      " 1   Na         214 non-null    float64\n",
      " 2   Mg         214 non-null    float64\n",
      " 3   Al         214 non-null    float64\n",
      " 4   Si         214 non-null    float64\n",
      " 5   K          214 non-null    float64\n",
      " 6   Ca         214 non-null    float64\n",
      " 7   Ba         214 non-null    float64\n",
      " 8   Fe         214 non-null    float64\n",
      " 9   targetVar  214 non-null    int64  \n",
      "dtypes: float64(9), int64(1)\n",
      "memory usage: 18.4 KB\n"
     ]
    }
   ],
   "source": [
    "Xy_original.info(verbose=True)"
   ]
  },
  {
   "cell_type": "code",
   "execution_count": 17,
   "metadata": {},
   "outputs": [
    {
     "data": {
      "text/html": [
       "<div>\n",
       "<style scoped>\n",
       "    .dataframe tbody tr th:only-of-type {\n",
       "        vertical-align: middle;\n",
       "    }\n",
       "\n",
       "    .dataframe tbody tr th {\n",
       "        vertical-align: top;\n",
       "    }\n",
       "\n",
       "    .dataframe thead th {\n",
       "        text-align: right;\n",
       "    }\n",
       "</style>\n",
       "<table border=\"1\" class=\"dataframe\">\n",
       "  <thead>\n",
       "    <tr style=\"text-align: right;\">\n",
       "      <th></th>\n",
       "      <th>RI</th>\n",
       "      <th>Na</th>\n",
       "      <th>Mg</th>\n",
       "      <th>Al</th>\n",
       "      <th>Si</th>\n",
       "      <th>K</th>\n",
       "      <th>Ca</th>\n",
       "      <th>Ba</th>\n",
       "      <th>Fe</th>\n",
       "      <th>targetVar</th>\n",
       "    </tr>\n",
       "  </thead>\n",
       "  <tbody>\n",
       "    <tr>\n",
       "      <th>count</th>\n",
       "      <td>214.000000</td>\n",
       "      <td>214.000000</td>\n",
       "      <td>214.000000</td>\n",
       "      <td>214.000000</td>\n",
       "      <td>214.000000</td>\n",
       "      <td>214.000000</td>\n",
       "      <td>214.000000</td>\n",
       "      <td>214.000000</td>\n",
       "      <td>214.000000</td>\n",
       "      <td>214.000000</td>\n",
       "    </tr>\n",
       "    <tr>\n",
       "      <th>mean</th>\n",
       "      <td>1.518365</td>\n",
       "      <td>13.407850</td>\n",
       "      <td>2.684533</td>\n",
       "      <td>1.444907</td>\n",
       "      <td>72.650935</td>\n",
       "      <td>0.497056</td>\n",
       "      <td>8.956963</td>\n",
       "      <td>0.175047</td>\n",
       "      <td>0.057009</td>\n",
       "      <td>2.780374</td>\n",
       "    </tr>\n",
       "    <tr>\n",
       "      <th>std</th>\n",
       "      <td>0.003037</td>\n",
       "      <td>0.816604</td>\n",
       "      <td>1.442408</td>\n",
       "      <td>0.499270</td>\n",
       "      <td>0.774546</td>\n",
       "      <td>0.652192</td>\n",
       "      <td>1.423153</td>\n",
       "      <td>0.497219</td>\n",
       "      <td>0.097439</td>\n",
       "      <td>2.103739</td>\n",
       "    </tr>\n",
       "    <tr>\n",
       "      <th>min</th>\n",
       "      <td>1.511150</td>\n",
       "      <td>10.730000</td>\n",
       "      <td>0.000000</td>\n",
       "      <td>0.290000</td>\n",
       "      <td>69.810000</td>\n",
       "      <td>0.000000</td>\n",
       "      <td>5.430000</td>\n",
       "      <td>0.000000</td>\n",
       "      <td>0.000000</td>\n",
       "      <td>1.000000</td>\n",
       "    </tr>\n",
       "    <tr>\n",
       "      <th>25%</th>\n",
       "      <td>1.516523</td>\n",
       "      <td>12.907500</td>\n",
       "      <td>2.115000</td>\n",
       "      <td>1.190000</td>\n",
       "      <td>72.280000</td>\n",
       "      <td>0.122500</td>\n",
       "      <td>8.240000</td>\n",
       "      <td>0.000000</td>\n",
       "      <td>0.000000</td>\n",
       "      <td>1.000000</td>\n",
       "    </tr>\n",
       "    <tr>\n",
       "      <th>50%</th>\n",
       "      <td>1.517680</td>\n",
       "      <td>13.300000</td>\n",
       "      <td>3.480000</td>\n",
       "      <td>1.360000</td>\n",
       "      <td>72.790000</td>\n",
       "      <td>0.555000</td>\n",
       "      <td>8.600000</td>\n",
       "      <td>0.000000</td>\n",
       "      <td>0.000000</td>\n",
       "      <td>2.000000</td>\n",
       "    </tr>\n",
       "    <tr>\n",
       "      <th>75%</th>\n",
       "      <td>1.519157</td>\n",
       "      <td>13.825000</td>\n",
       "      <td>3.600000</td>\n",
       "      <td>1.630000</td>\n",
       "      <td>73.087500</td>\n",
       "      <td>0.610000</td>\n",
       "      <td>9.172500</td>\n",
       "      <td>0.000000</td>\n",
       "      <td>0.100000</td>\n",
       "      <td>3.000000</td>\n",
       "    </tr>\n",
       "    <tr>\n",
       "      <th>max</th>\n",
       "      <td>1.533930</td>\n",
       "      <td>17.380000</td>\n",
       "      <td>4.490000</td>\n",
       "      <td>3.500000</td>\n",
       "      <td>75.410000</td>\n",
       "      <td>6.210000</td>\n",
       "      <td>16.190000</td>\n",
       "      <td>3.150000</td>\n",
       "      <td>0.510000</td>\n",
       "      <td>7.000000</td>\n",
       "    </tr>\n",
       "  </tbody>\n",
       "</table>\n",
       "</div>"
      ],
      "text/plain": [
       "               RI          Na          Mg          Al          Si           K          Ca          Ba          Fe   targetVar\n",
       "count  214.000000  214.000000  214.000000  214.000000  214.000000  214.000000  214.000000  214.000000  214.000000  214.000000\n",
       "mean     1.518365   13.407850    2.684533    1.444907   72.650935    0.497056    8.956963    0.175047    0.057009    2.780374\n",
       "std      0.003037    0.816604    1.442408    0.499270    0.774546    0.652192    1.423153    0.497219    0.097439    2.103739\n",
       "min      1.511150   10.730000    0.000000    0.290000   69.810000    0.000000    5.430000    0.000000    0.000000    1.000000\n",
       "25%      1.516523   12.907500    2.115000    1.190000   72.280000    0.122500    8.240000    0.000000    0.000000    1.000000\n",
       "50%      1.517680   13.300000    3.480000    1.360000   72.790000    0.555000    8.600000    0.000000    0.000000    2.000000\n",
       "75%      1.519157   13.825000    3.600000    1.630000   73.087500    0.610000    9.172500    0.000000    0.100000    3.000000\n",
       "max      1.533930   17.380000    4.490000    3.500000   75.410000    6.210000   16.190000    3.150000    0.510000    7.000000"
      ]
     },
     "execution_count": 17,
     "metadata": {},
     "output_type": "execute_result"
    }
   ],
   "source": [
    "Xy_original.describe()"
   ]
  },
  {
   "cell_type": "code",
   "execution_count": 18,
   "metadata": {},
   "outputs": [
    {
     "data": {
      "text/plain": [
       "RI           0\n",
       "Na           0\n",
       "Mg           0\n",
       "Al           0\n",
       "Si           0\n",
       "K            0\n",
       "Ca           0\n",
       "Ba           0\n",
       "Fe           0\n",
       "targetVar    0\n",
       "dtype: int64"
      ]
     },
     "execution_count": 18,
     "metadata": {},
     "output_type": "execute_result"
    }
   ],
   "source": [
    "Xy_original.isnull().sum()"
   ]
  },
  {
   "cell_type": "code",
   "execution_count": 19,
   "metadata": {},
   "outputs": [
    {
     "name": "stdout",
     "output_type": "stream",
     "text": [
      "Total number of NaN in the dataframe:  0\n"
     ]
    }
   ],
   "source": [
    "print('Total number of NaN in the dataframe: ', Xy_original.isnull().sum().sum())"
   ]
  },
  {
   "cell_type": "markdown",
   "metadata": {},
   "source": [
    "### 1.e) Splitting Data into Sets"
   ]
  },
  {
   "cell_type": "code",
   "execution_count": 20,
   "metadata": {},
   "outputs": [],
   "source": [
    "# Use variable totCol to hold the number of columns in the dataframe\n",
    "totCol = len(Xy_original.columns)\n",
    "\n",
    "# Set up variable totAttr for the total number of attribute columns\n",
    "totAttr = totCol-1\n",
    "\n",
    "# targetCol variable indicates the column location of the target/class variable\n",
    "# If the first column, set targetCol to 1. If the last column, set targetCol to totCol\n",
    "# If (targetCol <> 1) and (targetCol <> totCol), be aware when slicing up the dataframes for visualization\n",
    "targetCol = totCol"
   ]
  },
  {
   "cell_type": "code",
   "execution_count": 21,
   "metadata": {},
   "outputs": [
    {
     "name": "stdout",
     "output_type": "stream",
     "text": [
      "Xy_original.shape: (214, 10) X_original.shape: (214, 9) y_original.shape: (214,)\n"
     ]
    }
   ],
   "source": [
    "# We create attribute-only and target-only datasets (X_original and y_original)\n",
    "# for various visualization and cleaning/transformation operations\n",
    "\n",
    "if targetCol == totCol:\n",
    "    X_original = Xy_original.iloc[:,0:totAttr]\n",
    "    y_original = Xy_original.iloc[:,totAttr]\n",
    "else:\n",
    "    X_original = Xy_original.iloc[:,1:totCol]\n",
    "    y_original = Xy_original.iloc[:,0]\n",
    "\n",
    "print(\"Xy_original.shape: {} X_original.shape: {} y_original.shape: {}\".format(Xy_original.shape, X_original.shape, y_original.shape))"
   ]
  },
  {
   "cell_type": "code",
   "execution_count": 22,
   "metadata": {},
   "outputs": [
    {
     "name": "stdout",
     "output_type": "stream",
     "text": [
      "X_train_df.shape: (171, 9) y_train_df.shape: (171,)\n",
      "X_test_df.shape: (43, 9) y_test_df.shape: (43,)\n"
     ]
    }
   ],
   "source": [
    "# Split the data further into training and test datasets\n",
    "X_train_df, X_test_df, y_train_df, y_test_df = train_test_split(X_original, y_original, test_size=test_set_size, random_state=seedNum)\n",
    "print(\"X_train_df.shape: {} y_train_df.shape: {}\".format(X_train_df.shape, y_train_df.shape))\n",
    "print(\"X_test_df.shape: {} y_test_df.shape: {}\".format(X_test_df.shape, y_test_df.shape))"
   ]
  },
  {
   "cell_type": "code",
   "execution_count": 23,
   "metadata": {},
   "outputs": [],
   "source": [
    "if notifyStatus: status_notify(\"Task 1 - Prepare Environment completed! \"+datetime.now().strftime('%a %B %d, %Y %I:%M:%S %p'))"
   ]
  },
  {
   "cell_type": "markdown",
   "metadata": {},
   "source": [
    "## Task 2 - Summarize and Visualize Data"
   ]
  },
  {
   "cell_type": "code",
   "execution_count": 24,
   "metadata": {},
   "outputs": [],
   "source": [
    "if notifyStatus: status_notify(\"Task 2 - Summarize and Visualize Data has begun! \"+datetime.now().strftime('%a %B %d, %Y %I:%M:%S %p'))"
   ]
  },
  {
   "cell_type": "code",
   "execution_count": 25,
   "metadata": {},
   "outputs": [],
   "source": [
    "# Set up the number of row and columns for visualization display. dispRow * dispCol should be >= totAttr\n",
    "dispCol = 4\n",
    "if totAttr % dispCol == 0 :\n",
    "    dispRow = totAttr // dispCol\n",
    "else :\n",
    "    dispRow = (totAttr // dispCol) + 1\n",
    "    \n",
    "# Set figure width to display the data visualization plots\n",
    "fig_size = plt.rcParams[\"figure.figsize\"]\n",
    "fig_size[0] = dispCol*4\n",
    "fig_size[1] = dispRow*4\n",
    "plt.rcParams[\"figure.figsize\"] = fig_size"
   ]
  },
  {
   "cell_type": "code",
   "execution_count": 26,
   "metadata": {},
   "outputs": [
    {
     "data": {
      "image/png": "[encoded data removed]",
      "text/plain": [
       "<Figure size 1152x864 with 12 Axes>"
      ]
     },
     "metadata": {
      "needs_background": "light"
     },
     "output_type": "display_data"
    }
   ],
   "source": [
    "# Histograms for each attribute\n",
    "X_train_df.hist(layout=(dispRow,dispCol))\n",
    "plt.show()"
   ]
  },
  {
   "cell_type": "code",
   "execution_count": 27,
   "metadata": {},
   "outputs": [
    {
     "data": {
      "image/png": "[encoded data removed]",
      "text/plain": [
       "<Figure size 1152x864 with 12 Axes>"
      ]
     },
     "metadata": {
      "needs_background": "light"
     },
     "output_type": "display_data"
    }
   ],
   "source": [
    "# Box and Whisker plot for each attribute\n",
    "X_train_df.plot(kind='box', subplots=True, layout=(dispRow,dispCol))\n",
    "plt.show()"
   ]
  },
  {
   "cell_type": "code",
   "execution_count": 28,
   "metadata": {},
   "outputs": [
    {
     "data": {
      "image/png": "[encoded data removed]",
      "text/plain": [
       "<Figure size 1152x864 with 2 Axes>"
      ]
     },
     "metadata": {
      "needs_background": "light"
     },
     "output_type": "display_data"
    }
   ],
   "source": [
    "# Correlation matrix\n",
    "fig = plt.figure(figsize=(16,12))\n",
    "ax = fig.add_subplot(111)\n",
    "correlations = X_train_df.corr(method='pearson')\n",
    "cax = ax.matshow(correlations, vmin=-1, vmax=1)\n",
    "fig.colorbar(cax)\n",
    "plt.show()"
   ]
  },
  {
   "cell_type": "code",
   "execution_count": 29,
   "metadata": {},
   "outputs": [],
   "source": [
    "if notifyStatus: status_notify(\"Task 2 - Summarize and Visualize Data completed! \"+datetime.now().strftime('%a %B %d, %Y %I:%M:%S %p'))"
   ]
  },
  {
   "cell_type": "markdown",
   "metadata": {},
   "source": [
    "## Task 3 - Pre-process Data"
   ]
  },
  {
   "cell_type": "code",
   "execution_count": 30,
   "metadata": {},
   "outputs": [],
   "source": [
    "if notifyStatus: status_notify(\"Task 3 - Pre-process Data has begun! \"+datetime.now().strftime('%a %B %d, %Y %I:%M:%S %p'))"
   ]
  },
  {
   "cell_type": "markdown",
   "metadata": {},
   "source": [
    "### 3.a) Feature Scaling"
   ]
  },
  {
   "cell_type": "code",
   "execution_count": 31,
   "metadata": {},
   "outputs": [
    {
     "name": "stdout",
     "output_type": "stream",
     "text": [
      "Number of numerical columns: 9\n",
      "Number of categorical columns: 0\n",
      "Total number of columns in the dataframe: 9\n"
     ]
    }
   ],
   "source": [
    "# Compose pipeline for the numerical and categorical features\n",
    "numeric_columns = X_train_df.select_dtypes(include=['int','float']).columns\n",
    "numeric_transformer = Pipeline(steps=[\n",
    "#     ('imputer', SimpleImputer(strategy='constant', fill_value=0)),\n",
    "    ('scaler', preprocessing.StandardScaler())\n",
    "])\n",
    "categorical_columns = X_train_df.select_dtypes(include=['object','category']).columns\n",
    "categorical_transformer = Pipeline(steps=[\n",
    "#     ('imputer', SimpleImputer(strategy='constant', fill_value='NA')),\n",
    "    ('onehot', preprocessing.OneHotEncoder(sparse=False, handle_unknown='ignore'))\n",
    "])\n",
    "\n",
    "print(\"Number of numerical columns:\", len(numeric_columns))\n",
    "print(\"Number of categorical columns:\", len(categorical_columns))\n",
    "print(\"Total number of columns in the dataframe:\", X_train_df.shape[1])"
   ]
  },
  {
   "cell_type": "code",
   "execution_count": 32,
   "metadata": {},
   "outputs": [
    {
     "name": "stdout",
     "output_type": "stream",
     "text": [
      "Transformed X_train.shape: (171, 9)\n"
     ]
    }
   ],
   "source": [
    "preprocessor = ColumnTransformer(transformers=[\n",
    "    ('num', numeric_transformer, numeric_columns)\n",
    "#     ('cat', categorical_transformer, categorical_columns)\n",
    "])\n",
    "X_train = preprocessor.fit_transform(X_train_df)\n",
    "print(\"Transformed X_train.shape:\", X_train.shape)"
   ]
  },
  {
   "cell_type": "code",
   "execution_count": 33,
   "metadata": {},
   "outputs": [],
   "source": [
    "# # Apply binning techniques with continuous data (Block #1 of 1)\n",
    "# discrete_feature = preprocessing.Binarizer(threshold=0.0)\n",
    "# discrete_feature = preprocessing.KBinsDiscretizer(n_bins=10, encode='ordinal', strategy='kmeans')\n",
    "# feature_binned = discrete_feature.fit_transform(X_original[['old_feature1']])\n",
    "# X_train['new_feature1'] = feature_binned\n",
    "# X_train['new_feature1'] = X_train['new_feature1'].astype('category')\n",
    "# X_train.drop(columns=['old_feature1', 'old_feature2'], inplace=True)\n",
    "# X_train.head()"
   ]
  },
  {
   "cell_type": "markdown",
   "metadata": {},
   "source": [
    "### 3.b) Training Data Balancing"
   ]
  },
  {
   "cell_type": "code",
   "execution_count": 34,
   "metadata": {},
   "outputs": [],
   "source": [
    "# Not applicable for this iteration of the project"
   ]
  },
  {
   "cell_type": "code",
   "execution_count": 35,
   "metadata": {},
   "outputs": [],
   "source": [
    "# Examine the target classes for imbalanced distribution\n",
    "# Xy_original.groupby('targetVar').size()"
   ]
  },
  {
   "cell_type": "code",
   "execution_count": 36,
   "metadata": {},
   "outputs": [],
   "source": [
    "# Perform SMOTE transformation on the training data (Block #1 of 2)\n",
    "\n",
    "# X_train_imbal = X_train_df.values\n",
    "# y_train_imbal = y_train_df.values.ravel()\n",
    "# print(\"X_train_imbal.shape: {} y_train_imbal.shape: {}\".format(X_train_imbal.shape, y_train_imbal.shape))"
   ]
  },
  {
   "cell_type": "code",
   "execution_count": 37,
   "metadata": {},
   "outputs": [],
   "source": [
    "# Perform SMOTE transformation on the training data (Block #2 of 2)\n",
    "\n",
    "# print ('Original class distribution - 1: {} | 0: {}'.format((y_train_imbal==1).sum(), (y_train_imbal==0).sum()))\n",
    "# sm = SMOTE(random_state=seedNum, sampling_strategy=1.0)\n",
    "# X_trainSmote, y_trainSmote = sm.fit_sample(X_train_imbal, y_train_imbal)\n",
    "# print ('Resampled class distribution - 1: {} | 0: {}'.format((y_train==1).sum(), (y_train==0).sum()))"
   ]
  },
  {
   "cell_type": "markdown",
   "metadata": {},
   "source": [
    "### 3.c) Feature Selection"
   ]
  },
  {
   "cell_type": "code",
   "execution_count": 38,
   "metadata": {},
   "outputs": [],
   "source": [
    "# Not applicable for this iteration of the project"
   ]
  },
  {
   "cell_type": "code",
   "execution_count": 39,
   "metadata": {},
   "outputs": [],
   "source": [
    "# Find collinear features (Block #1 of 3)\n",
    "\n",
    "# def findCorrelated(corrmat, cutoff = 0.75):    \n",
    "\n",
    "# ### search correlation matrix and identify pairs that if removed would reduce pair-wise correlations\n",
    "# # args:\n",
    "#     # corrmat: a correlation matrix\n",
    "#     # cutoff: pairwise absolute correlation cutoff\n",
    "# # returns:\n",
    "#     # variables to removed\n",
    "\n",
    "#     if(len(corrmat) != len(corrmat.columns)) : return 'Correlation matrix is not square'\n",
    "#     averageCorr = corrmat.abs().mean(axis = 1)\n",
    "\n",
    "#     # set lower triangle and diagonal of correlation matrix to NA\n",
    "#     for row in range(0, len(corrmat)):\n",
    "#         for col in range(0, (row+1)):\n",
    "#             corrmat.iloc[row, col] = None\n",
    "\n",
    "#     # where a pairwise correlation is greater than the cutoff value, check whether mean abs.corr of a or b is greater and cut it\n",
    "#     to_delete = list()\n",
    "#     for col in range(0, len(corrmat.columns)):\n",
    "#         for row in range(0, len(corrmat)):\n",
    "#             if(abs(corrmat.iloc[row, col]) > cutoff):\n",
    "#                 if(averageCorr.iloc[row] > averageCorr.iloc[col]): to_delete.append(row)\n",
    "#                 else: to_delete.append(col)\n",
    "\n",
    "#     to_delete = list(set(to_delete))\n",
    "#     return to_delete"
   ]
  },
  {
   "cell_type": "code",
   "execution_count": 40,
   "metadata": {},
   "outputs": [],
   "source": [
    "# Find collinear features (Block #2 of 3)\n",
    "\n",
    "# By using the calculated correlation matrix, find the collinear features\n",
    "# collinear = findCorrelated(correlations, cutoff = 0.75)\n",
    "# print('Number of attributes to be removed:', len(collinear))\n",
    "# dropAttributes = X_train_df.columns[collinear]\n",
    "# print('Columns to be removed:')\n",
    "# print(dropAttributes)"
   ]
  },
  {
   "cell_type": "code",
   "execution_count": 41,
   "metadata": {},
   "outputs": [],
   "source": [
    "# Find collinear features (Block #3 of 3)\n",
    "\n",
    "# Drop the highly collinear features\n",
    "# X_train_df.drop(labels=dropAttributes, axis=1, inplace=True)\n",
    "# X_test_df.drop(labels=dropAttributes, axis=1, inplace=True)"
   ]
  },
  {
   "cell_type": "code",
   "execution_count": 42,
   "metadata": {},
   "outputs": [],
   "source": [
    "# Perform Attribute Importance Ranking (Block #1 of 3)\n",
    "\n",
    "# Feature Importance with Gradient Boosting Classifier\n",
    "# X_impVal = X_train_df.values\n",
    "# y_impVal = y_train_df.values.ravel()\n",
    "# model = GradientBoostingClassifier(random_state=seedNum)\n",
    "# model.fit(X_impVal, y_impVal)\n",
    "# importanceScore = model.feature_importances_\n",
    "# attributeList = X_train_df.columns.tolist()\n",
    "# attributeImportance = pd.DataFrame({'attribute': attributeList, 'importance': importanceScore})\n",
    "# rankedAttributes = attributeImportance.sort_values('importance', ascending=False)\n",
    "# print(rankedAttributes)"
   ]
  },
  {
   "cell_type": "code",
   "execution_count": 43,
   "metadata": {},
   "outputs": [],
   "source": [
    "# Perform Attribute Importance Ranking (Block #2 of 3)\n",
    "\n",
    "# Set the importance threshold and calculate the list of attributes that don't contribute to the importance threshold\n",
    "# importanceSum = sum(importanceScore)\n",
    "# maxThreshold = 0.99\n",
    "# i = 0\n",
    "# accumWeight = 0\n",
    "# exit_now = False\n",
    "# while ((i < totAttr) and (not exit_now)) :\n",
    "#     accumWeight = accumWeight + (rankedAttributes.iloc[i]['importance']/importanceSum)\n",
    "#     if (accumWeight >= maxThreshold) :\n",
    "#         exit_now = True\n",
    "#     else :\n",
    "#         i = i + 1\n",
    "# print('Number of attributes contributed to the importance threshold:'+str(i))\n",
    "# lowAttributes = rankedAttributes.iloc[(i):(totAttr),]['attribute'].tolist()\n",
    "# print('Number of attributes found to be of low importance:',len(lowAttributes))\n",
    "# print(lowAttributes)"
   ]
  },
  {
   "cell_type": "code",
   "execution_count": 44,
   "metadata": {},
   "outputs": [],
   "source": [
    "# Perform Attribute Importance Ranking (Block #3 of 3)\n",
    "\n",
    "# Removing the unselected attributes from the training and validation dataframes\n",
    "# X_train_df.drop(labels=lowAttributes, axis=1, inplace=True)\n",
    "# X_test_df.drop(labels=lowAttributes, axis=1, inplace=True)"
   ]
  },
  {
   "cell_type": "code",
   "execution_count": 45,
   "metadata": {},
   "outputs": [],
   "source": [
    "# Perform Recursive Feature Elimination (Block #1 of 3)\n",
    "\n",
    "# Using the ensemlbed tree algorithm, we perform the Recursive Feature Elimination (RFE) technique\n",
    "# X_rfeVal = X_train_df.values\n",
    "# y_rfeVal = y_train_df.values.ravel()\n",
    "# estFunc = ExtraTreesClassifier(random_state=seedNum, n_jobs=cpu_num)\n",
    "# strFold = StratifiedKFold(n_splits=num_folds, random_state=seedNum)\n",
    "# minFeatures = 10\n",
    "# selector = RFECV(estimator=estFunc, step=1, min_features_to_select= minFeatures, cv=strFold, scoring=scoring)\n",
    "# selector = selector.fit(X_rfeVal, y_rfeVal)\n",
    "# print('The number of selected features:',selector.n_features_)\n",
    "# print('The mask of selected features:\\n',selector.support_)\n",
    "# print('The ranking of selected features:\\n',selector.ranking_)\n",
    "# plt.figure(figsize=(16,12))\n",
    "# plt.xlabel(\"Number of features selected\")\n",
    "# plt.ylabel(\"Cross validation score\")\n",
    "# plt.plot(range(minFeatures, len(selector.grid_scores_) + minFeatures), selector.grid_scores_)\n",
    "# plt.show()"
   ]
  },
  {
   "cell_type": "code",
   "execution_count": 46,
   "metadata": {},
   "outputs": [],
   "source": [
    "# Perform Recursive Feature Elimination (Block #2 of 3)\n",
    "\n",
    "# Remove the unselected attributes from the training dataframes\n",
    "# X_train_df = X_train_df[X_train_df.columns[selector.support_]]\n",
    "# print(X_train_df.shape)\n",
    "# X_train_df.head()"
   ]
  },
  {
   "cell_type": "code",
   "execution_count": 47,
   "metadata": {},
   "outputs": [],
   "source": [
    "# Perform Recursive Feature Elimination (Block #3 of 3)\n",
    "\n",
    "# Remove the unselected attributes from the validation dataframes\n",
    "# X_test_df = X_test_df[X_test_df.columns[selector.support_]]\n",
    "# print(X_test_df.shape)\n",
    "# X_test_df.head()"
   ]
  },
  {
   "cell_type": "markdown",
   "metadata": {},
   "source": [
    "### 3.d) Display the Final Datasets for Model-Building"
   ]
  },
  {
   "cell_type": "code",
   "execution_count": 48,
   "metadata": {},
   "outputs": [
    {
     "name": "stdout",
     "output_type": "stream",
     "text": [
      "X_train.shape: (171, 9) y_train.shape: (171,)\n"
     ]
    }
   ],
   "source": [
    "# Finalize the training dataset for the modeling activities\n",
    "class_encoder = preprocessing.LabelEncoder()\n",
    "y_train = class_encoder.fit_transform(y_train_df)\n",
    "print(\"X_train.shape: {} y_train.shape: {}\".format(X_train.shape, y_train.shape))"
   ]
  },
  {
   "cell_type": "code",
   "execution_count": 49,
   "metadata": {},
   "outputs": [],
   "source": [
    "if notifyStatus: status_notify(\"Task 3 - Pre-process Data completed! \"+datetime.now().strftime('%a %B %d, %Y %I:%M:%S %p'))"
   ]
  },
  {
   "cell_type": "markdown",
   "metadata": {},
   "source": [
    "## Task 4 - Train and Evaluate Models"
   ]
  },
  {
   "cell_type": "code",
   "execution_count": 50,
   "metadata": {},
   "outputs": [],
   "source": [
    "if notifyStatus: status_notify(\"Task 4 - Train and Evaluate Models has begun! \"+datetime.now().strftime('%a %B %d, %Y %I:%M:%S %p'))"
   ]
  },
  {
   "cell_type": "markdown",
   "metadata": {},
   "source": [
    "### 4.a) Set test options and evaluation metric"
   ]
  },
  {
   "cell_type": "code",
   "execution_count": 51,
   "metadata": {},
   "outputs": [],
   "source": [
    "# Set up Algorithms Spot-Checking Array\n",
    "startTimeModule = datetime.now()\n",
    "train_models = [('XGB', XGBClassifier(random_state=seedNum, n_jobs=n_jobs, objective='multi:softmax', num_class=n_classes))]\n",
    "# train_models.append(('XGB', XGBClassifier(random_state=seedNum, n_jobs=n_jobs, objective='multi:softmax', num_class=n_classes, tree_method='gpu_hist')))"
   ]
  },
  {
   "cell_type": "code",
   "execution_count": 52,
   "metadata": {},
   "outputs": [
    {
     "name": "stderr",
     "output_type": "stream",
     "text": [
      "[Parallel(n_jobs=1)]: Using backend SequentialBackend with 1 concurrent workers.\n"
     ]
    },
    {
     "name": "stdout",
     "output_type": "stream",
     "text": [
      "XGB: 0.784034 (0.058499)\n",
      "XGBClassifier(base_score=None, booster=None, colsample_bylevel=None,\n",
      "              colsample_bynode=None, colsample_bytree=None, gamma=None,\n",
      "              gpu_id=None, importance_type='gain', interaction_constraints=None,\n",
      "              learning_rate=None, max_delta_step=None, max_depth=None,\n",
      "              min_child_weight=None, missing=nan, monotone_constraints=None,\n",
      "              n_estimators=100, n_jobs=1, num_class=3, num_parallel_tree=None,\n",
      "              objective='multi:softmax', random_state=888, reg_alpha=None,\n",
      "              reg_lambda=None, scale_pos_weight=None, subsample=None,\n",
      "              tree_method=None, validate_parameters=None, verbosity=None)\n",
      "Model training time: 0:00:01.077745 \n",
      "\n"
     ]
    },
    {
     "name": "stderr",
     "output_type": "stream",
     "text": [
      "[Parallel(n_jobs=1)]: Done   5 out of   5 | elapsed:    1.1s finished\n"
     ]
    }
   ],
   "source": [
    "# Generate model in turn\n",
    "for name, model in train_models:\n",
    "\tif notifyStatus: status_notify(\"Algorithm \"+name+\" modeling has begun! \"+datetime.now().strftime('%a %B %d, %Y %I:%M:%S %p'))\n",
    "\tstartTimeModule = datetime.now()\n",
    "\tkfold = StratifiedKFold(n_splits=n_folds, shuffle=True, random_state=seedNum)\n",
    "\tcv_results = cross_val_score(model, X_train, y_train, cv=kfold, scoring=scoring, n_jobs=n_jobs, verbose=1)\n",
    "\tprint(\"%s: %f (%f)\" % (name, cv_results.mean(), cv_results.std()))\n",
    "\tprint(model)\n",
    "\tprint ('Model training time:', (datetime.now() - startTimeModule), '\\n')\n",
    "\tif notifyStatus: status_notify(\"Algorithm \"+name+\" modeling completed! \"+datetime.now().strftime('%a %B %d, %Y %I:%M:%S %p'))"
   ]
  },
  {
   "cell_type": "markdown",
   "metadata": {},
   "source": [
    "### 4.b) Algorithm Tuning"
   ]
  },
  {
   "cell_type": "code",
   "execution_count": 53,
   "metadata": {},
   "outputs": [],
   "source": [
    "# Set up the comparison array\n",
    "tune_results = []\n",
    "tune_model_names = []"
   ]
  },
  {
   "cell_type": "code",
   "execution_count": 54,
   "metadata": {},
   "outputs": [
    {
     "name": "stderr",
     "output_type": "stream",
     "text": [
      "[Parallel(n_jobs=1)]: Using backend SequentialBackend with 1 concurrent workers.\n"
     ]
    },
    {
     "name": "stdout",
     "output_type": "stream",
     "text": [
      "Fitting 5 folds for each of 45 candidates, totalling 225 fits\n"
     ]
    },
    {
     "name": "stderr",
     "output_type": "stream",
     "text": [
      "[Parallel(n_jobs=1)]: Done 225 out of 225 | elapsed:  1.7min finished\n"
     ]
    },
    {
     "name": "stdout",
     "output_type": "stream",
     "text": [
      "Best: 0.784034 using {'max_depth': 6, 'min_child_weight': 1, 'n_estimators': 100}\n",
      "0.772101 (0.085482) with: {'max_depth': 3, 'min_child_weight': 1, 'n_estimators': 100}\n",
      "0.766555 (0.091312) with: {'max_depth': 3, 'min_child_weight': 1, 'n_estimators': 200}\n",
      "0.766555 (0.091312) with: {'max_depth': 3, 'min_child_weight': 1, 'n_estimators': 300}\n",
      "0.772269 (0.086860) with: {'max_depth': 3, 'min_child_weight': 1, 'n_estimators': 400}\n",
      "0.772269 (0.086860) with: {'max_depth': 3, 'min_child_weight': 1, 'n_estimators': 500}\n",
      "0.754790 (0.078530) with: {'max_depth': 3, 'min_child_weight': 2, 'n_estimators': 100}\n",
      "0.748908 (0.087022) with: {'max_depth': 3, 'min_child_weight': 2, 'n_estimators': 200}\n",
      "0.754790 (0.078530) with: {'max_depth': 3, 'min_child_weight': 2, 'n_estimators': 300}\n",
      "0.754790 (0.078530) with: {'max_depth': 3, 'min_child_weight': 2, 'n_estimators': 400}\n",
      "0.748908 (0.074139) with: {'max_depth': 3, 'min_child_weight': 2, 'n_estimators': 500}\n",
      "0.778319 (0.077974) with: {'max_depth': 3, 'min_child_weight': 3, 'n_estimators': 100}\n",
      "0.766723 (0.080387) with: {'max_depth': 3, 'min_child_weight': 3, 'n_estimators': 200}\n",
      "0.766723 (0.080387) with: {'max_depth': 3, 'min_child_weight': 3, 'n_estimators': 300}\n",
      "0.760840 (0.081390) with: {'max_depth': 3, 'min_child_weight': 3, 'n_estimators': 400}\n",
      "0.754958 (0.077622) with: {'max_depth': 3, 'min_child_weight': 3, 'n_estimators': 500}\n",
      "0.784034 (0.058499) with: {'max_depth': 6, 'min_child_weight': 1, 'n_estimators': 100}\n",
      "0.772269 (0.066562) with: {'max_depth': 6, 'min_child_weight': 1, 'n_estimators': 200}\n",
      "0.778151 (0.064295) with: {'max_depth': 6, 'min_child_weight': 1, 'n_estimators': 300}\n",
      "0.778151 (0.064295) with: {'max_depth': 6, 'min_child_weight': 1, 'n_estimators': 400}\n",
      "0.778151 (0.064295) with: {'max_depth': 6, 'min_child_weight': 1, 'n_estimators': 500}\n",
      "0.778319 (0.077974) with: {'max_depth': 6, 'min_child_weight': 2, 'n_estimators': 100}\n",
      "0.772437 (0.073078) with: {'max_depth': 6, 'min_child_weight': 2, 'n_estimators': 200}\n",
      "0.766555 (0.079132) with: {'max_depth': 6, 'min_child_weight': 2, 'n_estimators': 300}\n",
      "0.766555 (0.079132) with: {'max_depth': 6, 'min_child_weight': 2, 'n_estimators': 400}\n",
      "0.766555 (0.079132) with: {'max_depth': 6, 'min_child_weight': 2, 'n_estimators': 500}\n",
      "0.760336 (0.067636) with: {'max_depth': 6, 'min_child_weight': 3, 'n_estimators': 100}\n",
      "0.754622 (0.070036) with: {'max_depth': 6, 'min_child_weight': 3, 'n_estimators': 200}\n",
      "0.754622 (0.070036) with: {'max_depth': 6, 'min_child_weight': 3, 'n_estimators': 300}\n",
      "0.760672 (0.070978) with: {'max_depth': 6, 'min_child_weight': 3, 'n_estimators': 400}\n",
      "0.754790 (0.066609) with: {'max_depth': 6, 'min_child_weight': 3, 'n_estimators': 500}\n",
      "0.783697 (0.075523) with: {'max_depth': 9, 'min_child_weight': 1, 'n_estimators': 100}\n",
      "0.760504 (0.080908) with: {'max_depth': 9, 'min_child_weight': 1, 'n_estimators': 200}\n",
      "0.766387 (0.073143) with: {'max_depth': 9, 'min_child_weight': 1, 'n_estimators': 300}\n",
      "0.766387 (0.073143) with: {'max_depth': 9, 'min_child_weight': 1, 'n_estimators': 400}\n",
      "0.766387 (0.073143) with: {'max_depth': 9, 'min_child_weight': 1, 'n_estimators': 500}\n",
      "0.778151 (0.078804) with: {'max_depth': 9, 'min_child_weight': 2, 'n_estimators': 100}\n",
      "0.772269 (0.073950) with: {'max_depth': 9, 'min_child_weight': 2, 'n_estimators': 200}\n",
      "0.766555 (0.079132) with: {'max_depth': 9, 'min_child_weight': 2, 'n_estimators': 300}\n",
      "0.766555 (0.079132) with: {'max_depth': 9, 'min_child_weight': 2, 'n_estimators': 400}\n",
      "0.749076 (0.088199) with: {'max_depth': 9, 'min_child_weight': 2, 'n_estimators': 500}\n",
      "0.766218 (0.078413) with: {'max_depth': 9, 'min_child_weight': 3, 'n_estimators': 100}\n",
      "0.754622 (0.070036) with: {'max_depth': 9, 'min_child_weight': 3, 'n_estimators': 200}\n",
      "0.754790 (0.069158) with: {'max_depth': 9, 'min_child_weight': 3, 'n_estimators': 300}\n",
      "0.760504 (0.064218) with: {'max_depth': 9, 'min_child_weight': 3, 'n_estimators': 400}\n",
      "0.748908 (0.074139) with: {'max_depth': 9, 'min_child_weight': 3, 'n_estimators': 500}\n",
      "Model training time: 0:01:41.587115\n"
     ]
    }
   ],
   "source": [
    "# Tuning XGBoost n_estimators, max_depth, and min_child_weight parameters\n",
    "startTimeModule = datetime.now()\n",
    "if notifyStatus: status_notify(\"Algorithm tuning iteration #1 has begun! \"+datetime.now().strftime('%a %B %d, %Y %I:%M:%S %p'))\n",
    "\n",
    "tune_model1 = XGBClassifier(random_state=seedNum, n_jobs=n_jobs, objective='multi:softmax', num_class=n_classes)\n",
    "# tune_model1 = XGBClassifier(random_state=seedNum, n_jobs=n_jobs, objective='multi:softmax', num_class=n_classes, tree_method='gpu_hist')\n",
    "tune_model_names.append('XGB_1')\n",
    "paramGrid1 = dict(n_estimators=range(100,501,100), max_depth=np.array([3,6,9]), min_child_weight=np.array([1,2,3]))\n",
    "\n",
    "kfold = StratifiedKFold(n_splits=n_folds, shuffle=True, random_state=seedNum)\n",
    "grid1 = GridSearchCV(estimator=tune_model1, param_grid=paramGrid1, scoring=scoring, cv=kfold, n_jobs=n_jobs, verbose=1)\n",
    "grid_result1 = grid1.fit(X_train, y_train)\n",
    "\n",
    "print(\"Best: %f using %s\" % (grid_result1.best_score_, grid_result1.best_params_))\n",
    "tune_results.append(grid_result1.cv_results_['mean_test_score'])\n",
    "means = grid_result1.cv_results_['mean_test_score']\n",
    "stds = grid_result1.cv_results_['std_test_score']\n",
    "params = grid_result1.cv_results_['params']\n",
    "for mean, stdev, param in zip(means, stds, params):\n",
    "    print(\"%f (%f) with: %r\" % (mean, stdev, param))\n",
    "print ('Model training time:',(datetime.now() - startTimeModule))\n",
    "if notifyStatus: status_notify(\"Algorithm tuning iteration #1 completed! \"+datetime.now().strftime('%a %B %d, %Y %I:%M:%S %p'))"
   ]
  },
  {
   "cell_type": "code",
   "execution_count": 55,
   "metadata": {},
   "outputs": [
    {
     "name": "stdout",
     "output_type": "stream",
     "text": [
      "Fitting 5 folds for each of 16 candidates, totalling 80 fits\n"
     ]
    },
    {
     "name": "stderr",
     "output_type": "stream",
     "text": [
      "[Parallel(n_jobs=1)]: Using backend SequentialBackend with 1 concurrent workers.\n",
      "[Parallel(n_jobs=1)]: Done  80 out of  80 | elapsed:   16.5s finished\n"
     ]
    },
    {
     "name": "stdout",
     "output_type": "stream",
     "text": [
      "Best: 0.795462 using {'colsample_bytree': 0.8, 'subsample': 0.8}\n",
      "0.737311 (0.113178) with: {'colsample_bytree': 0.7, 'subsample': 0.7}\n",
      "0.772437 (0.091949) with: {'colsample_bytree': 0.7, 'subsample': 0.8}\n",
      "0.784034 (0.085019) with: {'colsample_bytree': 0.7, 'subsample': 0.9}\n",
      "0.766555 (0.085439) with: {'colsample_bytree': 0.7, 'subsample': 1.0}\n",
      "0.766555 (0.091312) with: {'colsample_bytree': 0.8, 'subsample': 0.7}\n",
      "0.795462 (0.071543) with: {'colsample_bytree': 0.8, 'subsample': 0.8}\n",
      "0.766723 (0.090511) with: {'colsample_bytree': 0.8, 'subsample': 0.9}\n",
      "0.778151 (0.078804) with: {'colsample_bytree': 0.8, 'subsample': 1.0}\n",
      "0.772437 (0.091949) with: {'colsample_bytree': 0.9, 'subsample': 0.7}\n",
      "0.772437 (0.091949) with: {'colsample_bytree': 0.9, 'subsample': 0.8}\n",
      "0.772101 (0.093227) with: {'colsample_bytree': 0.9, 'subsample': 0.9}\n",
      "0.772269 (0.071572) with: {'colsample_bytree': 0.9, 'subsample': 1.0}\n",
      "0.772269 (0.094492) with: {'colsample_bytree': 1.0, 'subsample': 0.7}\n",
      "0.754622 (0.089550) with: {'colsample_bytree': 1.0, 'subsample': 0.8}\n",
      "0.754790 (0.092677) with: {'colsample_bytree': 1.0, 'subsample': 0.9}\n",
      "0.784034 (0.058499) with: {'colsample_bytree': 1.0, 'subsample': 1.0}\n",
      "Model training time: 0:00:16.704604\n"
     ]
    }
   ],
   "source": [
    "# Tuning XGBoost subsample and colsample_bytree parameters\n",
    "startTimeModule = datetime.now()\n",
    "if notifyStatus: status_notify(\"Algorithm tuning iteration #2 has begun! \"+datetime.now().strftime('%a %B %d, %Y %I:%M:%S %p'))\n",
    "\n",
    "tune_model2 = XGBClassifier(n_estimators=100, max_depth=6, min_child_weight=1, random_state=seedNum, n_jobs=n_jobs, objective='multi:softmax', num_class=n_classes)\n",
    "# tune_model2 = XGBClassifier(n_estimators=100, max_depth=6, min_child_weight=1, random_state=seedNum, n_jobs=n_jobs, objective='multi:softmax', num_class=n_classes, tree_method='gpu_hist')\n",
    "tune_model_names.append('XGB_2')\n",
    "paramGrid2 = dict(subsample=np.array([0.7,0.8,0.9,1.0]), colsample_bytree=np.array([0.7,0.8,0.9,1.0]))\n",
    "\n",
    "kfold = StratifiedKFold(n_splits=n_folds, shuffle=True, random_state=seedNum)\n",
    "grid2 = GridSearchCV(estimator=tune_model2, param_grid=paramGrid2, scoring=scoring, cv=kfold, n_jobs=n_jobs, verbose=1)\n",
    "grid_result2 = grid2.fit(X_train, y_train)\n",
    "\n",
    "print(\"Best: %f using %s\" % (grid_result2.best_score_, grid_result2.best_params_))\n",
    "tune_results.append(grid_result2.cv_results_['mean_test_score'])\n",
    "means = grid_result2.cv_results_['mean_test_score']\n",
    "stds = grid_result2.cv_results_['std_test_score']\n",
    "params = grid_result2.cv_results_['params']\n",
    "for mean, stdev, param in zip(means, stds, params):\n",
    "    print(\"%f (%f) with: %r\" % (mean, stdev, param))\n",
    "print ('Model training time:',(datetime.now() - startTimeModule))\n",
    "if notifyStatus: status_notify(\"Algorithm tuning iteration #2 completed! \"+datetime.now().strftime('%a %B %d, %Y %I:%M:%S %p'))"
   ]
  },
  {
   "cell_type": "markdown",
   "metadata": {},
   "source": [
    "### 4.c) Compare Algorithms After Tuning"
   ]
  },
  {
   "cell_type": "code",
   "execution_count": 56,
   "metadata": {},
   "outputs": [
    {
     "data": {
      "image/png": "[encoded data removed]",
      "text/plain": [
       "<Figure size 1152x864 with 1 Axes>"
      ]
     },
     "metadata": {
      "needs_background": "light"
     },
     "output_type": "display_data"
    }
   ],
   "source": [
    "fig = plt.figure(figsize=(16,12))\n",
    "fig.suptitle('Algorithm Comparison - Post Tuning')\n",
    "ax = fig.add_subplot(111)\n",
    "plt.boxplot(tune_results)\n",
    "ax.set_xticklabels(tune_model_names)\n",
    "plt.show()"
   ]
  },
  {
   "cell_type": "code",
   "execution_count": 57,
   "metadata": {
    "collapsed": false,
    "jupyter": {
     "outputs_hidden": false
    },
    "pycharm": {
     "name": "#%%\n"
    }
   },
   "outputs": [],
   "source": [
    "if notifyStatus: status_notify(\"Task 4 - Train and Evaluate Models completed! \"+datetime.now().strftime('%a %B %d, %Y %I:%M:%S %p'))"
   ]
  },
  {
   "cell_type": "markdown",
   "metadata": {},
   "source": [
    "## Task 5 - Finalize Model and Present Analysis"
   ]
  },
  {
   "cell_type": "code",
   "execution_count": 58,
   "metadata": {},
   "outputs": [],
   "source": [
    "if notifyStatus: status_notify(\"Task 5 - Finalize Model and Present Analysis has begun! \"+datetime.now().strftime('%a %B %d, %Y %I:%M:%S %p'))"
   ]
  },
  {
   "cell_type": "code",
   "execution_count": 59,
   "metadata": {
    "collapsed": false,
    "jupyter": {
     "outputs_hidden": false
    },
    "pycharm": {
     "name": "#%%\n"
    }
   },
   "outputs": [
    {
     "name": "stdout",
     "output_type": "stream",
     "text": [
      "X_test.shape: (43, 9) y_test.shape: (43,)\n"
     ]
    }
   ],
   "source": [
    "# Apply the same data preparation steps to the test dataset\n",
    "X_test = preprocessor.transform(X_test_df)\n",
    "# Encode the target variable\n",
    "y_test = class_encoder.transform(y_test_df)\n",
    "print(\"X_test.shape: {} y_test.shape: {}\".format(X_test.shape, y_test.shape))"
   ]
  },
  {
   "cell_type": "code",
   "execution_count": 60,
   "metadata": {
    "collapsed": false,
    "jupyter": {
     "outputs_hidden": false
    },
    "pycharm": {
     "name": "#%%\n"
    }
   },
   "outputs": [
    {
     "name": "stdout",
     "output_type": "stream",
     "text": [
      "XGBClassifier(base_score=0.5, booster='gbtree', colsample_bylevel=1,\n",
      "              colsample_bynode=1, colsample_bytree=0.8, gamma=0, gpu_id=-1,\n",
      "              importance_type='gain', interaction_constraints='',\n",
      "              learning_rate=0.300000012, max_delta_step=0, max_depth=6,\n",
      "              min_child_weight=1, missing=nan, monotone_constraints='()',\n",
      "              n_estimators=100, n_jobs=1, num_parallel_tree=1,\n",
      "              objective='multi:softprob', random_state=888, reg_alpha=0,\n",
      "              reg_lambda=1, scale_pos_weight=None, subsample=0.8,\n",
      "              tree_method='exact', validate_parameters=1, verbosity=None)\n"
     ]
    }
   ],
   "source": [
    "test_model = XGBClassifier(n_estimators=100, max_depth=6, min_child_weight=1, colsample_bytree=0.8, subsample=0.8, random_state=seedNum, n_jobs=n_jobs, objective='multi:softmax')\n",
    "# test_model = XGBClassifier(n_estimators=100, max_depth=6, min_child_weight=1, colsample_bytree=0.8, subsample=0.8, random_state=seedNum, n_jobs=n_jobs, objective='multi:softmax', tree_method='gpu_hist')\n",
    "test_model.fit(X_train, y_train)\n",
    "print(test_model)"
   ]
  },
  {
   "cell_type": "code",
   "execution_count": 61,
   "metadata": {},
   "outputs": [
    {
     "name": "stdout",
     "output_type": "stream",
     "text": [
      "Accuracy Score: 0.813953488372093\n",
      "[[12  4  1  0  0  0]\n",
      " [ 0 15  0  0  0  0]\n",
      " [ 1  0  1  0  0  0]\n",
      " [ 0  0  0  2  0  0]\n",
      " [ 0  0  0  0  1  0]\n",
      " [ 1  1  0  0  0  4]]\n",
      "              precision    recall  f1-score   support\n",
      "\n",
      "           0       0.86      0.71      0.77        17\n",
      "           1       0.75      1.00      0.86        15\n",
      "           2       0.50      0.50      0.50         2\n",
      "           3       1.00      1.00      1.00         2\n",
      "           4       1.00      1.00      1.00         1\n",
      "           5       1.00      0.67      0.80         6\n",
      "\n",
      "    accuracy                           0.81        43\n",
      "   macro avg       0.85      0.81      0.82        43\n",
      "weighted avg       0.83      0.81      0.81        43\n",
      "\n"
     ]
    }
   ],
   "source": [
    "test_predictions = test_model.predict(X_test)\n",
    "print('Accuracy Score:', accuracy_score(y_test, test_predictions))\n",
    "print(confusion_matrix(y_test, test_predictions))\n",
    "print(classification_report(y_test, test_predictions))"
   ]
  },
  {
   "cell_type": "code",
   "execution_count": 62,
   "metadata": {},
   "outputs": [],
   "source": [
    "if notifyStatus: status_notify(\"Task 5 - Finalize Model and Present Analysis completed! \"+datetime.now().strftime('%a %B %d, %Y %I:%M:%S %p'))"
   ]
  },
  {
   "cell_type": "code",
   "execution_count": 63,
   "metadata": {},
   "outputs": [
    {
     "name": "stdout",
     "output_type": "stream",
     "text": [
      "Total time for the script: 0:02:13.592156\n"
     ]
    }
   ],
   "source": [
    "print ('Total time for the script:',(datetime.now() - startTimeScript))"
   ]
  }
 ],
 "metadata": {
  "kernelspec": {
   "display_name": "Python 3",
   "language": "python",
   "name": "python3"
  },
  "language_info": {
   "codemirror_mode": {
    "name": "ipython",
    "version": 3
   },
   "file_extension": ".py",
   "mimetype": "text/x-python",
   "name": "python",
   "nbconvert_exporter": "python",
   "pygments_lexer": "ipython3",
   "version": "3.7.9"
  }
 },
 "nbformat": 4,
 "nbformat_minor": 4
}
