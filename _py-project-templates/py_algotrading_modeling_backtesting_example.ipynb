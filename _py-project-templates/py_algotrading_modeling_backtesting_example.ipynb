{
 "cells": [
  {
   "cell_type": "markdown",
   "metadata": {
    "colab_type": "text",
    "id": "nn0Ld1RjTekC"
   },
   "source": [
    "# Algorithmic Trading Model for [Simple Moving Average Crossover] Using Python\n",
    "### David Lowe\n",
    "### October 28, 2020\n",
    "\n",
    "NOTE: This script is for learning purposes only and does not constitute a recommendation for buying or selling any stock mentioned in this script.\n",
    "\n",
    "SUMMARY: This project aims to construct and test an algorithmic trading model and document the end-to-end steps using a template. We will test trading models with the strategy of [Simple Moving Average Crossover].\n",
    "\n",
    "INTRODUCTION: [SAMPLE PARAGRAPH - This algorithmic trading model examines a series of simple moving average (MA) crossover models via a grid search methodology. For the momentum-based models, the strategy goes long (buys) on the stock when the fast MA curve crosses above the slow MA curve. We will exit the long position when the fast MA curve crosses below the slow MA curve. For the mean-reversion models, we will populate the model using the exact opposite approach.]\n",
    "\n",
    "ANALYSIS: [SAMPLE PARAGRAPH - From this iteration, we analyzed the stock prices for Apple Inc. (AAPL) between January 1, 2019, and September 30, 2020. The best model is momentum-based with a 20-day fast MA and a 10-day slow MA, and it produced a profit of 80.42 per share. The long-only approach yielded a gain of 77.09 per share.]\n",
    "\n",
    "CONCLUSION: [SAMPLE PARAGRAPH - For the stock of AAPL during the modeling time frame, the trading strategy produced a better return than the buy-and-hold approach. We should consider modeling this stock further by using the same method.]\n",
    "\n",
    "Dataset ML Model: Time series analysis with numerical attributes\n",
    "\n",
    "Dataset Used: Yahoo! [| Quandl | IEX Cloud | Alpha Vantage]\n",
    "\n",
    "An algorithmic trading modeling project generally can be broken down into about five major tasks:\n",
    "\n",
    "1. Prepare Environment\n",
    "2. Acquire and Pre-Process Data\n",
    "3. Implement and Train Models\n",
    "4. Back-test Models\n",
    "5. Evaluate Strategy Performance"
   ]
  },
  {
   "cell_type": "markdown",
   "metadata": {
    "colab_type": "text",
    "id": "-DieEv9pTekE"
   },
   "source": [
    "## Task 1 - Prepare Environment"
   ]
  },
  {
   "cell_type": "code",
   "execution_count": 1,
   "outputs": [],
   "source": [
    "# # Install the necessary packages for Colab\n",
    "# !pip install python-dotenv PyMySQL"
   ],
   "metadata": {
    "collapsed": false,
    "pycharm": {
     "name": "#%%\n"
    }
   }
  },
  {
   "cell_type": "code",
   "execution_count": 2,
   "outputs": [],
   "source": [
    "# # Retrieve the GPU information from Colab\n",
    "# gpu_info = !nvidia-smi\n",
    "# gpu_info = '\\n'.join(gpu_info)\n",
    "# if gpu_info.find('failed') >= 0:\n",
    "#     print('Select the Runtime → \"Change runtime type\" menu to enable a GPU accelerator, ')\n",
    "#     print('and then re-execute this cell.')\n",
    "# else:\n",
    "#     print(gpu_info)"
   ],
   "metadata": {
    "collapsed": false,
    "pycharm": {
     "name": "#%%\n"
    }
   }
  },
  {
   "cell_type": "code",
   "execution_count": 3,
   "outputs": [],
   "source": [
    "# # Retrieve the memory configuration from Colab\n",
    "# from psutil import virtual_memory\n",
    "# ram_gb = virtual_memory().total / 1e9\n",
    "# print('Your runtime has {:.1f} gigabytes of available RAM\\n'.format(ram_gb))\n",
    "#\n",
    "# if ram_gb < 20:\n",
    "#     print('To enable a high-RAM runtime, select the Runtime → \"Change runtime type\"')\n",
    "#     print('menu, and then select High-RAM in the Runtime shape dropdown. Then, ')\n",
    "#     print('re-execute this cell.')\n",
    "# else:\n",
    "#     print('You are using a high-RAM runtime!')"
   ],
   "metadata": {
    "collapsed": false,
    "pycharm": {
     "name": "#%%\n"
    }
   }
  },
  {
   "cell_type": "code",
   "execution_count": 4,
   "outputs": [],
   "source": [
    "# # Retrieve the CPU information\n",
    "# ncpu = !nproc\n",
    "# print(\"The number of available CPUs is:\", ncpu[0])"
   ],
   "metadata": {
    "collapsed": false,
    "pycharm": {
     "name": "#%%\n"
    }
   }
  },
  {
   "cell_type": "markdown",
   "source": [
    "### 1.a) Load libraries and modules"
   ],
   "metadata": {
    "collapsed": false,
    "pycharm": {
     "name": "#%% md\n"
    }
   }
  },
  {
   "cell_type": "code",
   "execution_count": 5,
   "metadata": {
    "colab": {},
    "colab_type": "code",
    "collapsed": false,
    "id": "8IwyGxxuTekE",
    "jupyter": {
     "outputs_hidden": false
    },
    "pycharm": {
     "name": "#%%\n"
    }
   },
   "outputs": [],
   "source": [
    "import numpy as np\n",
    "import pandas as pd\n",
    "import requests\n",
    "import json\n",
    "import matplotlib.pyplot as plt\n",
    "from datetime import date, datetime, timedelta\n",
    "from dotenv import load_dotenv\n",
    "import pandas_datareader.data as pdr\n",
    "import yfinance as yf"
   ]
  },
  {
   "cell_type": "markdown",
   "source": [
    "### 1.b) Set up the controlling parameters and functions¶"
   ],
   "metadata": {
    "collapsed": false,
    "pycharm": {
     "name": "#%% md\n"
    }
   }
  },
  {
   "cell_type": "code",
   "execution_count": 6,
   "metadata": {
    "colab": {
     "base_uri": "https://localhost:8080/",
     "height": 51
    },
    "colab_type": "code",
    "collapsed": false,
    "id": "Zagik25QTekS",
    "jupyter": {
     "outputs_hidden": false
    },
    "outputId": "d14332ba-63ec-4224-ca13-c4ecdab3541a",
    "pycharm": {
     "name": "#%%\n"
    }
   },
   "outputs": [
    {
     "name": "stdout",
     "output_type": "stream",
     "text": [
      "Starting date for the model: 2019-01-01\n",
      "Ending date for the model: 2020-09-30\n",
      "First date we need for the data: 2018-10-03\n"
     ]
    }
   ],
   "source": [
    "stock_symbol = 'AAPL'\n",
    "initial_capital = 0\n",
    "\n",
    "# Specify the moving average parameters for the trading strategy\n",
    "fast_sma_min = 10\n",
    "fast_sma_max = 30\n",
    "slow_sma_min = 10\n",
    "slow_sma_max = 60\n",
    "ma_increment = 5\n",
    "min_ma_gap = 5\n",
    "\n",
    "# The number of extra days of data we need (usually equals to the larger of slow_ema or slow_sma)\n",
    "extra_days_data = slow_sma_max\n",
    "\n",
    "model_start_date = date(2019, 1, 1)\n",
    "print(\"Starting date for the model:\", model_start_date)\n",
    "\n",
    "# model_end_date = date()\n",
    "model_end_date = date(2020, 9, 30)\n",
    "print(\"Ending date for the model:\", model_end_date)\n",
    "\n",
    "data_start_date = model_start_date - timedelta(days=int(extra_days_data*1.5)) # Need more pricing data to calculate moving averages\n",
    "print(\"First date we need for the data:\", data_start_date)"
   ]
  },
  {
   "cell_type": "code",
   "execution_count": 7,
   "metadata": {
    "colab": {
     "base_uri": "https://localhost:8080/",
     "height": 34
    },
    "colab_type": "code",
    "collapsed": false,
    "id": "aTI50KL9TekN",
    "jupyter": {
     "outputs_hidden": false
    },
    "outputId": "68f4a687-6e33-48e5-ef46-c23d7994bc3e",
    "pycharm": {
     "name": "#%%\n"
    }
   },
   "outputs": [],
   "source": [
    "# Begin the timer for the script processing\n",
    "startTimeScript = datetime.now()\n",
    "\n",
    "# Set Pandas options\n",
    "pd.set_option(\"display.max_rows\", None)\n",
    "pd.set_option(\"display.max_columns\", None)\n",
    "pd.set_option(\"display.width\", 140)\n",
    "\n",
    "# Configure the plotting style\n",
    "plt.style.use('seaborn')\n",
    "\n",
    "# Set up the verbose flag to print detailed messages for debugging (setting True will activate!)\n",
    "verbose_models = False\n",
    "verbose_graphs = False\n",
    "verbose_portfolios = False"
   ]
  },
  {
   "cell_type": "code",
   "execution_count": 8,
   "outputs": [],
   "source": [
    "# Set up the parent directory location for loading the dotenv files\n",
    "\n",
    "# # Mount Google Drive locally for storing files\n",
    "# from google.colab import drive\n",
    "# drive.mount('/content/gdrive')\n",
    "# gdrivePrefix = '/content/gdrive/My Drive/Colab_Downloads/'\n",
    "# env_path = '/content/gdrive/My Drive/Colab Notebooks/'\n",
    "# dotenv_path = env_path + \"python_script.env\"\n",
    "# load_dotenv(dotenv_path=dotenv_path)\n",
    "\n",
    "# # Set up access to the dotenv file on local PC\n",
    "# env_path = \"/Users/david/PycharmProjects/\"\n",
    "# dotenv_path = env_path + \"python_script.env\"\n",
    "# load_dotenv(dotenv_path=dotenv_path)"
   ],
   "metadata": {
    "collapsed": false,
    "pycharm": {
     "name": "#%%\n"
    }
   }
  },
  {
   "cell_type": "markdown",
   "metadata": {
    "colab_type": "text",
    "id": "Xa51FMY_TekZ"
   },
   "source": [
    "## Task 2 - Acquire and Pre-Process Data"
   ]
  },
  {
   "cell_type": "code",
   "execution_count": 9,
   "outputs": [
    {
     "name": "stdout",
     "output_type": "stream",
     "text": [
      "[*********************100%***********************]  1 of 1 completed\n",
      "501 data points retrieved from the API call.\n",
      "\n",
      "<class 'pandas.core.frame.DataFrame'>\n",
      "DatetimeIndex: 501 entries, 2018-10-03 to 2020-09-29\n",
      "Data columns (total 6 columns):\n",
      " #   Column     Non-Null Count  Dtype  \n",
      "---  ------     --------------  -----  \n",
      " 0   Open       501 non-null    float64\n",
      " 1   High       501 non-null    float64\n",
      " 2   Low        501 non-null    float64\n",
      " 3   Close      501 non-null    float64\n",
      " 4   Adj Close  501 non-null    float64\n",
      " 5   Volume     501 non-null    int64  \n",
      "dtypes: float64(5), int64(1)\n",
      "memory usage: 27.4 KB\n",
      "\n",
      "                 Open       High        Low      Close  Adj Close     Volume\n",
      "Date                                                                        \n",
      "2018-10-03  57.512501  58.367500  57.445000  58.017502  56.569679  114619200\n",
      "2018-10-04  57.695000  58.087502  56.682499  56.997501  55.575134  128168000\n",
      "2018-10-05  56.990002  57.102501  55.145000  56.072498  54.673214  134322000\n",
      "2018-10-08  55.552502  56.200001  55.049999  55.942501  54.546471  118655600\n",
      "2018-10-09  55.910000  56.817501  55.562500  56.717499  55.302128  107564000\n",
      "\n",
      "                  Open        High         Low       Close   Adj Close     Volume\n",
      "Date                                                                             \n",
      "2020-09-23  111.620003  112.110001  106.769997  107.120003  107.120003  150718700\n",
      "2020-09-24  105.169998  110.250000  105.000000  108.220001  108.220001  167743300\n",
      "2020-09-25  108.430000  112.440002  107.669998  112.279999  112.279999  149981400\n",
      "2020-09-28  115.010002  115.320000  112.779999  114.959999  114.959999  137672400\n",
      "2020-09-29  114.550003  115.309998  113.570000  114.089996  114.089996   99382200\n"
     ]
    }
   ],
   "source": [
    "# Set up the data service provider and data acquisition parameters\n",
    "data_service = 'Yahoo!'\n",
    "\n",
    "yf.pdr_override()\n",
    "stock_pricing = pdr.get_data_yahoo(stock_symbol, data_start_date, model_end_date)\n",
    "print(len(stock_pricing), 'data points retrieved from the API call.')\n",
    "print()\n",
    "\n",
    "stock_pricing.info()\n",
    "print()\n",
    "print(stock_pricing.head())\n",
    "print()\n",
    "print(stock_pricing.tail())"
   ],
   "metadata": {
    "collapsed": false,
    "pycharm": {
     "name": "#%%\n"
    }
   }
  },
  {
   "cell_type": "code",
   "execution_count": 10,
   "metadata": {
    "colab": {},
    "colab_type": "code",
    "collapsed": false,
    "id": "Og9L0byuTekd",
    "jupyter": {
     "outputs_hidden": false
    },
    "pycharm": {
     "name": "#%%\n"
    }
   },
   "outputs": [],
   "source": [
    "# # Set up the data service provider and data acquisition parameters\n",
    "# data_service = 'Quandl'\n",
    "#\n",
    "# # Check and see whether the API key is available\n",
    "# api_key = os.environ.get('QUANDL_API')\n",
    "# if api_key is None: sys.exit(\"API key for Quandl not available. Script Processing Aborted!!!\")\n",
    "#\n",
    "# start_date_string = data_start_date.strftime('%Y-%m-%d')\n",
    "# end_date_string = model_end_date.strftime('%Y-%m-%d')\n",
    "# api_url = \"https://www.quandl.com/api/v3/datatables/SHARADAR/SEP.json?date.gte=%s&date.lte=%s&ticker=%s&api_key=%s\" % (start_date_string, end_date_string, stock_symbol, api_key)\n",
    "# response = requests.get(api_url)\n",
    "# resp_dict = json.loads(response.text)\n",
    "# stock_rawdata = pd.DataFrame(resp_dict['datatable']['data'])\n",
    "# print(len(stock_rawdata), 'data points retrieved from the API call.')\n",
    "# print()\n",
    "#\n",
    "# stock_rawdata.columns = ['ticker', 'date', 'open', 'high', 'low', 'close', 'volume', 'dividend', 'closeunadj', 'lastupdated']\n",
    "# # stock_rawdata.set_index('date', inplace=True)\n",
    "# stock_rawdata.index = pd.to_datetime(stock_rawdata.date)\n",
    "# stock_pricing = stock_rawdata.sort_index(ascending=True)\n",
    "# stock_pricing.info()\n",
    "# print()\n",
    "# print(stock_pricing.head())\n",
    "# print()\n",
    "# print(stock_pricing.tail())"
   ]
  },
  {
   "cell_type": "code",
   "execution_count": 11,
   "outputs": [
    {
     "name": "stdout",
     "output_type": "stream",
     "text": [
      "<class 'pandas.core.frame.DataFrame'>\n",
      "DatetimeIndex: 501 entries, 2018-10-03 to 2020-09-29\n",
      "Data columns (total 2 columns):\n",
      " #   Column       Non-Null Count  Dtype  \n",
      "---  ------       --------------  -----  \n",
      " 0   open_price   501 non-null    float64\n",
      " 1   close_price  501 non-null    float64\n",
      "dtypes: float64(2)\n",
      "memory usage: 11.7 KB\n"
     ]
    }
   ],
   "source": [
    "# Set up the standard column name for modeling\n",
    "model_template = stock_pricing.loc[:, ['Open','Close']] # Column names may be data-provider specific!\n",
    "model_template.rename(columns={'Open': 'open_price', 'Close': 'close_price'}, inplace=True)\n",
    "model_template.info()"
   ],
   "metadata": {
    "collapsed": false,
    "pycharm": {
     "name": "#%%\n"
    }
   }
  },
  {
   "cell_type": "code",
   "execution_count": 12,
   "metadata": {
    "colab": {
     "base_uri": "https://localhost:8080/",
     "height": 535
    },
    "colab_type": "code",
    "collapsed": false,
    "id": "Tfuu40coTekv",
    "jupyter": {
     "outputs_hidden": false
    },
    "outputId": "2357753d-6c83-46ad-e8cc-8593497d20ff",
    "pycharm": {
     "name": "#%%\n"
    }
   },
   "outputs": [
    {
     "data": {
      "text/plain": "<Figure size 1152x648 with 1 Axes>",
      "image/png": "[encoded data removed]"
     },
     "metadata": {},
     "output_type": "display_data"
    }
   ],
   "source": [
    "plot_title = 'Historical Stock Information for ' + stock_symbol + ' from ' + data_service\n",
    "model_template['close_price'].plot(figsize=(16,9), title=plot_title)\n",
    "plt.show()"
   ]
  },
  {
   "cell_type": "markdown",
   "metadata": {
    "colab_type": "text",
    "id": "UKNJYDlGTek0"
   },
   "source": [
    "## Task 3 - Implement and Train Models"
   ]
  },
  {
   "cell_type": "code",
   "execution_count": 13,
   "metadata": {
    "colab": {},
    "colab_type": "code",
    "collapsed": false,
    "id": "yfQTRXPnTelA",
    "jupyter": {
     "outputs_hidden": false
    },
    "pycharm": {
     "name": "#%%\n"
    }
   },
   "outputs": [],
   "source": [
    "# Define the functions that will generate the indicators and trading signals\n",
    "\n",
    "def populate_indicators(passed_model):\n",
    "    passed_model['fast_sma'] = passed_model['close_price'].rolling(fast_ma).mean()\n",
    "    passed_model['slow_sma'] = passed_model['close_price'].rolling(slow_ma).mean()\n",
    "    passed_model['sma_change'] = passed_model['fast_sma'] - passed_model['slow_sma']\n",
    "    passed_model['trade_signal'] = np.zeros(len(passed_model))\n",
    "    passed_model['signal_change'] = np.zeros(len(passed_model))\n",
    "    passed_model['entry_exit'] = np.zeros(len(passed_model))\n",
    "\n",
    "def populate_momentum_signals(model, change_curve):\n",
    "    wait_for_entry = True # If True, we will wait for the next entry point when the signal changes from neutral to long\n",
    "    for x in range(len(model)):\n",
    "        if model[change_curve].iloc[x] > 0:\n",
    "            model['trade_signal'].iloc[x] = 1  # trade_signal = 1 means we should be in a long position\n",
    "        else:\n",
    "            model['trade_signal'].iloc[x] = 0  # trade_signal = 0 means we should be in a neutral position\n",
    "        if x != 0:\n",
    "            model['signal_change'].iloc[x] = model['trade_signal'].iloc[x] - model['trade_signal'].iloc[x-1]\n",
    "            # IF logics to handle the very first entry and the subsequent entries and exits\n",
    "            if wait_for_entry and (model['signal_change'].iloc[x-1] == 1):\n",
    "                model['entry_exit'].iloc[x] = model['signal_change'].iloc[x-1]\n",
    "                wait_for_entry = False\n",
    "            elif (not wait_for_entry) and (model['signal_change'].iloc[x-1] != 0):\n",
    "                model['entry_exit'].iloc[x] = model['signal_change'].iloc[x-1]\n",
    "\n",
    "def populate_reversion_signals(model, change_curve):\n",
    "    wait_for_entry = True # If True, we will wait for the next entry point when the signal changes from neutral to long\n",
    "    for x in range(len(model)):\n",
    "        if model[change_curve].iloc[x] < 0:\n",
    "            model['trade_signal'].iloc[x] = 1  # trade_signal = 1 means we should be in a long position\n",
    "        else:\n",
    "            model['trade_signal'].iloc[x] = 0  # trade_signal = 0 means we should be in a neutral position\n",
    "        if x != 0:\n",
    "            model['signal_change'].iloc[x] = model['trade_signal'].iloc[x] - model['trade_signal'].iloc[x-1]\n",
    "            # IF logics to handle the very first entry and the subsequent entries and exits\n",
    "            if wait_for_entry and (model['signal_change'].iloc[x-1] == 1):\n",
    "                model['entry_exit'].iloc[x] = model['signal_change'].iloc[x-1]\n",
    "                wait_for_entry = False\n",
    "            elif (not wait_for_entry) and (model['signal_change'].iloc[x-1] != 0):\n",
    "                model['entry_exit'].iloc[x] = model['signal_change'].iloc[x-1]"
   ]
  },
  {
   "cell_type": "code",
   "execution_count": 14,
   "metadata": {
    "colab": {
     "base_uri": "https://localhost:8080/",
     "height": 1000
    },
    "colab_type": "code",
    "collapsed": false,
    "id": "8M4khYD7TelG",
    "jupyter": {
     "outputs_hidden": false
    },
    "outputId": "05f4cf43-5ebd-4654-9806-00894118795f",
    "pycharm": {
     "name": "#%%\n"
    }
   },
   "outputs": [
    {
     "name": "stdout",
     "output_type": "stream",
     "text": [
      "\n",
      "40 momentum SMA-only models generated!\n",
      "\n",
      "40 mean-reversion SMA-only models generated!\n"
     ]
    }
   ],
   "source": [
    "# Processing momentum models using the SMA curves\n",
    "print()\n",
    "momentum_fast_sma_slow_sma_models = {}\n",
    "serial_number = 1\n",
    "for slow_ma in range(slow_sma_min, slow_sma_max+1, ma_increment):\n",
    "    for fast_ma in range(fast_sma_min, fast_sma_max+1, ma_increment):\n",
    "        if (slow_ma - fast_ma) < min_ma_gap: break\n",
    "        if verbose_models: print('Processing momentum model with fast_sma of', fast_ma, 'and slow_sma of', slow_ma)\n",
    "        model_tag = 'Momentum_' + str(serial_number).zfill(3) + '_FastSMA_' + str(fast_ma).zfill(3) + '_SlowSMA_' + str(slow_ma).zfill(3)\n",
    "        serial_number = serial_number + 1\n",
    "        trading_model = model_template.copy()\n",
    "        populate_indicators(trading_model)\n",
    "        trading_model = trading_model[model_start_date:model_end_date]\n",
    "        populate_momentum_signals(trading_model, 'sma_change')\n",
    "        momentum_fast_sma_slow_sma_models[model_tag] = trading_model.copy()\n",
    "        if verbose_models: print('Model', model_tag, 'added to the trading model collection.')\n",
    "print(len(momentum_fast_sma_slow_sma_models), 'momentum SMA-only models generated!')\n",
    "\n",
    "# Processing mean-reversion models using only the SMA curves\n",
    "print()\n",
    "reversion_fast_sma_slow_sma_models = {}\n",
    "serial_number = 1\n",
    "for slow_ma in range(slow_sma_min, slow_sma_max+1, ma_increment):\n",
    "    for fast_ma in range(fast_sma_min, fast_sma_max+1, ma_increment):\n",
    "        if (slow_ma - fast_ma) < min_ma_gap: break\n",
    "        if verbose_models: print('Processing mean-reversion model with fast_sma of', fast_ma, 'and slow_sma of', slow_ma)\n",
    "        model_tag = 'Reversion_' + str(serial_number).zfill(3) + '_FastSMA_' + str(fast_ma).zfill(3) + '_SlowSMA_' + str(slow_ma).zfill(3)\n",
    "        serial_number = serial_number + 1\n",
    "        trading_model = model_template.copy()\n",
    "        populate_indicators(trading_model)\n",
    "        trading_model = trading_model[model_start_date:model_end_date]\n",
    "        populate_reversion_signals(trading_model, 'sma_change')\n",
    "        reversion_fast_sma_slow_sma_models[model_tag] = trading_model.copy()\n",
    "        if verbose_models: print('Model', model_tag, 'added to the trading model collection.')\n",
    "print(len(reversion_fast_sma_slow_sma_models), 'mean-reversion SMA-only models generated!')"
   ]
  },
  {
   "cell_type": "code",
   "execution_count": 15,
   "metadata": {
    "colab": {
     "base_uri": "https://localhost:8080/",
     "height": 1000
    },
    "colab_type": "code",
    "collapsed": false,
    "id": "327CZKmtTelL",
    "jupyter": {
     "outputs_hidden": false
    },
    "outputId": "b353b49d-0281-4aa7-a530-6747c166eae5",
    "pycharm": {
     "name": "#%%\n"
    }
   },
   "outputs": [],
   "source": [
    "# List the entry/exit points for each model\n",
    "def list_model_entry_exit(model_collection):\n",
    "    for model_name in model_collection:\n",
    "        print('List the signal change and entry/exit points for', model_name)\n",
    "        print(model_collection[model_name][(model_collection[model_name].signal_change != 0) | (model_collection[model_name].entry_exit != 0)])\n",
    "        print()"
   ]
  },
  {
   "cell_type": "code",
   "execution_count": 16,
   "metadata": {
    "collapsed": false,
    "jupyter": {
     "outputs_hidden": false
    },
    "pycharm": {
     "name": "#%%\n"
    }
   },
   "outputs": [],
   "source": [
    "if verbose_models: list_model_entry_exit(momentum_fast_sma_slow_sma_models)"
   ]
  },
  {
   "cell_type": "code",
   "execution_count": 17,
   "metadata": {
    "collapsed": false,
    "jupyter": {
     "outputs_hidden": false
    },
    "pycharm": {
     "name": "#%%\n"
    }
   },
   "outputs": [],
   "source": [
    "if verbose_models: list_model_entry_exit(reversion_fast_sma_slow_sma_models)"
   ]
  },
  {
   "cell_type": "code",
   "execution_count": 18,
   "metadata": {
    "colab": {
     "base_uri": "https://localhost:8080/",
     "height": 1000
    },
    "colab_type": "code",
    "collapsed": false,
    "id": "XEyJXVxcTelS",
    "jupyter": {
     "outputs_hidden": false
    },
    "outputId": "c74ac3e9-fbd3-4e73-8294-f12d0cce88dc",
    "pycharm": {
     "name": "#%%\n"
    }
   },
   "outputs": [],
   "source": [
    "def draw_model_graphs(model_name, trade_model, fast_ma_curve='fast_sma', slow_ma_curve='slow_sma'):\n",
    "    graph_data = trade_model.copy()\n",
    "    title_string = \"Moving Average Crossover Model for \" + model_name\n",
    "    fig = plt.figure(figsize=(16,9))\n",
    "    ylabel = stock_symbol + ' price in $'\n",
    "    ax1 = fig.add_subplot(111, ylabel=ylabel, title=title_string)\n",
    "    graph_data[fast_ma_curve].plot(ax=ax1, color='b', lw=2.)\n",
    "    graph_data[slow_ma_curve].plot(ax=ax1, color='r', lw=2.)\n",
    "    graph_data['close_price'].plot(ax=ax1, color='g')\n",
    "    ax1.plot(graph_data.loc[graph_data.entry_exit == 1].index, graph_data.close_price[graph_data.entry_exit == 1], '^', markersize=7, color='k',label='buy')\n",
    "    ax1.plot(graph_data.loc[graph_data.entry_exit == -1].index, graph_data.close_price[graph_data.entry_exit == -1], 'v', markersize=7, color='k',label='sell')\n",
    "    plt.legend(loc='upper left')\n",
    "    plt.show()"
   ]
  },
  {
   "cell_type": "code",
   "execution_count": 19,
   "metadata": {
    "collapsed": false,
    "jupyter": {
     "outputs_hidden": false
    },
    "pycharm": {
     "name": "#%%\n"
    }
   },
   "outputs": [],
   "source": [
    "if verbose_graphs:\n",
    "    for tag in momentum_fast_sma_slow_sma_models:\n",
    "        draw_model_graphs(tag, momentum_fast_sma_slow_sma_models[tag], 'fast_sma', 'slow_sma')"
   ]
  },
  {
   "cell_type": "code",
   "execution_count": 20,
   "metadata": {
    "collapsed": false,
    "jupyter": {
     "outputs_hidden": false
    },
    "pycharm": {
     "name": "#%%\n"
    }
   },
   "outputs": [],
   "source": [
    "if verbose_graphs:\n",
    "    for tag in reversion_fast_sma_slow_sma_models:\n",
    "        draw_model_graphs(tag, reversion_fast_sma_slow_sma_models[tag], 'fast_sma', 'slow_sma')"
   ]
  },
  {
   "cell_type": "markdown",
   "metadata": {
    "colab_type": "text",
    "id": "wzTQaZkeTeld"
   },
   "source": [
    "## Task 4 - Back-test Models"
   ]
  },
  {
   "cell_type": "code",
   "execution_count": 21,
   "metadata": {
    "colab": {},
    "colab_type": "code",
    "collapsed": false,
    "id": "Q1xZWksnTelr",
    "jupyter": {
     "outputs_hidden": false
    },
    "pycharm": {
     "name": "#%%\n"
    }
   },
   "outputs": [],
   "source": [
    "def generate_trading_portfolios(initial_fund, trade_model):\n",
    "    # Construct a portfolio to track the transactions and returns\n",
    "    portfolio = pd.DataFrame(index=trade_model.index, columns=['trade_action', 'qty_onhand', 'cost_basis', 'sold_transaction', 'gain_loss', 'cash_onhand', 'position_value', 'total_position', 'accumu_return'])\n",
    "    portfolio.iloc[0]['trade_action'] = 0\n",
    "    portfolio.iloc[0]['qty_onhand'] = 0\n",
    "    portfolio.iloc[0]['cost_basis'] = 0.00\n",
    "    portfolio.iloc[0]['sold_transaction'] = 0.00\n",
    "    portfolio.iloc[0]['gain_loss'] = 0.00\n",
    "    portfolio.iloc[0]['cash_onhand'] = initial_capital\n",
    "    portfolio.iloc[0]['position_value'] = 0.00\n",
    "    portfolio.iloc[0]['total_position'] = initial_capital\n",
    "    portfolio.iloc[0]['accumu_return'] = portfolio.iloc[0]['total_position'] - initial_fund\n",
    "    recent_cost = 0\n",
    "\n",
    "    # The conditional parameters below determine how the trading strategy will be carried out\n",
    "    for i in range(1, len(portfolio)):\n",
    "        if (trade_model.iloc[i]['entry_exit'] == 1) and (portfolio.iloc[i-1]['qty_onhand'] == 0):\n",
    "            portfolio.iloc[i]['trade_action'] = 1\n",
    "            portfolio.iloc[i]['qty_onhand'] = portfolio.iloc[i-1]['qty_onhand'] + portfolio.iloc[i]['trade_action']\n",
    "            portfolio.iloc[i]['cost_basis'] = trade_model.iloc[i]['open_price'] * portfolio.iloc[i]['trade_action']\n",
    "            portfolio.iloc[i]['sold_transaction'] = 0.00\n",
    "            portfolio.iloc[i]['gain_loss'] = 0.00\n",
    "            portfolio.iloc[i]['cash_onhand'] = portfolio.iloc[i-1]['cash_onhand'] - portfolio.iloc[i]['cost_basis']\n",
    "            recent_cost = trade_model.iloc[i]['open_price'] * portfolio.iloc[i]['trade_action']\n",
    "            if verbose_portfolios: print('BOUGHT QTY:', portfolio.iloc[i]['trade_action'], 'on', portfolio.index[i], 'at the price of', trade_model.iloc[i]['open_price'])\n",
    "        elif (trade_model.iloc[i]['entry_exit'] == -1) and (portfolio.iloc[i-1]['qty_onhand'] > 0):\n",
    "            portfolio.iloc[i]['trade_action'] = -1\n",
    "            portfolio.iloc[i]['qty_onhand'] = portfolio.iloc[i-1]['qty_onhand'] + portfolio.iloc[i]['trade_action']\n",
    "            portfolio.iloc[i]['cost_basis'] = 0.00\n",
    "            portfolio.iloc[i]['sold_transaction'] = trade_model.iloc[i]['open_price'] * portfolio.iloc[i]['trade_action'] * -1\n",
    "            portfolio.iloc[i]['gain_loss'] = (recent_cost + (trade_model.iloc[i]['open_price'] * portfolio.iloc[i]['trade_action'])) * -1\n",
    "            portfolio.iloc[i]['cash_onhand'] = portfolio.iloc[i-1]['cash_onhand'] + portfolio.iloc[i]['sold_transaction']\n",
    "            recent_cost = 0.00\n",
    "            if verbose_portfolios: print('SOLD QTY:', portfolio.iloc[i]['trade_action'], 'on', portfolio.index[i], 'at the price of', trade_model.iloc[i]['open_price'])\n",
    "        else:\n",
    "            portfolio.iloc[i]['trade_action'] = 0\n",
    "            portfolio.iloc[i]['qty_onhand'] = portfolio.iloc[i-1]['qty_onhand']\n",
    "            portfolio.iloc[i]['cost_basis'] = portfolio.iloc[i-1]['cost_basis']\n",
    "            portfolio.iloc[i]['sold_transaction'] = 0.00\n",
    "            portfolio.iloc[i]['gain_loss'] = 0.00\n",
    "            portfolio.iloc[i]['cash_onhand'] = portfolio.iloc[i-1]['cash_onhand']\n",
    "        portfolio.iloc[i]['position_value'] = trade_model.iloc[i]['close_price'] * portfolio.iloc[i]['qty_onhand']\n",
    "        portfolio.iloc[i]['total_position'] = portfolio.iloc[i]['cash_onhand'] + portfolio.iloc[i]['position_value']\n",
    "        portfolio.iloc[i]['accumu_return'] = portfolio.iloc[i]['total_position'] - initial_fund\n",
    "\n",
    "    return portfolio"
   ]
  },
  {
   "cell_type": "code",
   "execution_count": 22,
   "metadata": {
    "colab": {
     "base_uri": "https://localhost:8080/",
     "height": 1000
    },
    "colab_type": "code",
    "collapsed": false,
    "id": "mOsqVrfRTelw",
    "jupyter": {
     "outputs_hidden": false
    },
    "outputId": "17950f55-4566-48b2-dde6-0974c6e45966",
    "pycharm": {
     "name": "#%%\n"
    }
   },
   "outputs": [],
   "source": [
    "def calculate_portfolio_performance(model_collection):\n",
    "    # Initialize a dictionary for tracking portfolios for all models\n",
    "    portfolio_collection = {}\n",
    "    # Initialize a dataframe for reporting model performance summary\n",
    "    performance_summary = pd.DataFrame(columns=['model_name','return_value','return_percent'])\n",
    "\n",
    "    for model_name in model_collection:\n",
    "        if verbose_portfolios: print('Processing portfolio for model:', model_name)\n",
    "        portfolio_collection[model_name] = generate_trading_portfolios(initial_capital, model_collection[model_name])\n",
    "        trade_transactions = portfolio_collection[model_name][portfolio_collection[model_name].trade_action != 0]\n",
    "        if verbose_portfolios: print(trade_transactions)\n",
    "        if verbose_portfolios: print('Accumulated profit/loss for one share of stock with initial capital of $%.0f at the end of modeling period: $%.2f' % (initial_capital, portfolio_collection[model_name].accumu_return[-1]))\n",
    "        if initial_capital != 0:\n",
    "            return_percentage = portfolio_collection[model_name].accumu_return[-1] / initial_capital * 100\n",
    "            if verbose_portfolios: print('Accumulated return percentage based on the initial capital investment: %.2f%%' % return_percentage)\n",
    "        else:\n",
    "            return_percentage = None\n",
    "        if trade_transactions.iloc[-1]['trade_action'] == 1:\n",
    "            if verbose_portfolios: print('The current status of the model is:', 'Holding a position since', trade_transactions.index.tolist()[-1], '\\n')\n",
    "        else:\n",
    "            if verbose_portfolios: print('The current status of the model is:', 'Waiting to enter since', trade_transactions.index.tolist()[-1], '\\n')\n",
    "        performance_summary = performance_summary.append({'model_name': model_name, 'return_value': portfolio_collection[model_name].accumu_return[-1], 'return_percent': return_percentage}, ignore_index=True)\n",
    "    performance_summary.sort_values(by=['return_value'], inplace=True, ascending=False)\n",
    "    return portfolio_collection, performance_summary"
   ]
  },
  {
   "cell_type": "code",
   "execution_count": 23,
   "metadata": {
    "collapsed": false,
    "jupyter": {
     "outputs_hidden": false
    },
    "pycharm": {
     "name": "#%%\n"
    }
   },
   "outputs": [
    {
     "name": "stdout",
     "output_type": "stream",
     "text": [
      "40 momentum trading transaction portfolios generated.\n",
      "40 profit/loss performance summaries generated.\n",
      "\n",
      "                              model_name  return_value return_percent\n",
      "1   Momentum_002_FastSMA_010_SlowSMA_020     80.420006           None\n",
      "3   Momentum_004_FastSMA_010_SlowSMA_025     73.622505           None\n",
      "35  Momentum_036_FastSMA_010_SlowSMA_060     72.147499           None\n",
      "26  Momentum_027_FastSMA_015_SlowSMA_050     69.505009           None\n",
      "2   Momentum_003_FastSMA_015_SlowSMA_020     69.040005           None\n"
     ]
    }
   ],
   "source": [
    "momentum_fast_sma_slow_sma_portfolios, momentum_fast_sma_slow_sma_performance = calculate_portfolio_performance(momentum_fast_sma_slow_sma_models)\n",
    "print(len(momentum_fast_sma_slow_sma_portfolios), 'momentum trading transaction portfolios generated.')\n",
    "print(len(momentum_fast_sma_slow_sma_performance), 'profit/loss performance summaries generated.')\n",
    "print()\n",
    "print(momentum_fast_sma_slow_sma_performance.head())"
   ]
  },
  {
   "cell_type": "code",
   "execution_count": 24,
   "metadata": {
    "collapsed": false,
    "jupyter": {
     "outputs_hidden": false
    },
    "pycharm": {
     "name": "#%%\n"
    }
   },
   "outputs": [
    {
     "name": "stdout",
     "output_type": "stream",
     "text": [
      "40 mean-reversion trading transaction portfolios generated.\n",
      "40 profit/loss performance summaries generated.\n",
      "\n",
      "                               model_name  return_value return_percent\n",
      "39  Reversion_040_FastSMA_030_SlowSMA_060     24.347496           None\n",
      "15  Reversion_016_FastSMA_010_SlowSMA_040     20.539997           None\n",
      "8   Reversion_009_FastSMA_020_SlowSMA_030     17.647495           None\n",
      "34  Reversion_035_FastSMA_030_SlowSMA_055     17.349998           None\n",
      "0   Reversion_001_FastSMA_010_SlowSMA_015     17.079994           None\n"
     ]
    }
   ],
   "source": [
    "reversion_fast_sma_slow_sma_portfolios, reversion_fast_sma_slow_sma_performance = calculate_portfolio_performance(reversion_fast_sma_slow_sma_models)\n",
    "print(len(reversion_fast_sma_slow_sma_portfolios), 'mean-reversion trading transaction portfolios generated.')\n",
    "print(len(reversion_fast_sma_slow_sma_performance), 'profit/loss performance summaries generated.')\n",
    "print()\n",
    "print(reversion_fast_sma_slow_sma_performance.head())"
   ]
  },
  {
   "cell_type": "markdown",
   "source": [
    "## Task 5 - Evaluate Strategy Performance"
   ],
   "metadata": {
    "collapsed": false
   }
  },
  {
   "cell_type": "code",
   "execution_count": 25,
   "metadata": {
    "collapsed": false,
    "jupyter": {
     "outputs_hidden": false
    },
    "pycharm": {
     "name": "#%%\n"
    }
   },
   "outputs": [],
   "source": [
    "# Display the entry/exit signals and transactions from the top model\n",
    "def display_signals_transactions(model_name, portfolio_collection, model_collection):\n",
    "    cols_to_display = ['open_price','close_price','fast_sma','slow_sma','trade_signal','signal_change','entry_exit']\n",
    "    print('The transactions from the top model %s:' % model_name)\n",
    "    print(portfolio_collection[model_name][portfolio_collection[model_name].trade_action != 0])\n",
    "    print()\n",
    "    print('The trading signal changes from the top model %s:' % model_name)\n",
    "    print(model_collection[model_name][(model_collection[model_name].signal_change != 0) | (model_collection[model_name].entry_exit != 0)][cols_to_display])"
   ]
  },
  {
   "cell_type": "code",
   "execution_count": 26,
   "metadata": {},
   "outputs": [
    {
     "name": "stdout",
     "output_type": "stream",
     "text": [
      "The transactions from the top model Momentum_002_FastSMA_010_SlowSMA_020:\n",
      "           trade_action qty_onhand cost_basis sold_transaction gain_loss cash_onhand position_value total_position accumu_return\n",
      "Date                                                                                                                            \n",
      "2019-01-23            1          1    38.5375                0         0    -38.5375          38.48     -0.0574989    -0.0574989\n",
      "2019-05-14           -1          0          0          46.6025     8.065       8.065              0          8.065         8.065\n",
      "2019-06-13            1          1     48.675                0         0      -40.61        48.5375         7.9275        7.9275\n",
      "2019-08-08           -1          0          0            50.05     1.375        9.44              0           9.44          9.44\n",
      "2019-08-22            1          1    53.2975                0         0    -43.8575         53.115         9.2575        9.2575\n",
      "2020-02-26           -1          0          0          71.6325    18.335      27.775              0         27.775        27.775\n",
      "2020-04-08            1          1     65.685                0         0      -37.91        66.5175        28.6075       28.6075\n",
      "2020-09-15           -1          0          0           118.33    52.645       80.42              0          80.42         80.42\n",
      "\n",
      "The trading signal changes from the top model Momentum_002_FastSMA_010_SlowSMA_020:\n",
      "            open_price  close_price    fast_sma    slow_sma  trade_signal  signal_change  entry_exit\n",
      "Date                                                                                                \n",
      "2019-01-22   39.102501    38.325001   38.353500   38.191125           1.0            1.0         0.0\n",
      "2019-01-23   38.537498    38.480000   38.432750   38.231000           1.0            0.0         1.0\n",
      "2019-05-13   46.927502    46.430000   50.748750   50.859750           0.0           -1.0         0.0\n",
      "2019-05-14   46.602501    47.165001   50.448500   50.727625           0.0            0.0        -1.0\n",
      "2019-06-12   48.487499    48.547501   46.145000   46.031375           1.0            1.0         0.0\n",
      "2019-06-13   48.674999    48.537498   46.541250   46.071750           1.0            0.0         1.0\n",
      "2019-08-07   48.852501    49.759998   51.202250   51.239750           0.0           -1.0         0.0\n",
      "2019-08-08   50.049999    50.857498   51.112499   51.260750           0.0            0.0        -1.0\n",
      "2019-08-21   53.247501    53.160000   51.455250   51.328750           1.0            1.0         0.0\n",
      "2019-08-22   53.297501    53.115002   51.681001   51.396750           1.0            0.0         1.0\n",
      "2020-02-25   75.237503    72.019997   78.971499   79.375249           0.0           -1.0         0.0\n",
      "2020-02-26   71.632500    73.162498   78.297499   79.062249           0.0            0.0        -1.0\n",
      "2020-04-07   67.699997    64.857498   62.748750   62.482375           1.0            1.0         0.0\n",
      "2020-04-08   65.684998    66.517502   63.262500   62.365375           1.0            0.0         1.0\n",
      "2020-09-14  114.720001   115.360001  120.744997  121.149749           0.0           -1.0         0.0\n",
      "2020-09-15  118.330002   115.540001  119.394998  121.196374           0.0            0.0        -1.0\n",
      "\n"
     ]
    },
    {
     "data": {
      "text/plain": "<Figure size 1152x648 with 1 Axes>",
      "image/png": "[encoded data removed]"
     },
     "metadata": {},
     "output_type": "display_data"
    }
   ],
   "source": [
    "# Display the details for the top model\n",
    "return_list = [momentum_fast_sma_slow_sma_performance.iloc[0]['return_value'], reversion_fast_sma_slow_sma_performance.iloc[0]['return_value']]\n",
    "performance_list = [momentum_fast_sma_slow_sma_performance, reversion_fast_sma_slow_sma_performance]\n",
    "portfolio_list = [momentum_fast_sma_slow_sma_portfolios, reversion_fast_sma_slow_sma_portfolios]\n",
    "model_list = [momentum_fast_sma_slow_sma_models, reversion_fast_sma_slow_sma_models]\n",
    "fast_ma_list = ['fast_sma', 'fast_sma']\n",
    "slow_ma_list = ['slow_sma', 'slow_sma']\n",
    "top_model_return = max(return_list)\n",
    "top_model_index = return_list.index(top_model_return)\n",
    "top_model_name = performance_list[top_model_index].iloc[0]['model_name']\n",
    "display_signals_transactions(top_model_name, portfolio_list[top_model_index], model_list[top_model_index])\n",
    "print()\n",
    "draw_model_graphs(top_model_name, model_list[top_model_index][top_model_name], fast_ma_list[top_model_index], slow_ma_list[top_model_index])"
   ]
  },
  {
   "cell_type": "code",
   "execution_count": 27,
   "metadata": {
    "colab": {
     "base_uri": "https://localhost:8080/",
     "height": 51
    },
    "colab_type": "code",
    "collapsed": false,
    "id": "YTyOJjYzTel7",
    "jupyter": {
     "outputs_hidden": false
    },
    "outputId": "8ab127f5-5316-4e3a-9908-75f18dd9a2b9",
    "pycharm": {
     "name": "#%%\n"
    }
   },
   "outputs": [
    {
     "name": "stdout",
     "output_type": "stream",
     "text": [
      "The best model found is: Momentum_002_FastSMA_010_SlowSMA_020\n",
      "The best profit/loss for the investing period is: $80.42\n"
     ]
    }
   ],
   "source": [
    "print('The best model found is:', top_model_name)\n",
    "print('The best profit/loss for the investing period is: $%.2f' % top_model_return)\n",
    "if initial_capital != 0:\n",
    "    print('The best return percentage for initial capital is: %.2f%%' % (top_model_return / initial_capital * 100))"
   ]
  },
  {
   "cell_type": "code",
   "execution_count": 28,
   "metadata": {
    "colab": {
     "base_uri": "https://localhost:8080/",
     "height": 34
    },
    "colab_type": "code",
    "id": "aTP_6WyfTemB",
    "outputId": "6cda4cc2-d890-47d5-9a63-43cffd21d72f"
   },
   "outputs": [
    {
     "name": "stdout",
     "output_type": "stream",
     "text": [
      "The performance of the long-only model from day one is: $75.37\n"
     ]
    }
   ],
   "source": [
    "# Calculate the stock's performance for a long-only model\n",
    "model_template = model_template[model_start_date:model_end_date]\n",
    "print('The performance of the long-only model from day one is: $%.2f' %(model_template.iloc[-1]['close_price'] - model_template.iloc[0]['open_price']))"
   ]
  },
  {
   "cell_type": "code",
   "execution_count": 29,
   "metadata": {
    "colab": {
     "base_uri": "https://localhost:8080/",
     "height": 34
    },
    "colab_type": "code",
    "collapsed": false,
    "id": "be1J2gmiTemG",
    "jupyter": {
     "outputs_hidden": false
    },
    "outputId": "28010a58-a8c1-43ae-d6ff-200fc13eb876",
    "pycharm": {
     "name": "#%%\n"
    }
   },
   "outputs": [
    {
     "name": "stdout",
     "output_type": "stream",
     "text": [
      "Total time for the script: 0:00:54.067657\n"
     ]
    }
   ],
   "source": [
    "print ('Total time for the script:',(datetime.now() - startTimeScript))"
   ]
  }
 ],
 "metadata": {
  "colab": {
   "collapsed_sections": [],
   "name": "py_algotrading_ema_crossover_grid_search.ipynb",
   "provenance": []
  },
  "kernelspec": {
   "display_name": "Python 3",
   "language": "python",
   "name": "python3"
  },
  "language_info": {
   "codemirror_mode": {
    "name": "ipython",
    "version": 3
   },
   "file_extension": ".py",
   "mimetype": "text/x-python",
   "name": "python",
   "nbconvert_exporter": "python",
   "pygments_lexer": "ipython3",
   "version": "3.8.3"
  }
 },
 "nbformat": 4,
 "nbformat_minor": 4
}