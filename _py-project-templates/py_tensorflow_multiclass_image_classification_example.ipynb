{
 "cells": [
  {
   "cell_type": "markdown",
   "metadata": {},
   "source": [
    "# Multi-Class Image Classification Deep Learning Model for [PROJECT NAME] Using TensorFlow Version 1\n",
    "### David Lowe\n",
    "### November 24, 2020\n",
    "\n",
    "Template Credit: Adapted from a template made available by Dr. Jason Brownlee of Machine Learning Mastery. [https://machinelearningmastery.com/]\n",
    "\n",
    "SUMMARY: This project aims to construct a predictive model using a TensorFlow convolutional neural network (CNN) and document the end-to-end steps using a template. The [PROJECT NAME] dataset is a multi-class classification situation where we attempt to predict one of several (more than two) possible outcomes.\n",
    "\n",
    "INTRODUCTION: [Sample Paragraph - The Rock Paper Scissors dataset contains images from a variety of different hand poses with different races, ages, and genders. These images have all been generated using CGI techniques as an experiment in determining if a CGI-based dataset can be used for classification against real photos. All of this data is posed against a white background, and each image is 300×300 pixels in 24-bit color.]\n",
    "\n",
    "ANALYSIS: [Sample Paragraph - The performance of the baseline model achieved an accuracy score of 93.33% after 20 epochs using the training dataset. After tuning the hyperparameters, the best model processed the validation dataset with an accuracy score of 97.91%. Furthermore, the final model processed the test dataset with an accuracy measurement of 100.00%.]\n",
    "\n",
    "CONCLUSION: In this iteration, the TensorFlow CNN model appeared to be suitable for modeling this dataset. We should consider experimenting with TensorFlow for further modeling.\n",
    "\n",
    "Dataset Used: [PROJECT NAME] Dataset\n",
    "\n",
    "Dataset ML Model: Multi-class image classification with numerical attributes\n",
    "\n",
    "Dataset Reference: [http://www.laurencemoroney.com/rock-paper-scissors-dataset/]\n",
    "\n",
    "One potential source of performance benchmarks: [http://www.laurencemoroney.com/rock-paper-scissors-dataset/]\n",
    "\n",
    "A deep-learning image classification project generally can be broken down into five major tasks:\n",
    "\n",
    "1. Prepare Environment\n",
    "2. Load and Prepare Images\n",
    "3. Define and Train Models\n",
    "4. Evaluate and Optimize Models\n",
    "5. Finalize Model and Make Predictions"
   ]
  },
  {
   "cell_type": "markdown",
   "metadata": {},
   "source": [
    "# Task 1 - Prepare Environment"
   ]
  },
  {
   "cell_type": "code",
   "execution_count": 1,
   "metadata": {},
   "outputs": [],
   "source": [
    "# # Install the packages to support accessing environment variable and SQL databases\n",
    "# !pip install python-dotenv PyMySQL boto3"
   ]
  },
  {
   "cell_type": "code",
   "execution_count": 2,
   "metadata": {},
   "outputs": [],
   "source": [
    "# # Retrieve GPU configuration information from Colab\n",
    "# gpu_info = !nvidia-smi\n",
    "# gpu_info = '\\n'.join(gpu_info)\n",
    "# if gpu_info.find('failed') >= 0:\n",
    "#     print('Select the Runtime → \"Change runtime type\" menu to enable a GPU accelerator, ')\n",
    "#     print('and then re-execute this cell.')\n",
    "# else:\n",
    "#     print(gpu_info)"
   ]
  },
  {
   "cell_type": "code",
   "execution_count": 3,
   "metadata": {},
   "outputs": [],
   "source": [
    "# # Retrieve memory configuration information from Colab\n",
    "# from psutil import virtual_memory\n",
    "# ram_gb = virtual_memory().total / 1e9\n",
    "# print('Your runtime has {:.1f} gigabytes of available RAM\\n'.format(ram_gb))\n",
    "\n",
    "# if ram_gb < 20:\n",
    "#     print('To enable a high-RAM runtime, select the Runtime → \"Change runtime type\"')\n",
    "#     print('menu, and then select High-RAM in the Runtime shape dropdown. Then, ')\n",
    "#     print('re-execute this cell.')\n",
    "# else:\n",
    "#     print('You are using a high-RAM runtime!')"
   ]
  },
  {
   "cell_type": "code",
   "execution_count": 4,
   "metadata": {},
   "outputs": [],
   "source": [
    "# # Direct Colab to use TensorFlow v2\n",
    "# %tensorflow_version 2.x"
   ]
  },
  {
   "cell_type": "code",
   "execution_count": 5,
   "metadata": {},
   "outputs": [
    {
     "name": "stdout",
     "output_type": "stream",
     "text": [
      "The number of available CPUs is: 4\n"
     ]
    }
   ],
   "source": [
    "# Retrieve CPU information from the system\n",
    "ncpu = !nproc\n",
    "print(\"The number of available CPUs is:\", ncpu[0])"
   ]
  },
  {
   "cell_type": "markdown",
   "metadata": {},
   "source": [
    "## 1.a) Load libraries and modules"
   ]
  },
  {
   "cell_type": "code",
   "execution_count": 6,
   "metadata": {},
   "outputs": [],
   "source": [
    "# Set the random seed number for reproducible results\n",
    "seedNum = 888"
   ]
  },
  {
   "cell_type": "code",
   "execution_count": 7,
   "metadata": {},
   "outputs": [],
   "source": [
    "# Load libraries and packages\n",
    "import random\n",
    "random.seed(seedNum)\n",
    "import numpy as np\n",
    "np.random.seed(seedNum)\n",
    "import pandas as pd\n",
    "import matplotlib.pyplot as plt\n",
    "import matplotlib.image as mpimg\n",
    "import os\n",
    "import sys\n",
    "import boto3\n",
    "import zipfile\n",
    "from datetime import datetime\n",
    "from dotenv import load_dotenv\n",
    "import tensorflow as tf\n",
    "tf.random.set_seed(seedNum)\n",
    "from tensorflow import keras\n",
    "from tensorflow.keras.preprocessing.image import ImageDataGenerator\n",
    "from tensorflow.keras.callbacks import ReduceLROnPlateau"
   ]
  },
  {
   "cell_type": "markdown",
   "metadata": {},
   "source": [
    "## 1.b) Set up the controlling parameters and functions"
   ]
  },
  {
   "cell_type": "code",
   "execution_count": 8,
   "metadata": {},
   "outputs": [
    {
     "name": "stdout",
     "output_type": "stream",
     "text": [
      "Num GPUs Available: 0\n",
      "TensorFlow version: 2.3.0\n"
     ]
    }
   ],
   "source": [
    "# Begin the timer for the script processing\n",
    "startTimeScript = datetime.now()\n",
    "\n",
    "# Set up the number of CPU cores available for multi-thread processing\n",
    "n_jobs = 1\n",
    "\n",
    "# Set up the flag to stop sending progress emails (setting to True will send status emails!)\n",
    "notifyStatus = False\n",
    "\n",
    "# Set Pandas options\n",
    "pd.set_option(\"display.max_rows\", None)\n",
    "pd.set_option(\"display.max_columns\", None)\n",
    "pd.set_option(\"display.width\", 140)\n",
    "\n",
    "# Set the percentage sizes for splitting the dataset\n",
    "test_set_size = 0.2\n",
    "val_set_size = 0.25\n",
    "\n",
    "# Set various default modeling parameters\n",
    "default_loss = 'categorical_crossentropy'\n",
    "default_metrics = ['accuracy']\n",
    "default_optimizer = tf.keras.optimizers.Adam(learning_rate=0.001)\n",
    "default_kernel_init = tf.keras.initializers.GlorotUniform(seed=seedNum)\n",
    "default_epoch = 20\n",
    "default_batch = 32\n",
    "input_image_size = (28, 28, 1)\n",
    "num_classes = 10\n",
    "\n",
    "# Define the labels to use for graphing the data\n",
    "train_metric = \"accuracy\"\n",
    "validation_metric = \"val_accuracy\"\n",
    "train_loss = \"loss\"\n",
    "validation_loss = \"val_loss\"\n",
    "\n",
    "# Check the number of GPUs accessible through TensorFlow\n",
    "print('Num GPUs Available:', len(tf.config.list_physical_devices('GPU')))\n",
    "\n",
    "# Print out the TensorFlow version for confirmation\n",
    "print('TensorFlow version:', tf.__version__)"
   ]
  },
  {
   "cell_type": "code",
   "execution_count": 9,
   "metadata": {},
   "outputs": [],
   "source": [
    "# Set up the parent directory location for loading the dotenv files\n",
    "# useColab = True\n",
    "# if useColab:\n",
    "#     # Mount Google Drive locally for storing files\n",
    "#     from google.colab import drive\n",
    "#     drive.mount('/content/gdrive')\n",
    "#     gdrivePrefix = '/content/gdrive/My Drive/Colab_Downloads/'\n",
    "#     env_path = '/content/gdrive/My Drive/Colab Notebooks/'\n",
    "#     dotenv_path = env_path + \"python_script.env\"\n",
    "#     load_dotenv(dotenv_path=dotenv_path)\n",
    "\n",
    "# Set up the dotenv file for retrieving environment variables\n",
    "# useLocalPC = True\n",
    "# if useLocalPC:\n",
    "#     env_path = \"/Users/david/PycharmProjects/\"\n",
    "#     dotenv_path = env_path + \"python_script.env\"\n",
    "#     load_dotenv(dotenv_path=dotenv_path)"
   ]
  },
  {
   "cell_type": "code",
   "execution_count": 10,
   "metadata": {},
   "outputs": [],
   "source": [
    "# Set up the email notification function\n",
    "def status_notify(msg_text):\n",
    "    access_key = os.environ.get('SNS_ACCESS_KEY')\n",
    "    secret_key = os.environ.get('SNS_SECRET_KEY')\n",
    "    aws_region = os.environ.get('SNS_AWS_REGION')\n",
    "    topic_arn = os.environ.get('SNS_TOPIC_ARN')\n",
    "    if (access_key is None) or (secret_key is None) or (aws_region is None):\n",
    "        sys.exit(\"Incomplete notification setup info. Script Processing Aborted!!!\")\n",
    "    sns = boto3.client('sns', aws_access_key_id=access_key, aws_secret_access_key=secret_key, region_name=aws_region)\n",
    "    response = sns.publish(TopicArn=topic_arn, Message=msg_text)\n",
    "    if response['ResponseMetadata']['HTTPStatusCode'] != 200 :\n",
    "        print('Status notification not OK with HTTP status code:', response['ResponseMetadata']['HTTPStatusCode'])"
   ]
  },
  {
   "cell_type": "code",
   "execution_count": 11,
   "metadata": {},
   "outputs": [],
   "source": [
    "if notifyStatus: status_notify('(TensorFlow Multi-Class) Task 1 - Prepare Environment has begun on ' + datetime.now().strftime('%A %B %d, %Y %I:%M:%S %p'))"
   ]
  },
  {
   "cell_type": "code",
   "execution_count": 12,
   "metadata": {},
   "outputs": [],
   "source": [
    "# Reset the random number generators\n",
    "def reset_random(x):\n",
    "    random.seed(x)\n",
    "    np.random.seed(x)\n",
    "    tf.random.set_seed(x)"
   ]
  },
  {
   "cell_type": "code",
   "execution_count": 13,
   "metadata": {
    "collapsed": false,
    "jupyter": {
     "outputs_hidden": false
    },
    "pycharm": {
     "name": "#%%\n"
    }
   },
   "outputs": [],
   "source": [
    "if notifyStatus: status_notify('(TensorFlow Multi-Class) Task 1 - Prepare Environment completed on ' + datetime.now().strftime('%A %B %d, %Y %I:%M:%S %p'))"
   ]
  },
  {
   "cell_type": "markdown",
   "metadata": {
    "pycharm": {
     "name": "#%% md\n"
    }
   },
   "source": [
    "# Task 2 - Load and Prepare Images"
   ]
  },
  {
   "cell_type": "code",
   "execution_count": 14,
   "metadata": {
    "collapsed": false,
    "jupyter": {
     "outputs_hidden": false
    },
    "pycharm": {
     "name": "#%%\n"
    }
   },
   "outputs": [],
   "source": [
    "if notifyStatus: status_notify('(TensorFlow Multi-Class) Task 2 - Load and Prepare Images has begun on ' + datetime.now().strftime('%A %B %d, %Y %I:%M:%S %p'))"
   ]
  },
  {
   "cell_type": "code",
   "execution_count": 15,
   "metadata": {},
   "outputs": [
    {
     "name": "stdout",
     "output_type": "stream",
     "text": [
      "rm: cannot remove 'rps.zip': No such file or directory\n",
      "rm: cannot remove 'rps-test-set.zip': No such file or directory\n"
     ]
    }
   ],
   "source": [
    "!rm -rf image/\n",
    "!rm rps.zip\n",
    "!rm rps-test-set.zip"
   ]
  },
  {
   "cell_type": "code",
   "execution_count": 16,
   "metadata": {},
   "outputs": [],
   "source": [
    "!mkdir image/\n",
    "image_dir = 'images/'"
   ]
  },
  {
   "cell_type": "code",
   "execution_count": 17,
   "metadata": {},
   "outputs": [
    {
     "name": "stdout",
     "output_type": "stream",
     "text": [
      "--2020-11-13 02:53:06--  https://dainesanalytics.com/datasets/laurencemoroney-rock-paper-scissors-dataset/rps.zip\n",
      "Resolving dainesanalytics.com (dainesanalytics.com)... 13.32.179.70, 13.32.179.31, 13.32.179.35, ...\n",
      "Connecting to dainesanalytics.com (dainesanalytics.com)|13.32.179.70|:443... connected.\n",
      "HTTP request sent, awaiting response... 200 OK\n",
      "Length: 200682221 (191M) [application/zip]\n",
      "Saving to: ‘rps.zip’\n",
      "\n",
      "rps.zip             100%[===================>] 191.38M  13.1MB/s    in 15s     \n",
      "\n",
      "2020-11-13 02:53:22 (13.1 MB/s) - ‘rps.zip’ saved [200682221/200682221]\n",
      "\n"
     ]
    }
   ],
   "source": [
    "!wget https://dainesanalytics.com/datasets/laurencemoroney-rock-paper-scissors-dataset/rps.zip"
   ]
  },
  {
   "cell_type": "code",
   "execution_count": 18,
   "metadata": {},
   "outputs": [
    {
     "name": "stdout",
     "output_type": "stream",
     "text": [
      "--2020-11-13 02:53:24--  https://dainesanalytics.com/datasets/laurencemoroney-rock-paper-scissors-dataset/rps-test-set.zip\n",
      "Resolving dainesanalytics.com (dainesanalytics.com)... 13.224.42.127, 13.224.42.81, 13.224.42.40, ...\n",
      "Connecting to dainesanalytics.com (dainesanalytics.com)|13.224.42.127|:443... connected.\n",
      "HTTP request sent, awaiting response... 200 OK\n",
      "Length: 29516758 (28M) [application/zip]\n",
      "Saving to: ‘rps-test-set.zip’\n",
      "\n",
      "rps-test-set.zip    100%[===================>]  28.15M  20.7MB/s    in 1.4s    \n",
      "\n",
      "2020-11-13 02:53:26 (20.7 MB/s) - ‘rps-test-set.zip’ saved [29516758/29516758]\n",
      "\n"
     ]
    }
   ],
   "source": [
    "!wget https://dainesanalytics.com/datasets/laurencemoroney-rock-paper-scissors-dataset/rps-test-set.zip"
   ]
  },
  {
   "cell_type": "code",
   "execution_count": 19,
   "metadata": {},
   "outputs": [],
   "source": [
    "local_zip = 'rps.zip'\n",
    "zip_ref = zipfile.ZipFile(local_zip, 'r')\n",
    "zip_ref.extractall(image_dir)\n",
    "local_zip = 'rps-test-set.zip'\n",
    "zip_ref = zipfile.ZipFile(local_zip, 'r')\n",
    "zip_ref.extractall(image_dir)\n",
    "zip_ref.close()"
   ]
  },
  {
   "cell_type": "code",
   "execution_count": 20,
   "metadata": {},
   "outputs": [],
   "source": [
    "if notifyStatus: status_notify('(TensorFlow Multi-Class) Task 2 - Load and Prepare Images completed on ' + datetime.now().strftime('%A %B %d, %Y %I:%M:%S %p'))"
   ]
  },
  {
   "cell_type": "markdown",
   "metadata": {},
   "source": [
    "# Task 3 - Pre-process Data"
   ]
  },
  {
   "cell_type": "code",
   "execution_count": 31,
   "metadata": {},
   "outputs": [],
   "source": [
    "if notifyStatus: status_notify('(TensorFlow Multi-Class) Task 3 - Pre-process Data has begun on ' + datetime.now().strftime('%A %B %d, %Y %I:%M:%S %p'))"
   ]
  },
  {
   "cell_type": "markdown",
   "metadata": {},
   "source": [
    "### 3.a) Feature Scaling"
   ]
  },
  {
   "cell_type": "code",
   "execution_count": 32,
   "metadata": {
    "collapsed": false,
    "jupyter": {
     "outputs_hidden": false
    },
    "pycharm": {
     "name": "#%%\n"
    }
   },
   "outputs": [
    {
     "name": "stdout",
     "output_type": "stream",
     "text": [
      "Number of numerical columns: 4\n",
      "Number of categorical columns: 0\n",
      "Total number of columns in the dataframe: 4\n"
     ]
    }
   ],
   "source": [
    "# Compose pipeline for the numerical and categorical features\n",
    "numeric_columns = X_train_df.select_dtypes(include=['int','float']).columns\n",
    "numeric_transformer = Pipeline(steps=[\n",
    "    ('imputer', SimpleImputer(strategy='constant', fill_value=0)),\n",
    "    ('scaler', preprocessing.PowerTransformer())\n",
    "])\n",
    "categorical_columns = X_train_df.select_dtypes(include=['object','category']).columns\n",
    "categorical_transformer = Pipeline(steps=[\n",
    "    ('imputer', SimpleImputer(strategy='constant', fill_value='NA')),\n",
    "    ('onehot', preprocessing.OneHotEncoder(sparse=False, handle_unknown='ignore'))\n",
    "])\n",
    "\n",
    "print(\"Number of numerical columns:\", len(numeric_columns))\n",
    "print(\"Number of categorical columns:\", len(categorical_columns))\n",
    "print(\"Total number of columns in the dataframe:\", X_train_df.shape[1])"
   ]
  },
  {
   "cell_type": "code",
   "execution_count": 33,
   "metadata": {
    "collapsed": false,
    "jupyter": {
     "outputs_hidden": false
    },
    "pycharm": {
     "name": "#%%\n"
    }
   },
   "outputs": [
    {
     "name": "stdout",
     "output_type": "stream",
     "text": [
      "Transformed X_train.shape: (120, 4)\n"
     ]
    }
   ],
   "source": [
    "preprocessor = ColumnTransformer(transformers=[\n",
    "    ('num', numeric_transformer, numeric_columns),\n",
    "#     ('cat', categorical_transformer, categorical_columns)\n",
    "])\n",
    "X_train = preprocessor.fit_transform(X_train_df)\n",
    "print(\"Transformed X_train.shape:\", X_train.shape)"
   ]
  },
  {
   "cell_type": "code",
   "execution_count": 34,
   "metadata": {
    "collapsed": false,
    "jupyter": {
     "outputs_hidden": false
    },
    "pycharm": {
     "name": "#%%\n"
    }
   },
   "outputs": [],
   "source": [
    "# # Apply binning techniques with continuous data (Block #1 of 1)\n",
    "# discrete_feature = preprocessing.Binarizer(threshold=0.0)\n",
    "# discrete_feature = preprocessing.KBinsDiscretizer(n_bins=10, encode='ordinal', strategy='kmeans')\n",
    "# feature_binned = discrete_feature.fit_transform(X_original[['old_feature1']])\n",
    "# X_train_df['new_feature1'] = feature_binned\n",
    "# X_train_df['new_feature1'] = X_train_df['new_feature1'].astype('category')\n",
    "# X_train_df.drop(columns=['old_feature1', 'old_feature2'], inplace=True)\n",
    "# X_train_df.head()"
   ]
  },
  {
   "cell_type": "markdown",
   "metadata": {},
   "source": [
    "### 3.b) Training Data Balancing"
   ]
  },
  {
   "cell_type": "code",
   "execution_count": 35,
   "metadata": {
    "collapsed": false,
    "jupyter": {
     "outputs_hidden": false
    },
    "pycharm": {
     "name": "#%%\n"
    }
   },
   "outputs": [],
   "source": [
    "# Not applicable for this iteration of the project"
   ]
  },
  {
   "cell_type": "code",
   "execution_count": 36,
   "metadata": {
    "collapsed": false,
    "jupyter": {
     "outputs_hidden": false
    },
    "pycharm": {
     "name": "#%%\n"
    }
   },
   "outputs": [],
   "source": [
    "# Examine the target classes for imbalanced distribution\n",
    "# Xy_original.groupby('targetVar').size()"
   ]
  },
  {
   "cell_type": "code",
   "execution_count": 37,
   "metadata": {
    "collapsed": false,
    "jupyter": {
     "outputs_hidden": false
    },
    "pycharm": {
     "name": "#%%\n"
    }
   },
   "outputs": [],
   "source": [
    "# # Perform SMOTE transformation on the training data (Block #1 of 2)\n",
    "# X_train_imbal = X_train_df.values\n",
    "# y_train_imbal = y_train_df.values.ravel()\n",
    "# print(\"X_train_imbal.shape: {} y_train_imbal.shape: {}\".format(X_train_imbal.shape, y_train_imbal.shape))"
   ]
  },
  {
   "cell_type": "code",
   "execution_count": 38,
   "metadata": {
    "collapsed": false,
    "jupyter": {
     "outputs_hidden": false
    },
    "pycharm": {
     "name": "#%%\n"
    }
   },
   "outputs": [],
   "source": [
    "# # Perform SMOTE transformation on the training data (Block #2 of 2)\n",
    "# print ('Original class distribution - 1: {} | 0: {}'.format((y_train_imbal==1).sum(), (y_train_imbal==0).sum()))\n",
    "# over_sample = SMOTE(sampling_strategy=0.05, random_state=seedNum)\n",
    "# under_sample = RandomUnderSampler(sampling_strategy=1.0, random_state=seedNum)\n",
    "# steps = [('o', over_sample), ('u', under_sample)]\n",
    "# sample_pipeline = Pipeline(steps=steps)\n",
    "# X_train, y_train = sample_pipeline.fit_resample(X_train_imbal, y_train_imbal)\n",
    "# print ('Resampled class distribution - 1: {} | 0: {}'.format((y_train==1).sum(), (y_train==0).sum()))"
   ]
  },
  {
   "cell_type": "markdown",
   "metadata": {},
   "source": [
    "### 3.c) Display the Final Datasets for Model-Building"
   ]
  },
  {
   "cell_type": "code",
   "execution_count": 39,
   "metadata": {
    "collapsed": false,
    "jupyter": {
     "outputs_hidden": false
    },
    "pycharm": {
     "name": "#%%\n"
    }
   },
   "outputs": [
    {
     "name": "stdout",
     "output_type": "stream",
     "text": [
      "X_train.shape: (120, 4) y_train.shape: (120, 3)\n"
     ]
    }
   ],
   "source": [
    "# Finalize the training dataset for the modeling activities\n",
    "class_encoder = preprocessing.LabelEncoder()\n",
    "y_train = tf.keras.utils.to_categorical(class_encoder.fit_transform(y_train_df))\n",
    "print(\"X_train.shape: {} y_train.shape: {}\".format(X_train.shape, y_train.shape))"
   ]
  },
  {
   "cell_type": "code",
   "execution_count": 40,
   "metadata": {
    "collapsed": false,
    "jupyter": {
     "outputs_hidden": false
    },
    "pycharm": {
     "name": "#%%\n"
    }
   },
   "outputs": [],
   "source": [
    "if notifyStatus: status_notify('(TensorFlow Multi-Class) Task 3 - Pre-process Data completed on ' + datetime.now().strftime('%A %B %d, %Y %I:%M:%S %p'))"
   ]
  },
  {
   "cell_type": "markdown",
   "metadata": {},
   "source": [
    "# Task 4 - Train and Evaluate Models"
   ]
  },
  {
   "cell_type": "code",
   "execution_count": 41,
   "metadata": {
    "collapsed": false,
    "jupyter": {
     "outputs_hidden": false
    },
    "pycharm": {
     "name": "#%%\n"
    }
   },
   "outputs": [],
   "source": [
    "if notifyStatus: status_notify('(TensorFlow Multi-Class) Task 4 - Train and Evaluate Models has begun on ' + datetime.now().strftime('%A %B %d, %Y %I:%M:%S %p'))"
   ]
  },
  {
   "cell_type": "code",
   "execution_count": 42,
   "metadata": {
    "collapsed": false,
    "jupyter": {
     "outputs_hidden": false
    },
    "pycharm": {
     "name": "#%%\n"
    }
   },
   "outputs": [],
   "source": [
    "# Define the default numbers of input/output for modeling\n",
    "num_inputs = X_train.shape[1]\n",
    "# number of target classes for multi-class modeling\n",
    "num_outputs = 3"
   ]
  },
  {
   "cell_type": "code",
   "execution_count": 43,
   "metadata": {
    "collapsed": false,
    "jupyter": {
     "outputs_hidden": false
    },
    "pycharm": {
     "name": "#%%\n"
    }
   },
   "outputs": [],
   "source": [
    "# Define the baseline model for benchmarking\n",
    "def create_nn_model(n_inputs=num_inputs, n_outputs=num_outputs, layer1_nodes=16, layer2_nodes=16, layer1_dropout=0, layer2_dropout=0, opt_param=default_optimizer, init_param=default_kernel_init):\n",
    "    nn_model = keras.Sequential([\n",
    "        keras.layers.Dense(layer1_nodes, input_shape=(n_inputs,), activation='relu', kernel_initializer=init_param),\n",
    "        keras.layers.Dropout(layer1_dropout),\n",
    "        keras.layers.Dense(layer2_nodes, activation='relu', kernel_initializer=init_param),\n",
    "        keras.layers.Dropout(layer2_dropout),\n",
    "        keras.layers.Dense(n_outputs, activation='softmax', kernel_initializer=init_param)\n",
    "    ])\n",
    "    nn_model.compile(loss=default_loss, optimizer=opt_param, metrics=default_metrics)\n",
    "    return nn_model"
   ]
  },
  {
   "cell_type": "code",
   "execution_count": 44,
   "metadata": {
    "collapsed": false,
    "jupyter": {
     "outputs_hidden": false
    },
    "pycharm": {
     "name": "#%%\n"
    }
   },
   "outputs": [
    {
     "name": "stdout",
     "output_type": "stream",
     "text": [
      "Accuracy measurement from iteration 1 >>> 79.17%\n",
      "Accuracy measurement from iteration 2 >>> 87.50%\n",
      "Accuracy measurement from iteration 3 >>> 95.83%\n",
      "Accuracy measurement from iteration 4 >>> 91.67%\n",
      "Accuracy measurement from iteration 5 >>> 95.83%\n",
      "Accuracy measurement from iteration 6 >>> 100.00%\n",
      "Accuracy measurement from iteration 7 >>> 100.00%\n",
      "Accuracy measurement from iteration 8 >>> 91.67%\n",
      "Accuracy measurement from iteration 9 >>> 95.83%\n",
      "Accuracy measurement from iteration 10 >>> 95.83%\n",
      "Average model accuracy from all iterations: 93.33% (5.95%)\n",
      "Total time for model fitting and cross validating: 0:00:05.120704\n"
     ]
    }
   ],
   "source": [
    "# Initialize the default model and get a baseline result\n",
    "startTimeModule = datetime.now()\n",
    "results = list()\n",
    "iteration = 0\n",
    "reset_random(seedNum)\n",
    "baseline_model = create_nn_model()\n",
    "cv = RepeatedKFold(n_splits=n_folds, n_repeats=n_iterations, random_state=seedNum)\n",
    "for train_ix, val_ix in cv.split(X_train):\n",
    "    feature_train, feature_validation = X_train[train_ix], X_train[val_ix]\n",
    "    target_train, target_validation = y_train[train_ix], y_train[val_ix]\n",
    "    baseline_model.fit(feature_train, target_train, epochs=default_epoch, batch_size=default_batch, verbose=0)\n",
    "    model_metric = baseline_model.evaluate(feature_validation, target_validation, verbose=0)[1]\n",
    "    iteration = iteration + 1\n",
    "    print('Accuracy measurement from iteration %d >>> %.2f%%' % (iteration, model_metric*100))\n",
    "    results.append(model_metric)\n",
    "validation_score = np.mean(results)\n",
    "validation_variance = np.std(results)\n",
    "print('Average model accuracy from all iterations: %.2f%% (%.2f%%)' % (validation_score*100, validation_variance*100))\n",
    "print('Total time for model fitting and cross validating:', (datetime.now() - startTimeModule))"
   ]
  },
  {
   "cell_type": "code",
   "execution_count": 45,
   "metadata": {
    "collapsed": false,
    "jupyter": {
     "outputs_hidden": false
    },
    "pycharm": {
     "name": "#%%\n"
    }
   },
   "outputs": [
    {
     "name": "stdout",
     "output_type": "stream",
     "text": [
      "Processing model Model_001 with Layer 1: 32 and Layer 2: 32 nodes\n",
      "Accuracy measurement from iteration 1 >>> 91.67%\n",
      "Accuracy measurement from iteration 2 >>> 95.83%\n",
      "Accuracy measurement from iteration 3 >>> 95.83%\n",
      "Accuracy measurement from iteration 4 >>> 95.83%\n",
      "Accuracy measurement from iteration 5 >>> 100.00%\n",
      "Accuracy measurement from iteration 6 >>> 100.00%\n",
      "Accuracy measurement from iteration 7 >>> 100.00%\n",
      "Accuracy measurement from iteration 8 >>> 95.83%\n",
      "Accuracy measurement from iteration 9 >>> 95.83%\n",
      "Accuracy measurement from iteration 10 >>> 95.83%\n",
      "Average model accuracy from all iterations: 96.67% (2.50%)\n",
      "Total time for model fitting and cross validating: 0:00:05.091974\n",
      "\n",
      "Processing model Model_002 with Layer 1: 48 and Layer 2: 48 nodes\n",
      "Accuracy measurement from iteration 1 >>> 91.67%\n",
      "Accuracy measurement from iteration 2 >>> 95.83%\n",
      "Accuracy measurement from iteration 3 >>> 95.83%\n",
      "Accuracy measurement from iteration 4 >>> 95.83%\n",
      "Accuracy measurement from iteration 5 >>> 100.00%\n",
      "Accuracy measurement from iteration 6 >>> 100.00%\n",
      "Accuracy measurement from iteration 7 >>> 100.00%\n",
      "Accuracy measurement from iteration 8 >>> 95.83%\n",
      "Accuracy measurement from iteration 9 >>> 100.00%\n",
      "Accuracy measurement from iteration 10 >>> 95.83%\n",
      "Average model accuracy from all iterations: 97.08% (2.67%)\n",
      "Total time for model fitting and cross validating: 0:00:05.276808\n",
      "\n",
      "Processing model Model_003 with Layer 1: 64 and Layer 2: 64 nodes\n",
      "Accuracy measurement from iteration 1 >>> 91.67%\n",
      "Accuracy measurement from iteration 2 >>> 95.83%\n",
      "Accuracy measurement from iteration 3 >>> 95.83%\n",
      "Accuracy measurement from iteration 4 >>> 95.83%\n",
      "Accuracy measurement from iteration 5 >>> 100.00%\n",
      "Accuracy measurement from iteration 6 >>> 100.00%\n",
      "Accuracy measurement from iteration 7 >>> 100.00%\n",
      "Accuracy measurement from iteration 8 >>> 95.83%\n",
      "Accuracy measurement from iteration 9 >>> 95.83%\n",
      "Accuracy measurement from iteration 10 >>> 95.83%\n",
      "Average model accuracy from all iterations: 96.67% (2.50%)\n",
      "Total time for model fitting and cross validating: 0:00:05.025338\n",
      "\n",
      "Processing model Model_004 with Layer 1: 96 and Layer 2: 96 nodes\n",
      "Accuracy measurement from iteration 1 >>> 91.67%\n",
      "Accuracy measurement from iteration 2 >>> 95.83%\n",
      "Accuracy measurement from iteration 3 >>> 95.83%\n",
      "Accuracy measurement from iteration 4 >>> 91.67%\n",
      "Accuracy measurement from iteration 5 >>> 100.00%\n",
      "Accuracy measurement from iteration 6 >>> 100.00%\n",
      "Accuracy measurement from iteration 7 >>> 100.00%\n",
      "Accuracy measurement from iteration 8 >>> 100.00%\n",
      "Accuracy measurement from iteration 9 >>> 100.00%\n",
      "Accuracy measurement from iteration 10 >>> 100.00%\n",
      "Average model accuracy from all iterations: 97.50% (3.33%)\n",
      "Total time for model fitting and cross validating: 0:00:05.151552\n",
      "\n",
      "Processing model Model_005 with Layer 1: 128 and Layer 2: 128 nodes\n",
      "Accuracy measurement from iteration 1 >>> 91.67%\n",
      "Accuracy measurement from iteration 2 >>> 95.83%\n",
      "Accuracy measurement from iteration 3 >>> 95.83%\n",
      "Accuracy measurement from iteration 4 >>> 91.67%\n",
      "Accuracy measurement from iteration 5 >>> 100.00%\n",
      "Accuracy measurement from iteration 6 >>> 100.00%\n",
      "Accuracy measurement from iteration 7 >>> 100.00%\n",
      "Accuracy measurement from iteration 8 >>> 95.83%\n",
      "Accuracy measurement from iteration 9 >>> 100.00%\n",
      "Accuracy measurement from iteration 10 >>> 100.00%\n",
      "Average model accuracy from all iterations: 97.08% (3.25%)\n",
      "Total time for model fitting and cross validating: 0:00:05.255216\n",
      "\n",
      "Total time for performing search of the best layer node parameters: 0:00:25.875153\n"
     ]
    }
   ],
   "source": [
    "# Initialize the grid parameters for layer nodes\n",
    "startTimeModule = datetime.now()\n",
    "nodes_grid = [(32, 32), (48, 48), (64, 64), (96, 96), (128, 128)]\n",
    "l1_dropout, l2_dropout = (0, 0)\n",
    "\n",
    "# Build dataframe for reporting model performance summary\n",
    "nodes_performance = pd.DataFrame(columns=['model_name','validation_score','validation_variance','layer1_nodes','layer2_nodes','layer1_dropout','layer2_dropout'])\n",
    "\n",
    "serial_number = 0\n",
    "for param in nodes_grid:\n",
    "    startTimeIteration = datetime.now()\n",
    "    serial_number = serial_number + 1\n",
    "    model_name = \"Model_\" + str(serial_number).zfill(3)\n",
    "    l1_nodes, l2_nodes = param\n",
    "    print('Processing model %s with Layer 1: %d and Layer 2: %d nodes' % (model_name, l1_nodes, l2_nodes))\n",
    "    results = list()\n",
    "    iteration = 0\n",
    "    reset_random(seedNum)\n",
    "    node_grid_model = create_nn_model(n_inputs=num_inputs,\n",
    "                                     n_outputs=num_outputs,\n",
    "                                     layer1_nodes=l1_nodes,\n",
    "                                     layer2_nodes=l2_nodes,\n",
    "                                     opt_param=default_optimizer,\n",
    "                                     init_param=default_kernel_init)\n",
    "    cv = RepeatedKFold(n_splits=n_folds, n_repeats=n_iterations, random_state=seedNum)\n",
    "    for train_ix, val_ix in cv.split(X_train):\n",
    "        feature_train, feature_validation = X_train[train_ix], X_train[val_ix]\n",
    "        target_train, target_validation = y_train[train_ix], y_train[val_ix]\n",
    "        node_grid_model.fit(feature_train, target_train, epochs=default_epoch, batch_size=default_batch, verbose=0)\n",
    "        model_metric = node_grid_model.evaluate(feature_validation, target_validation, verbose=0)[1]\n",
    "        iteration = iteration + 1\n",
    "        print('Accuracy measurement from iteration %d >>> %.2f%%' % (iteration, model_metric*100))\n",
    "        results.append(model_metric)\n",
    "    validation_score = np.mean(results)\n",
    "    validation_variance = np.std(results)\n",
    "    print('Average model accuracy from all iterations: %.2f%% (%.2f%%)' % (validation_score*100, validation_variance*100))\n",
    "    print('Total time for model fitting and cross validating:', (datetime.now() - startTimeIteration))\n",
    "    print()\n",
    "    nodes_performance = nodes_performance.append({'model_name': model_name, 'validation_score': validation_score, 'validation_variance': validation_variance, 'layer1_nodes': l1_nodes, 'layer2_nodes': l2_nodes, 'layer1_dropout': l1_dropout, 'layer2_dropout': l2_dropout}, ignore_index=True)\n",
    "\n",
    "nodes_performance.set_index('model_name', inplace=True)\n",
    "print('Total time for performing search of the best layer node parameters:', (datetime.now() - startTimeModule))"
   ]
  },
  {
   "cell_type": "code",
   "execution_count": 46,
   "metadata": {
    "collapsed": false,
    "jupyter": {
     "outputs_hidden": false
    },
    "pycharm": {
     "name": "#%%\n"
    }
   },
   "outputs": [
    {
     "data": {
      "text/html": [
       "<div>\n",
       "<style scoped>\n",
       "    .dataframe tbody tr th:only-of-type {\n",
       "        vertical-align: middle;\n",
       "    }\n",
       "\n",
       "    .dataframe tbody tr th {\n",
       "        vertical-align: top;\n",
       "    }\n",
       "\n",
       "    .dataframe thead th {\n",
       "        text-align: right;\n",
       "    }\n",
       "</style>\n",
       "<table border=\"1\" class=\"dataframe\">\n",
       "  <thead>\n",
       "    <tr style=\"text-align: right;\">\n",
       "      <th></th>\n",
       "      <th>validation_score</th>\n",
       "      <th>validation_variance</th>\n",
       "      <th>layer1_nodes</th>\n",
       "      <th>layer2_nodes</th>\n",
       "      <th>layer1_dropout</th>\n",
       "      <th>layer2_dropout</th>\n",
       "    </tr>\n",
       "    <tr>\n",
       "      <th>model_name</th>\n",
       "      <th></th>\n",
       "      <th></th>\n",
       "      <th></th>\n",
       "      <th></th>\n",
       "      <th></th>\n",
       "      <th></th>\n",
       "    </tr>\n",
       "  </thead>\n",
       "  <tbody>\n",
       "    <tr>\n",
       "      <th>Model_004</th>\n",
       "      <td>0.975000</td>\n",
       "      <td>0.033333</td>\n",
       "      <td>96</td>\n",
       "      <td>96</td>\n",
       "      <td>0</td>\n",
       "      <td>0</td>\n",
       "    </tr>\n",
       "    <tr>\n",
       "      <th>Model_005</th>\n",
       "      <td>0.970833</td>\n",
       "      <td>0.032543</td>\n",
       "      <td>128</td>\n",
       "      <td>128</td>\n",
       "      <td>0</td>\n",
       "      <td>0</td>\n",
       "    </tr>\n",
       "    <tr>\n",
       "      <th>Model_002</th>\n",
       "      <td>0.970833</td>\n",
       "      <td>0.026680</td>\n",
       "      <td>48</td>\n",
       "      <td>48</td>\n",
       "      <td>0</td>\n",
       "      <td>0</td>\n",
       "    </tr>\n",
       "    <tr>\n",
       "      <th>Model_001</th>\n",
       "      <td>0.966667</td>\n",
       "      <td>0.025000</td>\n",
       "      <td>32</td>\n",
       "      <td>32</td>\n",
       "      <td>0</td>\n",
       "      <td>0</td>\n",
       "    </tr>\n",
       "    <tr>\n",
       "      <th>Model_003</th>\n",
       "      <td>0.966667</td>\n",
       "      <td>0.025000</td>\n",
       "      <td>64</td>\n",
       "      <td>64</td>\n",
       "      <td>0</td>\n",
       "      <td>0</td>\n",
       "    </tr>\n",
       "  </tbody>\n",
       "</table>\n",
       "</div>"
      ],
      "text/plain": [
       "            validation_score  validation_variance layer1_nodes layer2_nodes layer1_dropout layer2_dropout\n",
       "model_name                                                                                               \n",
       "Model_004           0.975000             0.033333           96           96              0              0\n",
       "Model_005           0.970833             0.032543          128          128              0              0\n",
       "Model_002           0.970833             0.026680           48           48              0              0\n",
       "Model_001           0.966667             0.025000           32           32              0              0\n",
       "Model_003           0.966667             0.025000           64           64              0              0"
      ]
     },
     "execution_count": 46,
     "metadata": {},
     "output_type": "execute_result"
    }
   ],
   "source": [
    "# Display the model performance summary\n",
    "nodes_performance.sort_values(by=['validation_score'], ascending=False).head()"
   ]
  },
  {
   "cell_type": "code",
   "execution_count": 47,
   "metadata": {
    "collapsed": false,
    "jupyter": {
     "outputs_hidden": false
    },
    "pycharm": {
     "name": "#%%\n"
    }
   },
   "outputs": [
    {
     "name": "stdout",
     "output_type": "stream",
     "text": [
      "Processing model Model_001 with Layer 1: 96 and Layer 2: 96 nodes and dropout parameters of Layer 1: 0.00 and Layer 2: 0.00\n",
      "Accuracy measurement from iteration 1 >>> 91.67%\n",
      "Accuracy measurement from iteration 2 >>> 95.83%\n",
      "Accuracy measurement from iteration 3 >>> 95.83%\n",
      "Accuracy measurement from iteration 4 >>> 91.67%\n",
      "Accuracy measurement from iteration 5 >>> 100.00%\n",
      "Accuracy measurement from iteration 6 >>> 100.00%\n",
      "Accuracy measurement from iteration 7 >>> 100.00%\n",
      "Accuracy measurement from iteration 8 >>> 100.00%\n",
      "Accuracy measurement from iteration 9 >>> 100.00%\n",
      "Accuracy measurement from iteration 10 >>> 100.00%\n",
      "Average model accuracy from all iterations: 97.50% (3.33%)\n",
      "Total time for model fitting and cross validating: 0:00:05.125130\n",
      "\n",
      "Processing model Model_002 with Layer 1: 96 and Layer 2: 96 nodes and dropout parameters of Layer 1: 0.00 and Layer 2: 0.50\n",
      "Accuracy measurement from iteration 1 >>> 91.67%\n",
      "Accuracy measurement from iteration 2 >>> 95.83%\n",
      "Accuracy measurement from iteration 3 >>> 95.83%\n",
      "Accuracy measurement from iteration 4 >>> 95.83%\n",
      "Accuracy measurement from iteration 5 >>> 100.00%\n",
      "Accuracy measurement from iteration 6 >>> 100.00%\n",
      "Accuracy measurement from iteration 7 >>> 100.00%\n",
      "Accuracy measurement from iteration 8 >>> 95.83%\n",
      "Accuracy measurement from iteration 9 >>> 100.00%\n",
      "Accuracy measurement from iteration 10 >>> 95.83%\n",
      "Average model accuracy from all iterations: 97.08% (2.67%)\n",
      "Total time for model fitting and cross validating: 0:00:05.121815\n",
      "\n",
      "Processing model Model_003 with Layer 1: 96 and Layer 2: 96 nodes and dropout parameters of Layer 1: 0.25 and Layer 2: 0.00\n",
      "Accuracy measurement from iteration 1 >>> 91.67%\n",
      "Accuracy measurement from iteration 2 >>> 95.83%\n",
      "Accuracy measurement from iteration 3 >>> 95.83%\n",
      "Accuracy measurement from iteration 4 >>> 95.83%\n",
      "Accuracy measurement from iteration 5 >>> 100.00%\n",
      "Accuracy measurement from iteration 6 >>> 100.00%\n",
      "Accuracy measurement from iteration 7 >>> 100.00%\n",
      "Accuracy measurement from iteration 8 >>> 95.83%\n",
      "Accuracy measurement from iteration 9 >>> 95.83%\n",
      "Accuracy measurement from iteration 10 >>> 95.83%\n",
      "Average model accuracy from all iterations: 96.67% (2.50%)\n",
      "Total time for model fitting and cross validating: 0:00:05.389932\n",
      "\n",
      "Processing model Model_004 with Layer 1: 96 and Layer 2: 96 nodes and dropout parameters of Layer 1: 0.25 and Layer 2: 0.50\n",
      "Accuracy measurement from iteration 1 >>> 91.67%\n",
      "Accuracy measurement from iteration 2 >>> 95.83%\n",
      "Accuracy measurement from iteration 3 >>> 95.83%\n",
      "Accuracy measurement from iteration 4 >>> 95.83%\n",
      "Accuracy measurement from iteration 5 >>> 100.00%\n",
      "Accuracy measurement from iteration 6 >>> 100.00%\n",
      "Accuracy measurement from iteration 7 >>> 95.83%\n",
      "Accuracy measurement from iteration 8 >>> 95.83%\n",
      "Accuracy measurement from iteration 9 >>> 95.83%\n",
      "Accuracy measurement from iteration 10 >>> 95.83%\n",
      "Average model accuracy from all iterations: 96.25% (2.24%)\n",
      "Total time for model fitting and cross validating: 0:00:05.122241\n",
      "\n",
      "Processing model Model_005 with Layer 1: 96 and Layer 2: 96 nodes and dropout parameters of Layer 1: 0.50 and Layer 2: 0.00\n",
      "Accuracy measurement from iteration 1 >>> 91.67%\n",
      "Accuracy measurement from iteration 2 >>> 95.83%\n",
      "Accuracy measurement from iteration 3 >>> 95.83%\n",
      "Accuracy measurement from iteration 4 >>> 100.00%\n",
      "Accuracy measurement from iteration 5 >>> 100.00%\n",
      "Accuracy measurement from iteration 6 >>> 100.00%\n",
      "Accuracy measurement from iteration 7 >>> 100.00%\n",
      "Accuracy measurement from iteration 8 >>> 95.83%\n",
      "Accuracy measurement from iteration 9 >>> 100.00%\n",
      "Accuracy measurement from iteration 10 >>> 95.83%\n",
      "Average model accuracy from all iterations: 97.50% (2.76%)\n",
      "Total time for model fitting and cross validating: 0:00:05.138672\n",
      "\n",
      "Processing model Model_006 with Layer 1: 96 and Layer 2: 96 nodes and dropout parameters of Layer 1: 0.50 and Layer 2: 0.50\n",
      "Accuracy measurement from iteration 1 >>> 95.83%\n",
      "Accuracy measurement from iteration 2 >>> 95.83%\n",
      "Accuracy measurement from iteration 3 >>> 95.83%\n",
      "Accuracy measurement from iteration 4 >>> 100.00%\n",
      "Accuracy measurement from iteration 5 >>> 100.00%\n",
      "Accuracy measurement from iteration 6 >>> 100.00%\n",
      "Accuracy measurement from iteration 7 >>> 100.00%\n",
      "Accuracy measurement from iteration 8 >>> 95.83%\n",
      "Accuracy measurement from iteration 9 >>> 100.00%\n",
      "Accuracy measurement from iteration 10 >>> 95.83%\n",
      "Average model accuracy from all iterations: 97.92% (2.08%)\n",
      "Total time for model fitting and cross validating: 0:00:05.125005\n",
      "\n",
      "Total time for performing grid-search of the best dropout parameters: 0:00:31.117162\n"
     ]
    }
   ],
   "source": [
    "# Initialize the grid parameters for the dropout ratio\n",
    "startTimeModule = datetime.now()\n",
    "l1_nodes = 96\n",
    "l2_nodes = 96\n",
    "l1_dropout_grid = [0, 0.25, 0.5]\n",
    "l2_dropout_grid = [0, 0.5]\n",
    "\n",
    "# Build dataframe for reporting model performance summary\n",
    "dropout_performance = pd.DataFrame(columns=['model_name','validation_score','validation_variance','layer1_nodes','layer2_nodes','layer1_dropout','layer2_dropout'])\n",
    "\n",
    "serial_number = 0\n",
    "for l1_dropout in l1_dropout_grid:\n",
    "    for l2_dropout in l2_dropout_grid:\n",
    "        startTimeIteration = datetime.now()\n",
    "        serial_number = serial_number + 1\n",
    "        model_name = \"Model_\" + str(serial_number).zfill(3)\n",
    "        print('Processing model %s with Layer 1: %d and Layer 2: %d nodes and dropout parameters of Layer 1: %.2f and Layer 2: %.2f' % (model_name, l1_nodes, l2_nodes, l1_dropout, l2_dropout))\n",
    "        results = list()\n",
    "        iteration = 0\n",
    "        reset_random(seedNum)\n",
    "        dropout_grid_model = create_nn_model(n_inputs=num_inputs,\n",
    "                                            n_outputs=num_outputs,\n",
    "                                            layer1_nodes=l1_nodes,\n",
    "                                            layer2_nodes=l2_nodes,\n",
    "                                            layer1_dropout=l1_dropout,\n",
    "                                            layer2_dropout=l2_dropout,\n",
    "                                            opt_param=default_optimizer,\n",
    "                                            init_param=default_kernel_init)\n",
    "        cv = RepeatedKFold(n_splits=n_folds, n_repeats=n_iterations, random_state=seedNum)\n",
    "        for train_ix, val_ix in cv.split(X_train):\n",
    "            feature_train, feature_validation = X_train[train_ix], X_train[val_ix]\n",
    "            target_train, target_validation = y_train[train_ix], y_train[val_ix]\n",
    "            dropout_grid_model.fit(feature_train, target_train, epochs=default_epoch, batch_size=default_batch, verbose=0)\n",
    "            model_metric = dropout_grid_model.evaluate(feature_validation, target_validation, verbose=0)[1]\n",
    "            iteration = iteration + 1\n",
    "            print('Accuracy measurement from iteration %d >>> %.2f%%' % (iteration, model_metric*100))\n",
    "            results.append(model_metric)\n",
    "        validation_score = np.mean(results)\n",
    "        validation_variance = np.std(results)\n",
    "        print('Average model accuracy from all iterations: %.2f%% (%.2f%%)' % (validation_score*100, validation_variance*100))\n",
    "        print('Total time for model fitting and cross validating:', (datetime.now() - startTimeIteration))\n",
    "        print()\n",
    "        dropout_performance = dropout_performance.append({'model_name': model_name, 'validation_score': validation_score, 'validation_variance': validation_variance, 'layer1_nodes': l1_nodes, 'layer2_nodes': l2_nodes, 'layer1_dropout': l1_dropout, 'layer2_dropout': l2_dropout}, ignore_index=True)\n",
    "\n",
    "dropout_performance.set_index('model_name', inplace=True)\n",
    "print('Total time for performing grid-search of the best dropout parameters:', (datetime.now() - startTimeModule))"
   ]
  },
  {
   "cell_type": "code",
   "execution_count": 48,
   "metadata": {
    "collapsed": false,
    "jupyter": {
     "outputs_hidden": false
    },
    "pycharm": {
     "name": "#%%\n"
    }
   },
   "outputs": [
    {
     "data": {
      "text/html": [
       "<div>\n",
       "<style scoped>\n",
       "    .dataframe tbody tr th:only-of-type {\n",
       "        vertical-align: middle;\n",
       "    }\n",
       "\n",
       "    .dataframe tbody tr th {\n",
       "        vertical-align: top;\n",
       "    }\n",
       "\n",
       "    .dataframe thead th {\n",
       "        text-align: right;\n",
       "    }\n",
       "</style>\n",
       "<table border=\"1\" class=\"dataframe\">\n",
       "  <thead>\n",
       "    <tr style=\"text-align: right;\">\n",
       "      <th></th>\n",
       "      <th>validation_score</th>\n",
       "      <th>validation_variance</th>\n",
       "      <th>layer1_nodes</th>\n",
       "      <th>layer2_nodes</th>\n",
       "      <th>layer1_dropout</th>\n",
       "      <th>layer2_dropout</th>\n",
       "    </tr>\n",
       "    <tr>\n",
       "      <th>model_name</th>\n",
       "      <th></th>\n",
       "      <th></th>\n",
       "      <th></th>\n",
       "      <th></th>\n",
       "      <th></th>\n",
       "      <th></th>\n",
       "    </tr>\n",
       "  </thead>\n",
       "  <tbody>\n",
       "    <tr>\n",
       "      <th>Model_006</th>\n",
       "      <td>0.979167</td>\n",
       "      <td>0.020833</td>\n",
       "      <td>96</td>\n",
       "      <td>96</td>\n",
       "      <td>0.5</td>\n",
       "      <td>0.5</td>\n",
       "    </tr>\n",
       "    <tr>\n",
       "      <th>Model_001</th>\n",
       "      <td>0.975000</td>\n",
       "      <td>0.033333</td>\n",
       "      <td>96</td>\n",
       "      <td>96</td>\n",
       "      <td>0</td>\n",
       "      <td>0</td>\n",
       "    </tr>\n",
       "    <tr>\n",
       "      <th>Model_005</th>\n",
       "      <td>0.975000</td>\n",
       "      <td>0.027639</td>\n",
       "      <td>96</td>\n",
       "      <td>96</td>\n",
       "      <td>0.5</td>\n",
       "      <td>0</td>\n",
       "    </tr>\n",
       "    <tr>\n",
       "      <th>Model_002</th>\n",
       "      <td>0.970833</td>\n",
       "      <td>0.026680</td>\n",
       "      <td>96</td>\n",
       "      <td>96</td>\n",
       "      <td>0</td>\n",
       "      <td>0.5</td>\n",
       "    </tr>\n",
       "    <tr>\n",
       "      <th>Model_003</th>\n",
       "      <td>0.966667</td>\n",
       "      <td>0.025000</td>\n",
       "      <td>96</td>\n",
       "      <td>96</td>\n",
       "      <td>0.25</td>\n",
       "      <td>0</td>\n",
       "    </tr>\n",
       "  </tbody>\n",
       "</table>\n",
       "</div>"
      ],
      "text/plain": [
       "            validation_score  validation_variance layer1_nodes layer2_nodes layer1_dropout layer2_dropout\n",
       "model_name                                                                                               \n",
       "Model_006           0.979167             0.020833           96           96            0.5            0.5\n",
       "Model_001           0.975000             0.033333           96           96              0              0\n",
       "Model_005           0.975000             0.027639           96           96            0.5              0\n",
       "Model_002           0.970833             0.026680           96           96              0            0.5\n",
       "Model_003           0.966667             0.025000           96           96           0.25              0"
      ]
     },
     "execution_count": 48,
     "metadata": {},
     "output_type": "execute_result"
    }
   ],
   "source": [
    "# Display the model performance summary\n",
    "dropout_performance.sort_values(by=['validation_score'], ascending=False).head()"
   ]
  },
  {
   "cell_type": "code",
   "execution_count": 49,
   "metadata": {
    "collapsed": false,
    "jupyter": {
     "outputs_hidden": false
    },
    "pycharm": {
     "name": "#%%\n"
    }
   },
   "outputs": [
    {
     "data": {
      "image/png": "[encoded data removed]",
      "text/plain": [
       "<Figure size 1152x648 with 1 Axes>"
      ]
     },
     "metadata": {
      "needs_background": "light"
     },
     "output_type": "display_data"
    }
   ],
   "source": [
    "# Spot-checking the models\n",
    "fig = plt.figure(figsize=(16,9))\n",
    "title = 'Model Comparison with Validation Metrics after ' + str(default_epoch) + ' epochs'\n",
    "fig.suptitle(title)\n",
    "ax1 = fig.add_subplot(111)\n",
    "ax1.plot(dropout_performance['validation_score'], color='r', lw=2.)\n",
    "plt.legend(['Validation'], loc='lower left')\n",
    "plt.show()"
   ]
  },
  {
   "cell_type": "code",
   "execution_count": 50,
   "metadata": {
    "collapsed": false,
    "jupyter": {
     "outputs_hidden": false
    },
    "pycharm": {
     "name": "#%%\n"
    }
   },
   "outputs": [
    {
     "name": "stdout",
     "output_type": "stream",
     "text": [
      "Fitting final model with Layer 1: 96, Layer 2: 96 with dropout parameters of Layer 1: 0.50, Layer 2: 0.50\n",
      "Epoch 1/20\n",
      "8/8 [==============================] - 0s 2ms/step - loss: 0.9244 - accuracy: 0.5833\n",
      "Epoch 2/20\n",
      "8/8 [==============================] - 0s 2ms/step - loss: 0.5136 - accuracy: 0.7250\n",
      "Epoch 3/20\n",
      "8/8 [==============================] - 0s 2ms/step - loss: 0.3559 - accuracy: 0.8583\n",
      "Epoch 4/20\n",
      "8/8 [==============================] - 0s 2ms/step - loss: 0.3348 - accuracy: 0.8417\n",
      "Epoch 5/20\n",
      "8/8 [==============================] - 0s 2ms/step - loss: 0.2848 - accuracy: 0.8583\n",
      "Epoch 6/20\n",
      "8/8 [==============================] - 0s 2ms/step - loss: 0.2451 - accuracy: 0.9083\n",
      "Epoch 7/20\n",
      "8/8 [==============================] - 0s 2ms/step - loss: 0.2047 - accuracy: 0.9250\n",
      "Epoch 8/20\n",
      "8/8 [==============================] - 0s 2ms/step - loss: 0.1653 - accuracy: 0.9417\n",
      "Epoch 9/20\n",
      "8/8 [==============================] - 0s 2ms/step - loss: 0.2050 - accuracy: 0.9000\n",
      "Epoch 10/20\n",
      "8/8 [==============================] - 0s 3ms/step - loss: 0.2032 - accuracy: 0.9167\n",
      "Epoch 11/20\n",
      "8/8 [==============================] - 0s 2ms/step - loss: 0.1565 - accuracy: 0.9333\n",
      "Epoch 12/20\n",
      "8/8 [==============================] - 0s 2ms/step - loss: 0.1483 - accuracy: 0.9417\n",
      "Epoch 13/20\n",
      "8/8 [==============================] - 0s 2ms/step - loss: 0.1894 - accuracy: 0.9250\n",
      "Epoch 14/20\n",
      "8/8 [==============================] - 0s 2ms/step - loss: 0.1641 - accuracy: 0.9500\n",
      "Epoch 15/20\n",
      "8/8 [==============================] - 0s 2ms/step - loss: 0.1680 - accuracy: 0.9583\n",
      "Epoch 16/20\n",
      "8/8 [==============================] - 0s 2ms/step - loss: 0.1432 - accuracy: 0.9500\n",
      "Epoch 17/20\n",
      "8/8 [==============================] - 0s 2ms/step - loss: 0.1126 - accuracy: 0.9667\n",
      "Epoch 18/20\n",
      "8/8 [==============================] - 0s 2ms/step - loss: 0.1214 - accuracy: 0.9583\n",
      "Epoch 19/20\n",
      "8/8 [==============================] - 0s 2ms/step - loss: 0.1110 - accuracy: 0.9583\n",
      "Epoch 20/20\n",
      "8/8 [==============================] - 0s 2ms/step - loss: 0.1670 - accuracy: 0.9667\n"
     ]
    },
    {
     "data": {
      "text/plain": [
       "<tensorflow.python.keras.callbacks.History at 0x7f313792b4d0>"
      ]
     },
     "execution_count": 50,
     "metadata": {},
     "output_type": "execute_result"
    }
   ],
   "source": [
    "# Create the final model for evaluating the test dataset\n",
    "model_to_use = 'Model_006'\n",
    "final_l1_nodes = dropout_performance.loc[model_to_use]['layer1_nodes']\n",
    "final_l2_nodes = dropout_performance.loc[model_to_use]['layer2_nodes']\n",
    "final_l1_dropout = dropout_performance.loc[model_to_use]['layer1_dropout']\n",
    "final_l2_dropout = dropout_performance.loc[model_to_use]['layer2_dropout']\n",
    "final_optimizer = default_optimizer\n",
    "final_kernel_init = default_kernel_init\n",
    "final_epoch = default_epoch\n",
    "final_batch = default_batch\n",
    "print('Fitting final model with Layer 1: %d, Layer 2: %d with dropout parameters of Layer 1: %.2f, Layer 2: %.2f' % (final_l1_nodes, final_l2_nodes, final_l1_dropout, final_l2_dropout))\n",
    "reset_random(seedNum)\n",
    "final_model = create_nn_model(n_inputs=num_inputs,\n",
    "                              n_outputs=num_outputs,\n",
    "                              layer1_nodes=final_l1_nodes,\n",
    "                              layer2_nodes=final_l2_nodes,\n",
    "                              layer1_dropout=final_l1_dropout,\n",
    "                              layer2_dropout=final_l2_dropout,\n",
    "                              opt_param=final_optimizer,\n",
    "                              init_param=final_kernel_init)\n",
    "final_model.fit(X_train, y_train, epochs=final_epoch, batch_size=final_batch, verbose=1)"
   ]
  },
  {
   "cell_type": "code",
   "execution_count": 51,
   "metadata": {
    "collapsed": false,
    "jupyter": {
     "outputs_hidden": false
    },
    "pycharm": {
     "name": "#%%\n"
    }
   },
   "outputs": [
    {
     "name": "stdout",
     "output_type": "stream",
     "text": [
      "Model: \"sequential_12\"\n",
      "_________________________________________________________________\n",
      "Layer (type)                 Output Shape              Param #   \n",
      "=================================================================\n",
      "dense_36 (Dense)             (None, 96)                480       \n",
      "_________________________________________________________________\n",
      "dropout_24 (Dropout)         (None, 96)                0         \n",
      "_________________________________________________________________\n",
      "dense_37 (Dense)             (None, 96)                9312      \n",
      "_________________________________________________________________\n",
      "dropout_25 (Dropout)         (None, 96)                0         \n",
      "_________________________________________________________________\n",
      "dense_38 (Dense)             (None, 3)                 291       \n",
      "=================================================================\n",
      "Total params: 10,083\n",
      "Trainable params: 10,083\n",
      "Non-trainable params: 0\n",
      "_________________________________________________________________\n"
     ]
    }
   ],
   "source": [
    "# Summarize the final model\n",
    "final_model.summary()"
   ]
  },
  {
   "cell_type": "code",
   "execution_count": 52,
   "metadata": {
    "collapsed": false,
    "jupyter": {
     "outputs_hidden": false
    },
    "pycharm": {
     "name": "#%%\n"
    }
   },
   "outputs": [
    {
     "data": {
      "text/plain": [
       "'{\"class_name\": \"Sequential\", \"config\": {\"name\": \"sequential_12\", \"layers\": [{\"class_name\": \"InputLayer\", \"config\": {\"batch_input_shape\": [null, 4], \"dtype\": \"float32\", \"sparse\": false, \"ragged\": false, \"name\": \"dense_36_input\"}}, {\"class_name\": \"Dense\", \"config\": {\"name\": \"dense_36\", \"trainable\": true, \"batch_input_shape\": [null, 4], \"dtype\": \"float32\", \"units\": 96, \"activation\": \"relu\", \"use_bias\": true, \"kernel_initializer\": {\"class_name\": \"GlorotUniform\", \"config\": {\"seed\": 888}}, \"bias_initializer\": {\"class_name\": \"Zeros\", \"config\": {}}, \"kernel_regularizer\": null, \"bias_regularizer\": null, \"activity_regularizer\": null, \"kernel_constraint\": null, \"bias_constraint\": null}}, {\"class_name\": \"Dropout\", \"config\": {\"name\": \"dropout_24\", \"trainable\": true, \"dtype\": \"float32\", \"rate\": 0.5, \"noise_shape\": null, \"seed\": null}}, {\"class_name\": \"Dense\", \"config\": {\"name\": \"dense_37\", \"trainable\": true, \"dtype\": \"float32\", \"units\": 96, \"activation\": \"relu\", \"use_bias\": true, \"kernel_initializer\": {\"class_name\": \"GlorotUniform\", \"config\": {\"seed\": 888}}, \"bias_initializer\": {\"class_name\": \"Zeros\", \"config\": {}}, \"kernel_regularizer\": null, \"bias_regularizer\": null, \"activity_regularizer\": null, \"kernel_constraint\": null, \"bias_constraint\": null}}, {\"class_name\": \"Dropout\", \"config\": {\"name\": \"dropout_25\", \"trainable\": true, \"dtype\": \"float32\", \"rate\": 0.5, \"noise_shape\": null, \"seed\": null}}, {\"class_name\": \"Dense\", \"config\": {\"name\": \"dense_38\", \"trainable\": true, \"dtype\": \"float32\", \"units\": 3, \"activation\": \"softmax\", \"use_bias\": true, \"kernel_initializer\": {\"class_name\": \"GlorotUniform\", \"config\": {\"seed\": 888}}, \"bias_initializer\": {\"class_name\": \"Zeros\", \"config\": {}}, \"kernel_regularizer\": null, \"bias_regularizer\": null, \"activity_regularizer\": null, \"kernel_constraint\": null, \"bias_constraint\": null}}]}, \"keras_version\": \"2.4.0\", \"backend\": \"tensorflow\"}'"
      ]
     },
     "execution_count": 52,
     "metadata": {},
     "output_type": "execute_result"
    }
   ],
   "source": [
    "# Display the configuration details of the final model\n",
    "final_model.to_json()"
   ]
  },
  {
   "cell_type": "code",
   "execution_count": 53,
   "metadata": {},
   "outputs": [],
   "source": [
    "if notifyStatus: status_notify('(TensorFlow Multi-Class) Task 4 - Train and Evaluate Models completed on ' + datetime.now().strftime('%A %B %d, %Y %I:%M:%S %p'))"
   ]
  },
  {
   "cell_type": "markdown",
   "metadata": {},
   "source": [
    "# Task 5 - Finalize Model and Present Analysis"
   ]
  },
  {
   "cell_type": "code",
   "execution_count": 54,
   "metadata": {},
   "outputs": [],
   "source": [
    "if notifyStatus: status_notify('(TensorFlow Multi-Class) Task 5 - Finalize Model and Present Analysis has begun on ' + datetime.now().strftime('%A %B %d, %Y %I:%M:%S %p'))"
   ]
  },
  {
   "cell_type": "code",
   "execution_count": 55,
   "metadata": {},
   "outputs": [
    {
     "name": "stdout",
     "output_type": "stream",
     "text": [
      "X_test.shape: (30, 4) y_test.shape: (30, 3)\n"
     ]
    }
   ],
   "source": [
    "# Apply the same data preparation steps to the test dataset\n",
    "X_test = preprocessor.transform(X_test_df)\n",
    "# Encode the target variable\n",
    "y_test = tf.keras.utils.to_categorical(class_encoder.transform(y_test_df))\n",
    "print(\"X_test.shape: {} y_test.shape: {}\".format(X_test.shape, y_test.shape))"
   ]
  },
  {
   "cell_type": "code",
   "execution_count": 56,
   "metadata": {},
   "outputs": [
    {
     "name": "stdout",
     "output_type": "stream",
     "text": [
      "Accuracy Score: 1.0\n",
      "[[10  0  0]\n",
      " [ 0 10  0]\n",
      " [ 0  0 10]]\n",
      "              precision    recall  f1-score   support\n",
      "\n",
      "           0       1.00      1.00      1.00        10\n",
      "           1       1.00      1.00      1.00        10\n",
      "           2       1.00      1.00      1.00        10\n",
      "\n",
      "    accuracy                           1.00        30\n",
      "   macro avg       1.00      1.00      1.00        30\n",
      "weighted avg       1.00      1.00      1.00        30\n",
      "\n"
     ]
    }
   ],
   "source": [
    "# test_predictions = final_model.predict(X_test, batch_size=default_batch, verbose=1)\n",
    "test_predictions = np.argmax(final_model.predict(X_test), axis=-1)\n",
    "y_test_original = np.argmax(y_test, axis=-1)\n",
    "print('Accuracy Score:', accuracy_score(y_test_original, test_predictions))\n",
    "print(confusion_matrix(y_test_original, test_predictions))\n",
    "print(classification_report(y_test_original, test_predictions))"
   ]
  },
  {
   "cell_type": "code",
   "execution_count": 57,
   "metadata": {},
   "outputs": [],
   "source": [
    "if notifyStatus: status_notify('(TensorFlow Multi-Class) Task 5 - Finalize Model and Present Analysis completed on ' + datetime.now().strftime('%A %B %d, %Y %I:%M:%S %p'))"
   ]
  },
  {
   "cell_type": "code",
   "execution_count": 58,
   "metadata": {},
   "outputs": [
    {
     "name": "stdout",
     "output_type": "stream",
     "text": [
      "Total time for the script: 0:01:14.263523\n"
     ]
    }
   ],
   "source": [
    "print ('Total time for the script:',(datetime.now() - startTimeScript))"
   ]
  }
 ],
 "metadata": {
  "kernelspec": {
   "display_name": "Python 3",
   "language": "python",
   "name": "python3"
  },
  "language_info": {
   "codemirror_mode": {
    "name": "ipython",
    "version": 3
   },
   "file_extension": ".py",
   "mimetype": "text/x-python",
   "name": "python",
   "nbconvert_exporter": "python",
   "pygments_lexer": "ipython3",
   "version": "3.7.9"
  }
 },
 "nbformat": 4,
 "nbformat_minor": 4
}
