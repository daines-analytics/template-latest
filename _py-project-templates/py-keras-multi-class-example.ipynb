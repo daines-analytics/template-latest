{
 "cells": [
  {
   "cell_type": "markdown",
   "metadata": {},
   "source": [
    "# Multi-Class Classification Deep Learning Model for [Sample Project] Using Keras Version 1\n",
    "### David Lowe\n",
    "### October 18, 2019\n",
    "Template Credit: Adapted from a template made available by Dr. Jason Brownlee of Machine Learning Mastery. [https://machinelearningmastery.com/]\n",
    "\n",
    "SUMMARY: [Sample Paragraph - The purpose of this project is to construct a predictive model using various machine learning algorithms and to document the end-to-end steps using a template. The Iris Diabetes dataset is a multi-class classification situation where we are trying to predict one of several (more than two) possible outcomes.]\n",
    "\n",
    "INTRODUCTION: [Sample Paragraph - This is perhaps the best known database to be found in the pattern recognition literature. Fisher's paper is a classic in the field and is referenced frequently to this day. (See Duda & Hart, for example.) The data set contains three classes of 50 instances each, where each class refers to a type of iris plant. One class is linearly separable from the other two; the latter are NOT linearly separable from each other.]\n",
    "\n",
    "ANALYSIS: [Sample Paragraph - The baseline performance of the model achieved an average accuracy score of 96.67%, which was consistent with other classical machine learning algorithms.]\n",
    "\n",
    "CONCLUSION: [Sample Paragraph - For this dataset, the model built using Keras and TensorFlow achieved a satisfactory result and should be considered for future modeling activities]\n",
    "\n",
    "Dataset Used: [Iris Data Set]\n",
    "\n",
    "Dataset ML Model: Multi-class classification with numerical attributes\n",
    "\n",
    "Dataset Reference: [https://archive.ics.uci.edu/ml/machine-learning-databases/iris/]\n",
    "\n",
    "One potential source of performance benchmarks: [https://machinelearningmastery.com/multi-class-classification-tutorial-keras-deep-learning-library/]\n",
    "\n",
    "Any deep-learning modeling project genrally can be broken down into about six major tasks:\n",
    "0. Prepare Environment\n",
    "1. Load Data\n",
    "2. Define Model\n",
    "3. Fit and Evaluate Model\n",
    "4. Optimize Model\n",
    "5. Finalize Model"
   ]
  },
  {
   "cell_type": "markdown",
   "metadata": {
    "colab_type": "text",
    "id": "EqF7WxlHHPKr"
   },
   "source": [
    "# Section 0. Prepare Environment"
   ]
  },
  {
   "cell_type": "code",
   "execution_count": 65,
   "metadata": {},
   "outputs": [],
   "source": [
    "# Create the random seed numbers for reproducible results\n",
    "seedNum = 88"
   ]
  },
  {
   "cell_type": "code",
   "execution_count": 66,
   "metadata": {
    "colab": {
     "base_uri": "https://localhost:8080/",
     "height": 35
    },
    "colab_type": "code",
    "id": "X_BXx9P4HJGn",
    "outputId": "b19fcb52-1d53-4f4c-cd33-9298e58bcc5e"
   },
   "outputs": [],
   "source": [
    "# Load libraries and packages\n",
    "import random\n",
    "random.seed(seedNum)\n",
    "import numpy as np\n",
    "np.random.seed(seedNum)\n",
    "import pandas as pd\n",
    "import os\n",
    "import smtplib\n",
    "from datetime import datetime\n",
    "from email.message import EmailMessage\n",
    "from sklearn.model_selection import train_test_split\n",
    "from sklearn.model_selection import KFold\n",
    "from sklearn.model_selection import cross_val_score\n",
    "from sklearn.model_selection import GridSearchCV\n",
    "from sklearn.preprocessing import LabelEncoder"
   ]
  },
  {
   "cell_type": "code",
   "execution_count": 67,
   "metadata": {},
   "outputs": [],
   "source": [
    "# Configure a new global `tensorflow` session\n",
    "import keras as K\n",
    "from keras.layers import Dense\n",
    "from keras.wrappers.scikit_learn import KerasClassifier\n",
    "from keras.utils import np_utils\n",
    "import tensorflow as tf\n",
    "tf.set_random_seed(seedNum)\n",
    "session_conf = tf.ConfigProto(intra_op_parallelism_threads=1, inter_op_parallelism_threads=1)\n",
    "sess = tf.Session(graph=tf.get_default_graph(), config=session_conf)\n",
    "K.backend.set_session(sess)"
   ]
  },
  {
   "cell_type": "code",
   "execution_count": 68,
   "metadata": {
    "colab": {},
    "colab_type": "code",
    "id": "YbIqw1TBR0P2"
   },
   "outputs": [],
   "source": [
    "# Begin the timer for the script processing\n",
    "startTimeScript = datetime.now()\n",
    "\n",
    "# Set up the flag to stop sending progress emails (setting to True will send status emails!)\n",
    "notifyStatus = False\n",
    "\n",
    "# Set the flag for splitting the dataset\n",
    "splitDataset = True\n",
    "splitPercentage = 0.25\n",
    "\n",
    "# Set various default Keras modeling parameters\n",
    "model_kernel_init = K.initializers.glorot_uniform(seed=seedNum)\n",
    "model_loss = 'categorical_crossentropy'\n",
    "model_optimizer = 'adam'\n",
    "model_metrics = ['accuracy']\n",
    "model_epochs = 200\n",
    "model_batches = 5\n",
    "\n",
    "# Set the number of folds for cross validation\n",
    "folds = 10"
   ]
  },
  {
   "cell_type": "code",
   "execution_count": 69,
   "metadata": {
    "colab": {},
    "colab_type": "code",
    "id": "Un3ZnxByRhDV"
   },
   "outputs": [],
   "source": [
    "# Set up the email notification function\n",
    "def email_notify(msg_text):\n",
    "    sender = os.environ.get('MAIL_SENDER')\n",
    "    receiver = os.environ.get('MAIL_RECEIVER')\n",
    "    gateway = os.environ.get('SMTP_GATEWAY')\n",
    "    smtpuser = os.environ.get('SMTP_USERNAME')\n",
    "    password = os.environ.get('SMTP_PASSWORD')\n",
    "    if sender==None or receiver==None or gateway==None or smtpuser==None or password==None:\n",
    "        sys.exit(\"Incomplete email setup info. Script Processing Aborted!!!\")\n",
    "    msg = EmailMessage()\n",
    "    msg.set_content(msg_text)\n",
    "    msg['Subject'] = 'Notification from Keras Binary Classification Script'\n",
    "    msg['From'] = sender\n",
    "    msg['To'] = receiver\n",
    "    server = smtplib.SMTP(gateway, 587)\n",
    "    server.starttls()\n",
    "    server.login(smtpuser, password)\n",
    "    server.send_message(msg)\n",
    "    server.quit()"
   ]
  },
  {
   "cell_type": "code",
   "execution_count": 70,
   "metadata": {
    "colab": {},
    "colab_type": "code",
    "id": "ehVMNSM6VnRE"
   },
   "outputs": [],
   "source": [
    "if (notifyStatus): email_notify(\"Phase 0 Prepare Environment completed! \"+datetime.now().strftime('%a %B %d, %Y %I:%M:%S %p'))"
   ]
  },
  {
   "cell_type": "markdown",
   "metadata": {
    "colab_type": "text",
    "id": "Hb0U0RL8Hdhy"
   },
   "source": [
    "# Section 1. Load Data"
   ]
  },
  {
   "cell_type": "code",
   "execution_count": 71,
   "metadata": {
    "colab": {},
    "colab_type": "code",
    "id": "L5G5M20LSG9i"
   },
   "outputs": [],
   "source": [
    "if (notifyStatus): email_notify(\"Phase 1 Load Data has begun! \"+datetime.now().strftime('%a %B %d, %Y %I:%M:%S %p'))"
   ]
  },
  {
   "cell_type": "code",
   "execution_count": 72,
   "metadata": {
    "colab": {
     "base_uri": "https://localhost:8080/",
     "height": 146
    },
    "colab_type": "code",
    "id": "F27fJh8CAWb6",
    "outputId": "772d7d84-0f99-4fe9-8a84-becd51b3919e"
   },
   "outputs": [
    {
     "name": "stdout",
     "output_type": "stream",
     "text": [
      "[[5.1 3.5 1.4 0.2 'Iris-setosa']\n",
      " [4.9 3.0 1.4 0.2 'Iris-setosa']\n",
      " [4.7 3.2 1.3 0.2 'Iris-setosa']\n",
      " [4.6 3.1 1.5 0.2 'Iris-setosa']\n",
      " [5.0 3.6 1.4 0.2 'Iris-setosa']\n",
      " [5.4 3.9 1.7 0.4 'Iris-setosa']\n",
      " [4.6 3.4 1.4 0.3 'Iris-setosa']\n",
      " [5.0 3.4 1.5 0.2 'Iris-setosa']\n",
      " [4.4 2.9 1.4 0.2 'Iris-setosa']\n",
      " [4.9 3.1 1.5 0.1 'Iris-setosa']\n",
      " [5.4 3.7 1.5 0.2 'Iris-setosa']\n",
      " [4.8 3.4 1.6 0.2 'Iris-setosa']\n",
      " [4.8 3.0 1.4 0.1 'Iris-setosa']\n",
      " [4.3 3.0 1.1 0.1 'Iris-setosa']\n",
      " [5.8 4.0 1.2 0.2 'Iris-setosa']\n",
      " [5.7 4.4 1.5 0.4 'Iris-setosa']\n",
      " [5.4 3.9 1.3 0.4 'Iris-setosa']\n",
      " [5.1 3.5 1.4 0.3 'Iris-setosa']\n",
      " [5.7 3.8 1.7 0.3 'Iris-setosa']\n",
      " [5.1 3.8 1.5 0.3 'Iris-setosa']\n",
      " [5.4 3.4 1.7 0.2 'Iris-setosa']\n",
      " [5.1 3.7 1.5 0.4 'Iris-setosa']\n",
      " [4.6 3.6 1.0 0.2 'Iris-setosa']\n",
      " [5.1 3.3 1.7 0.5 'Iris-setosa']\n",
      " [4.8 3.4 1.9 0.2 'Iris-setosa']\n",
      " [5.0 3.0 1.6 0.2 'Iris-setosa']\n",
      " [5.0 3.4 1.6 0.4 'Iris-setosa']\n",
      " [5.2 3.5 1.5 0.2 'Iris-setosa']\n",
      " [5.2 3.4 1.4 0.2 'Iris-setosa']\n",
      " [4.7 3.2 1.6 0.2 'Iris-setosa']\n",
      " [4.8 3.1 1.6 0.2 'Iris-setosa']\n",
      " [5.4 3.4 1.5 0.4 'Iris-setosa']\n",
      " [5.2 4.1 1.5 0.1 'Iris-setosa']\n",
      " [5.5 4.2 1.4 0.2 'Iris-setosa']\n",
      " [4.9 3.1 1.5 0.1 'Iris-setosa']\n",
      " [5.0 3.2 1.2 0.2 'Iris-setosa']\n",
      " [5.5 3.5 1.3 0.2 'Iris-setosa']\n",
      " [4.9 3.1 1.5 0.1 'Iris-setosa']\n",
      " [4.4 3.0 1.3 0.2 'Iris-setosa']\n",
      " [5.1 3.4 1.5 0.2 'Iris-setosa']\n",
      " [5.0 3.5 1.3 0.3 'Iris-setosa']\n",
      " [4.5 2.3 1.3 0.3 'Iris-setosa']\n",
      " [4.4 3.2 1.3 0.2 'Iris-setosa']\n",
      " [5.0 3.5 1.6 0.6 'Iris-setosa']\n",
      " [5.1 3.8 1.9 0.4 'Iris-setosa']\n",
      " [4.8 3.0 1.4 0.3 'Iris-setosa']\n",
      " [5.1 3.8 1.6 0.2 'Iris-setosa']\n",
      " [4.6 3.2 1.4 0.2 'Iris-setosa']\n",
      " [5.3 3.7 1.5 0.2 'Iris-setosa']\n",
      " [5.0 3.3 1.4 0.2 'Iris-setosa']\n",
      " [7.0 3.2 4.7 1.4 'Iris-versicolor']\n",
      " [6.4 3.2 4.5 1.5 'Iris-versicolor']\n",
      " [6.9 3.1 4.9 1.5 'Iris-versicolor']\n",
      " [5.5 2.3 4.0 1.3 'Iris-versicolor']\n",
      " [6.5 2.8 4.6 1.5 'Iris-versicolor']\n",
      " [5.7 2.8 4.5 1.3 'Iris-versicolor']\n",
      " [6.3 3.3 4.7 1.6 'Iris-versicolor']\n",
      " [4.9 2.4 3.3 1.0 'Iris-versicolor']\n",
      " [6.6 2.9 4.6 1.3 'Iris-versicolor']\n",
      " [5.2 2.7 3.9 1.4 'Iris-versicolor']\n",
      " [5.0 2.0 3.5 1.0 'Iris-versicolor']\n",
      " [5.9 3.0 4.2 1.5 'Iris-versicolor']\n",
      " [6.0 2.2 4.0 1.0 'Iris-versicolor']\n",
      " [6.1 2.9 4.7 1.4 'Iris-versicolor']\n",
      " [5.6 2.9 3.6 1.3 'Iris-versicolor']\n",
      " [6.7 3.1 4.4 1.4 'Iris-versicolor']\n",
      " [5.6 3.0 4.5 1.5 'Iris-versicolor']\n",
      " [5.8 2.7 4.1 1.0 'Iris-versicolor']\n",
      " [6.2 2.2 4.5 1.5 'Iris-versicolor']\n",
      " [5.6 2.5 3.9 1.1 'Iris-versicolor']\n",
      " [5.9 3.2 4.8 1.8 'Iris-versicolor']\n",
      " [6.1 2.8 4.0 1.3 'Iris-versicolor']\n",
      " [6.3 2.5 4.9 1.5 'Iris-versicolor']\n",
      " [6.1 2.8 4.7 1.2 'Iris-versicolor']\n",
      " [6.4 2.9 4.3 1.3 'Iris-versicolor']\n",
      " [6.6 3.0 4.4 1.4 'Iris-versicolor']\n",
      " [6.8 2.8 4.8 1.4 'Iris-versicolor']\n",
      " [6.7 3.0 5.0 1.7 'Iris-versicolor']\n",
      " [6.0 2.9 4.5 1.5 'Iris-versicolor']\n",
      " [5.7 2.6 3.5 1.0 'Iris-versicolor']\n",
      " [5.5 2.4 3.8 1.1 'Iris-versicolor']\n",
      " [5.5 2.4 3.7 1.0 'Iris-versicolor']\n",
      " [5.8 2.7 3.9 1.2 'Iris-versicolor']\n",
      " [6.0 2.7 5.1 1.6 'Iris-versicolor']\n",
      " [5.4 3.0 4.5 1.5 'Iris-versicolor']\n",
      " [6.0 3.4 4.5 1.6 'Iris-versicolor']\n",
      " [6.7 3.1 4.7 1.5 'Iris-versicolor']\n",
      " [6.3 2.3 4.4 1.3 'Iris-versicolor']\n",
      " [5.6 3.0 4.1 1.3 'Iris-versicolor']\n",
      " [5.5 2.5 4.0 1.3 'Iris-versicolor']\n",
      " [5.5 2.6 4.4 1.2 'Iris-versicolor']\n",
      " [6.1 3.0 4.6 1.4 'Iris-versicolor']\n",
      " [5.8 2.6 4.0 1.2 'Iris-versicolor']\n",
      " [5.0 2.3 3.3 1.0 'Iris-versicolor']\n",
      " [5.6 2.7 4.2 1.3 'Iris-versicolor']\n",
      " [5.7 3.0 4.2 1.2 'Iris-versicolor']\n",
      " [5.7 2.9 4.2 1.3 'Iris-versicolor']\n",
      " [6.2 2.9 4.3 1.3 'Iris-versicolor']\n",
      " [5.1 2.5 3.0 1.1 'Iris-versicolor']\n",
      " [5.7 2.8 4.1 1.3 'Iris-versicolor']\n",
      " [6.3 3.3 6.0 2.5 'Iris-virginica']\n",
      " [5.8 2.7 5.1 1.9 'Iris-virginica']\n",
      " [7.1 3.0 5.9 2.1 'Iris-virginica']\n",
      " [6.3 2.9 5.6 1.8 'Iris-virginica']\n",
      " [6.5 3.0 5.8 2.2 'Iris-virginica']\n",
      " [7.6 3.0 6.6 2.1 'Iris-virginica']\n",
      " [4.9 2.5 4.5 1.7 'Iris-virginica']\n",
      " [7.3 2.9 6.3 1.8 'Iris-virginica']\n",
      " [6.7 2.5 5.8 1.8 'Iris-virginica']\n",
      " [7.2 3.6 6.1 2.5 'Iris-virginica']\n",
      " [6.5 3.2 5.1 2.0 'Iris-virginica']\n",
      " [6.4 2.7 5.3 1.9 'Iris-virginica']\n",
      " [6.8 3.0 5.5 2.1 'Iris-virginica']\n",
      " [5.7 2.5 5.0 2.0 'Iris-virginica']\n",
      " [5.8 2.8 5.1 2.4 'Iris-virginica']\n",
      " [6.4 3.2 5.3 2.3 'Iris-virginica']\n",
      " [6.5 3.0 5.5 1.8 'Iris-virginica']\n",
      " [7.7 3.8 6.7 2.2 'Iris-virginica']\n",
      " [7.7 2.6 6.9 2.3 'Iris-virginica']\n",
      " [6.0 2.2 5.0 1.5 'Iris-virginica']\n",
      " [6.9 3.2 5.7 2.3 'Iris-virginica']\n",
      " [5.6 2.8 4.9 2.0 'Iris-virginica']\n",
      " [7.7 2.8 6.7 2.0 'Iris-virginica']\n",
      " [6.3 2.7 4.9 1.8 'Iris-virginica']\n",
      " [6.7 3.3 5.7 2.1 'Iris-virginica']\n",
      " [7.2 3.2 6.0 1.8 'Iris-virginica']\n",
      " [6.2 2.8 4.8 1.8 'Iris-virginica']\n",
      " [6.1 3.0 4.9 1.8 'Iris-virginica']\n",
      " [6.4 2.8 5.6 2.1 'Iris-virginica']\n",
      " [7.2 3.0 5.8 1.6 'Iris-virginica']\n",
      " [7.4 2.8 6.1 1.9 'Iris-virginica']\n",
      " [7.9 3.8 6.4 2.0 'Iris-virginica']\n",
      " [6.4 2.8 5.6 2.2 'Iris-virginica']\n",
      " [6.3 2.8 5.1 1.5 'Iris-virginica']\n",
      " [6.1 2.6 5.6 1.4 'Iris-virginica']\n",
      " [7.7 3.0 6.1 2.3 'Iris-virginica']\n",
      " [6.3 3.4 5.6 2.4 'Iris-virginica']\n",
      " [6.4 3.1 5.5 1.8 'Iris-virginica']\n",
      " [6.0 3.0 4.8 1.8 'Iris-virginica']\n",
      " [6.9 3.1 5.4 2.1 'Iris-virginica']\n",
      " [6.7 3.1 5.6 2.4 'Iris-virginica']\n",
      " [6.9 3.1 5.1 2.3 'Iris-virginica']\n",
      " [5.8 2.7 5.1 1.9 'Iris-virginica']\n",
      " [6.8 3.2 5.9 2.3 'Iris-virginica']\n",
      " [6.7 3.3 5.7 2.5 'Iris-virginica']\n",
      " [6.7 3.0 5.2 2.3 'Iris-virginica']\n",
      " [6.3 2.5 5.0 1.9 'Iris-virginica']\n",
      " [6.5 3.0 5.2 2.0 'Iris-virginica']\n",
      " [6.2 3.4 5.4 2.3 'Iris-virginica']\n",
      " [5.9 3.0 5.1 1.8 'Iris-virginica']]\n"
     ]
    }
   ],
   "source": [
    "# Load the dataset\n",
    "df_original = pd.read_csv(\"https://archive.ics.uci.edu/ml/machine-learning-databases/iris/iris.data\", header=None)\n",
    "dataset = df_original.values\n",
    "print(dataset)"
   ]
  },
  {
   "cell_type": "code",
   "execution_count": 73,
   "metadata": {
    "colab": {},
    "colab_type": "code",
    "id": "LKbZhVyPAZfX"
   },
   "outputs": [
    {
     "name": "stdout",
     "output_type": "stream",
     "text": [
      "Shape of X_original: (150, 4) | Shape of y_original: (150,)\n"
     ]
    }
   ],
   "source": [
    "# Split the original dataset into input (X) and output (y) variables\n",
    "X_original = dataset[:,0:4].astype(float)\n",
    "y_original = dataset[:,4]\n",
    "print('Shape of X_original:', X_original.shape, '| Shape of y_original:', y_original.shape)"
   ]
  },
  {
   "cell_type": "code",
   "execution_count": 74,
   "metadata": {},
   "outputs": [
    {
     "name": "stdout",
     "output_type": "stream",
     "text": [
      "[[1. 0. 0.]\n",
      " [1. 0. 0.]\n",
      " [1. 0. 0.]\n",
      " [1. 0. 0.]\n",
      " [1. 0. 0.]\n",
      " [1. 0. 0.]\n",
      " [1. 0. 0.]\n",
      " [1. 0. 0.]\n",
      " [1. 0. 0.]\n",
      " [1. 0. 0.]\n",
      " [1. 0. 0.]\n",
      " [1. 0. 0.]\n",
      " [1. 0. 0.]\n",
      " [1. 0. 0.]\n",
      " [1. 0. 0.]\n",
      " [1. 0. 0.]\n",
      " [1. 0. 0.]\n",
      " [1. 0. 0.]\n",
      " [1. 0. 0.]\n",
      " [1. 0. 0.]\n",
      " [1. 0. 0.]\n",
      " [1. 0. 0.]\n",
      " [1. 0. 0.]\n",
      " [1. 0. 0.]\n",
      " [1. 0. 0.]\n",
      " [1. 0. 0.]\n",
      " [1. 0. 0.]\n",
      " [1. 0. 0.]\n",
      " [1. 0. 0.]\n",
      " [1. 0. 0.]\n",
      " [1. 0. 0.]\n",
      " [1. 0. 0.]\n",
      " [1. 0. 0.]\n",
      " [1. 0. 0.]\n",
      " [1. 0. 0.]\n",
      " [1. 0. 0.]\n",
      " [1. 0. 0.]\n",
      " [1. 0. 0.]\n",
      " [1. 0. 0.]\n",
      " [1. 0. 0.]\n",
      " [1. 0. 0.]\n",
      " [1. 0. 0.]\n",
      " [1. 0. 0.]\n",
      " [1. 0. 0.]\n",
      " [1. 0. 0.]\n",
      " [1. 0. 0.]\n",
      " [1. 0. 0.]\n",
      " [1. 0. 0.]\n",
      " [1. 0. 0.]\n",
      " [1. 0. 0.]\n",
      " [0. 1. 0.]\n",
      " [0. 1. 0.]\n",
      " [0. 1. 0.]\n",
      " [0. 1. 0.]\n",
      " [0. 1. 0.]\n",
      " [0. 1. 0.]\n",
      " [0. 1. 0.]\n",
      " [0. 1. 0.]\n",
      " [0. 1. 0.]\n",
      " [0. 1. 0.]\n",
      " [0. 1. 0.]\n",
      " [0. 1. 0.]\n",
      " [0. 1. 0.]\n",
      " [0. 1. 0.]\n",
      " [0. 1. 0.]\n",
      " [0. 1. 0.]\n",
      " [0. 1. 0.]\n",
      " [0. 1. 0.]\n",
      " [0. 1. 0.]\n",
      " [0. 1. 0.]\n",
      " [0. 1. 0.]\n",
      " [0. 1. 0.]\n",
      " [0. 1. 0.]\n",
      " [0. 1. 0.]\n",
      " [0. 1. 0.]\n",
      " [0. 1. 0.]\n",
      " [0. 1. 0.]\n",
      " [0. 1. 0.]\n",
      " [0. 1. 0.]\n",
      " [0. 1. 0.]\n",
      " [0. 1. 0.]\n",
      " [0. 1. 0.]\n",
      " [0. 1. 0.]\n",
      " [0. 1. 0.]\n",
      " [0. 1. 0.]\n",
      " [0. 1. 0.]\n",
      " [0. 1. 0.]\n",
      " [0. 1. 0.]\n",
      " [0. 1. 0.]\n",
      " [0. 1. 0.]\n",
      " [0. 1. 0.]\n",
      " [0. 1. 0.]\n",
      " [0. 1. 0.]\n",
      " [0. 1. 0.]\n",
      " [0. 1. 0.]\n",
      " [0. 1. 0.]\n",
      " [0. 1. 0.]\n",
      " [0. 1. 0.]\n",
      " [0. 1. 0.]\n",
      " [0. 1. 0.]\n",
      " [0. 0. 1.]\n",
      " [0. 0. 1.]\n",
      " [0. 0. 1.]\n",
      " [0. 0. 1.]\n",
      " [0. 0. 1.]\n",
      " [0. 0. 1.]\n",
      " [0. 0. 1.]\n",
      " [0. 0. 1.]\n",
      " [0. 0. 1.]\n",
      " [0. 0. 1.]\n",
      " [0. 0. 1.]\n",
      " [0. 0. 1.]\n",
      " [0. 0. 1.]\n",
      " [0. 0. 1.]\n",
      " [0. 0. 1.]\n",
      " [0. 0. 1.]\n",
      " [0. 0. 1.]\n",
      " [0. 0. 1.]\n",
      " [0. 0. 1.]\n",
      " [0. 0. 1.]\n",
      " [0. 0. 1.]\n",
      " [0. 0. 1.]\n",
      " [0. 0. 1.]\n",
      " [0. 0. 1.]\n",
      " [0. 0. 1.]\n",
      " [0. 0. 1.]\n",
      " [0. 0. 1.]\n",
      " [0. 0. 1.]\n",
      " [0. 0. 1.]\n",
      " [0. 0. 1.]\n",
      " [0. 0. 1.]\n",
      " [0. 0. 1.]\n",
      " [0. 0. 1.]\n",
      " [0. 0. 1.]\n",
      " [0. 0. 1.]\n",
      " [0. 0. 1.]\n",
      " [0. 0. 1.]\n",
      " [0. 0. 1.]\n",
      " [0. 0. 1.]\n",
      " [0. 0. 1.]\n",
      " [0. 0. 1.]\n",
      " [0. 0. 1.]\n",
      " [0. 0. 1.]\n",
      " [0. 0. 1.]\n",
      " [0. 0. 1.]\n",
      " [0. 0. 1.]\n",
      " [0. 0. 1.]\n",
      " [0. 0. 1.]\n",
      " [0. 0. 1.]\n",
      " [0. 0. 1.]]\n"
     ]
    }
   ],
   "source": [
    "# Encode class values as integers and perform one-hot-encoding\n",
    "encoder = LabelEncoder()\n",
    "encoder.fit(y_original)\n",
    "encoded_y = encoder.transform(y_original)\n",
    "y_original_dummy = np_utils.to_categorical(encoded_y)\n",
    "print(y_original_dummy)"
   ]
  },
  {
   "cell_type": "code",
   "execution_count": 75,
   "metadata": {},
   "outputs": [
    {
     "name": "stdout",
     "output_type": "stream",
     "text": [
      "Shape of X_train: (112, 4) | Shape of y_train: (112, 3)\n",
      "Shape of X_test: (38, 4) | Shape of y_test: (38, 3)\n"
     ]
    }
   ],
   "source": [
    "# Split the data further into training and test datasets\n",
    "if (splitDataset):\n",
    "    X_train, X_test, y_train, y_test = train_test_split(X_original, y_original_dummy, test_size=splitPercentage, random_state=seedNum)\n",
    "else:\n",
    "    X_train, y_train = X_original, y_original_dummy\n",
    "    X_test, y_test = X_original, y_original_dummy\n",
    "print('Shape of X_train:', X_train.shape, '| Shape of y_train:', y_train.shape)\n",
    "print('Shape of X_test:', X_test.shape, '| Shape of y_test:', y_test.shape)"
   ]
  },
  {
   "cell_type": "code",
   "execution_count": 76,
   "metadata": {
    "colab": {},
    "colab_type": "code",
    "id": "d4bUiYdhSara"
   },
   "outputs": [],
   "source": [
    "if (notifyStatus): email_notify(\"Phase 1 Load Data completed! \"+datetime.now().strftime('%a %B %d, %Y %I:%M:%S %p'))"
   ]
  },
  {
   "cell_type": "markdown",
   "metadata": {
    "colab_type": "text",
    "id": "ljQSSE06Hkj0"
   },
   "source": [
    "# Section 2. Define Model"
   ]
  },
  {
   "cell_type": "code",
   "execution_count": 77,
   "metadata": {
    "colab": {},
    "colab_type": "code",
    "id": "fCo4dP5zSdib"
   },
   "outputs": [],
   "source": [
    "if (notifyStatus): email_notify(\"Phase 2 Define Model has begun! \"+datetime.now().strftime('%a %B %d, %Y %I:%M:%S %p'))"
   ]
  },
  {
   "cell_type": "code",
   "execution_count": 78,
   "metadata": {
    "colab": {
     "base_uri": "https://localhost:8080/",
     "height": 147
    },
    "colab_type": "code",
    "id": "AMBRuJibAefO",
    "outputId": "40716f3e-693b-475c-90e6-5a51cbe535dc"
   },
   "outputs": [],
   "source": [
    "# Define the Keras model required for KerasClassifier\n",
    "def create_cv_model():\n",
    "    model = K.models.Sequential()\n",
    "    model.add(Dense(8, input_dim=4, kernel_initializer=model_kernel_init, activation='relu'))\n",
    "    model.add(Dense(3, kernel_initializer=model_kernel_init, activation='softmax'))\n",
    "    model.compile(loss=model_loss, optimizer=model_optimizer, metrics=model_metrics)\n",
    "    return model"
   ]
  },
  {
   "cell_type": "code",
   "execution_count": 79,
   "metadata": {
    "colab": {
     "base_uri": "https://localhost:8080/",
     "height": 166
    },
    "colab_type": "code",
    "id": "6XG4pa74AgTr",
    "outputId": "f31c5a67-bbd9-4ad8-e02e-dc62326b5eb3"
   },
   "outputs": [],
   "source": [
    "# Initialize the Keras model\n",
    "cv_model = KerasClassifier(build_fn=create_cv_model, epochs=model_epochs, batch_size=model_batches, verbose=0)"
   ]
  },
  {
   "cell_type": "code",
   "execution_count": 80,
   "metadata": {
    "colab": {},
    "colab_type": "code",
    "id": "NGe320KgShbx"
   },
   "outputs": [],
   "source": [
    "if (notifyStatus): email_notify(\"Phase 2 Define Model completed! \"+datetime.now().strftime('%a %B %d, %Y %I:%M:%S %p'))"
   ]
  },
  {
   "cell_type": "markdown",
   "metadata": {
    "colab_type": "text",
    "id": "utyCDnHTIJzX"
   },
   "source": [
    "# Section 3. Fit and Evaluate Model"
   ]
  },
  {
   "cell_type": "code",
   "execution_count": 81,
   "metadata": {
    "colab": {},
    "colab_type": "code",
    "id": "qobEj0hlS0xM"
   },
   "outputs": [],
   "source": [
    "if (notifyStatus): email_notify(\"Phase 3 Fit and Evaluate Model has begun! \"+datetime.now().strftime('%a %B %d, %Y %I:%M:%S %p'))"
   ]
  },
  {
   "cell_type": "code",
   "execution_count": 82,
   "metadata": {
    "colab": {
     "base_uri": "https://localhost:8080/",
     "height": 1000
    },
    "colab_type": "code",
    "id": "AEreg3esAiW3",
    "outputId": "3d77cc8d-b5f4-4cde-d682-146f7d64447b"
   },
   "outputs": [
    {
     "name": "stdout",
     "output_type": "stream",
     "text": [
      "Generating results using the metrics of ['accuracy']\n",
      "All cross-Validate results: [1.         1.         0.90909091 1.         1.         1.\n",
      " 1.         1.         1.         0.90909091]\n",
      "Average cross-Validate results: 0.9818181829019025\n"
     ]
    }
   ],
   "source": [
    "# Fit and evaluate the Keras model using 10-fold cross validation\n",
    "kfold = KFold(n_splits=folds, shuffle=True, random_state=seedNum)\n",
    "results = cross_val_score(cv_model, X_train, y_train, cv=kfold)\n",
    "print('Generating results using the metrics of', model_metrics)\n",
    "print('All cross-Validate results:', results)\n",
    "print('Average cross-Validate results:', results.mean())"
   ]
  },
  {
   "cell_type": "code",
   "execution_count": 83,
   "metadata": {
    "colab": {},
    "colab_type": "code",
    "id": "_Pb01NDTS44-"
   },
   "outputs": [],
   "source": [
    "if (notifyStatus): email_notify(\"Phase 3 Fit and Evaluate Model completed! \"+datetime.now().strftime('%a %B %d, %Y %I:%M:%S %p'))"
   ]
  },
  {
   "cell_type": "markdown",
   "metadata": {
    "colab_type": "text",
    "id": "F6Di1y9BIXey"
   },
   "source": [
    "# Section 4. Optimize Model"
   ]
  },
  {
   "cell_type": "code",
   "execution_count": 84,
   "metadata": {
    "colab": {},
    "colab_type": "code",
    "id": "waSYHP94S-JU"
   },
   "outputs": [],
   "source": [
    "if (notifyStatus): email_notify(\"Phase 4 Optimize Model has begun! \"+datetime.now().strftime('%a %B %d, %Y %I:%M:%S %p'))"
   ]
  },
  {
   "cell_type": "code",
   "execution_count": 85,
   "metadata": {
    "colab": {
     "base_uri": "https://localhost:8080/",
     "height": 147
    },
    "colab_type": "code",
    "id": "AMBRuJibAefO",
    "outputId": "40716f3e-693b-475c-90e6-5a51cbe535dc"
   },
   "outputs": [],
   "source": [
    "# Define the Keras model required for KerasClassifier\n",
    "def create_grid_model(optimizer, kernel_init):\n",
    "    model = K.models.Sequential()\n",
    "    model.add(Dense(8, input_dim=4, kernel_initializer=kernel_init, activation='relu'))\n",
    "    model.add(Dense(3, kernel_initializer=kernel_init, activation='softmax'))\n",
    "    model.compile(loss=model_loss, optimizer=optimizer, metrics=model_metrics)\n",
    "    return model"
   ]
  },
  {
   "cell_type": "code",
   "execution_count": 86,
   "metadata": {},
   "outputs": [
    {
     "name": "stderr",
     "output_type": "stream",
     "text": [
      "/opt/conda/lib/python3.7/site-packages/sklearn/model_selection/_search.py:813: DeprecationWarning: The default of the `iid` parameter will change from True to False in version 0.22 and will be removed in 0.24. This will change numeric results when test-set sizes are unequal.\n",
      "  DeprecationWarning)\n"
     ]
    },
    {
     "name": "stdout",
     "output_type": "stream",
     "text": [
      "Best: 0.973214 using {'batch_size': 5, 'epochs': 150, 'kernel_init': 'RandomNormal', 'optimizer': 'adam'}\n",
      "0.276786 (0.067255) with: {'batch_size': 5, 'epochs': 100, 'kernel_init': 'Constant', 'optimizer': 'rmsprop'}\n",
      "0.276786 (0.067255) with: {'batch_size': 5, 'epochs': 100, 'kernel_init': 'Constant', 'optimizer': 'adam'}\n",
      "0.937500 (0.102346) with: {'batch_size': 5, 'epochs': 100, 'kernel_init': 'RandomNormal', 'optimizer': 'rmsprop'}\n",
      "0.964286 (0.051226) with: {'batch_size': 5, 'epochs': 100, 'kernel_init': 'RandomNormal', 'optimizer': 'adam'}\n",
      "0.875000 (0.164604) with: {'batch_size': 5, 'epochs': 100, 'kernel_init': 'RandomUniform', 'optimizer': 'rmsprop'}\n",
      "0.964286 (0.051226) with: {'batch_size': 5, 'epochs': 100, 'kernel_init': 'RandomUniform', 'optimizer': 'adam'}\n",
      "0.276786 (0.067255) with: {'batch_size': 5, 'epochs': 150, 'kernel_init': 'Constant', 'optimizer': 'rmsprop'}\n",
      "0.276786 (0.067255) with: {'batch_size': 5, 'epochs': 150, 'kernel_init': 'Constant', 'optimizer': 'adam'}\n",
      "0.964286 (0.051226) with: {'batch_size': 5, 'epochs': 150, 'kernel_init': 'RandomNormal', 'optimizer': 'rmsprop'}\n",
      "0.973214 (0.052691) with: {'batch_size': 5, 'epochs': 150, 'kernel_init': 'RandomNormal', 'optimizer': 'adam'}\n",
      "0.883929 (0.129573) with: {'batch_size': 5, 'epochs': 150, 'kernel_init': 'RandomUniform', 'optimizer': 'rmsprop'}\n",
      "0.946429 (0.064444) with: {'batch_size': 5, 'epochs': 150, 'kernel_init': 'RandomUniform', 'optimizer': 'adam'}\n",
      "0.276786 (0.067255) with: {'batch_size': 5, 'epochs': 200, 'kernel_init': 'Constant', 'optimizer': 'rmsprop'}\n",
      "0.276786 (0.067255) with: {'batch_size': 5, 'epochs': 200, 'kernel_init': 'Constant', 'optimizer': 'adam'}\n",
      "0.973214 (0.035230) with: {'batch_size': 5, 'epochs': 200, 'kernel_init': 'RandomNormal', 'optimizer': 'rmsprop'}\n",
      "0.964286 (0.051226) with: {'batch_size': 5, 'epochs': 200, 'kernel_init': 'RandomNormal', 'optimizer': 'adam'}\n",
      "0.964286 (0.051226) with: {'batch_size': 5, 'epochs': 200, 'kernel_init': 'RandomUniform', 'optimizer': 'rmsprop'}\n",
      "0.973214 (0.021964) with: {'batch_size': 5, 'epochs': 200, 'kernel_init': 'RandomUniform', 'optimizer': 'adam'}\n",
      "0.276786 (0.067255) with: {'batch_size': 10, 'epochs': 100, 'kernel_init': 'Constant', 'optimizer': 'rmsprop'}\n",
      "0.276786 (0.067255) with: {'batch_size': 10, 'epochs': 100, 'kernel_init': 'Constant', 'optimizer': 'adam'}\n",
      "0.866071 (0.164120) with: {'batch_size': 10, 'epochs': 100, 'kernel_init': 'RandomNormal', 'optimizer': 'rmsprop'}\n",
      "0.857143 (0.181623) with: {'batch_size': 10, 'epochs': 100, 'kernel_init': 'RandomNormal', 'optimizer': 'adam'}\n",
      "0.937500 (0.044777) with: {'batch_size': 10, 'epochs': 100, 'kernel_init': 'RandomUniform', 'optimizer': 'rmsprop'}\n",
      "0.946429 (0.051337) with: {'batch_size': 10, 'epochs': 100, 'kernel_init': 'RandomUniform', 'optimizer': 'adam'}\n",
      "0.276786 (0.067255) with: {'batch_size': 10, 'epochs': 150, 'kernel_init': 'Constant', 'optimizer': 'rmsprop'}\n",
      "0.276786 (0.067255) with: {'batch_size': 10, 'epochs': 150, 'kernel_init': 'Constant', 'optimizer': 'adam'}\n",
      "0.955357 (0.068000) with: {'batch_size': 10, 'epochs': 150, 'kernel_init': 'RandomNormal', 'optimizer': 'rmsprop'}\n",
      "0.964286 (0.051226) with: {'batch_size': 10, 'epochs': 150, 'kernel_init': 'RandomNormal', 'optimizer': 'adam'}\n",
      "0.964286 (0.051226) with: {'batch_size': 10, 'epochs': 150, 'kernel_init': 'RandomUniform', 'optimizer': 'rmsprop'}\n",
      "0.955357 (0.047905) with: {'batch_size': 10, 'epochs': 150, 'kernel_init': 'RandomUniform', 'optimizer': 'adam'}\n",
      "0.276786 (0.067255) with: {'batch_size': 10, 'epochs': 200, 'kernel_init': 'Constant', 'optimizer': 'rmsprop'}\n",
      "0.276786 (0.067255) with: {'batch_size': 10, 'epochs': 200, 'kernel_init': 'Constant', 'optimizer': 'adam'}\n",
      "0.964286 (0.051226) with: {'batch_size': 10, 'epochs': 200, 'kernel_init': 'RandomNormal', 'optimizer': 'rmsprop'}\n",
      "0.955357 (0.055894) with: {'batch_size': 10, 'epochs': 200, 'kernel_init': 'RandomNormal', 'optimizer': 'adam'}\n",
      "0.964286 (0.051226) with: {'batch_size': 10, 'epochs': 200, 'kernel_init': 'RandomUniform', 'optimizer': 'rmsprop'}\n",
      "0.964286 (0.051226) with: {'batch_size': 10, 'epochs': 200, 'kernel_init': 'RandomUniform', 'optimizer': 'adam'}\n",
      "0.276786 (0.067255) with: {'batch_size': 20, 'epochs': 100, 'kernel_init': 'Constant', 'optimizer': 'rmsprop'}\n",
      "0.276786 (0.067255) with: {'batch_size': 20, 'epochs': 100, 'kernel_init': 'Constant', 'optimizer': 'adam'}\n",
      "0.821429 (0.176770) with: {'batch_size': 20, 'epochs': 100, 'kernel_init': 'RandomNormal', 'optimizer': 'rmsprop'}\n",
      "0.821429 (0.159727) with: {'batch_size': 20, 'epochs': 100, 'kernel_init': 'RandomNormal', 'optimizer': 'adam'}\n",
      "0.857143 (0.077048) with: {'batch_size': 20, 'epochs': 100, 'kernel_init': 'RandomUniform', 'optimizer': 'rmsprop'}\n",
      "0.821429 (0.162248) with: {'batch_size': 20, 'epochs': 100, 'kernel_init': 'RandomUniform', 'optimizer': 'adam'}\n",
      "0.276786 (0.067255) with: {'batch_size': 20, 'epochs': 150, 'kernel_init': 'Constant', 'optimizer': 'rmsprop'}\n",
      "0.276786 (0.067255) with: {'batch_size': 20, 'epochs': 150, 'kernel_init': 'Constant', 'optimizer': 'adam'}\n",
      "0.857143 (0.160090) with: {'batch_size': 20, 'epochs': 150, 'kernel_init': 'RandomNormal', 'optimizer': 'rmsprop'}\n",
      "0.901786 (0.096188) with: {'batch_size': 20, 'epochs': 150, 'kernel_init': 'RandomNormal', 'optimizer': 'adam'}\n",
      "0.919643 (0.032822) with: {'batch_size': 20, 'epochs': 150, 'kernel_init': 'RandomUniform', 'optimizer': 'rmsprop'}\n",
      "0.955357 (0.047905) with: {'batch_size': 20, 'epochs': 150, 'kernel_init': 'RandomUniform', 'optimizer': 'adam'}\n",
      "0.276786 (0.067255) with: {'batch_size': 20, 'epochs': 200, 'kernel_init': 'Constant', 'optimizer': 'rmsprop'}\n",
      "0.276786 (0.067255) with: {'batch_size': 20, 'epochs': 200, 'kernel_init': 'Constant', 'optimizer': 'adam'}\n",
      "0.955357 (0.055894) with: {'batch_size': 20, 'epochs': 200, 'kernel_init': 'RandomNormal', 'optimizer': 'rmsprop'}\n",
      "0.839286 (0.194059) with: {'batch_size': 20, 'epochs': 200, 'kernel_init': 'RandomNormal', 'optimizer': 'adam'}\n",
      "0.946429 (0.051337) with: {'batch_size': 20, 'epochs': 200, 'kernel_init': 'RandomUniform', 'optimizer': 'rmsprop'}\n",
      "0.857143 (0.181623) with: {'batch_size': 20, 'epochs': 200, 'kernel_init': 'RandomUniform', 'optimizer': 'adam'}\n"
     ]
    }
   ],
   "source": [
    "# create model\n",
    "grid_model = KerasClassifier(build_fn=create_grid_model, verbose=0)\n",
    "\n",
    "# Perform grid search using different epochs, batch sizes, and optimizers\n",
    "optimizer_grid = ['rmsprop', 'adam']\n",
    "init_grid = ['Constant', 'RandomNormal', 'RandomUniform']\n",
    "epoch_grid = [100, 150, 200]\n",
    "batch_grid = [5, 10, 20]\n",
    "param_grid = dict(optimizer=optimizer_grid, kernel_init=init_grid, epochs=epoch_grid, batch_size=batch_grid)\n",
    "grid = GridSearchCV(estimator=grid_model, param_grid=param_grid, cv=5, n_jobs=-1)\n",
    "grid_result = grid.fit(X_train, y_train)\n",
    "\n",
    "# summarize results\n",
    "print(\"Best: %f using %s\" % (grid_result.best_score_, grid_result.best_params_))\n",
    "means = grid_result.cv_results_['mean_test_score']\n",
    "stds = grid_result.cv_results_['std_test_score']\n",
    "params = grid_result.cv_results_['params']\n",
    "for mean, stdev, param in zip(means, stds, params):\n",
    "\tprint(\"%f (%f) with: %r\" % (mean, stdev, param))"
   ]
  },
  {
   "cell_type": "code",
   "execution_count": 87,
   "metadata": {},
   "outputs": [],
   "source": [
    "best_optimizer = 'adam'\n",
    "best_kernel_init = 'RandomNormal'\n",
    "best_epoch = 150\n",
    "best_batch = 5"
   ]
  },
  {
   "cell_type": "code",
   "execution_count": 88,
   "metadata": {},
   "outputs": [
    {
     "name": "stdout",
     "output_type": "stream",
     "text": [
      "Epoch 1/150\n",
      "112/112 [==============================] - 1s 10ms/step - loss: 1.1075 - acc: 0.0446\n",
      "Epoch 2/150\n",
      "112/112 [==============================] - 0s 534us/step - loss: 1.0949 - acc: 0.3125\n",
      "Epoch 3/150\n",
      "112/112 [==============================] - 0s 528us/step - loss: 1.0872 - acc: 0.3125\n",
      "Epoch 4/150\n",
      "112/112 [==============================] - 0s 515us/step - loss: 1.0799 - acc: 0.3125\n",
      "Epoch 5/150\n",
      "112/112 [==============================] - 0s 541us/step - loss: 1.0691 - acc: 0.3125\n",
      "Epoch 6/150\n",
      "112/112 [==============================] - 0s 496us/step - loss: 1.0578 - acc: 0.3125\n",
      "Epoch 7/150\n",
      "112/112 [==============================] - 0s 477us/step - loss: 1.0452 - acc: 0.3482\n",
      "Epoch 8/150\n",
      "112/112 [==============================] - 0s 483us/step - loss: 1.0306 - acc: 0.3125\n",
      "Epoch 9/150\n",
      "112/112 [==============================] - 0s 479us/step - loss: 1.0135 - acc: 0.4196\n",
      "Epoch 10/150\n",
      "112/112 [==============================] - 0s 483us/step - loss: 0.9950 - acc: 0.6071\n",
      "Epoch 11/150\n",
      "112/112 [==============================] - 0s 477us/step - loss: 0.9746 - acc: 0.6429\n",
      "Epoch 12/150\n",
      "112/112 [==============================] - 0s 478us/step - loss: 0.9485 - acc: 0.6429\n",
      "Epoch 13/150\n",
      "112/112 [==============================] - 0s 474us/step - loss: 0.9229 - acc: 0.6429\n",
      "Epoch 14/150\n",
      "112/112 [==============================] - 0s 518us/step - loss: 0.8943 - acc: 0.6429\n",
      "Epoch 15/150\n",
      "112/112 [==============================] - 0s 494us/step - loss: 0.8652 - acc: 0.6429\n",
      "Epoch 16/150\n",
      "112/112 [==============================] - 0s 486us/step - loss: 0.8311 - acc: 0.6429\n",
      "Epoch 17/150\n",
      "112/112 [==============================] - 0s 517us/step - loss: 0.7997 - acc: 0.6429\n",
      "Epoch 18/150\n",
      "112/112 [==============================] - 0s 494us/step - loss: 0.7655 - acc: 0.6518\n",
      "Epoch 19/150\n",
      "112/112 [==============================] - 0s 484us/step - loss: 0.7345 - acc: 0.6607\n",
      "Epoch 20/150\n",
      "112/112 [==============================] - 0s 526us/step - loss: 0.7063 - acc: 0.6964\n",
      "Epoch 21/150\n",
      "112/112 [==============================] - 0s 473us/step - loss: 0.6773 - acc: 0.7054\n",
      "Epoch 22/150\n",
      "112/112 [==============================] - 0s 492us/step - loss: 0.6520 - acc: 0.7500\n",
      "Epoch 23/150\n",
      "112/112 [==============================] - 0s 534us/step - loss: 0.6284 - acc: 0.7857\n",
      "Epoch 24/150\n",
      "112/112 [==============================] - 0s 488us/step - loss: 0.6069 - acc: 0.8482\n",
      "Epoch 25/150\n",
      "112/112 [==============================] - 0s 480us/step - loss: 0.5868 - acc: 0.8571\n",
      "Epoch 26/150\n",
      "112/112 [==============================] - 0s 483us/step - loss: 0.5692 - acc: 0.8661\n",
      "Epoch 27/150\n",
      "112/112 [==============================] - 0s 488us/step - loss: 0.5527 - acc: 0.9018\n",
      "Epoch 28/150\n",
      "112/112 [==============================] - 0s 525us/step - loss: 0.5375 - acc: 0.9554\n",
      "Epoch 29/150\n",
      "112/112 [==============================] - 0s 478us/step - loss: 0.5233 - acc: 0.9375\n",
      "Epoch 30/150\n",
      "112/112 [==============================] - 0s 484us/step - loss: 0.5108 - acc: 0.9107\n",
      "Epoch 31/150\n",
      "112/112 [==============================] - 0s 522us/step - loss: 0.4994 - acc: 0.9018\n",
      "Epoch 32/150\n",
      "112/112 [==============================] - 0s 490us/step - loss: 0.4871 - acc: 0.9554\n",
      "Epoch 33/150\n",
      "112/112 [==============================] - 0s 482us/step - loss: 0.4758 - acc: 0.9554\n",
      "Epoch 34/150\n",
      "112/112 [==============================] - 0s 540us/step - loss: 0.4666 - acc: 0.9554\n",
      "Epoch 35/150\n",
      "112/112 [==============================] - 0s 486us/step - loss: 0.4563 - acc: 0.9464\n",
      "Epoch 36/150\n",
      "112/112 [==============================] - 0s 478us/step - loss: 0.4455 - acc: 0.9554\n",
      "Epoch 37/150\n",
      "112/112 [==============================] - 0s 521us/step - loss: 0.4376 - acc: 0.9643\n",
      "Epoch 38/150\n",
      "112/112 [==============================] - 0s 484us/step - loss: 0.4299 - acc: 0.9643\n",
      "Epoch 39/150\n",
      "112/112 [==============================] - 0s 478us/step - loss: 0.4229 - acc: 0.9643\n",
      "Epoch 40/150\n",
      "112/112 [==============================] - 0s 533us/step - loss: 0.4151 - acc: 0.9554\n",
      "Epoch 41/150\n",
      "112/112 [==============================] - 0s 524us/step - loss: 0.4062 - acc: 0.9554\n",
      "Epoch 42/150\n",
      "112/112 [==============================] - 0s 518us/step - loss: 0.4009 - acc: 0.9554\n",
      "Epoch 43/150\n",
      "112/112 [==============================] - 0s 490us/step - loss: 0.3900 - acc: 0.9643\n",
      "Epoch 44/150\n",
      "112/112 [==============================] - 0s 485us/step - loss: 0.3851 - acc: 0.9821\n",
      "Epoch 45/150\n",
      "112/112 [==============================] - 0s 488us/step - loss: 0.3781 - acc: 0.9643\n",
      "Epoch 46/150\n",
      "112/112 [==============================] - 0s 516us/step - loss: 0.3712 - acc: 0.9643\n",
      "Epoch 47/150\n",
      "112/112 [==============================] - 0s 502us/step - loss: 0.3652 - acc: 0.9643\n",
      "Epoch 48/150\n",
      "112/112 [==============================] - 0s 528us/step - loss: 0.3587 - acc: 0.9643\n",
      "Epoch 49/150\n",
      "112/112 [==============================] - 0s 481us/step - loss: 0.3541 - acc: 0.9554\n",
      "Epoch 50/150\n",
      "112/112 [==============================] - 0s 522us/step - loss: 0.3478 - acc: 0.9643\n",
      "Epoch 51/150\n",
      "112/112 [==============================] - 0s 523us/step - loss: 0.3419 - acc: 0.9643\n",
      "Epoch 52/150\n",
      "112/112 [==============================] - 0s 491us/step - loss: 0.3359 - acc: 0.9643\n",
      "Epoch 53/150\n",
      "112/112 [==============================] - 0s 504us/step - loss: 0.3298 - acc: 0.9643\n",
      "Epoch 54/150\n",
      "112/112 [==============================] - 0s 496us/step - loss: 0.3260 - acc: 0.9643\n",
      "Epoch 55/150\n",
      "112/112 [==============================] - 0s 525us/step - loss: 0.3220 - acc: 0.9732\n",
      "Epoch 56/150\n",
      "112/112 [==============================] - 0s 521us/step - loss: 0.3149 - acc: 0.9732\n",
      "Epoch 57/150\n",
      "112/112 [==============================] - 0s 536us/step - loss: 0.3098 - acc: 0.9643\n",
      "Epoch 58/150\n",
      "112/112 [==============================] - 0s 526us/step - loss: 0.3058 - acc: 0.9643\n",
      "Epoch 59/150\n",
      "112/112 [==============================] - 0s 488us/step - loss: 0.3000 - acc: 0.9643\n",
      "Epoch 60/150\n",
      "112/112 [==============================] - 0s 484us/step - loss: 0.2961 - acc: 0.9643\n",
      "Epoch 61/150\n",
      "112/112 [==============================] - 0s 524us/step - loss: 0.2925 - acc: 0.9821\n",
      "Epoch 62/150\n",
      "112/112 [==============================] - 0s 481us/step - loss: 0.2863 - acc: 0.9911\n",
      "Epoch 63/150\n",
      "112/112 [==============================] - 0s 483us/step - loss: 0.2821 - acc: 0.9643\n",
      "Epoch 64/150\n",
      "112/112 [==============================] - 0s 488us/step - loss: 0.2790 - acc: 0.9643\n",
      "Epoch 65/150\n",
      "112/112 [==============================] - 0s 484us/step - loss: 0.2743 - acc: 0.9643\n",
      "Epoch 66/150\n",
      "112/112 [==============================] - 0s 488us/step - loss: 0.2705 - acc: 0.9821\n",
      "Epoch 67/150\n",
      "112/112 [==============================] - 0s 479us/step - loss: 0.2670 - acc: 0.9643\n",
      "Epoch 68/150\n",
      "112/112 [==============================] - 0s 486us/step - loss: 0.2618 - acc: 0.9643\n",
      "Epoch 69/150\n",
      "112/112 [==============================] - 0s 490us/step - loss: 0.2580 - acc: 0.9643\n",
      "Epoch 70/150\n",
      "112/112 [==============================] - 0s 483us/step - loss: 0.2551 - acc: 0.9732\n",
      "Epoch 71/150\n",
      "112/112 [==============================] - 0s 475us/step - loss: 0.2506 - acc: 0.9643\n",
      "Epoch 72/150\n",
      "112/112 [==============================] - 0s 518us/step - loss: 0.2476 - acc: 0.9643\n",
      "Epoch 73/150\n",
      "112/112 [==============================] - 0s 482us/step - loss: 0.2438 - acc: 0.9643\n",
      "Epoch 74/150\n",
      "112/112 [==============================] - 0s 485us/step - loss: 0.2421 - acc: 0.9643\n",
      "Epoch 75/150\n",
      "112/112 [==============================] - 0s 500us/step - loss: 0.2422 - acc: 0.9554\n",
      "Epoch 76/150\n",
      "112/112 [==============================] - 0s 484us/step - loss: 0.2354 - acc: 0.9643\n",
      "Epoch 77/150\n",
      "112/112 [==============================] - 0s 520us/step - loss: 0.2314 - acc: 0.9643\n",
      "Epoch 78/150\n",
      "112/112 [==============================] - 0s 528us/step - loss: 0.2282 - acc: 0.9821\n",
      "Epoch 79/150\n",
      "112/112 [==============================] - 0s 530us/step - loss: 0.2249 - acc: 0.9911\n",
      "Epoch 80/150\n",
      "112/112 [==============================] - 0s 487us/step - loss: 0.2214 - acc: 0.9821\n",
      "Epoch 81/150\n",
      "112/112 [==============================] - 0s 478us/step - loss: 0.2195 - acc: 0.9643\n",
      "Epoch 82/150\n",
      "112/112 [==============================] - 0s 482us/step - loss: 0.2168 - acc: 0.9643\n",
      "Epoch 83/150\n",
      "112/112 [==============================] - 0s 487us/step - loss: 0.2137 - acc: 0.9821\n",
      "Epoch 84/150\n",
      "112/112 [==============================] - 0s 528us/step - loss: 0.2104 - acc: 0.9732\n",
      "Epoch 85/150\n",
      "112/112 [==============================] - 0s 535us/step - loss: 0.2077 - acc: 0.9643\n",
      "Epoch 86/150\n",
      "112/112 [==============================] - 0s 493us/step - loss: 0.2069 - acc: 0.9643\n",
      "Epoch 87/150\n",
      "112/112 [==============================] - 0s 529us/step - loss: 0.2024 - acc: 0.9643\n",
      "Epoch 88/150\n",
      "112/112 [==============================] - 0s 523us/step - loss: 0.2008 - acc: 0.9821\n",
      "Epoch 89/150\n",
      "112/112 [==============================] - 0s 485us/step - loss: 0.1987 - acc: 0.9643\n",
      "Epoch 90/150\n",
      "112/112 [==============================] - 0s 484us/step - loss: 0.1961 - acc: 0.9643\n",
      "Epoch 91/150\n",
      "112/112 [==============================] - 0s 487us/step - loss: 0.1947 - acc: 0.9643\n",
      "Epoch 92/150\n",
      "112/112 [==============================] - 0s 497us/step - loss: 0.1903 - acc: 0.9643\n",
      "Epoch 93/150\n",
      "112/112 [==============================] - 0s 473us/step - loss: 0.1921 - acc: 0.9732\n",
      "Epoch 94/150\n",
      "112/112 [==============================] - 0s 484us/step - loss: 0.1879 - acc: 0.9732\n",
      "Epoch 95/150\n",
      "112/112 [==============================] - 0s 476us/step - loss: 0.1875 - acc: 0.9643\n",
      "Epoch 96/150\n",
      "112/112 [==============================] - 0s 547us/step - loss: 0.1835 - acc: 0.9643\n",
      "Epoch 97/150\n",
      "112/112 [==============================] - 0s 473us/step - loss: 0.1848 - acc: 0.9643\n",
      "Epoch 98/150\n",
      "112/112 [==============================] - 0s 484us/step - loss: 0.1801 - acc: 0.9643\n",
      "Epoch 99/150\n",
      "112/112 [==============================] - 0s 519us/step - loss: 0.1780 - acc: 0.9643\n",
      "Epoch 100/150\n",
      "112/112 [==============================] - 0s 490us/step - loss: 0.1753 - acc: 0.9643\n",
      "Epoch 101/150\n",
      "112/112 [==============================] - 0s 514us/step - loss: 0.1737 - acc: 0.9732\n",
      "Epoch 102/150\n",
      "112/112 [==============================] - 0s 513us/step - loss: 0.1720 - acc: 0.9643\n",
      "Epoch 103/150\n",
      "112/112 [==============================] - 0s 492us/step - loss: 0.1721 - acc: 0.9643\n",
      "Epoch 104/150\n",
      "112/112 [==============================] - 0s 480us/step - loss: 0.1704 - acc: 0.9821\n",
      "Epoch 105/150\n",
      "112/112 [==============================] - 0s 492us/step - loss: 0.1683 - acc: 0.9643\n",
      "Epoch 106/150\n",
      "112/112 [==============================] - 0s 482us/step - loss: 0.1647 - acc: 0.9732\n",
      "Epoch 107/150\n",
      "112/112 [==============================] - 0s 487us/step - loss: 0.1665 - acc: 0.9643\n",
      "Epoch 108/150\n",
      "112/112 [==============================] - 0s 517us/step - loss: 0.1611 - acc: 0.9643\n",
      "Epoch 109/150\n",
      "112/112 [==============================] - 0s 485us/step - loss: 0.1610 - acc: 0.9911\n",
      "Epoch 110/150\n",
      "112/112 [==============================] - 0s 485us/step - loss: 0.1585 - acc: 0.9643\n",
      "Epoch 111/150\n",
      "112/112 [==============================] - 0s 488us/step - loss: 0.1576 - acc: 0.9643\n",
      "Epoch 112/150\n",
      "112/112 [==============================] - 0s 477us/step - loss: 0.1599 - acc: 0.9821\n",
      "Epoch 113/150\n",
      "112/112 [==============================] - 0s 486us/step - loss: 0.1546 - acc: 0.9643\n",
      "Epoch 114/150\n",
      "112/112 [==============================] - 0s 501us/step - loss: 0.1533 - acc: 0.9732\n",
      "Epoch 115/150\n",
      "112/112 [==============================] - 0s 485us/step - loss: 0.1515 - acc: 0.9821\n",
      "Epoch 116/150\n",
      "112/112 [==============================] - 0s 490us/step - loss: 0.1498 - acc: 0.9911\n",
      "Epoch 117/150\n",
      "112/112 [==============================] - 0s 491us/step - loss: 0.1493 - acc: 0.9732\n",
      "Epoch 118/150\n",
      "112/112 [==============================] - 0s 492us/step - loss: 0.1481 - acc: 0.9643\n",
      "Epoch 119/150\n",
      "112/112 [==============================] - 0s 530us/step - loss: 0.1458 - acc: 0.9643\n",
      "Epoch 120/150\n",
      "112/112 [==============================] - 0s 518us/step - loss: 0.1446 - acc: 0.9911\n",
      "Epoch 121/150\n",
      "112/112 [==============================] - 0s 515us/step - loss: 0.1435 - acc: 0.9821\n",
      "Epoch 122/150\n",
      "112/112 [==============================] - 0s 519us/step - loss: 0.1433 - acc: 0.9643\n",
      "Epoch 123/150\n",
      "112/112 [==============================] - 0s 521us/step - loss: 0.1413 - acc: 0.9643\n",
      "Epoch 124/150\n",
      "112/112 [==============================] - 0s 489us/step - loss: 0.1406 - acc: 0.9821\n",
      "Epoch 125/150\n",
      "112/112 [==============================] - 0s 492us/step - loss: 0.1387 - acc: 0.9732\n",
      "Epoch 126/150\n",
      "112/112 [==============================] - 0s 497us/step - loss: 0.1382 - acc: 0.9911\n",
      "Epoch 127/150\n",
      "112/112 [==============================] - 0s 474us/step - loss: 0.1383 - acc: 0.9643\n",
      "Epoch 128/150\n",
      "112/112 [==============================] - 0s 492us/step - loss: 0.1346 - acc: 0.9732\n",
      "Epoch 129/150\n",
      "112/112 [==============================] - 0s 477us/step - loss: 0.1357 - acc: 0.9821\n",
      "Epoch 130/150\n",
      "112/112 [==============================] - 0s 482us/step - loss: 0.1341 - acc: 0.9821\n",
      "Epoch 131/150\n",
      "112/112 [==============================] - 0s 478us/step - loss: 0.1317 - acc: 0.9732\n",
      "Epoch 132/150\n",
      "112/112 [==============================] - 0s 501us/step - loss: 0.1315 - acc: 0.9732\n",
      "Epoch 133/150\n",
      "112/112 [==============================] - 0s 477us/step - loss: 0.1302 - acc: 0.9643\n",
      "Epoch 134/150\n",
      "112/112 [==============================] - 0s 481us/step - loss: 0.1297 - acc: 0.9821\n",
      "Epoch 135/150\n",
      "112/112 [==============================] - 0s 489us/step - loss: 0.1279 - acc: 0.9821\n",
      "Epoch 136/150\n",
      "112/112 [==============================] - 0s 486us/step - loss: 0.1280 - acc: 0.9821\n",
      "Epoch 137/150\n",
      "112/112 [==============================] - 0s 553us/step - loss: 0.1263 - acc: 0.9732\n",
      "Epoch 138/150\n",
      "112/112 [==============================] - 0s 506us/step - loss: 0.1256 - acc: 0.9732\n",
      "Epoch 139/150\n",
      "112/112 [==============================] - 0s 523us/step - loss: 0.1247 - acc: 0.9732\n",
      "Epoch 140/150\n",
      "112/112 [==============================] - 0s 479us/step - loss: 0.1260 - acc: 0.9821\n",
      "Epoch 141/150\n",
      "112/112 [==============================] - 0s 478us/step - loss: 0.1223 - acc: 0.9732\n",
      "Epoch 142/150\n",
      "112/112 [==============================] - 0s 491us/step - loss: 0.1232 - acc: 0.9911\n",
      "Epoch 143/150\n",
      "112/112 [==============================] - 0s 515us/step - loss: 0.1226 - acc: 0.9732\n",
      "Epoch 144/150\n",
      "112/112 [==============================] - 0s 490us/step - loss: 0.1189 - acc: 0.9732\n",
      "Epoch 145/150\n",
      "112/112 [==============================] - 0s 528us/step - loss: 0.1204 - acc: 0.9911\n",
      "Epoch 146/150\n",
      "112/112 [==============================] - 0s 482us/step - loss: 0.1188 - acc: 0.9821\n",
      "Epoch 147/150\n",
      "112/112 [==============================] - 0s 539us/step - loss: 0.1175 - acc: 0.9643\n",
      "Epoch 148/150\n",
      "112/112 [==============================] - 0s 481us/step - loss: 0.1242 - acc: 0.9821\n",
      "Epoch 149/150\n",
      "112/112 [==============================] - 0s 493us/step - loss: 0.1171 - acc: 0.9643\n",
      "Epoch 150/150\n",
      "112/112 [==============================] - 0s 551us/step - loss: 0.1168 - acc: 0.9643\n"
     ]
    },
    {
     "data": {
      "text/plain": [
       "<keras.callbacks.History at 0x7f7aec3614a8>"
      ]
     },
     "execution_count": 88,
     "metadata": {},
     "output_type": "execute_result"
    }
   ],
   "source": [
    "# Create the final model for evaluating the test dataset\n",
    "model = create_grid_model(best_optimizer, best_kernel_init)\n",
    "model.fit(X_train, y_train, epochs=best_epoch, batch_size=best_batch, verbose=1)"
   ]
  },
  {
   "cell_type": "code",
   "execution_count": 89,
   "metadata": {},
   "outputs": [
    {
     "name": "stdout",
     "output_type": "stream",
     "text": [
      "_________________________________________________________________\n",
      "Layer (type)                 Output Shape              Param #   \n",
      "=================================================================\n",
      "dense_47 (Dense)             (None, 8)                 40        \n",
      "_________________________________________________________________\n",
      "dense_48 (Dense)             (None, 3)                 27        \n",
      "=================================================================\n",
      "Total params: 67\n",
      "Trainable params: 67\n",
      "Non-trainable params: 0\n",
      "_________________________________________________________________\n",
      "None\n"
     ]
    }
   ],
   "source": [
    "# Display a summary of the final model\n",
    "print(model.summary())"
   ]
  },
  {
   "cell_type": "code",
   "execution_count": 90,
   "metadata": {
    "colab": {
     "base_uri": "https://localhost:8080/",
     "height": 109
    },
    "colab_type": "code",
    "id": "-H_7ah8gPRmw",
    "outputId": "52212ba7-304e-46ac-e6de-a30afa3dc6bd"
   },
   "outputs": [
    {
     "name": "stdout",
     "output_type": "stream",
     "text": [
      "38/38 [==============================] - 0s 9ms/step\n",
      "\n",
      "acc: 97.37%\n",
      "\n",
      "loss: 12.24%\n"
     ]
    }
   ],
   "source": [
    "# Evaluate the Keras model on previously unseen data\n",
    "scores = model.evaluate(X_test, y_test)\n",
    "print(\"\\n%s: %.2f%%\" % (model.metrics_names[1], scores[1]*100))\n",
    "print(\"\\n%s: %.2f%%\" % (model.metrics_names[0], scores[0]*100))"
   ]
  },
  {
   "cell_type": "code",
   "execution_count": 91,
   "metadata": {
    "colab": {},
    "colab_type": "code",
    "id": "0r4rJRXHTBTv"
   },
   "outputs": [],
   "source": [
    "if (notifyStatus): email_notify(\"Phase 4 Optimize Model completed! \"+datetime.now().strftime('%a %B %d, %Y %I:%M:%S %p'))"
   ]
  },
  {
   "cell_type": "markdown",
   "metadata": {
    "colab_type": "text",
    "id": "ohwYIizSIfPG"
   },
   "source": [
    "# Section 5. Finalize Model"
   ]
  },
  {
   "cell_type": "code",
   "execution_count": 92,
   "metadata": {
    "colab": {},
    "colab_type": "code",
    "id": "yh14j7v8TFPe"
   },
   "outputs": [],
   "source": [
    "if (notifyStatus): email_notify(\"Phase 5 Finalize Model has begun! \"+datetime.now().strftime('%a %B %d, %Y %I:%M:%S %p'))"
   ]
  },
  {
   "cell_type": "code",
   "execution_count": 93,
   "metadata": {
    "colab": {
     "base_uri": "https://localhost:8080/",
     "height": 201
    },
    "colab_type": "code",
    "id": "oUhkDCG8AkUC",
    "outputId": "fb87e85d-6fee-4a5b-9b5f-c2a9fe91099e"
   },
   "outputs": [
    {
     "name": "stdout",
     "output_type": "stream",
     "text": [
      "[0 0 0 0 0 0 0 0 0 0 0 0 0 0 0 0 0 0 0 0 0 0 0 0 0 0 0 0 0 0 0 0 0 0 0 0 0\n",
      " 0 0 0 0 0 0 0 0 0 0 0 0 0 1 1 1 1 1 1 1 1 1 1 1 1 1 1 1 1 1 1 1 1 2 1 2 1\n",
      " 1 1 1 1 1 1 1 1 1 2 1 1 1 1 1 1 1 1 1 1 1 1 1 1 1 1 2 2 2 2 2 2 2 2 2 2 2\n",
      " 2 2 2 2 2 2 2 2 2 2 2 2 2 2 2 2 2 2 2 2 2 2 1 2 2 2 2 2 2 2 2 2 2 2 2 2 2\n",
      " 2 2]\n"
     ]
    }
   ],
   "source": [
    "# Make class predictions with the model\n",
    "predictions = model.predict_classes(X_original)\n",
    "print(predictions)"
   ]
  },
  {
   "cell_type": "code",
   "execution_count": 94,
   "metadata": {
    "colab": {},
    "colab_type": "code",
    "id": "UkgS_dVLTIIi"
   },
   "outputs": [],
   "source": [
    "if (notifyStatus): email_notify(\"Phase 5 Finalize Model completed! \"+datetime.now().strftime('%a %B %d, %Y %I:%M:%S %p'))"
   ]
  },
  {
   "cell_type": "code",
   "execution_count": 95,
   "metadata": {
    "colab": {
     "base_uri": "https://localhost:8080/",
     "height": 35
    },
    "colab_type": "code",
    "id": "Qb7Ry_60TMOl",
    "outputId": "08177fca-8793-418e-a88c-131f35590eb2"
   },
   "outputs": [
    {
     "name": "stdout",
     "output_type": "stream",
     "text": [
      "Total time for the script: 0:12:33.389036\n"
     ]
    }
   ],
   "source": [
    "print ('Total time for the script:',(datetime.now() - startTimeScript))"
   ]
  }
 ],
 "metadata": {
  "colab": {
   "collapsed_sections": [],
   "name": "py-keras-classification-binary-class-example.ipynb",
   "provenance": [],
   "toc_visible": true
  },
  "kernelspec": {
   "display_name": "Python 3",
   "language": "python",
   "name": "python3"
  },
  "language_info": {
   "codemirror_mode": {
    "name": "ipython",
    "version": 3
   },
   "file_extension": ".py",
   "mimetype": "text/x-python",
   "name": "python",
   "nbconvert_exporter": "python",
   "pygments_lexer": "ipython3",
   "version": "3.7.3"
  }
 },
 "nbformat": 4,
 "nbformat_minor": 4
}
