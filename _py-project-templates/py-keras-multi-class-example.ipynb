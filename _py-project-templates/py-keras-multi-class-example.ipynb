{
 "cells": [
  {
   "cell_type": "markdown",
   "metadata": {},
   "source": [
    "# Multi-Class Classification Deep Learning Model for [PROJECT NAME] Using Keras Version 3\n",
    "### David Lowe\n",
    "### November 11, 2019\n",
    "\n",
    "Template Credit: Adapted from a template made available by Dr. Jason Brownlee of Machine Learning Mastery. [https://machinelearningmastery.com/]\n",
    "\n",
    "SUMMARY: The purpose of this project is to construct a predictive model using various machine learning algorithms and to document the end-to-end steps using a template. The [PROJECT NAME] dataset is a multi-class classification situation where we are trying to predict one of several (more than two) possible outcomes.\n",
    "\n",
    "INTRODUCTION: [Sample Paragraph - This is perhaps the best known database to be found in the pattern recognition literature. Fisher's paper is a classic in the field and is referenced frequently to this day. (See Duda & Hart, for example.) The data set contains three classes of 50 instances each, where each class refers to a type of iris plant. One class is linearly separable from the other two; the latter are NOT linearly separable from each other.]\n",
    "\n",
    "ANALYSIS: [Sample Paragraph - The baseline performance of the model achieved an average accuracy score of 97.31%. After tuning the hyperparameters, the final model processed the test dataset with an accuracy of 97.37%, which was consistent with the baseline result from the training dataset.]\n",
    "\n",
    "CONCLUSION: For this dataset, the model built using Keras and TensorFlow achieved a satisfactory result and should be considered for future modeling activities.\n",
    "\n",
    "Dataset Used: [PROJECT NAME] Dataset\n",
    "\n",
    "Dataset ML Model: Multi-class classification with numerical attributes\n",
    "\n",
    "Dataset Reference: [https://archive.ics.uci.edu/ml/machine-learning-databases/iris/]\n",
    "\n",
    "One potential source of performance benchmarks: [https://machinelearningmastery.com/multi-class-classification-tutorial-keras-deep-learning-library/]\n",
    "\n",
    "Any deep-learning modeling project genrally can be broken down into about six major tasks:\n",
    "0. Prepare Environment\n",
    "1. Load Data\n",
    "2. Define Model\n",
    "3. Fit and Evaluate Model\n",
    "4. Optimize Model\n",
    "5. Finalize Model"
   ]
  },
  {
   "cell_type": "markdown",
   "metadata": {},
   "source": [
    "# Section 0. Prepare Environment"
   ]
  },
  {
   "cell_type": "code",
   "execution_count": 38,
   "metadata": {},
   "outputs": [],
   "source": [
    "# Set the warning message filter\n",
    "import warnings\n",
    "warnings.filterwarnings(\"ignore\", category=FutureWarning)\n",
    "warnings.filterwarnings(\"ignore\", category=DeprecationWarning)"
   ]
  },
  {
   "cell_type": "code",
   "execution_count": 39,
   "metadata": {},
   "outputs": [],
   "source": [
    "# Set the random seed number for reproducible results\n",
    "seedNum = 888"
   ]
  },
  {
   "cell_type": "code",
   "execution_count": 40,
   "metadata": {},
   "outputs": [],
   "source": [
    "# Load libraries and packages\n",
    "import random\n",
    "random.seed(seedNum)\n",
    "import numpy as np\n",
    "np.random.seed(seedNum)\n",
    "import tensorflow as tf\n",
    "tf.random.set_seed(seedNum)\n",
    "import keras as K\n",
    "from keras.layers import Dense\n",
    "from keras.wrappers.scikit_learn import KerasClassifier\n",
    "from keras.wrappers.scikit_learn import KerasRegressor\n",
    "from keras.utils import np_utils\n",
    "import pandas as pd\n",
    "import os\n",
    "import sys\n",
    "import shutil\n",
    "import urllib.request\n",
    "import zipfile\n",
    "import smtplib\n",
    "import matplotlib.pyplot as plt\n",
    "from datetime import datetime\n",
    "from email.message import EmailMessage\n",
    "from sklearn.model_selection import train_test_split\n",
    "from sklearn.model_selection import KFold\n",
    "from sklearn.model_selection import StratifiedKFold\n",
    "from sklearn.model_selection import cross_val_score\n",
    "from sklearn.model_selection import GridSearchCV\n",
    "from sklearn.model_selection import RandomizedSearchCV\n",
    "from sklearn import preprocessing\n",
    "from sklearn.pipeline import Pipeline"
   ]
  },
  {
   "cell_type": "code",
   "execution_count": 41,
   "metadata": {},
   "outputs": [
    {
     "name": "stdout",
     "output_type": "stream",
     "text": [
      "Num GPUs Available:  0\n"
     ]
    }
   ],
   "source": [
    "# Begin the timer for the script processing\n",
    "startTimeScript = datetime.now()\n",
    "\n",
    "# Set up the verbose flag to print detailed messages for debugging (setting to True will activate)\n",
    "verbose = True\n",
    "tf.debugging.set_log_device_placement(verbose)\n",
    "\n",
    "# Set up the number of CPU cores available for multi-thread processing\n",
    "n_jobs = -1\n",
    "print(\"Num GPUs Available: \", len(tf.config.experimental.list_physical_devices('GPU')))\n",
    "\n",
    "# Set up the flag to stop sending progress emails (setting to True will send status emails!)\n",
    "notifyStatus = False\n",
    "\n",
    "# Set the number of folds for cross validation\n",
    "n_folds = 5\n",
    "\n",
    "# Set the flag for splitting the dataset\n",
    "splitDataset = True\n",
    "splitPercentage = 0.25\n",
    "\n",
    "# Set various default Keras modeling parameters\n",
    "default_kernel_init = K.initializers.RandomNormal(seed=seedNum)\n",
    "default_loss = 'categorical_crossentropy'\n",
    "default_optimizer = 'adam'\n",
    "default_epochs = 200\n",
    "default_batches = 8\n",
    "default_metrics = ['accuracy']"
   ]
  },
  {
   "cell_type": "code",
   "execution_count": 42,
   "metadata": {},
   "outputs": [],
   "source": [
    "# Set up the email notification function\n",
    "def email_notify(msg_text):\n",
    "    sender = os.environ.get('MAIL_SENDER')\n",
    "    receiver = os.environ.get('MAIL_RECEIVER')\n",
    "    gateway = os.environ.get('SMTP_GATEWAY')\n",
    "    smtpuser = os.environ.get('SMTP_USERNAME')\n",
    "    password = os.environ.get('SMTP_PASSWORD')\n",
    "    if sender==None or receiver==None or gateway==None or smtpuser==None or password==None:\n",
    "        sys.exit(\"Incomplete email setup info. Script Processing Aborted!!!\")\n",
    "    msg = EmailMessage()\n",
    "    msg.set_content(msg_text)\n",
    "    msg['Subject'] = 'Notification from Keras Multi-Class Classification Script'\n",
    "    msg['From'] = sender\n",
    "    msg['To'] = receiver\n",
    "    server = smtplib.SMTP(gateway, 587)\n",
    "    server.starttls()\n",
    "    server.login(smtpuser, password)\n",
    "    server.send_message(msg)\n",
    "    server.quit()"
   ]
  },
  {
   "cell_type": "code",
   "execution_count": 43,
   "metadata": {},
   "outputs": [],
   "source": [
    "if (notifyStatus): email_notify(\"Phase 0 Prepare Environment completed! \"+datetime.now().strftime('%a %B %d, %Y %I:%M:%S %p'))"
   ]
  },
  {
   "cell_type": "markdown",
   "metadata": {},
   "source": [
    "# Section 1. Load Data"
   ]
  },
  {
   "cell_type": "code",
   "execution_count": 44,
   "metadata": {},
   "outputs": [],
   "source": [
    "if (notifyStatus): email_notify(\"Phase 1 Load Data has begun! \"+datetime.now().strftime('%a %B %d, %Y %I:%M:%S %p'))"
   ]
  },
  {
   "cell_type": "markdown",
   "metadata": {},
   "source": [
    "## 1.a) Load Dataset"
   ]
  },
  {
   "cell_type": "code",
   "execution_count": 45,
   "metadata": {},
   "outputs": [
    {
     "data": {
      "text/html": [
       "<div>\n",
       "<style scoped>\n",
       "    .dataframe tbody tr th:only-of-type {\n",
       "        vertical-align: middle;\n",
       "    }\n",
       "\n",
       "    .dataframe tbody tr th {\n",
       "        vertical-align: top;\n",
       "    }\n",
       "\n",
       "    .dataframe thead th {\n",
       "        text-align: right;\n",
       "    }\n",
       "</style>\n",
       "<table border=\"1\" class=\"dataframe\">\n",
       "  <thead>\n",
       "    <tr style=\"text-align: right;\">\n",
       "      <th></th>\n",
       "      <th>sepal_length</th>\n",
       "      <th>sepal_width</th>\n",
       "      <th>petal_length</th>\n",
       "      <th>petal_width</th>\n",
       "      <th>targetVar</th>\n",
       "    </tr>\n",
       "  </thead>\n",
       "  <tbody>\n",
       "    <tr>\n",
       "      <th>0</th>\n",
       "      <td>5.1</td>\n",
       "      <td>3.5</td>\n",
       "      <td>1.4</td>\n",
       "      <td>0.2</td>\n",
       "      <td>Iris-setosa</td>\n",
       "    </tr>\n",
       "    <tr>\n",
       "      <th>1</th>\n",
       "      <td>4.9</td>\n",
       "      <td>3.0</td>\n",
       "      <td>1.4</td>\n",
       "      <td>0.2</td>\n",
       "      <td>Iris-setosa</td>\n",
       "    </tr>\n",
       "    <tr>\n",
       "      <th>2</th>\n",
       "      <td>4.7</td>\n",
       "      <td>3.2</td>\n",
       "      <td>1.3</td>\n",
       "      <td>0.2</td>\n",
       "      <td>Iris-setosa</td>\n",
       "    </tr>\n",
       "    <tr>\n",
       "      <th>3</th>\n",
       "      <td>4.6</td>\n",
       "      <td>3.1</td>\n",
       "      <td>1.5</td>\n",
       "      <td>0.2</td>\n",
       "      <td>Iris-setosa</td>\n",
       "    </tr>\n",
       "    <tr>\n",
       "      <th>4</th>\n",
       "      <td>5.0</td>\n",
       "      <td>3.6</td>\n",
       "      <td>1.4</td>\n",
       "      <td>0.2</td>\n",
       "      <td>Iris-setosa</td>\n",
       "    </tr>\n",
       "    <tr>\n",
       "      <th>5</th>\n",
       "      <td>5.4</td>\n",
       "      <td>3.9</td>\n",
       "      <td>1.7</td>\n",
       "      <td>0.4</td>\n",
       "      <td>Iris-setosa</td>\n",
       "    </tr>\n",
       "    <tr>\n",
       "      <th>6</th>\n",
       "      <td>4.6</td>\n",
       "      <td>3.4</td>\n",
       "      <td>1.4</td>\n",
       "      <td>0.3</td>\n",
       "      <td>Iris-setosa</td>\n",
       "    </tr>\n",
       "    <tr>\n",
       "      <th>7</th>\n",
       "      <td>5.0</td>\n",
       "      <td>3.4</td>\n",
       "      <td>1.5</td>\n",
       "      <td>0.2</td>\n",
       "      <td>Iris-setosa</td>\n",
       "    </tr>\n",
       "    <tr>\n",
       "      <th>8</th>\n",
       "      <td>4.4</td>\n",
       "      <td>2.9</td>\n",
       "      <td>1.4</td>\n",
       "      <td>0.2</td>\n",
       "      <td>Iris-setosa</td>\n",
       "    </tr>\n",
       "    <tr>\n",
       "      <th>9</th>\n",
       "      <td>4.9</td>\n",
       "      <td>3.1</td>\n",
       "      <td>1.5</td>\n",
       "      <td>0.1</td>\n",
       "      <td>Iris-setosa</td>\n",
       "    </tr>\n",
       "  </tbody>\n",
       "</table>\n",
       "</div>"
      ],
      "text/plain": [
       "   sepal_length  sepal_width  petal_length  petal_width    targetVar\n",
       "0           5.1          3.5           1.4          0.2  Iris-setosa\n",
       "1           4.9          3.0           1.4          0.2  Iris-setosa\n",
       "2           4.7          3.2           1.3          0.2  Iris-setosa\n",
       "3           4.6          3.1           1.5          0.2  Iris-setosa\n",
       "4           5.0          3.6           1.4          0.2  Iris-setosa\n",
       "5           5.4          3.9           1.7          0.4  Iris-setosa\n",
       "6           4.6          3.4           1.4          0.3  Iris-setosa\n",
       "7           5.0          3.4           1.5          0.2  Iris-setosa\n",
       "8           4.4          2.9           1.4          0.2  Iris-setosa\n",
       "9           4.9          3.1           1.5          0.1  Iris-setosa"
      ]
     },
     "execution_count": 45,
     "metadata": {},
     "output_type": "execute_result"
    }
   ],
   "source": [
    "dataset_path = 'https://archive.ics.uci.edu/ml/machine-learning-databases/iris/iris.data'\n",
    "# dest_file = os.path.basename(dataset_path)\n",
    "# if (os.path.isfile(dest_file) == False) :\n",
    "#     print('Downloading ' + dataset_path + ' as ' + dest_file)\n",
    "#     with urllib.request.urlopen(dataset_path) as in_resp, open(dest_file, 'wb') as out_file:\n",
    "#         shutil.copyfileobj(in_resp, out_file)\n",
    "#     print(dest_file + 'downloaded!')\n",
    "#     print('Unpacking ' + dest_file)\n",
    "#     with zipfile.ZipFile(dest_file, 'r') as zip_ref:\n",
    "#         zip_ref.extractall('.')\n",
    "#     print(dest_file + 'unpacked!')\n",
    "\n",
    "# inputFile = dest_file\n",
    "# attrNames = ['attr' + str(i).zfill(2) for i in range(1,10)]\n",
    "# colNames = ['id'] + attrNames + ['target']\n",
    "colNames = ['sepal_length', 'sepal_width', 'petal_length', 'petal_width', 'targetVar']\n",
    "Xy_original = pd.read_csv(dataset_path, names=colNames, sep=',', header=None, index_col=False, na_values=['?'])\n",
    "\n",
    "# Take a peek at the dataframe after the import\n",
    "Xy_original.head(10)"
   ]
  },
  {
   "cell_type": "code",
   "execution_count": 46,
   "metadata": {},
   "outputs": [
    {
     "name": "stdout",
     "output_type": "stream",
     "text": [
      "<class 'pandas.core.frame.DataFrame'>\n",
      "RangeIndex: 150 entries, 0 to 149\n",
      "Data columns (total 5 columns):\n",
      "sepal_length    150 non-null float64\n",
      "sepal_width     150 non-null float64\n",
      "petal_length    150 non-null float64\n",
      "petal_width     150 non-null float64\n",
      "targetVar       150 non-null object\n",
      "dtypes: float64(4), object(1)\n",
      "memory usage: 6.0+ KB\n"
     ]
    }
   ],
   "source": [
    "Xy_original.info()"
   ]
  },
  {
   "cell_type": "code",
   "execution_count": 47,
   "metadata": {},
   "outputs": [
    {
     "data": {
      "text/html": [
       "<div>\n",
       "<style scoped>\n",
       "    .dataframe tbody tr th:only-of-type {\n",
       "        vertical-align: middle;\n",
       "    }\n",
       "\n",
       "    .dataframe tbody tr th {\n",
       "        vertical-align: top;\n",
       "    }\n",
       "\n",
       "    .dataframe thead th {\n",
       "        text-align: right;\n",
       "    }\n",
       "</style>\n",
       "<table border=\"1\" class=\"dataframe\">\n",
       "  <thead>\n",
       "    <tr style=\"text-align: right;\">\n",
       "      <th></th>\n",
       "      <th>sepal_length</th>\n",
       "      <th>sepal_width</th>\n",
       "      <th>petal_length</th>\n",
       "      <th>petal_width</th>\n",
       "    </tr>\n",
       "  </thead>\n",
       "  <tbody>\n",
       "    <tr>\n",
       "      <th>count</th>\n",
       "      <td>150.000000</td>\n",
       "      <td>150.000000</td>\n",
       "      <td>150.000000</td>\n",
       "      <td>150.000000</td>\n",
       "    </tr>\n",
       "    <tr>\n",
       "      <th>mean</th>\n",
       "      <td>5.843333</td>\n",
       "      <td>3.054000</td>\n",
       "      <td>3.758667</td>\n",
       "      <td>1.198667</td>\n",
       "    </tr>\n",
       "    <tr>\n",
       "      <th>std</th>\n",
       "      <td>0.828066</td>\n",
       "      <td>0.433594</td>\n",
       "      <td>1.764420</td>\n",
       "      <td>0.763161</td>\n",
       "    </tr>\n",
       "    <tr>\n",
       "      <th>min</th>\n",
       "      <td>4.300000</td>\n",
       "      <td>2.000000</td>\n",
       "      <td>1.000000</td>\n",
       "      <td>0.100000</td>\n",
       "    </tr>\n",
       "    <tr>\n",
       "      <th>25%</th>\n",
       "      <td>5.100000</td>\n",
       "      <td>2.800000</td>\n",
       "      <td>1.600000</td>\n",
       "      <td>0.300000</td>\n",
       "    </tr>\n",
       "    <tr>\n",
       "      <th>50%</th>\n",
       "      <td>5.800000</td>\n",
       "      <td>3.000000</td>\n",
       "      <td>4.350000</td>\n",
       "      <td>1.300000</td>\n",
       "    </tr>\n",
       "    <tr>\n",
       "      <th>75%</th>\n",
       "      <td>6.400000</td>\n",
       "      <td>3.300000</td>\n",
       "      <td>5.100000</td>\n",
       "      <td>1.800000</td>\n",
       "    </tr>\n",
       "    <tr>\n",
       "      <th>max</th>\n",
       "      <td>7.900000</td>\n",
       "      <td>4.400000</td>\n",
       "      <td>6.900000</td>\n",
       "      <td>2.500000</td>\n",
       "    </tr>\n",
       "  </tbody>\n",
       "</table>\n",
       "</div>"
      ],
      "text/plain": [
       "       sepal_length  sepal_width  petal_length  petal_width\n",
       "count    150.000000   150.000000    150.000000   150.000000\n",
       "mean       5.843333     3.054000      3.758667     1.198667\n",
       "std        0.828066     0.433594      1.764420     0.763161\n",
       "min        4.300000     2.000000      1.000000     0.100000\n",
       "25%        5.100000     2.800000      1.600000     0.300000\n",
       "50%        5.800000     3.000000      4.350000     1.300000\n",
       "75%        6.400000     3.300000      5.100000     1.800000\n",
       "max        7.900000     4.400000      6.900000     2.500000"
      ]
     },
     "execution_count": 47,
     "metadata": {},
     "output_type": "execute_result"
    }
   ],
   "source": [
    "Xy_original.describe()"
   ]
  },
  {
   "cell_type": "code",
   "execution_count": 48,
   "metadata": {},
   "outputs": [
    {
     "name": "stdout",
     "output_type": "stream",
     "text": [
      "sepal_length    0\n",
      "sepal_width     0\n",
      "petal_length    0\n",
      "petal_width     0\n",
      "targetVar       0\n",
      "dtype: int64\n",
      "Total number of NaN in the dataframe:  0\n"
     ]
    }
   ],
   "source": [
    "print(Xy_original.isnull().sum())\n",
    "print('Total number of NaN in the dataframe: ', Xy_original.isnull().sum().sum())"
   ]
  },
  {
   "cell_type": "markdown",
   "metadata": {},
   "source": [
    "## 1.b) Data Cleaning"
   ]
  },
  {
   "cell_type": "code",
   "execution_count": 49,
   "metadata": {},
   "outputs": [
    {
     "data": {
      "text/html": [
       "<div>\n",
       "<style scoped>\n",
       "    .dataframe tbody tr th:only-of-type {\n",
       "        vertical-align: middle;\n",
       "    }\n",
       "\n",
       "    .dataframe tbody tr th {\n",
       "        vertical-align: top;\n",
       "    }\n",
       "\n",
       "    .dataframe thead th {\n",
       "        text-align: right;\n",
       "    }\n",
       "</style>\n",
       "<table border=\"1\" class=\"dataframe\">\n",
       "  <thead>\n",
       "    <tr style=\"text-align: right;\">\n",
       "      <th></th>\n",
       "      <th>sepal_length</th>\n",
       "      <th>sepal_width</th>\n",
       "      <th>petal_length</th>\n",
       "      <th>petal_width</th>\n",
       "      <th>targetVar</th>\n",
       "    </tr>\n",
       "  </thead>\n",
       "  <tbody>\n",
       "    <tr>\n",
       "      <th>0</th>\n",
       "      <td>5.1</td>\n",
       "      <td>3.5</td>\n",
       "      <td>1.4</td>\n",
       "      <td>0.2</td>\n",
       "      <td>Iris-setosa</td>\n",
       "    </tr>\n",
       "    <tr>\n",
       "      <th>1</th>\n",
       "      <td>4.9</td>\n",
       "      <td>3.0</td>\n",
       "      <td>1.4</td>\n",
       "      <td>0.2</td>\n",
       "      <td>Iris-setosa</td>\n",
       "    </tr>\n",
       "    <tr>\n",
       "      <th>2</th>\n",
       "      <td>4.7</td>\n",
       "      <td>3.2</td>\n",
       "      <td>1.3</td>\n",
       "      <td>0.2</td>\n",
       "      <td>Iris-setosa</td>\n",
       "    </tr>\n",
       "    <tr>\n",
       "      <th>3</th>\n",
       "      <td>4.6</td>\n",
       "      <td>3.1</td>\n",
       "      <td>1.5</td>\n",
       "      <td>0.2</td>\n",
       "      <td>Iris-setosa</td>\n",
       "    </tr>\n",
       "    <tr>\n",
       "      <th>4</th>\n",
       "      <td>5.0</td>\n",
       "      <td>3.6</td>\n",
       "      <td>1.4</td>\n",
       "      <td>0.2</td>\n",
       "      <td>Iris-setosa</td>\n",
       "    </tr>\n",
       "    <tr>\n",
       "      <th>5</th>\n",
       "      <td>5.4</td>\n",
       "      <td>3.9</td>\n",
       "      <td>1.7</td>\n",
       "      <td>0.4</td>\n",
       "      <td>Iris-setosa</td>\n",
       "    </tr>\n",
       "    <tr>\n",
       "      <th>6</th>\n",
       "      <td>4.6</td>\n",
       "      <td>3.4</td>\n",
       "      <td>1.4</td>\n",
       "      <td>0.3</td>\n",
       "      <td>Iris-setosa</td>\n",
       "    </tr>\n",
       "    <tr>\n",
       "      <th>7</th>\n",
       "      <td>5.0</td>\n",
       "      <td>3.4</td>\n",
       "      <td>1.5</td>\n",
       "      <td>0.2</td>\n",
       "      <td>Iris-setosa</td>\n",
       "    </tr>\n",
       "    <tr>\n",
       "      <th>8</th>\n",
       "      <td>4.4</td>\n",
       "      <td>2.9</td>\n",
       "      <td>1.4</td>\n",
       "      <td>0.2</td>\n",
       "      <td>Iris-setosa</td>\n",
       "    </tr>\n",
       "    <tr>\n",
       "      <th>9</th>\n",
       "      <td>4.9</td>\n",
       "      <td>3.1</td>\n",
       "      <td>1.5</td>\n",
       "      <td>0.1</td>\n",
       "      <td>Iris-setosa</td>\n",
       "    </tr>\n",
       "  </tbody>\n",
       "</table>\n",
       "</div>"
      ],
      "text/plain": [
       "   sepal_length  sepal_width  petal_length  petal_width    targetVar\n",
       "0           5.1          3.5           1.4          0.2  Iris-setosa\n",
       "1           4.9          3.0           1.4          0.2  Iris-setosa\n",
       "2           4.7          3.2           1.3          0.2  Iris-setosa\n",
       "3           4.6          3.1           1.5          0.2  Iris-setosa\n",
       "4           5.0          3.6           1.4          0.2  Iris-setosa\n",
       "5           5.4          3.9           1.7          0.4  Iris-setosa\n",
       "6           4.6          3.4           1.4          0.3  Iris-setosa\n",
       "7           5.0          3.4           1.5          0.2  Iris-setosa\n",
       "8           4.4          2.9           1.4          0.2  Iris-setosa\n",
       "9           4.9          3.1           1.5          0.1  Iris-setosa"
      ]
     },
     "execution_count": 49,
     "metadata": {},
     "output_type": "execute_result"
    }
   ],
   "source": [
    "# Standardize the class column to the name of targetVar if required\n",
    "# Xy_original = Xy_original.rename(columns={'old_name': 'targetVar'})\n",
    "\n",
    "# Dropping features\n",
    "# Xy_original.drop(columns=['attribute_name'], inplace=True)\n",
    "\n",
    "# Impute missing values\n",
    "# Xy_original['col_name'].fillna('someValue', inplace=True)\n",
    "# Xy_original['attribute_name'].fillna(value=Xy_original['attribute_name'].median(), inplace=True)\n",
    "\n",
    "# Convert columns from one data type to another\n",
    "# Xy_original.column_name = Xy_original.column_name.astype('int')\n",
    "# Xy_original.column_name = Xy_original.column_name.astype('category')\n",
    "\n",
    "# Convert features with Y/N levels into categorical feature of 1/0\n",
    "# def reClassSomecol(target):\n",
    "#     if (target == 'Y'): return 1\n",
    "#     else: return 0\n",
    "# Xy_original['targetVar'] = Xy_original['target'].apply(reClassSomecol)\n",
    "# Xy_original.drop(columns=['target'], inplace=True)\n",
    "\n",
    "# Take a peek at the dataframe after the cleaning\n",
    "Xy_original.head(10)"
   ]
  },
  {
   "cell_type": "code",
   "execution_count": 50,
   "metadata": {},
   "outputs": [
    {
     "name": "stdout",
     "output_type": "stream",
     "text": [
      "<class 'pandas.core.frame.DataFrame'>\n",
      "RangeIndex: 150 entries, 0 to 149\n",
      "Data columns (total 5 columns):\n",
      "sepal_length    150 non-null float64\n",
      "sepal_width     150 non-null float64\n",
      "petal_length    150 non-null float64\n",
      "petal_width     150 non-null float64\n",
      "targetVar       150 non-null object\n",
      "dtypes: float64(4), object(1)\n",
      "memory usage: 6.0+ KB\n"
     ]
    }
   ],
   "source": [
    "Xy_original.info()"
   ]
  },
  {
   "cell_type": "code",
   "execution_count": 51,
   "metadata": {},
   "outputs": [
    {
     "data": {
      "text/html": [
       "<div>\n",
       "<style scoped>\n",
       "    .dataframe tbody tr th:only-of-type {\n",
       "        vertical-align: middle;\n",
       "    }\n",
       "\n",
       "    .dataframe tbody tr th {\n",
       "        vertical-align: top;\n",
       "    }\n",
       "\n",
       "    .dataframe thead th {\n",
       "        text-align: right;\n",
       "    }\n",
       "</style>\n",
       "<table border=\"1\" class=\"dataframe\">\n",
       "  <thead>\n",
       "    <tr style=\"text-align: right;\">\n",
       "      <th></th>\n",
       "      <th>sepal_length</th>\n",
       "      <th>sepal_width</th>\n",
       "      <th>petal_length</th>\n",
       "      <th>petal_width</th>\n",
       "    </tr>\n",
       "  </thead>\n",
       "  <tbody>\n",
       "    <tr>\n",
       "      <th>count</th>\n",
       "      <td>150.000000</td>\n",
       "      <td>150.000000</td>\n",
       "      <td>150.000000</td>\n",
       "      <td>150.000000</td>\n",
       "    </tr>\n",
       "    <tr>\n",
       "      <th>mean</th>\n",
       "      <td>5.843333</td>\n",
       "      <td>3.054000</td>\n",
       "      <td>3.758667</td>\n",
       "      <td>1.198667</td>\n",
       "    </tr>\n",
       "    <tr>\n",
       "      <th>std</th>\n",
       "      <td>0.828066</td>\n",
       "      <td>0.433594</td>\n",
       "      <td>1.764420</td>\n",
       "      <td>0.763161</td>\n",
       "    </tr>\n",
       "    <tr>\n",
       "      <th>min</th>\n",
       "      <td>4.300000</td>\n",
       "      <td>2.000000</td>\n",
       "      <td>1.000000</td>\n",
       "      <td>0.100000</td>\n",
       "    </tr>\n",
       "    <tr>\n",
       "      <th>25%</th>\n",
       "      <td>5.100000</td>\n",
       "      <td>2.800000</td>\n",
       "      <td>1.600000</td>\n",
       "      <td>0.300000</td>\n",
       "    </tr>\n",
       "    <tr>\n",
       "      <th>50%</th>\n",
       "      <td>5.800000</td>\n",
       "      <td>3.000000</td>\n",
       "      <td>4.350000</td>\n",
       "      <td>1.300000</td>\n",
       "    </tr>\n",
       "    <tr>\n",
       "      <th>75%</th>\n",
       "      <td>6.400000</td>\n",
       "      <td>3.300000</td>\n",
       "      <td>5.100000</td>\n",
       "      <td>1.800000</td>\n",
       "    </tr>\n",
       "    <tr>\n",
       "      <th>max</th>\n",
       "      <td>7.900000</td>\n",
       "      <td>4.400000</td>\n",
       "      <td>6.900000</td>\n",
       "      <td>2.500000</td>\n",
       "    </tr>\n",
       "  </tbody>\n",
       "</table>\n",
       "</div>"
      ],
      "text/plain": [
       "       sepal_length  sepal_width  petal_length  petal_width\n",
       "count    150.000000   150.000000    150.000000   150.000000\n",
       "mean       5.843333     3.054000      3.758667     1.198667\n",
       "std        0.828066     0.433594      1.764420     0.763161\n",
       "min        4.300000     2.000000      1.000000     0.100000\n",
       "25%        5.100000     2.800000      1.600000     0.300000\n",
       "50%        5.800000     3.000000      4.350000     1.300000\n",
       "75%        6.400000     3.300000      5.100000     1.800000\n",
       "max        7.900000     4.400000      6.900000     2.500000"
      ]
     },
     "execution_count": 51,
     "metadata": {},
     "output_type": "execute_result"
    }
   ],
   "source": [
    "Xy_original.describe()"
   ]
  },
  {
   "cell_type": "code",
   "execution_count": 52,
   "metadata": {},
   "outputs": [
    {
     "name": "stdout",
     "output_type": "stream",
     "text": [
      "sepal_length    0\n",
      "sepal_width     0\n",
      "petal_length    0\n",
      "petal_width     0\n",
      "targetVar       0\n",
      "dtype: int64\n",
      "Total number of NaN in the dataframe:  0\n"
     ]
    }
   ],
   "source": [
    "print(Xy_original.isnull().sum())\n",
    "print('Total number of NaN in the dataframe: ', Xy_original.isnull().sum().sum())"
   ]
  },
  {
   "cell_type": "markdown",
   "metadata": {},
   "source": [
    "## 1.c) Feature Scaling and Pre-processing"
   ]
  },
  {
   "cell_type": "code",
   "execution_count": 53,
   "metadata": {},
   "outputs": [],
   "source": [
    "# Use variable totCol to hold the number of columns in the dataframe\n",
    "totCol = len(Xy_original.columns)\n",
    "\n",
    "# Set up variable totAttr for the total number of attribute columns\n",
    "totAttr = totCol-1\n",
    "\n",
    "# targetCol variable indicates the column location of the target/class variable\n",
    "# If the first column, set targetCol to 1. If the last column, set targetCol to totCol\n",
    "# If (targetCol <> 1) and (targetCol <> totCol), be aware when slicing up the dataframes for visualization\n",
    "targetCol = totCol"
   ]
  },
  {
   "cell_type": "code",
   "execution_count": 54,
   "metadata": {},
   "outputs": [
    {
     "name": "stdout",
     "output_type": "stream",
     "text": [
      "Xy_original.shape: (150, 5) X_original.shape: (150, 4) y_original.shape: (150,)\n"
     ]
    }
   ],
   "source": [
    "# We create attribute-only and target-only datasets (X_original and y_original)\n",
    "# for various visualization and cleaning/transformation operations\n",
    "\n",
    "if targetCol == totCol:\n",
    "    X_original = Xy_original.iloc[:,0:totAttr]\n",
    "    y_original = Xy_original.iloc[:,totAttr]\n",
    "else:\n",
    "    X_original = Xy_original.iloc[:,1:totCol]\n",
    "    y_original = Xy_original.iloc[:,0]\n",
    "\n",
    "print(\"Xy_original.shape: {} X_original.shape: {} y_original.shape: {}\".format(Xy_original.shape, X_original.shape, y_original.shape))"
   ]
  },
  {
   "cell_type": "code",
   "execution_count": 55,
   "metadata": {},
   "outputs": [],
   "source": [
    "# Set up the number of row and columns for visualization display. dispRow * dispCol should be >= totAttr\n",
    "dispCol = 4\n",
    "if totAttr % dispCol == 0 :\n",
    "    dispRow = totAttr // dispCol\n",
    "else :\n",
    "    dispRow = (totAttr // dispCol) + 1\n",
    "    \n",
    "# Set figure width to display the data visualization plots\n",
    "fig_size = plt.rcParams[\"figure.figsize\"]\n",
    "fig_size[0] = dispCol*4\n",
    "fig_size[1] = dispRow*4\n",
    "plt.rcParams[\"figure.figsize\"] = fig_size"
   ]
  },
  {
   "cell_type": "code",
   "execution_count": 56,
   "metadata": {},
   "outputs": [
    {
     "data": {
      "image/png": "[encoded data removed]",
      "text/plain": [
       "<Figure size 1152x288 with 4 Axes>"
      ]
     },
     "metadata": {
      "needs_background": "light"
     },
     "output_type": "display_data"
    }
   ],
   "source": [
    "# Histograms for each attribute before pre-processing\n",
    "X_original.hist(layout=(dispRow,dispCol))\n",
    "plt.show()"
   ]
  },
  {
   "cell_type": "code",
   "execution_count": 57,
   "metadata": {},
   "outputs": [],
   "source": [
    "# Apply feature scaling and transformation\n",
    "\n",
    "# X_colNames = list(X_original.columns)\n",
    "# X_scaled = preprocessing.scale(X_original[X_colNames])\n",
    "# X_scaled = preprocessing.normalize(X_original[X_colNames])\n",
    "# X_original = pd.DataFrame(X_scaled, columns=X_colNames)"
   ]
  },
  {
   "cell_type": "code",
   "execution_count": 58,
   "metadata": {},
   "outputs": [],
   "source": [
    "# Histograms for each attribute after pre-processing\n",
    "# X_original.hist(layout=(dispRow,dispCol))\n",
    "# plt.show()"
   ]
  },
  {
   "cell_type": "markdown",
   "metadata": {},
   "source": [
    "## 1.d) Splitting Data into Training and Test Sets"
   ]
  },
  {
   "cell_type": "code",
   "execution_count": 59,
   "metadata": {},
   "outputs": [
    {
     "name": "stdout",
     "output_type": "stream",
     "text": [
      "[[1. 0. 0.]\n",
      " [1. 0. 0.]\n",
      " [1. 0. 0.]\n",
      " [1. 0. 0.]\n",
      " [1. 0. 0.]\n",
      " [1. 0. 0.]\n",
      " [1. 0. 0.]\n",
      " [1. 0. 0.]\n",
      " [1. 0. 0.]\n",
      " [1. 0. 0.]\n",
      " [1. 0. 0.]\n",
      " [1. 0. 0.]\n",
      " [1. 0. 0.]\n",
      " [1. 0. 0.]\n",
      " [1. 0. 0.]\n",
      " [1. 0. 0.]\n",
      " [1. 0. 0.]\n",
      " [1. 0. 0.]\n",
      " [1. 0. 0.]\n",
      " [1. 0. 0.]\n",
      " [1. 0. 0.]\n",
      " [1. 0. 0.]\n",
      " [1. 0. 0.]\n",
      " [1. 0. 0.]\n",
      " [1. 0. 0.]\n",
      " [1. 0. 0.]\n",
      " [1. 0. 0.]\n",
      " [1. 0. 0.]\n",
      " [1. 0. 0.]\n",
      " [1. 0. 0.]\n",
      " [1. 0. 0.]\n",
      " [1. 0. 0.]\n",
      " [1. 0. 0.]\n",
      " [1. 0. 0.]\n",
      " [1. 0. 0.]\n",
      " [1. 0. 0.]\n",
      " [1. 0. 0.]\n",
      " [1. 0. 0.]\n",
      " [1. 0. 0.]\n",
      " [1. 0. 0.]\n",
      " [1. 0. 0.]\n",
      " [1. 0. 0.]\n",
      " [1. 0. 0.]\n",
      " [1. 0. 0.]\n",
      " [1. 0. 0.]\n",
      " [1. 0. 0.]\n",
      " [1. 0. 0.]\n",
      " [1. 0. 0.]\n",
      " [1. 0. 0.]\n",
      " [1. 0. 0.]\n",
      " [0. 1. 0.]\n",
      " [0. 1. 0.]\n",
      " [0. 1. 0.]\n",
      " [0. 1. 0.]\n",
      " [0. 1. 0.]\n",
      " [0. 1. 0.]\n",
      " [0. 1. 0.]\n",
      " [0. 1. 0.]\n",
      " [0. 1. 0.]\n",
      " [0. 1. 0.]\n",
      " [0. 1. 0.]\n",
      " [0. 1. 0.]\n",
      " [0. 1. 0.]\n",
      " [0. 1. 0.]\n",
      " [0. 1. 0.]\n",
      " [0. 1. 0.]\n",
      " [0. 1. 0.]\n",
      " [0. 1. 0.]\n",
      " [0. 1. 0.]\n",
      " [0. 1. 0.]\n",
      " [0. 1. 0.]\n",
      " [0. 1. 0.]\n",
      " [0. 1. 0.]\n",
      " [0. 1. 0.]\n",
      " [0. 1. 0.]\n",
      " [0. 1. 0.]\n",
      " [0. 1. 0.]\n",
      " [0. 1. 0.]\n",
      " [0. 1. 0.]\n",
      " [0. 1. 0.]\n",
      " [0. 1. 0.]\n",
      " [0. 1. 0.]\n",
      " [0. 1. 0.]\n",
      " [0. 1. 0.]\n",
      " [0. 1. 0.]\n",
      " [0. 1. 0.]\n",
      " [0. 1. 0.]\n",
      " [0. 1. 0.]\n",
      " [0. 1. 0.]\n",
      " [0. 1. 0.]\n",
      " [0. 1. 0.]\n",
      " [0. 1. 0.]\n",
      " [0. 1. 0.]\n",
      " [0. 1. 0.]\n",
      " [0. 1. 0.]\n",
      " [0. 1. 0.]\n",
      " [0. 1. 0.]\n",
      " [0. 1. 0.]\n",
      " [0. 1. 0.]\n",
      " [0. 1. 0.]\n",
      " [0. 0. 1.]\n",
      " [0. 0. 1.]\n",
      " [0. 0. 1.]\n",
      " [0. 0. 1.]\n",
      " [0. 0. 1.]\n",
      " [0. 0. 1.]\n",
      " [0. 0. 1.]\n",
      " [0. 0. 1.]\n",
      " [0. 0. 1.]\n",
      " [0. 0. 1.]\n",
      " [0. 0. 1.]\n",
      " [0. 0. 1.]\n",
      " [0. 0. 1.]\n",
      " [0. 0. 1.]\n",
      " [0. 0. 1.]\n",
      " [0. 0. 1.]\n",
      " [0. 0. 1.]\n",
      " [0. 0. 1.]\n",
      " [0. 0. 1.]\n",
      " [0. 0. 1.]\n",
      " [0. 0. 1.]\n",
      " [0. 0. 1.]\n",
      " [0. 0. 1.]\n",
      " [0. 0. 1.]\n",
      " [0. 0. 1.]\n",
      " [0. 0. 1.]\n",
      " [0. 0. 1.]\n",
      " [0. 0. 1.]\n",
      " [0. 0. 1.]\n",
      " [0. 0. 1.]\n",
      " [0. 0. 1.]\n",
      " [0. 0. 1.]\n",
      " [0. 0. 1.]\n",
      " [0. 0. 1.]\n",
      " [0. 0. 1.]\n",
      " [0. 0. 1.]\n",
      " [0. 0. 1.]\n",
      " [0. 0. 1.]\n",
      " [0. 0. 1.]\n",
      " [0. 0. 1.]\n",
      " [0. 0. 1.]\n",
      " [0. 0. 1.]\n",
      " [0. 0. 1.]\n",
      " [0. 0. 1.]\n",
      " [0. 0. 1.]\n",
      " [0. 0. 1.]\n",
      " [0. 0. 1.]\n",
      " [0. 0. 1.]\n",
      " [0. 0. 1.]\n",
      " [0. 0. 1.]]\n"
     ]
    }
   ],
   "source": [
    "# Encode class values as integers and perform one-hot-encoding\n",
    "encoder = preprocessing.LabelEncoder()\n",
    "encoder.fit(y_original)\n",
    "y_transformed = encoder.transform(y_original)\n",
    "y_encoded = np_utils.to_categorical(y_transformed)\n",
    "print(y_encoded)"
   ]
  },
  {
   "cell_type": "code",
   "execution_count": 60,
   "metadata": {},
   "outputs": [
    {
     "name": "stdout",
     "output_type": "stream",
     "text": [
      "X_train.shape: (112, 4) X_train.type: <class 'numpy.ndarray'>\n",
      "y_train.shape: (112, 3) y_train.type: <class 'numpy.ndarray'>\n",
      "X_test.shape: (38, 4) X_test.type: <class 'numpy.ndarray'>\n",
      "y_test.shape: (38, 3) y_test.type: <class 'numpy.ndarray'>\n"
     ]
    }
   ],
   "source": [
    "X_encoded = X_original.values\n",
    "if (splitDataset):\n",
    "    X_train, X_test, y_train, y_test = train_test_split(X_encoded, y_encoded, test_size=splitPercentage, random_state=seedNum)\n",
    "else:\n",
    "    X_train, y_train = X_encoded, y_encoded\n",
    "    X_test, y_test = X_encoded, y_encoded\n",
    "print(\"X_train.shape: {} X_train.type: {}\".format(X_train.shape, type(X_train)))\n",
    "print(\"y_train.shape: {} y_train.type: {}\".format(y_train.shape, type(y_train)))\n",
    "print(\"X_test.shape: {} X_test.type: {}\".format(X_test.shape, type(X_test)))\n",
    "print(\"y_test.shape: {} y_test.type: {}\".format(y_test.shape, type(y_test)))"
   ]
  },
  {
   "cell_type": "code",
   "execution_count": 61,
   "metadata": {},
   "outputs": [],
   "source": [
    "if (notifyStatus): email_notify(\"Phase 1 Load Data completed! \"+datetime.now().strftime('%a %B %d, %Y %I:%M:%S %p'))"
   ]
  },
  {
   "cell_type": "markdown",
   "metadata": {},
   "source": [
    "# Section 2. Define Model"
   ]
  },
  {
   "cell_type": "code",
   "execution_count": 62,
   "metadata": {},
   "outputs": [],
   "source": [
    "if (notifyStatus): email_notify(\"Phase 2 Define Model has begun! \"+datetime.now().strftime('%a %B %d, %Y %I:%M:%S %p'))"
   ]
  },
  {
   "cell_type": "code",
   "execution_count": 63,
   "metadata": {},
   "outputs": [],
   "source": [
    "# Define the Keras model required for KerasClassifier\n",
    "def create_default_model():\n",
    "    default_model = K.models.Sequential()\n",
    "    default_model.add(Dense(8, input_dim=4, kernel_initializer=default_kernel_init, activation='relu'))\n",
    "    default_model.add(Dense(3, kernel_initializer=default_kernel_init, activation='softmax'))\n",
    "    default_model.compile(loss=default_loss, optimizer=default_optimizer, metrics=default_metrics)\n",
    "    return default_model"
   ]
  },
  {
   "cell_type": "code",
   "execution_count": 64,
   "metadata": {},
   "outputs": [],
   "source": [
    "# Initialize the Keras model\n",
    "cv_model = KerasClassifier(build_fn=create_default_model, epochs=default_epochs, batch_size=default_batches, verbose=0)"
   ]
  },
  {
   "cell_type": "code",
   "execution_count": 65,
   "metadata": {},
   "outputs": [],
   "source": [
    "if (notifyStatus): email_notify(\"Phase 2 Define Model completed! \"+datetime.now().strftime('%a %B %d, %Y %I:%M:%S %p'))"
   ]
  },
  {
   "cell_type": "markdown",
   "metadata": {},
   "source": [
    "# Section 3. Fit and Evaluate Model"
   ]
  },
  {
   "cell_type": "code",
   "execution_count": 66,
   "metadata": {},
   "outputs": [],
   "source": [
    "if (notifyStatus): email_notify(\"Phase 3 Fit and Evaluate Model has begun! \"+datetime.now().strftime('%a %B %d, %Y %I:%M:%S %p'))"
   ]
  },
  {
   "cell_type": "code",
   "execution_count": 67,
   "metadata": {},
   "outputs": [
    {
     "name": "stdout",
     "output_type": "stream",
     "text": [
      "Executing op RandomStandardNormal in device /job:localhost/replica:0/task:0/device:CPU:0\n",
      "Executing op Mul in device /job:localhost/replica:0/task:0/device:CPU:0\n",
      "Executing op Add in device /job:localhost/replica:0/task:0/device:CPU:0\n",
      "Executing op VarHandleOp in device /job:localhost/replica:0/task:0/device:CPU:0\n",
      "Executing op VarIsInitializedOp in device /job:localhost/replica:0/task:0/device:CPU:0\n",
      "Executing op LogicalNot in device /job:localhost/replica:0/task:0/device:CPU:0\n",
      "Executing op Assert in device /job:localhost/replica:0/task:0/device:CPU:0\n",
      "Executing op AssignVariableOp in device /job:localhost/replica:0/task:0/device:CPU:0\n",
      "Executing op Fill in device /job:localhost/replica:0/task:0/device:CPU:0\n",
      "Executing op VarHandleOp in device /job:localhost/replica:0/task:0/device:CPU:0\n",
      "Executing op RandomStandardNormal in device /job:localhost/replica:0/task:0/device:CPU:0\n",
      "Executing op VarHandleOp in device /job:localhost/replica:0/task:0/device:CPU:0\n",
      "Executing op VarHandleOp in device /job:localhost/replica:0/task:0/device:CPU:0\n",
      "Executing op VarHandleOp in device /job:localhost/replica:0/task:0/device:CPU:0\n",
      "Executing op AssignVariableOp in device /job:localhost/replica:0/task:0/device:CPU:0\n",
      "Executing op VarHandleOp in device /job:localhost/replica:0/task:0/device:CPU:0\n",
      "Executing op Reshape in device /job:localhost/replica:0/task:0/device:CPU:0\n",
      "Executing op VarHandleOp in device /job:localhost/replica:0/task:0/device:CPU:0\n",
      "Executing op __inference_keras_scratch_graph_742 in device /job:localhost/replica:0/task:0/device:CPU:0\n",
      "Executing op __inference_keras_scratch_graph_13220 in device /job:localhost/replica:0/task:0/device:CPU:0\n",
      "Executing op RandomStandardNormal in device /job:localhost/replica:0/task:0/device:CPU:0\n",
      "Executing op RandomStandardNormal in device /job:localhost/replica:0/task:0/device:CPU:0\n",
      "Executing op __inference_keras_scratch_graph_13978 in device /job:localhost/replica:0/task:0/device:CPU:0\n",
      "Executing op DestroyResourceOp in device /job:localhost/replica:0/task:0/device:CPU:0\n",
      "Executing op __inference_keras_scratch_graph_26456 in device /job:localhost/replica:0/task:0/device:CPU:0\n",
      "Executing op RandomStandardNormal in device /job:localhost/replica:0/task:0/device:CPU:0\n",
      "Executing op RandomStandardNormal in device /job:localhost/replica:0/task:0/device:CPU:0\n",
      "Executing op __inference_keras_scratch_graph_27214 in device /job:localhost/replica:0/task:0/device:CPU:0\n",
      "Executing op __inference_keras_scratch_graph_39692 in device /job:localhost/replica:0/task:0/device:CPU:0\n",
      "Executing op RandomStandardNormal in device /job:localhost/replica:0/task:0/device:CPU:0\n",
      "Executing op RandomStandardNormal in device /job:localhost/replica:0/task:0/device:CPU:0\n",
      "Executing op __inference_keras_scratch_graph_40450 in device /job:localhost/replica:0/task:0/device:CPU:0\n",
      "Executing op __inference_keras_scratch_graph_52928 in device /job:localhost/replica:0/task:0/device:CPU:0\n",
      "Executing op RandomStandardNormal in device /job:localhost/replica:0/task:0/device:CPU:0\n",
      "Executing op RandomStandardNormal in device /job:localhost/replica:0/task:0/device:CPU:0\n",
      "Executing op __inference_keras_scratch_graph_53686 in device /job:localhost/replica:0/task:0/device:CPU:0\n",
      "Executing op __inference_keras_scratch_graph_66164 in device /job:localhost/replica:0/task:0/device:CPU:0\n",
      "Generating results using the metrics of ['accuracy']\n",
      "All cross-Validate results: [1.         0.95652175 1.         0.95454544 0.95454544]\n",
      "Baseline results [mean (std)]: 97.31% (2.20%)\n",
      "Total time for performing cross-validation of the default model: 0:00:33.542115\n"
     ]
    }
   ],
   "source": [
    "startTimeModule = datetime.now()\n",
    "\n",
    "# Fit and evaluate the Keras model using 10-fold cross validation\n",
    "kfold = KFold(n_splits=n_folds, shuffle=True, random_state=seedNum)\n",
    "results = cross_val_score(cv_model, X_train, y_train, cv=kfold)\n",
    "print('Generating results using the metrics of', default_metrics)\n",
    "print('All cross-Validate results:', results)\n",
    "print('Baseline results [mean (std)]: %.2f%% (%.2f%%)' % (results.mean()*100, results.std()*100))\n",
    "\n",
    "print('Total time for performing cross-validation of the default model:', (datetime.now() - startTimeModule))"
   ]
  },
  {
   "cell_type": "code",
   "execution_count": 68,
   "metadata": {},
   "outputs": [],
   "source": [
    "if (notifyStatus): email_notify(\"Phase 3 Fit and Evaluate Model completed! \"+datetime.now().strftime('%a %B %d, %Y %I:%M:%S %p'))"
   ]
  },
  {
   "cell_type": "markdown",
   "metadata": {},
   "source": [
    "# Section 4. Optimize Model"
   ]
  },
  {
   "cell_type": "code",
   "execution_count": 69,
   "metadata": {},
   "outputs": [],
   "source": [
    "if (notifyStatus): email_notify(\"Phase 4 Optimize Model has begun! \"+datetime.now().strftime('%a %B %d, %Y %I:%M:%S %p'))"
   ]
  },
  {
   "cell_type": "code",
   "execution_count": 70,
   "metadata": {},
   "outputs": [],
   "source": [
    "# Define the Keras model required for KerasClassifier\n",
    "def create_customized_model(optimizer, kernel_init):\n",
    "    customized_model = K.models.Sequential()\n",
    "    customized_model.add(Dense(8, input_dim=4, kernel_initializer=kernel_init, activation='relu'))\n",
    "    customized_model.add(Dense(3, kernel_initializer=kernel_init, activation='softmax'))\n",
    "    customized_model.compile(loss=default_loss, optimizer=optimizer, metrics=default_metrics)\n",
    "    return customized_model"
   ]
  },
  {
   "cell_type": "code",
   "execution_count": 71,
   "metadata": {},
   "outputs": [
    {
     "name": "stdout",
     "output_type": "stream",
     "text": [
      "Fitting 5 folds for each of 54 candidates, totalling 270 fits\n"
     ]
    },
    {
     "name": "stderr",
     "output_type": "stream",
     "text": [
      "[Parallel(n_jobs=-1)]: Using backend LokyBackend with 12 concurrent workers.\n"
     ]
    },
    {
     "name": "stdout",
     "output_type": "stream",
     "text": [
      "Executing op ReadVariableOp in device /job:localhost/replica:0/task:0/device:CPU:0\n",
      "Executing op ReadVariableOp in device /job:localhost/replica:0/task:0/device:CPU:0\n"
     ]
    },
    {
     "name": "stderr",
     "output_type": "stream",
     "text": [
      "[Parallel(n_jobs=-1)]: Done   8 tasks      | elapsed:   19.4s\n",
      "[Parallel(n_jobs=-1)]: Done 104 tasks      | elapsed:  1.8min\n",
      "[Parallel(n_jobs=-1)]: Done 270 out of 270 | elapsed:  3.2min finished\n"
     ]
    },
    {
     "name": "stdout",
     "output_type": "stream",
     "text": [
      "Executing op __inference_keras_scratch_graph_67988 in device /job:localhost/replica:0/task:0/device:CPU:0\n",
      "Best: 0.973214 using {'batch_size': 8, 'epochs': 100, 'kernel_init': <keras.initializers.RandomNormal object at 0x7fb9c06a50d0>, 'optimizer': <keras.optimizers.RMSprop object at 0x7fb9c8466e10>}\n",
      "0.973214 (0.034979) with: {'batch_size': 8, 'epochs': 100, 'kernel_init': <keras.initializers.RandomNormal object at 0x7fb9c06a50d0>, 'optimizer': <keras.optimizers.RMSprop object at 0x7fb9c8466e10>}\n",
      "0.973214 (0.034979) with: {'batch_size': 8, 'epochs': 100, 'kernel_init': <keras.initializers.RandomNormal object at 0x7fb9c06a50d0>, 'optimizer': <keras.optimizers.Adam object at 0x7fb9c06a5a90>}\n",
      "0.919643 (0.033356) with: {'batch_size': 8, 'epochs': 100, 'kernel_init': <keras.initializers.VarianceScaling object at 0x7fb9d0136610>, 'optimizer': <keras.optimizers.RMSprop object at 0x7fb9c8466e10>}\n",
      "0.821429 (0.140509) with: {'batch_size': 8, 'epochs': 100, 'kernel_init': <keras.initializers.VarianceScaling object at 0x7fb9d0136610>, 'optimizer': <keras.optimizers.Adam object at 0x7fb9c06a5a90>}\n",
      "0.973214 (0.021558) with: {'batch_size': 8, 'epochs': 100, 'kernel_init': <keras.initializers.Orthogonal object at 0x7fb9c06a5a10>, 'optimizer': <keras.optimizers.RMSprop object at 0x7fb9c8466e10>}\n",
      "0.973214 (0.021558) with: {'batch_size': 8, 'epochs': 100, 'kernel_init': <keras.initializers.Orthogonal object at 0x7fb9c06a5a10>, 'optimizer': <keras.optimizers.Adam object at 0x7fb9c06a5a90>}\n",
      "0.973214 (0.034979) with: {'batch_size': 8, 'epochs': 150, 'kernel_init': <keras.initializers.RandomNormal object at 0x7fb9c06a50d0>, 'optimizer': <keras.optimizers.RMSprop object at 0x7fb9c8466e10>}\n",
      "0.973214 (0.034979) with: {'batch_size': 8, 'epochs': 150, 'kernel_init': <keras.initializers.RandomNormal object at 0x7fb9c06a50d0>, 'optimizer': <keras.optimizers.Adam object at 0x7fb9c06a5a90>}\n",
      "0.964286 (0.032731) with: {'batch_size': 8, 'epochs': 150, 'kernel_init': <keras.initializers.VarianceScaling object at 0x7fb9d0136610>, 'optimizer': <keras.optimizers.RMSprop object at 0x7fb9c8466e10>}\n",
      "0.946429 (0.042706) with: {'batch_size': 8, 'epochs': 150, 'kernel_init': <keras.initializers.VarianceScaling object at 0x7fb9d0136610>, 'optimizer': <keras.optimizers.Adam object at 0x7fb9c06a5a90>}\n",
      "0.973214 (0.021558) with: {'batch_size': 8, 'epochs': 150, 'kernel_init': <keras.initializers.Orthogonal object at 0x7fb9c06a5a10>, 'optimizer': <keras.optimizers.RMSprop object at 0x7fb9c8466e10>}\n",
      "0.964286 (0.032731) with: {'batch_size': 8, 'epochs': 150, 'kernel_init': <keras.initializers.Orthogonal object at 0x7fb9c06a5a10>, 'optimizer': <keras.optimizers.Adam object at 0x7fb9c06a5a90>}\n",
      "0.973214 (0.034979) with: {'batch_size': 8, 'epochs': 200, 'kernel_init': <keras.initializers.RandomNormal object at 0x7fb9c06a50d0>, 'optimizer': <keras.optimizers.RMSprop object at 0x7fb9c8466e10>}\n",
      "0.964286 (0.032731) with: {'batch_size': 8, 'epochs': 200, 'kernel_init': <keras.initializers.RandomNormal object at 0x7fb9c06a50d0>, 'optimizer': <keras.optimizers.Adam object at 0x7fb9c06a5a90>}\n",
      "0.964286 (0.032731) with: {'batch_size': 8, 'epochs': 200, 'kernel_init': <keras.initializers.VarianceScaling object at 0x7fb9d0136610>, 'optimizer': <keras.optimizers.RMSprop object at 0x7fb9c8466e10>}\n",
      "0.964286 (0.017680) with: {'batch_size': 8, 'epochs': 200, 'kernel_init': <keras.initializers.VarianceScaling object at 0x7fb9d0136610>, 'optimizer': <keras.optimizers.Adam object at 0x7fb9c06a5a90>}\n",
      "0.973214 (0.035230) with: {'batch_size': 8, 'epochs': 200, 'kernel_init': <keras.initializers.Orthogonal object at 0x7fb9c06a5a10>, 'optimizer': <keras.optimizers.RMSprop object at 0x7fb9c8466e10>}\n",
      "0.964286 (0.032731) with: {'batch_size': 8, 'epochs': 200, 'kernel_init': <keras.initializers.Orthogonal object at 0x7fb9c06a5a10>, 'optimizer': <keras.optimizers.Adam object at 0x7fb9c06a5a90>}\n",
      "0.767857 (0.154337) with: {'batch_size': 16, 'epochs': 100, 'kernel_init': <keras.initializers.RandomNormal object at 0x7fb9c06a50d0>, 'optimizer': <keras.optimizers.RMSprop object at 0x7fb9c8466e10>}\n",
      "0.776786 (0.083416) with: {'batch_size': 16, 'epochs': 100, 'kernel_init': <keras.initializers.RandomNormal object at 0x7fb9c06a50d0>, 'optimizer': <keras.optimizers.Adam object at 0x7fb9c06a5a90>}\n",
      "0.928571 (0.045409) with: {'batch_size': 16, 'epochs': 100, 'kernel_init': <keras.initializers.VarianceScaling object at 0x7fb9d0136610>, 'optimizer': <keras.optimizers.RMSprop object at 0x7fb9c8466e10>}\n",
      "0.750000 (0.120435) with: {'batch_size': 16, 'epochs': 100, 'kernel_init': <keras.initializers.VarianceScaling object at 0x7fb9d0136610>, 'optimizer': <keras.optimizers.Adam object at 0x7fb9c06a5a90>}\n",
      "0.928571 (0.022171) with: {'batch_size': 16, 'epochs': 100, 'kernel_init': <keras.initializers.Orthogonal object at 0x7fb9c06a5a10>, 'optimizer': <keras.optimizers.RMSprop object at 0x7fb9c8466e10>}\n",
      "0.875000 (0.119663) with: {'batch_size': 16, 'epochs': 100, 'kernel_init': <keras.initializers.Orthogonal object at 0x7fb9c06a5a10>, 'optimizer': <keras.optimizers.Adam object at 0x7fb9c06a5a90>}\n",
      "0.964286 (0.032731) with: {'batch_size': 16, 'epochs': 150, 'kernel_init': <keras.initializers.RandomNormal object at 0x7fb9c06a50d0>, 'optimizer': <keras.optimizers.RMSprop object at 0x7fb9c8466e10>}\n",
      "0.883929 (0.170449) with: {'batch_size': 16, 'epochs': 150, 'kernel_init': <keras.initializers.RandomNormal object at 0x7fb9c06a50d0>, 'optimizer': <keras.optimizers.Adam object at 0x7fb9c06a5a90>}\n",
      "0.964286 (0.017680) with: {'batch_size': 16, 'epochs': 150, 'kernel_init': <keras.initializers.VarianceScaling object at 0x7fb9d0136610>, 'optimizer': <keras.optimizers.RMSprop object at 0x7fb9c8466e10>}\n",
      "0.875000 (0.098469) with: {'batch_size': 16, 'epochs': 150, 'kernel_init': <keras.initializers.VarianceScaling object at 0x7fb9d0136610>, 'optimizer': <keras.optimizers.Adam object at 0x7fb9c06a5a90>}\n",
      "0.964286 (0.032731) with: {'batch_size': 16, 'epochs': 150, 'kernel_init': <keras.initializers.Orthogonal object at 0x7fb9c06a5a10>, 'optimizer': <keras.optimizers.RMSprop object at 0x7fb9c8466e10>}\n",
      "0.964286 (0.032731) with: {'batch_size': 16, 'epochs': 150, 'kernel_init': <keras.initializers.Orthogonal object at 0x7fb9c06a5a10>, 'optimizer': <keras.optimizers.Adam object at 0x7fb9c06a5a90>}\n",
      "0.919643 (0.104937) with: {'batch_size': 16, 'epochs': 200, 'kernel_init': <keras.initializers.RandomNormal object at 0x7fb9c06a50d0>, 'optimizer': <keras.optimizers.RMSprop object at 0x7fb9c8466e10>}\n",
      "0.830357 (0.179945) with: {'batch_size': 16, 'epochs': 200, 'kernel_init': <keras.initializers.RandomNormal object at 0x7fb9c06a50d0>, 'optimizer': <keras.optimizers.Adam object at 0x7fb9c06a5a90>}\n",
      "0.973214 (0.034979) with: {'batch_size': 16, 'epochs': 200, 'kernel_init': <keras.initializers.VarianceScaling object at 0x7fb9d0136610>, 'optimizer': <keras.optimizers.RMSprop object at 0x7fb9c8466e10>}\n",
      "0.946429 (0.044328) with: {'batch_size': 16, 'epochs': 200, 'kernel_init': <keras.initializers.VarianceScaling object at 0x7fb9d0136610>, 'optimizer': <keras.optimizers.Adam object at 0x7fb9c06a5a90>}\n",
      "0.964286 (0.032731) with: {'batch_size': 16, 'epochs': 200, 'kernel_init': <keras.initializers.Orthogonal object at 0x7fb9c06a5a10>, 'optimizer': <keras.optimizers.RMSprop object at 0x7fb9c8466e10>}\n",
      "0.964286 (0.032731) with: {'batch_size': 16, 'epochs': 200, 'kernel_init': <keras.initializers.Orthogonal object at 0x7fb9c06a5a10>, 'optimizer': <keras.optimizers.Adam object at 0x7fb9c06a5a90>}\n",
      "0.687500 (0.091611) with: {'batch_size': 32, 'epochs': 100, 'kernel_init': <keras.initializers.RandomNormal object at 0x7fb9c06a50d0>, 'optimizer': <keras.optimizers.RMSprop object at 0x7fb9c8466e10>}\n",
      "0.696429 (0.105130) with: {'batch_size': 32, 'epochs': 100, 'kernel_init': <keras.initializers.RandomNormal object at 0x7fb9c06a50d0>, 'optimizer': <keras.optimizers.Adam object at 0x7fb9c06a5a90>}\n",
      "0.892857 (0.070719) with: {'batch_size': 32, 'epochs': 100, 'kernel_init': <keras.initializers.VarianceScaling object at 0x7fb9d0136610>, 'optimizer': <keras.optimizers.RMSprop object at 0x7fb9c8466e10>}\n",
      "0.839286 (0.070942) with: {'batch_size': 32, 'epochs': 100, 'kernel_init': <keras.initializers.VarianceScaling object at 0x7fb9d0136610>, 'optimizer': <keras.optimizers.Adam object at 0x7fb9c06a5a90>}\n",
      "0.705357 (0.110106) with: {'batch_size': 32, 'epochs': 100, 'kernel_init': <keras.initializers.Orthogonal object at 0x7fb9c06a5a10>, 'optimizer': <keras.optimizers.RMSprop object at 0x7fb9c8466e10>}\n",
      "0.669643 (0.070922) with: {'batch_size': 32, 'epochs': 100, 'kernel_init': <keras.initializers.Orthogonal object at 0x7fb9c06a5a10>, 'optimizer': <keras.optimizers.Adam object at 0x7fb9c06a5a90>}\n",
      "0.750000 (0.163015) with: {'batch_size': 32, 'epochs': 150, 'kernel_init': <keras.initializers.RandomNormal object at 0x7fb9c06a50d0>, 'optimizer': <keras.optimizers.RMSprop object at 0x7fb9c8466e10>}\n",
      "0.830357 (0.149820) with: {'batch_size': 32, 'epochs': 150, 'kernel_init': <keras.initializers.RandomNormal object at 0x7fb9c06a50d0>, 'optimizer': <keras.optimizers.Adam object at 0x7fb9c06a5a90>}\n",
      "0.946429 (0.043117) with: {'batch_size': 32, 'epochs': 150, 'kernel_init': <keras.initializers.VarianceScaling object at 0x7fb9d0136610>, 'optimizer': <keras.optimizers.RMSprop object at 0x7fb9c8466e10>}\n",
      "0.901786 (0.074712) with: {'batch_size': 32, 'epochs': 150, 'kernel_init': <keras.initializers.VarianceScaling object at 0x7fb9d0136610>, 'optimizer': <keras.optimizers.Adam object at 0x7fb9c06a5a90>}\n",
      "0.919643 (0.034140) with: {'batch_size': 32, 'epochs': 150, 'kernel_init': <keras.initializers.Orthogonal object at 0x7fb9c06a5a10>, 'optimizer': <keras.optimizers.RMSprop object at 0x7fb9c8466e10>}\n",
      "0.776786 (0.137043) with: {'batch_size': 32, 'epochs': 150, 'kernel_init': <keras.initializers.Orthogonal object at 0x7fb9c06a5a10>, 'optimizer': <keras.optimizers.Adam object at 0x7fb9c06a5a90>}\n",
      "0.875000 (0.131669) with: {'batch_size': 32, 'epochs': 200, 'kernel_init': <keras.initializers.RandomNormal object at 0x7fb9c06a50d0>, 'optimizer': <keras.optimizers.RMSprop object at 0x7fb9c8466e10>}\n",
      "0.866071 (0.111018) with: {'batch_size': 32, 'epochs': 200, 'kernel_init': <keras.initializers.RandomNormal object at 0x7fb9c06a50d0>, 'optimizer': <keras.optimizers.Adam object at 0x7fb9c06a5a90>}\n",
      "0.964286 (0.032731) with: {'batch_size': 32, 'epochs': 200, 'kernel_init': <keras.initializers.VarianceScaling object at 0x7fb9d0136610>, 'optimizer': <keras.optimizers.RMSprop object at 0x7fb9c8466e10>}\n",
      "0.910714 (0.049385) with: {'batch_size': 32, 'epochs': 200, 'kernel_init': <keras.initializers.VarianceScaling object at 0x7fb9d0136610>, 'optimizer': <keras.optimizers.Adam object at 0x7fb9c06a5a90>}\n",
      "0.964286 (0.032731) with: {'batch_size': 32, 'epochs': 200, 'kernel_init': <keras.initializers.Orthogonal object at 0x7fb9c06a5a10>, 'optimizer': <keras.optimizers.RMSprop object at 0x7fb9c8466e10>}\n",
      "0.937500 (0.021675) with: {'batch_size': 32, 'epochs': 200, 'kernel_init': <keras.initializers.Orthogonal object at 0x7fb9c06a5a10>, 'optimizer': <keras.optimizers.Adam object at 0x7fb9c06a5a90>}\n",
      "Total time for performing grid-search of the best parameters: 0:03:17.380031\n"
     ]
    }
   ],
   "source": [
    "startTimeModule = datetime.now()\n",
    "\n",
    "# create model\n",
    "grid_model = KerasClassifier(build_fn=create_customized_model, verbose=0)\n",
    "\n",
    "# Perform grid search using different epochs, batch sizes, and optimizers\n",
    "optz_1 = K.optimizers.RMSprop()\n",
    "optz_2 = K.optimizers.Adam()\n",
    "optimizer_grid = [optz_1, optz_2]\n",
    "init_1 = K.initializers.RandomNormal(seed=seedNum)\n",
    "init_2 = K.initializers.glorot_normal(seed=seedNum)\n",
    "init_3 = K.initializers.Orthogonal(seed=seedNum)\n",
    "init_grid = [init_1, init_2, init_3]\n",
    "epoch_grid = [100, 150, 200]\n",
    "batch_grid = [8, 16, 32]\n",
    "param_grid = dict(optimizer=optimizer_grid, kernel_init=init_grid, epochs=epoch_grid, batch_size=batch_grid)\n",
    "grid = GridSearchCV(estimator=grid_model, param_grid=param_grid, cv=n_folds, n_jobs=n_jobs, verbose=3)\n",
    "# n_iter = (n_folds * len(optimizer_grid) * len(init_grid) * len(epoch_grid) * len(batch_grid)) * 0.30\n",
    "# grid = RandomizedSearchCV(estimator=grid_model, param_grid=param_grid, n_iter=n_iter, cv=n_folds, n_jobs=n_jobs, verbose=3)\n",
    "grid_result = grid.fit(X_train, y_train)\n",
    "\n",
    "# summarize results\n",
    "print(\"Best: %f using %s\" % (grid_result.best_score_, grid_result.best_params_))\n",
    "means = grid_result.cv_results_['mean_test_score']\n",
    "stds = grid_result.cv_results_['std_test_score']\n",
    "params = grid_result.cv_results_['params']\n",
    "for mean, stdev, param in zip(means, stds, params):\n",
    "\tprint(\"%f (%f) with: %r\" % (mean, stdev, param))\n",
    "\n",
    "print('Total time for performing grid-search of the best parameters:', (datetime.now() - startTimeModule))"
   ]
  },
  {
   "cell_type": "code",
   "execution_count": 72,
   "metadata": {},
   "outputs": [],
   "source": [
    "best_optimizer = grid_result.best_params_[\"optimizer\"]\n",
    "best_kernel_init = grid_result.best_params_[\"kernel_init\"]\n",
    "best_epoch = grid_result.best_params_[\"epochs\"]\n",
    "best_batch = grid_result.best_params_[\"batch_size\"]"
   ]
  },
  {
   "cell_type": "code",
   "execution_count": 73,
   "metadata": {},
   "outputs": [
    {
     "name": "stdout",
     "output_type": "stream",
     "text": [
      "Forming the final model using: optimizer=<keras.optimizers.RMSprop object at 0x7fb9c8466e10>, kernel=<keras.initializers.RandomNormal object at 0x7fb9c06a50d0>, epochs=100, batch_size=8\n",
      "Epoch 1/100\n",
      "Executing op __inference_keras_scratch_graph_75713 in device /job:localhost/replica:0/task:0/device:CPU:0\n",
      "112/112 [==============================] - 0s 2ms/step - loss: 1.0988 - accuracy: 0.3125\n",
      "Epoch 2/100\n",
      "112/112 [==============================] - 0s 285us/step - loss: 1.0878 - accuracy: 0.3125\n",
      "Epoch 3/100\n",
      "112/112 [==============================] - 0s 315us/step - loss: 1.0778 - accuracy: 0.3214\n",
      "Epoch 4/100\n",
      "112/112 [==============================] - 0s 314us/step - loss: 1.0670 - accuracy: 0.4286\n",
      "Epoch 5/100\n",
      "112/112 [==============================] - 0s 293us/step - loss: 1.0538 - accuracy: 0.7054\n",
      "Epoch 6/100\n",
      "112/112 [==============================] - 0s 320us/step - loss: 1.0390 - accuracy: 0.6875\n",
      "Epoch 7/100\n",
      "112/112 [==============================] - 0s 295us/step - loss: 1.0237 - accuracy: 0.6875\n",
      "Epoch 8/100\n",
      "112/112 [==============================] - 0s 308us/step - loss: 1.0058 - accuracy: 0.6875\n",
      "Epoch 9/100\n",
      "112/112 [==============================] - 0s 292us/step - loss: 0.9865 - accuracy: 0.6875\n",
      "Epoch 10/100\n",
      "112/112 [==============================] - 0s 350us/step - loss: 0.9668 - accuracy: 0.6875\n",
      "Epoch 11/100\n",
      "112/112 [==============================] - 0s 295us/step - loss: 0.9463 - accuracy: 0.6875\n",
      "Epoch 12/100\n",
      "112/112 [==============================] - 0s 315us/step - loss: 0.9252 - accuracy: 0.6875\n",
      "Epoch 13/100\n",
      "112/112 [==============================] - 0s 268us/step - loss: 0.9043 - accuracy: 0.6875\n",
      "Epoch 14/100\n",
      "112/112 [==============================] - 0s 268us/step - loss: 0.8824 - accuracy: 0.6875\n",
      "Epoch 15/100\n",
      "112/112 [==============================] - 0s 289us/step - loss: 0.8594 - accuracy: 0.6875\n",
      "Epoch 16/100\n",
      "112/112 [==============================] - 0s 272us/step - loss: 0.8370 - accuracy: 0.6875\n",
      "Epoch 17/100\n",
      "112/112 [==============================] - 0s 281us/step - loss: 0.8136 - accuracy: 0.6875\n",
      "Epoch 18/100\n",
      "112/112 [==============================] - 0s 277us/step - loss: 0.7910 - accuracy: 0.6875\n",
      "Epoch 19/100\n",
      "112/112 [==============================] - 0s 276us/step - loss: 0.7673 - accuracy: 0.6875\n",
      "Epoch 20/100\n",
      "112/112 [==============================] - 0s 276us/step - loss: 0.7437 - accuracy: 0.6875\n",
      "Epoch 21/100\n",
      "112/112 [==============================] - 0s 286us/step - loss: 0.7206 - accuracy: 0.6875\n",
      "Epoch 22/100\n",
      "112/112 [==============================] - 0s 297us/step - loss: 0.6977 - accuracy: 0.6875\n",
      "Epoch 23/100\n",
      "112/112 [==============================] - 0s 266us/step - loss: 0.6769 - accuracy: 0.6875\n",
      "Epoch 24/100\n",
      "112/112 [==============================] - 0s 271us/step - loss: 0.6574 - accuracy: 0.6875\n",
      "Epoch 25/100\n",
      "112/112 [==============================] - 0s 271us/step - loss: 0.6398 - accuracy: 0.6875\n",
      "Epoch 26/100\n",
      "112/112 [==============================] - 0s 291us/step - loss: 0.6228 - accuracy: 0.6875\n",
      "Epoch 27/100\n",
      "112/112 [==============================] - 0s 286us/step - loss: 0.6050 - accuracy: 0.6875\n",
      "Epoch 28/100\n",
      "112/112 [==============================] - 0s 282us/step - loss: 0.5894 - accuracy: 0.6875\n",
      "Epoch 29/100\n",
      "112/112 [==============================] - 0s 264us/step - loss: 0.5737 - accuracy: 0.6964\n",
      "Epoch 30/100\n",
      "112/112 [==============================] - 0s 298us/step - loss: 0.5593 - accuracy: 0.6875\n",
      "Epoch 31/100\n",
      "112/112 [==============================] - 0s 286us/step - loss: 0.5451 - accuracy: 0.6875\n",
      "Epoch 32/100\n",
      "112/112 [==============================] - 0s 285us/step - loss: 0.5311 - accuracy: 0.7054\n",
      "Epoch 33/100\n",
      "112/112 [==============================] - 0s 281us/step - loss: 0.5203 - accuracy: 0.6964\n",
      "Epoch 34/100\n",
      "112/112 [==============================] - 0s 297us/step - loss: 0.5089 - accuracy: 0.7054\n",
      "Epoch 35/100\n",
      "112/112 [==============================] - 0s 280us/step - loss: 0.4976 - accuracy: 0.7054\n",
      "Epoch 36/100\n",
      "112/112 [==============================] - 0s 288us/step - loss: 0.4875 - accuracy: 0.7143\n",
      "Epoch 37/100\n",
      "112/112 [==============================] - 0s 292us/step - loss: 0.4764 - accuracy: 0.7054\n",
      "Epoch 38/100\n",
      "112/112 [==============================] - 0s 279us/step - loss: 0.4671 - accuracy: 0.7232\n",
      "Epoch 39/100\n",
      "112/112 [==============================] - 0s 282us/step - loss: 0.4571 - accuracy: 0.7500\n",
      "Epoch 40/100\n",
      "112/112 [==============================] - 0s 306us/step - loss: 0.4484 - accuracy: 0.7857\n",
      "Epoch 41/100\n",
      "112/112 [==============================] - 0s 280us/step - loss: 0.4393 - accuracy: 0.8125\n",
      "Epoch 42/100\n",
      "112/112 [==============================] - 0s 281us/step - loss: 0.4324 - accuracy: 0.8214\n",
      "Epoch 43/100\n",
      "112/112 [==============================] - 0s 287us/step - loss: 0.4249 - accuracy: 0.8393\n",
      "Epoch 44/100\n",
      "112/112 [==============================] - 0s 279us/step - loss: 0.4167 - accuracy: 0.8571\n",
      "Epoch 45/100\n",
      "112/112 [==============================] - 0s 291us/step - loss: 0.4101 - accuracy: 0.8482\n",
      "Epoch 46/100\n",
      "112/112 [==============================] - 0s 286us/step - loss: 0.4022 - accuracy: 0.9107\n",
      "Epoch 47/100\n",
      "112/112 [==============================] - 0s 288us/step - loss: 0.3963 - accuracy: 0.8750\n",
      "Epoch 48/100\n",
      "112/112 [==============================] - 0s 269us/step - loss: 0.3897 - accuracy: 0.9018\n",
      "Epoch 49/100\n",
      "112/112 [==============================] - 0s 275us/step - loss: 0.3836 - accuracy: 0.8571\n",
      "Epoch 50/100\n",
      "112/112 [==============================] - 0s 275us/step - loss: 0.3765 - accuracy: 0.9196\n",
      "Epoch 51/100\n",
      "112/112 [==============================] - 0s 278us/step - loss: 0.3701 - accuracy: 0.9196\n",
      "Epoch 52/100\n",
      "112/112 [==============================] - 0s 287us/step - loss: 0.3650 - accuracy: 0.9732\n",
      "Epoch 53/100\n",
      "112/112 [==============================] - 0s 289us/step - loss: 0.3586 - accuracy: 0.9554\n",
      "Epoch 54/100\n",
      "112/112 [==============================] - 0s 283us/step - loss: 0.3533 - accuracy: 0.9196\n",
      "Epoch 55/100\n",
      "112/112 [==============================] - 0s 270us/step - loss: 0.3497 - accuracy: 0.9375\n",
      "Epoch 56/100\n",
      "112/112 [==============================] - 0s 283us/step - loss: 0.3435 - accuracy: 0.9375\n",
      "Epoch 57/100\n",
      "112/112 [==============================] - 0s 244us/step - loss: 0.3394 - accuracy: 0.9732\n",
      "Epoch 58/100\n",
      "112/112 [==============================] - 0s 270us/step - loss: 0.3345 - accuracy: 0.9375\n",
      "Epoch 59/100\n",
      "112/112 [==============================] - 0s 244us/step - loss: 0.3297 - accuracy: 0.9464\n",
      "Epoch 60/100\n",
      "112/112 [==============================] - 0s 251us/step - loss: 0.3248 - accuracy: 0.9464\n",
      "Epoch 61/100\n",
      "112/112 [==============================] - 0s 286us/step - loss: 0.3197 - accuracy: 0.9643\n",
      "Epoch 62/100\n",
      "112/112 [==============================] - 0s 269us/step - loss: 0.3151 - accuracy: 0.9643\n",
      "Epoch 63/100\n",
      "112/112 [==============================] - 0s 273us/step - loss: 0.3121 - accuracy: 0.9732\n",
      "Epoch 64/100\n",
      "112/112 [==============================] - 0s 254us/step - loss: 0.3070 - accuracy: 0.9643\n",
      "Epoch 65/100\n",
      "112/112 [==============================] - 0s 278us/step - loss: 0.3008 - accuracy: 0.9732\n",
      "Epoch 66/100\n",
      "112/112 [==============================] - 0s 260us/step - loss: 0.2985 - accuracy: 0.9643\n",
      "Epoch 67/100\n",
      "112/112 [==============================] - 0s 290us/step - loss: 0.2931 - accuracy: 0.9554\n",
      "Epoch 68/100\n",
      "112/112 [==============================] - 0s 281us/step - loss: 0.2881 - accuracy: 0.9732\n",
      "Epoch 69/100\n",
      "112/112 [==============================] - 0s 276us/step - loss: 0.2842 - accuracy: 0.9732\n",
      "Epoch 70/100\n",
      "112/112 [==============================] - 0s 298us/step - loss: 0.2829 - accuracy: 0.9732\n",
      "Epoch 71/100\n",
      "112/112 [==============================] - 0s 286us/step - loss: 0.2786 - accuracy: 0.9732\n",
      "Epoch 72/100\n",
      "112/112 [==============================] - 0s 284us/step - loss: 0.2742 - accuracy: 0.9732\n",
      "Epoch 73/100\n",
      "112/112 [==============================] - 0s 280us/step - loss: 0.2725 - accuracy: 0.9732\n",
      "Epoch 74/100\n",
      "112/112 [==============================] - 0s 288us/step - loss: 0.2675 - accuracy: 0.9732\n",
      "Epoch 75/100\n",
      "112/112 [==============================] - 0s 285us/step - loss: 0.2645 - accuracy: 0.9732\n",
      "Epoch 76/100\n",
      "112/112 [==============================] - 0s 270us/step - loss: 0.2606 - accuracy: 0.9643\n",
      "Epoch 77/100\n",
      "112/112 [==============================] - 0s 295us/step - loss: 0.2571 - accuracy: 0.9732\n",
      "Epoch 78/100\n",
      "112/112 [==============================] - 0s 267us/step - loss: 0.2544 - accuracy: 0.9732\n",
      "Epoch 79/100\n",
      "112/112 [==============================] - 0s 278us/step - loss: 0.2498 - accuracy: 0.9732\n",
      "Epoch 80/100\n",
      "112/112 [==============================] - 0s 278us/step - loss: 0.2476 - accuracy: 0.9732\n",
      "Epoch 81/100\n",
      "112/112 [==============================] - 0s 283us/step - loss: 0.2449 - accuracy: 0.9732\n",
      "Epoch 82/100\n",
      "112/112 [==============================] - 0s 289us/step - loss: 0.2398 - accuracy: 0.9732\n",
      "Epoch 83/100\n",
      "112/112 [==============================] - 0s 276us/step - loss: 0.2375 - accuracy: 0.9732\n",
      "Epoch 84/100\n",
      "112/112 [==============================] - 0s 273us/step - loss: 0.2350 - accuracy: 0.9732\n",
      "Epoch 85/100\n",
      "112/112 [==============================] - 0s 295us/step - loss: 0.2320 - accuracy: 0.9732\n",
      "Epoch 86/100\n",
      "112/112 [==============================] - 0s 275us/step - loss: 0.2274 - accuracy: 0.9732\n",
      "Epoch 87/100\n",
      "112/112 [==============================] - 0s 276us/step - loss: 0.2248 - accuracy: 0.9732\n",
      "Epoch 88/100\n",
      "112/112 [==============================] - 0s 277us/step - loss: 0.2229 - accuracy: 0.9732\n",
      "Epoch 89/100\n",
      "112/112 [==============================] - 0s 279us/step - loss: 0.2198 - accuracy: 0.9732\n",
      "Epoch 90/100\n",
      "112/112 [==============================] - 0s 297us/step - loss: 0.2153 - accuracy: 0.9821\n",
      "Epoch 91/100\n",
      "112/112 [==============================] - 0s 296us/step - loss: 0.2133 - accuracy: 0.9732\n",
      "Epoch 92/100\n",
      "112/112 [==============================] - 0s 269us/step - loss: 0.2090 - accuracy: 0.9821\n",
      "Epoch 93/100\n",
      "112/112 [==============================] - 0s 288us/step - loss: 0.2086 - accuracy: 0.9732\n",
      "Epoch 94/100\n",
      "112/112 [==============================] - 0s 271us/step - loss: 0.2057 - accuracy: 0.9732\n",
      "Epoch 95/100\n",
      "112/112 [==============================] - 0s 284us/step - loss: 0.2029 - accuracy: 0.9732\n",
      "Epoch 96/100\n",
      "112/112 [==============================] - 0s 288us/step - loss: 0.2021 - accuracy: 0.9732\n",
      "Epoch 97/100\n",
      "112/112 [==============================] - 0s 282us/step - loss: 0.1980 - accuracy: 0.9732\n",
      "Epoch 98/100\n",
      "112/112 [==============================] - 0s 280us/step - loss: 0.1940 - accuracy: 0.9732\n",
      "Epoch 99/100\n",
      "112/112 [==============================] - 0s 282us/step - loss: 0.1935 - accuracy: 0.9821\n",
      "Epoch 100/100\n",
      "112/112 [==============================] - 0s 283us/step - loss: 0.1899 - accuracy: 0.9732\n"
     ]
    },
    {
     "data": {
      "text/plain": [
       "<keras.callbacks.callbacks.History at 0x7fb9d0402350>"
      ]
     },
     "execution_count": 73,
     "metadata": {},
     "output_type": "execute_result"
    }
   ],
   "source": [
    "# Create the final model for evaluating the test dataset\n",
    "print('Forming the final model using: optimizer=%s, kernel=%s, epochs=%d, batch_size=%d'\n",
    "      % (best_optimizer, best_kernel_init, best_epoch, best_batch))\n",
    "final_model = create_customized_model(best_optimizer, best_kernel_init)\n",
    "final_model.fit(X_train, y_train, epochs=best_epoch, batch_size=best_batch, verbose=1)"
   ]
  },
  {
   "cell_type": "code",
   "execution_count": 74,
   "metadata": {},
   "outputs": [
    {
     "name": "stdout",
     "output_type": "stream",
     "text": [
      "Model: \"sequential_7\"\n",
      "_________________________________________________________________\n",
      "Layer (type)                 Output Shape              Param #   \n",
      "=================================================================\n",
      "dense_13 (Dense)             (None, 8)                 40        \n",
      "_________________________________________________________________\n",
      "dense_14 (Dense)             (None, 3)                 27        \n",
      "=================================================================\n",
      "Total params: 67\n",
      "Trainable params: 67\n",
      "Non-trainable params: 0\n",
      "_________________________________________________________________\n",
      "None\n"
     ]
    }
   ],
   "source": [
    "# Display a summary of the final model\n",
    "print(final_model.summary())"
   ]
  },
  {
   "cell_type": "code",
   "execution_count": 75,
   "metadata": {},
   "outputs": [
    {
     "name": "stdout",
     "output_type": "stream",
     "text": [
      "Executing op __inference_keras_scratch_graph_82991 in device /job:localhost/replica:0/task:0/device:CPU:0\n",
      "38/38 [==============================] - 0s 2ms/step\n",
      "\n",
      "accuracy: 94.74%\n",
      "\n",
      "loss: 20.76%\n"
     ]
    }
   ],
   "source": [
    "# Evaluate the Keras model on previously unseen data\n",
    "scores = final_model.evaluate(X_test, y_test)\n",
    "print(\"\\n%s: %.2f%%\" % (final_model.metrics_names[1], scores[1]*100))\n",
    "print(\"\\n%s: %.2f%%\" % (final_model.metrics_names[0], scores[0]*100))"
   ]
  },
  {
   "cell_type": "code",
   "execution_count": 76,
   "metadata": {},
   "outputs": [],
   "source": [
    "if (notifyStatus): email_notify(\"Phase 4 Optimize Model completed! \"+datetime.now().strftime('%a %B %d, %Y %I:%M:%S %p'))"
   ]
  },
  {
   "cell_type": "markdown",
   "metadata": {},
   "source": [
    "# Section 5. Finalize Model"
   ]
  },
  {
   "cell_type": "code",
   "execution_count": 77,
   "metadata": {},
   "outputs": [],
   "source": [
    "if (notifyStatus): email_notify(\"Phase 5 Finalize Model has begun! \"+datetime.now().strftime('%a %B %d, %Y %I:%M:%S %p'))"
   ]
  },
  {
   "cell_type": "code",
   "execution_count": 78,
   "metadata": {},
   "outputs": [
    {
     "name": "stdout",
     "output_type": "stream",
     "text": [
      "Executing op __inference_keras_scratch_graph_83021 in device /job:localhost/replica:0/task:0/device:CPU:0\n",
      "Data item #0 predicted to be ['Iris-versicolor'] (expected ['Iris-versicolor'])\n",
      "Data item #1 predicted to be ['Iris-virginica'] (expected ['Iris-versicolor'])\n",
      "Data item #2 predicted to be ['Iris-virginica'] (expected ['Iris-virginica'])\n",
      "Data item #3 predicted to be ['Iris-virginica'] (expected ['Iris-virginica'])\n",
      "Data item #4 predicted to be ['Iris-virginica'] (expected ['Iris-virginica'])\n",
      "Data item #5 predicted to be ['Iris-versicolor'] (expected ['Iris-versicolor'])\n",
      "Data item #6 predicted to be ['Iris-versicolor'] (expected ['Iris-versicolor'])\n",
      "Data item #7 predicted to be ['Iris-virginica'] (expected ['Iris-virginica'])\n",
      "Data item #8 predicted to be ['Iris-virginica'] (expected ['Iris-virginica'])\n",
      "Data item #9 predicted to be ['Iris-versicolor'] (expected ['Iris-versicolor'])\n",
      "Data item #10 predicted to be ['Iris-setosa'] (expected ['Iris-setosa'])\n",
      "Data item #11 predicted to be ['Iris-versicolor'] (expected ['Iris-versicolor'])\n",
      "Data item #12 predicted to be ['Iris-setosa'] (expected ['Iris-setosa'])\n",
      "Data item #13 predicted to be ['Iris-versicolor'] (expected ['Iris-versicolor'])\n",
      "Data item #14 predicted to be ['Iris-versicolor'] (expected ['Iris-versicolor'])\n",
      "Data item #15 predicted to be ['Iris-versicolor'] (expected ['Iris-versicolor'])\n",
      "Data item #16 predicted to be ['Iris-versicolor'] (expected ['Iris-versicolor'])\n",
      "Data item #17 predicted to be ['Iris-setosa'] (expected ['Iris-setosa'])\n",
      "Data item #18 predicted to be ['Iris-setosa'] (expected ['Iris-setosa'])\n",
      "Data item #19 predicted to be ['Iris-setosa'] (expected ['Iris-setosa'])\n"
     ]
    }
   ],
   "source": [
    "# Make class predictions with the model\n",
    "predictions = final_model.predict_classes(X_test)\n",
    "\n",
    "# Summarize the first 20 cases\n",
    "for i in range(20):\n",
    "\tprint('Data item #%d predicted to be %s (expected %s)' % (i, encoder.inverse_transform([predictions[i]]), encoder.inverse_transform([np.argmax(y_test[i])])))"
   ]
  },
  {
   "cell_type": "code",
   "execution_count": 79,
   "metadata": {},
   "outputs": [],
   "source": [
    "if (notifyStatus): email_notify(\"Phase 5 Finalize Model completed! \"+datetime.now().strftime('%a %B %d, %Y %I:%M:%S %p'))"
   ]
  },
  {
   "cell_type": "code",
   "execution_count": 80,
   "metadata": {},
   "outputs": [
    {
     "name": "stdout",
     "output_type": "stream",
     "text": [
      "Total time for the script: 0:04:01.067684\n"
     ]
    }
   ],
   "source": [
    "print ('Total time for the script:',(datetime.now() - startTimeScript))"
   ]
  }
 ],
 "metadata": {
  "kernelspec": {
   "display_name": "Python 3",
   "language": "python",
   "name": "python3"
  },
  "language_info": {
   "codemirror_mode": {
    "name": "ipython",
    "version": 3
   },
   "file_extension": ".py",
   "mimetype": "text/x-python",
   "name": "python",
   "nbconvert_exporter": "python",
   "pygments_lexer": "ipython3",
   "version": "3.7.5"
  }
 },
 "nbformat": 4,
 "nbformat_minor": 4
}
