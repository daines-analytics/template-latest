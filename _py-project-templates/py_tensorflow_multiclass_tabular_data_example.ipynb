{
 "cells": [
  {
   "cell_type": "markdown",
   "metadata": {},
   "source": [
    "# Multi-Class Deep Learning Model for [PROJECT NAME] Using TensorFlow Version 8\n",
    "### David Lowe\n",
    "### October 13, 2020\n",
    "\n",
    "Template Credit: Adapted from a template made available by Dr. Jason Brownlee of Machine Learning Mastery. [https://machinelearningmastery.com/]\n",
    "\n",
    "SUMMARY: The purpose of this project is to construct a predictive model using various machine learning algorithms and to document the end-to-end steps using a template. The [PROJECT NAME] dataset is a multi-class classification situation where we attempt to predict one of several (more than two) possible outcomes.\n",
    "\n",
    "INTRODUCTION: [Sample Paragraph - This is perhaps the best known database to be found in the pattern recognition literature. Fisher's paper is a classic in the field and is referenced frequently to this day. (See Duda & Hart, for example.) The data set contains three classes of 50 instances each, where each class refers to a type of iris plant. One class is linearly separable from the other two; the latter are NOT linearly separable from each other.]\n",
    "\n",
    "ANALYSIS: [Sample Paragraph - The performance of the baseline model achieved an accuracy score of 80.36% after 50 epochs using the training dataset. After tuning the hyperparameters, the best model processed the validation dataset with an accuracy score of 97.36%. Furthermore, the final model processed the test dataset with an accuracy measurement of 97.36%, which was consistent with the training/tuning result.]\n",
    "\n",
    "CONCLUSION: [Sample Paragraph - In this iteration, the best TensorFlow model appeared to be suitable for modeling this dataset. We should consider experimenting with TensorFlow for further modeling.]\n",
    "\n",
    "Dataset Used: [PROJECT NAME] Dataset\n",
    "\n",
    "Dataset ML Model: Multi-class classification with [numerical | categorical] attributes\n",
    "\n",
    "Dataset Reference: [https://archive.ics.uci.edu/ml/machine-learning-databases/iris/]\n",
    "\n",
    "One potential source of performance benchmarks: [https://machinelearningmastery.com/multi-class-classification-tutorial-keras-deep-learning-library/]\n",
    "\n",
    "A deep-learning modeling project generally can be broken down into five major tasks:\n",
    "\n",
    "1. Prepare Environment\n",
    "2. Summarize and Visualize Data\n",
    "3. Pre-process Data\n",
    "4. Train and Evaluate Models\n",
    "5. Finalize Model and Present Analysis"
   ]
  },
  {
   "cell_type": "markdown",
   "metadata": {},
   "source": [
    "# Task 1 - Prepare Environment"
   ]
  },
  {
   "cell_type": "code",
   "execution_count": 1,
   "metadata": {},
   "outputs": [],
   "source": [
    "# Install the packages to support accessing environment variable and SQL databases\n",
    "# !pip install python-dotenv PyMySQL boto3"
   ]
  },
  {
   "cell_type": "code",
   "execution_count": 2,
   "metadata": {},
   "outputs": [],
   "source": [
    "# Retrieve GPU configuration information from Colab\n",
    "# gpu_info = !nvidia-smi\n",
    "# gpu_info = '\\n'.join(gpu_info)\n",
    "# if gpu_info.find('failed') >= 0:\n",
    "#     print('Select the Runtime → \"Change runtime type\" menu to enable a GPU accelerator, ')\n",
    "#     print('and then re-execute this cell.')\n",
    "# else:\n",
    "#     print(gpu_info)"
   ]
  },
  {
   "cell_type": "code",
   "execution_count": 3,
   "metadata": {},
   "outputs": [],
   "source": [
    "# Retrieve memory configuration information from Colab\n",
    "# from psutil import virtual_memory\n",
    "# ram_gb = virtual_memory().total / 1e9\n",
    "# print('Your runtime has {:.1f} gigabytes of available RAM\\n'.format(ram_gb))\n",
    "\n",
    "# if ram_gb < 20:\n",
    "#     print('To enable a high-RAM runtime, select the Runtime → \"Change runtime type\"')\n",
    "#     print('menu, and then select High-RAM in the Runtime shape dropdown. Then, ')\n",
    "#     print('re-execute this cell.')\n",
    "# else:\n",
    "#     print('You are using a high-RAM runtime!')"
   ]
  },
  {
   "cell_type": "code",
   "execution_count": 4,
   "metadata": {},
   "outputs": [],
   "source": [
    "# Direct Colab to use TensorFlow v2\n",
    "# %tensorflow_version 2.x"
   ]
  },
  {
   "cell_type": "code",
   "execution_count": 5,
   "metadata": {},
   "outputs": [
    {
     "name": "stdout",
     "output_type": "stream",
     "text": [
      "The number of available CPUs is: 'nproc' is not recognized as an internal or external command,\n"
     ]
    }
   ],
   "source": [
    "# Retrieve CPU information from the system\n",
    "ncpu = !nproc\n",
    "print(\"The number of available CPUs is:\", ncpu[0])"
   ]
  },
  {
   "cell_type": "markdown",
   "source": [
    "## 1.a) Load libraries and modules"
   ],
   "metadata": {
    "collapsed": false
   }
  },
  {
   "cell_type": "code",
   "execution_count": 6,
   "metadata": {},
   "outputs": [],
   "source": [
    "# Set the random seed number for reproducible results\n",
    "seedNum = 888"
   ]
  },
  {
   "cell_type": "code",
   "execution_count": 7,
   "metadata": {},
   "outputs": [],
   "source": [
    "# Load libraries and packages\n",
    "import random\n",
    "random.seed(seedNum)\n",
    "import numpy as np\n",
    "np.random.seed(seedNum)\n",
    "import pandas as pd\n",
    "import matplotlib.pyplot as plt\n",
    "import os\n",
    "import sys\n",
    "import boto3\n",
    "from datetime import datetime\n",
    "from dotenv import load_dotenv\n",
    "from sklearn import preprocessing\n",
    "from sklearn.model_selection import train_test_split\n",
    "from sklearn.model_selection import RepeatedKFold\n",
    "from sklearn.metrics import classification_report\n",
    "from sklearn.metrics import confusion_matrix\n",
    "from sklearn.metrics import accuracy_score\n",
    "from sklearn.pipeline import Pipeline\n",
    "from sklearn.impute import SimpleImputer\n",
    "from sklearn.compose import ColumnTransformer\n",
    "# from imblearn.pipeline import Pipeline\n",
    "# from imblearn.over_sampling import SMOTE\n",
    "# from imblearn.under_sampling import RandomUnderSampler\n",
    "import tensorflow as tf\n",
    "tf.random.set_seed(seedNum)\n",
    "from tensorflow import keras"
   ]
  },
  {
   "cell_type": "markdown",
   "source": [
    "## 1.b) Set up the controlling parameters and functions"
   ],
   "metadata": {
    "collapsed": false
   }
  },
  {
   "cell_type": "code",
   "execution_count": 8,
   "metadata": {},
   "outputs": [
    {
     "name": "stdout",
     "output_type": "stream",
     "text": [
      "Num GPUs Available: 0\n",
      "TensorFlow version: 2.3.1\n"
     ]
    }
   ],
   "source": [
    "# Begin the timer for the script processing\n",
    "startTimeScript = datetime.now()\n",
    "\n",
    "# Set up the number of CPU cores available for multi-thread processing\n",
    "n_jobs = 1\n",
    "\n",
    "# Set up the flag to stop sending progress emails (setting to True will send status emails!)\n",
    "notifyStatus = False\n",
    "\n",
    "# Set Pandas options\n",
    "pd.set_option(\"display.max_rows\", None)\n",
    "pd.set_option(\"display.max_columns\", None)\n",
    "pd.set_option(\"display.width\", 140)\n",
    "\n",
    "# Set the percentage sizes for splitting the dataset\n",
    "test_set_size = 0.2\n",
    "val_set_size = 0.25\n",
    "\n",
    "# Set the number of folds and iterations for cross validation\n",
    "n_folds = 5\n",
    "n_iterations = 2\n",
    "\n",
    "# Set various default modeling parameters\n",
    "default_loss = 'categorical_crossentropy'\n",
    "default_metrics = ['accuracy']\n",
    "default_optimizer = tf.keras.optimizers.Adam(learning_rate=0.001)\n",
    "default_kernel_init = tf.keras.initializers.GlorotUniform(seed=seedNum)\n",
    "default_epoch = 20\n",
    "default_batch = 16\n",
    "\n",
    "# Define the labels to use for graphing the data\n",
    "train_metric = \"accuracy\"\n",
    "validation_metric = \"val_accuracy\"\n",
    "train_loss = \"loss\"\n",
    "validation_loss = \"val_loss\"\n",
    "\n",
    "# Check the number of GPUs accessible through TensorFlow\n",
    "print('Num GPUs Available:', len(tf.config.list_physical_devices('GPU')))\n",
    "\n",
    "# Print out the TensorFlow version for confirmation\n",
    "print('TensorFlow version:', tf.__version__)"
   ]
  },
  {
   "cell_type": "code",
   "execution_count": 9,
   "metadata": {},
   "outputs": [],
   "source": [
    "# Set up the parent directory location for loading the dotenv files\n",
    "# useColab = False\n",
    "# if useColab:\n",
    "#     # Mount Google Drive locally for storing files\n",
    "#     from google.colab import drive\n",
    "#     drive.mount('/content/gdrive')\n",
    "#     gdrivePrefix = '/content/gdrive/My Drive/Colab_Downloads/'\n",
    "#     env_path = '/content/gdrive/My Drive/Colab Notebooks/'\n",
    "#     dotenv_path = env_path + \"python_script.env\"\n",
    "#     load_dotenv(dotenv_path=dotenv_path)\n",
    "\n",
    "# Set up the dotenv file for retrieving environment variables\n",
    "# useLocalPC = False\n",
    "# if useLocalPC:\n",
    "#     env_path = \"/Users/david/PycharmProjects/\"\n",
    "#     dotenv_path = env_path + \"python_script.env\"\n",
    "#     load_dotenv(dotenv_path=dotenv_path)"
   ]
  },
  {
   "cell_type": "code",
   "execution_count": 10,
   "metadata": {},
   "outputs": [],
   "source": [
    "# Set up the email notification function\n",
    "def status_notify(msg_text):\n",
    "    access_key = os.environ.get('SNS_ACCESS_KEY')\n",
    "    secret_key = os.environ.get('SNS_SECRET_KEY')\n",
    "    aws_region = os.environ.get('SNS_AWS_REGION')\n",
    "    topic_arn = os.environ.get('SNS_TOPIC_ARN')\n",
    "    if (access_key is None) or (secret_key is None) or (aws_region is None):\n",
    "        sys.exit(\"Incomplete notification setup info. Script Processing Aborted!!!\")\n",
    "    sns = boto3.client('sns', aws_access_key_id=access_key, aws_secret_access_key=secret_key, region_name=aws_region)\n",
    "    response = sns.publish(TopicArn=topic_arn, Message=msg_text)\n",
    "    if response['ResponseMetadata']['HTTPStatusCode'] != 200 :\n",
    "        print('Status notification not OK with HTTP status code:', response['ResponseMetadata']['HTTPStatusCode'])"
   ]
  },
  {
   "cell_type": "code",
   "execution_count": 11,
   "metadata": {},
   "outputs": [],
   "source": [
    "# Reset the random number generators\n",
    "def reset_random(x):\n",
    "    random.seed(x)\n",
    "    np.random.seed(x)\n",
    "    tf.random.set_seed(x)"
   ]
  },
  {
   "cell_type": "code",
   "execution_count": 12,
   "metadata": {},
   "outputs": [],
   "source": [
    "if notifyStatus: status_notify('(AutoKeras Multi-Class) Task 1 - Prepare Environment has begun on ' + datetime.now().strftime('%A %B %d, %Y %I:%M:%S %p'))"
   ]
  },
  {
   "cell_type": "markdown",
   "metadata": {},
   "source": [
    "## 1.c) Load Dataset"
   ]
  },
  {
   "cell_type": "code",
   "execution_count": 13,
   "metadata": {},
   "outputs": [
    {
     "data": {
      "text/plain": "   sepal_length  sepal_width  petal_length  petal_width    targetVar\n0           5.1          3.5           1.4          0.2  Iris-setosa\n1           4.9          3.0           1.4          0.2  Iris-setosa\n2           4.7          3.2           1.3          0.2  Iris-setosa\n3           4.6          3.1           1.5          0.2  Iris-setosa\n4           5.0          3.6           1.4          0.2  Iris-setosa",
      "text/html": "<div>\n<style scoped>\n    .dataframe tbody tr th:only-of-type {\n        vertical-align: middle;\n    }\n\n    .dataframe tbody tr th {\n        vertical-align: top;\n    }\n\n    .dataframe thead th {\n        text-align: right;\n    }\n</style>\n<table border=\"1\" class=\"dataframe\">\n  <thead>\n    <tr style=\"text-align: right;\">\n      <th></th>\n      <th>sepal_length</th>\n      <th>sepal_width</th>\n      <th>petal_length</th>\n      <th>petal_width</th>\n      <th>targetVar</th>\n    </tr>\n  </thead>\n  <tbody>\n    <tr>\n      <th>0</th>\n      <td>5.1</td>\n      <td>3.5</td>\n      <td>1.4</td>\n      <td>0.2</td>\n      <td>Iris-setosa</td>\n    </tr>\n    <tr>\n      <th>1</th>\n      <td>4.9</td>\n      <td>3.0</td>\n      <td>1.4</td>\n      <td>0.2</td>\n      <td>Iris-setosa</td>\n    </tr>\n    <tr>\n      <th>2</th>\n      <td>4.7</td>\n      <td>3.2</td>\n      <td>1.3</td>\n      <td>0.2</td>\n      <td>Iris-setosa</td>\n    </tr>\n    <tr>\n      <th>3</th>\n      <td>4.6</td>\n      <td>3.1</td>\n      <td>1.5</td>\n      <td>0.2</td>\n      <td>Iris-setosa</td>\n    </tr>\n    <tr>\n      <th>4</th>\n      <td>5.0</td>\n      <td>3.6</td>\n      <td>1.4</td>\n      <td>0.2</td>\n      <td>Iris-setosa</td>\n    </tr>\n  </tbody>\n</table>\n</div>"
     },
     "execution_count": 13,
     "metadata": {},
     "output_type": "execute_result"
    }
   ],
   "source": [
    "dataset_path = 'https://archive.ics.uci.edu/ml/machine-learning-databases/iris/iris.data'\n",
    "colNames = ['sepal_length', 'sepal_width', 'petal_length', 'petal_width', 'targetVar']\n",
    "Xy_original = pd.read_csv(dataset_path, names=colNames, sep=',', header=None, index_col=False, na_values=['?'])\n",
    "\n",
    "# Take a peek at the dataframe after the import\n",
    "Xy_original.head()"
   ]
  },
  {
   "cell_type": "code",
   "execution_count": 14,
   "metadata": {},
   "outputs": [
    {
     "name": "stdout",
     "output_type": "stream",
     "text": [
      "<class 'pandas.core.frame.DataFrame'>\n",
      "RangeIndex: 150 entries, 0 to 149\n",
      "Data columns (total 5 columns):\n",
      " #   Column        Non-Null Count  Dtype  \n",
      "---  ------        --------------  -----  \n",
      " 0   sepal_length  150 non-null    float64\n",
      " 1   sepal_width   150 non-null    float64\n",
      " 2   petal_length  150 non-null    float64\n",
      " 3   petal_width   150 non-null    float64\n",
      " 4   targetVar     150 non-null    object \n",
      "dtypes: float64(4), object(1)\n",
      "memory usage: 6.0+ KB\n"
     ]
    }
   ],
   "source": [
    "Xy_original.info(verbose=True)"
   ]
  },
  {
   "cell_type": "code",
   "execution_count": 15,
   "metadata": {},
   "outputs": [
    {
     "data": {
      "text/plain": "       sepal_length  sepal_width  petal_length  petal_width\ncount    150.000000   150.000000    150.000000   150.000000\nmean       5.843333     3.054000      3.758667     1.198667\nstd        0.828066     0.433594      1.764420     0.763161\nmin        4.300000     2.000000      1.000000     0.100000\n25%        5.100000     2.800000      1.600000     0.300000\n50%        5.800000     3.000000      4.350000     1.300000\n75%        6.400000     3.300000      5.100000     1.800000\nmax        7.900000     4.400000      6.900000     2.500000",
      "text/html": "<div>\n<style scoped>\n    .dataframe tbody tr th:only-of-type {\n        vertical-align: middle;\n    }\n\n    .dataframe tbody tr th {\n        vertical-align: top;\n    }\n\n    .dataframe thead th {\n        text-align: right;\n    }\n</style>\n<table border=\"1\" class=\"dataframe\">\n  <thead>\n    <tr style=\"text-align: right;\">\n      <th></th>\n      <th>sepal_length</th>\n      <th>sepal_width</th>\n      <th>petal_length</th>\n      <th>petal_width</th>\n    </tr>\n  </thead>\n  <tbody>\n    <tr>\n      <th>count</th>\n      <td>150.000000</td>\n      <td>150.000000</td>\n      <td>150.000000</td>\n      <td>150.000000</td>\n    </tr>\n    <tr>\n      <th>mean</th>\n      <td>5.843333</td>\n      <td>3.054000</td>\n      <td>3.758667</td>\n      <td>1.198667</td>\n    </tr>\n    <tr>\n      <th>std</th>\n      <td>0.828066</td>\n      <td>0.433594</td>\n      <td>1.764420</td>\n      <td>0.763161</td>\n    </tr>\n    <tr>\n      <th>min</th>\n      <td>4.300000</td>\n      <td>2.000000</td>\n      <td>1.000000</td>\n      <td>0.100000</td>\n    </tr>\n    <tr>\n      <th>25%</th>\n      <td>5.100000</td>\n      <td>2.800000</td>\n      <td>1.600000</td>\n      <td>0.300000</td>\n    </tr>\n    <tr>\n      <th>50%</th>\n      <td>5.800000</td>\n      <td>3.000000</td>\n      <td>4.350000</td>\n      <td>1.300000</td>\n    </tr>\n    <tr>\n      <th>75%</th>\n      <td>6.400000</td>\n      <td>3.300000</td>\n      <td>5.100000</td>\n      <td>1.800000</td>\n    </tr>\n    <tr>\n      <th>max</th>\n      <td>7.900000</td>\n      <td>4.400000</td>\n      <td>6.900000</td>\n      <td>2.500000</td>\n    </tr>\n  </tbody>\n</table>\n</div>"
     },
     "execution_count": 15,
     "metadata": {},
     "output_type": "execute_result"
    }
   ],
   "source": [
    "Xy_original.describe()"
   ]
  },
  {
   "cell_type": "code",
   "execution_count": 16,
   "metadata": {},
   "outputs": [
    {
     "name": "stdout",
     "output_type": "stream",
     "text": [
      "Total number of NaN in the dataframe: 0\n"
     ]
    }
   ],
   "source": [
    "# Surface the features that have NaNs\n",
    "null_counts = Xy_original.isnull().sum()\n",
    "if null_counts.sum() > 0 :\n",
    "    print(null_counts[null_counts > 0])\n",
    "print('Total number of NaN in the dataframe:', null_counts.sum())"
   ]
  },
  {
   "cell_type": "markdown",
   "metadata": {},
   "source": [
    "## 1.d) Data Cleaning"
   ]
  },
  {
   "cell_type": "code",
   "execution_count": 17,
   "metadata": {},
   "outputs": [
    {
     "data": {
      "text/plain": "   sepal_length  sepal_width  petal_length  petal_width    targetVar\n0           5.1          3.5           1.4          0.2  Iris-setosa\n1           4.9          3.0           1.4          0.2  Iris-setosa\n2           4.7          3.2           1.3          0.2  Iris-setosa\n3           4.6          3.1           1.5          0.2  Iris-setosa\n4           5.0          3.6           1.4          0.2  Iris-setosa",
      "text/html": "<div>\n<style scoped>\n    .dataframe tbody tr th:only-of-type {\n        vertical-align: middle;\n    }\n\n    .dataframe tbody tr th {\n        vertical-align: top;\n    }\n\n    .dataframe thead th {\n        text-align: right;\n    }\n</style>\n<table border=\"1\" class=\"dataframe\">\n  <thead>\n    <tr style=\"text-align: right;\">\n      <th></th>\n      <th>sepal_length</th>\n      <th>sepal_width</th>\n      <th>petal_length</th>\n      <th>petal_width</th>\n      <th>targetVar</th>\n    </tr>\n  </thead>\n  <tbody>\n    <tr>\n      <th>0</th>\n      <td>5.1</td>\n      <td>3.5</td>\n      <td>1.4</td>\n      <td>0.2</td>\n      <td>Iris-setosa</td>\n    </tr>\n    <tr>\n      <th>1</th>\n      <td>4.9</td>\n      <td>3.0</td>\n      <td>1.4</td>\n      <td>0.2</td>\n      <td>Iris-setosa</td>\n    </tr>\n    <tr>\n      <th>2</th>\n      <td>4.7</td>\n      <td>3.2</td>\n      <td>1.3</td>\n      <td>0.2</td>\n      <td>Iris-setosa</td>\n    </tr>\n    <tr>\n      <th>3</th>\n      <td>4.6</td>\n      <td>3.1</td>\n      <td>1.5</td>\n      <td>0.2</td>\n      <td>Iris-setosa</td>\n    </tr>\n    <tr>\n      <th>4</th>\n      <td>5.0</td>\n      <td>3.6</td>\n      <td>1.4</td>\n      <td>0.2</td>\n      <td>Iris-setosa</td>\n    </tr>\n  </tbody>\n</table>\n</div>"
     },
     "execution_count": 17,
     "metadata": {},
     "output_type": "execute_result"
    }
   ],
   "source": [
    "# Standardize the class column to the name of targetVar if required\n",
    "# Xy_original = Xy_original.rename(columns={'old_name': 'targetVar'})\n",
    "\n",
    "# Dropping features\n",
    "# Xy_original.drop(columns=['attribute_name'], inplace=True)\n",
    "\n",
    "# Impute missing values\n",
    "# Xy_original['col_name'].fillna('someValue', inplace=True)\n",
    "# Xy_original['attribute_name'].fillna(value=Xy_original['attribute_name'].median(), inplace=True)\n",
    "\n",
    "# Convert columns from one data type to another\n",
    "# Xy_original.column_name = Xy_original.column_name.astype('int')\n",
    "# Xy_original.column_name = Xy_original.column_name.astype('category')\n",
    "\n",
    "# Take a peek at the dataframe after the cleaning\n",
    "Xy_original.head()"
   ]
  },
  {
   "cell_type": "code",
   "execution_count": 18,
   "metadata": {},
   "outputs": [
    {
     "name": "stdout",
     "output_type": "stream",
     "text": [
      "<class 'pandas.core.frame.DataFrame'>\n",
      "RangeIndex: 150 entries, 0 to 149\n",
      "Data columns (total 5 columns):\n",
      " #   Column        Non-Null Count  Dtype  \n",
      "---  ------        --------------  -----  \n",
      " 0   sepal_length  150 non-null    float64\n",
      " 1   sepal_width   150 non-null    float64\n",
      " 2   petal_length  150 non-null    float64\n",
      " 3   petal_width   150 non-null    float64\n",
      " 4   targetVar     150 non-null    object \n",
      "dtypes: float64(4), object(1)\n",
      "memory usage: 6.0+ KB\n"
     ]
    }
   ],
   "source": [
    "Xy_original.info(verbose=True)"
   ]
  },
  {
   "cell_type": "code",
   "execution_count": 19,
   "metadata": {},
   "outputs": [
    {
     "data": {
      "text/plain": "       sepal_length  sepal_width  petal_length  petal_width\ncount    150.000000   150.000000    150.000000   150.000000\nmean       5.843333     3.054000      3.758667     1.198667\nstd        0.828066     0.433594      1.764420     0.763161\nmin        4.300000     2.000000      1.000000     0.100000\n25%        5.100000     2.800000      1.600000     0.300000\n50%        5.800000     3.000000      4.350000     1.300000\n75%        6.400000     3.300000      5.100000     1.800000\nmax        7.900000     4.400000      6.900000     2.500000",
      "text/html": "<div>\n<style scoped>\n    .dataframe tbody tr th:only-of-type {\n        vertical-align: middle;\n    }\n\n    .dataframe tbody tr th {\n        vertical-align: top;\n    }\n\n    .dataframe thead th {\n        text-align: right;\n    }\n</style>\n<table border=\"1\" class=\"dataframe\">\n  <thead>\n    <tr style=\"text-align: right;\">\n      <th></th>\n      <th>sepal_length</th>\n      <th>sepal_width</th>\n      <th>petal_length</th>\n      <th>petal_width</th>\n    </tr>\n  </thead>\n  <tbody>\n    <tr>\n      <th>count</th>\n      <td>150.000000</td>\n      <td>150.000000</td>\n      <td>150.000000</td>\n      <td>150.000000</td>\n    </tr>\n    <tr>\n      <th>mean</th>\n      <td>5.843333</td>\n      <td>3.054000</td>\n      <td>3.758667</td>\n      <td>1.198667</td>\n    </tr>\n    <tr>\n      <th>std</th>\n      <td>0.828066</td>\n      <td>0.433594</td>\n      <td>1.764420</td>\n      <td>0.763161</td>\n    </tr>\n    <tr>\n      <th>min</th>\n      <td>4.300000</td>\n      <td>2.000000</td>\n      <td>1.000000</td>\n      <td>0.100000</td>\n    </tr>\n    <tr>\n      <th>25%</th>\n      <td>5.100000</td>\n      <td>2.800000</td>\n      <td>1.600000</td>\n      <td>0.300000</td>\n    </tr>\n    <tr>\n      <th>50%</th>\n      <td>5.800000</td>\n      <td>3.000000</td>\n      <td>4.350000</td>\n      <td>1.300000</td>\n    </tr>\n    <tr>\n      <th>75%</th>\n      <td>6.400000</td>\n      <td>3.300000</td>\n      <td>5.100000</td>\n      <td>1.800000</td>\n    </tr>\n    <tr>\n      <th>max</th>\n      <td>7.900000</td>\n      <td>4.400000</td>\n      <td>6.900000</td>\n      <td>2.500000</td>\n    </tr>\n  </tbody>\n</table>\n</div>"
     },
     "execution_count": 19,
     "metadata": {},
     "output_type": "execute_result"
    }
   ],
   "source": [
    "Xy_original.describe()"
   ]
  },
  {
   "cell_type": "code",
   "execution_count": 20,
   "metadata": {},
   "outputs": [
    {
     "name": "stdout",
     "output_type": "stream",
     "text": [
      "Total number of NaN in the dataframe: 0\n"
     ]
    }
   ],
   "source": [
    "# Surface the features that have NaNs\n",
    "null_counts = Xy_original.isnull().sum()\n",
    "if null_counts.sum() > 0 :\n",
    "    print(null_counts[null_counts > 0])\n",
    "print('Total number of NaN in the dataframe:', null_counts.sum())"
   ]
  },
  {
   "cell_type": "markdown",
   "metadata": {},
   "source": [
    "## 1.e) Splitting Data into Sets"
   ]
  },
  {
   "cell_type": "code",
   "execution_count": 21,
   "metadata": {},
   "outputs": [],
   "source": [
    "# Use variable totCol to hold the number of columns in the dataframe\n",
    "totCol = len(Xy_original.columns)\n",
    "\n",
    "# Set up variable totAttr for the total number of attribute columns\n",
    "totAttr = totCol-1\n",
    "\n",
    "# targetCol variable indicates the column location of the target/class variable\n",
    "# If the first column, set targetCol to 1. If the last column, set targetCol to totCol\n",
    "# If (targetCol <> 1) and (targetCol <> totCol), be aware when slicing up the dataframes for visualization\n",
    "targetCol = totCol"
   ]
  },
  {
   "cell_type": "code",
   "execution_count": 22,
   "metadata": {},
   "outputs": [
    {
     "name": "stdout",
     "output_type": "stream",
     "text": [
      "Xy_original.shape: (150, 5) X_original.shape: (150, 4) y_original.shape: (150,)\n"
     ]
    }
   ],
   "source": [
    "# We create attribute-only and target-only datasets (X_original and y_original)\n",
    "# for various visualization and cleaning/transformation operations\n",
    "\n",
    "if targetCol == totCol:\n",
    "    X_original = Xy_original.iloc[:,0:totAttr]\n",
    "    y_original = Xy_original.iloc[:,totAttr]\n",
    "else:\n",
    "    X_original = Xy_original.iloc[:,1:totCol]\n",
    "    y_original = Xy_original.iloc[:,0]\n",
    "\n",
    "print(\"Xy_original.shape: {} X_original.shape: {} y_original.shape: {}\".format(Xy_original.shape, X_original.shape, y_original.shape))"
   ]
  },
  {
   "cell_type": "code",
   "execution_count": 23,
   "outputs": [
    {
     "name": "stdout",
     "output_type": "stream",
     "text": [
      "X_train_df.shape: (120, 4) y_train_df.shape: (120,)\n",
      "X_test_df.shape: (30, 4) y_test_df.shape: (30,)\n"
     ]
    }
   ],
   "source": [
    "# Split the data further into training and test datasets\n",
    "X_train_df, X_test_df, y_train_df, y_test_df = train_test_split(X_original, y_original, test_size=test_set_size, stratify=y_original, random_state=seedNum)\n",
    "print(\"X_train_df.shape: {} y_train_df.shape: {}\".format(X_train_df.shape, y_train_df.shape))\n",
    "print(\"X_test_df.shape: {} y_test_df.shape: {}\".format(X_test_df.shape, y_test_df.shape))"
   ],
   "metadata": {
    "collapsed": false,
    "pycharm": {
     "name": "#%%\n"
    }
   }
  },
  {
   "cell_type": "code",
   "source": [
    "if notifyStatus: status_notify('(AutoKeras Multi-Class) Task 1 - Prepare Environment completed on ' + datetime.now().strftime('%A %B %d, %Y %I:%M:%S %p'))"
   ],
   "metadata": {
    "collapsed": false,
    "pycharm": {
     "name": "#%%\n"
    }
   },
   "execution_count": 24,
   "outputs": []
  },
  {
   "cell_type": "markdown",
   "source": [
    "# Task 2 - Summarize and Visualize Data"
   ],
   "metadata": {
    "collapsed": false,
    "pycharm": {
     "name": "#%% md\n"
    }
   }
  },
  {
   "cell_type": "code",
   "execution_count": 25,
   "outputs": [],
   "source": [
    "if notifyStatus: status_notify('(AutoKeras Multi-Class) Task 2 - Summarize and Visualize Data has begun on ' + datetime.now().strftime('%A %B %d, %Y %I:%M:%S %p'))"
   ],
   "metadata": {
    "collapsed": false,
    "pycharm": {
     "name": "#%%\n"
    }
   }
  },
  {
   "cell_type": "code",
   "execution_count": 26,
   "metadata": {},
   "outputs": [],
   "source": [
    "# Set up the number of row and columns for visualization display. dispRow * dispCol should be >= totAttr\n",
    "dispCol = 4\n",
    "if totAttr % dispCol == 0 :\n",
    "    dispRow = totAttr // dispCol\n",
    "else :\n",
    "    dispRow = (totAttr // dispCol) + 1\n",
    "    \n",
    "# Set figure width to display the data visualization plots\n",
    "fig_size = plt.rcParams[\"figure.figsize\"]\n",
    "fig_size[0] = dispCol*4\n",
    "fig_size[1] = dispRow*4\n",
    "plt.rcParams[\"figure.figsize\"] = fig_size"
   ]
  },
  {
   "cell_type": "code",
   "execution_count": 27,
   "metadata": {},
   "outputs": [
    {
     "data": {
      "text/plain": "<Figure size 1152x288 with 4 Axes>",
      "image/png": "[encoded data removed]"
     },
     "metadata": {
      "needs_background": "light"
     },
     "output_type": "display_data"
    }
   ],
   "source": [
    "# Histograms for each attribute\n",
    "X_train_df.hist(layout=(dispRow,dispCol))\n",
    "plt.show()"
   ]
  },
  {
   "cell_type": "code",
   "execution_count": 28,
   "metadata": {},
   "outputs": [
    {
     "data": {
      "text/plain": "<Figure size 1152x288 with 4 Axes>",
      "image/png": "[encoded data removed]"
     },
     "metadata": {
      "needs_background": "light"
     },
     "output_type": "display_data"
    }
   ],
   "source": [
    "# Box and Whisker plot for each attribute\n",
    "X_train_df.plot(kind='box', subplots=True, layout=(dispRow,dispCol))\n",
    "plt.show()"
   ]
  },
  {
   "cell_type": "code",
   "execution_count": 29,
   "metadata": {},
   "outputs": [
    {
     "data": {
      "text/plain": "<Figure size 1152x864 with 2 Axes>",
      "image/png": "[encoded data removed]"
     },
     "metadata": {
      "needs_background": "light"
     },
     "output_type": "display_data"
    }
   ],
   "source": [
    "# Correlation matrix\n",
    "fig = plt.figure(figsize=(16,12))\n",
    "ax = fig.add_subplot(111)\n",
    "correlations = X_train_df.corr(method='pearson')\n",
    "cax = ax.matshow(correlations, vmin=-1, vmax=1)\n",
    "fig.colorbar(cax)\n",
    "plt.show()"
   ]
  },
  {
   "cell_type": "code",
   "execution_count": 30,
   "metadata": {},
   "outputs": [],
   "source": [
    "if notifyStatus: status_notify('(AutoKeras Multi-Class) Task 2 - Summarize and Visualize Data completed on ' + datetime.now().strftime('%A %B %d, %Y %I:%M:%S %p'))"
   ]
  },
  {
   "cell_type": "markdown",
   "metadata": {},
   "source": [
    "# Task 3 - Pre-process Data"
   ]
  },
  {
   "cell_type": "code",
   "execution_count": 31,
   "metadata": {},
   "outputs": [],
   "source": [
    "if notifyStatus: status_notify('(AutoKeras Multi-Class) Task 3 - Pre-process Data has begun on ' + datetime.now().strftime('%A %B %d, %Y %I:%M:%S %p'))"
   ]
  },
  {
   "cell_type": "markdown",
   "source": [
    "### 3.a) Feature Scaling"
   ],
   "metadata": {
    "collapsed": false
   }
  },
  {
   "cell_type": "code",
   "execution_count": 32,
   "outputs": [
    {
     "name": "stdout",
     "output_type": "stream",
     "text": [
      "Number of numerical columns: 4\n",
      "Number of categorical columns: 0\n",
      "Total number of columns in the dataframe: 4\n"
     ]
    }
   ],
   "source": [
    "# Compose pipeline for the numerical and categorical features\n",
    "numeric_columns = X_train_df.select_dtypes(include=['int','float']).columns\n",
    "numeric_transformer = Pipeline(steps=[\n",
    "    ('imputer', SimpleImputer(strategy='constant', fill_value=0)),\n",
    "    ('scaler', preprocessing.PowerTransformer())\n",
    "])\n",
    "categorical_columns = X_train_df.select_dtypes(include=['object','category']).columns\n",
    "categorical_transformer = Pipeline(steps=[\n",
    "    ('imputer', SimpleImputer(strategy='constant', fill_value='NA')),\n",
    "    ('onehot', preprocessing.OneHotEncoder(sparse=False, handle_unknown='ignore'))\n",
    "])\n",
    "\n",
    "print(\"Number of numerical columns:\", len(numeric_columns))\n",
    "print(\"Number of categorical columns:\", len(categorical_columns))\n",
    "print(\"Total number of columns in the dataframe:\", X_train_df.shape[1])"
   ],
   "metadata": {
    "collapsed": false,
    "pycharm": {
     "name": "#%%\n"
    }
   }
  },
  {
   "cell_type": "code",
   "execution_count": 33,
   "outputs": [
    {
     "name": "stdout",
     "output_type": "stream",
     "text": [
      "Transformed X_train.shape: (120, 4)\n"
     ]
    }
   ],
   "source": [
    "preprocessor = ColumnTransformer(transformers=[\n",
    "    ('num', numeric_transformer, numeric_columns),\n",
    "#     ('cat', categorical_transformer, categorical_columns)\n",
    "])\n",
    "X_train = preprocessor.fit_transform(X_train_df)\n",
    "print(\"Transformed X_train.shape:\", X_train.shape)"
   ],
   "metadata": {
    "collapsed": false,
    "pycharm": {
     "name": "#%%\n"
    }
   }
  },
  {
   "cell_type": "code",
   "execution_count": 34,
   "outputs": [],
   "source": [
    "# # Apply binning techniques with continuous data (Block #1 of 1)\n",
    "# discrete_feature = preprocessing.Binarizer(threshold=0.0)\n",
    "# discrete_feature = preprocessing.KBinsDiscretizer(n_bins=10, encode='ordinal', strategy='kmeans')\n",
    "# feature_binned = discrete_feature.fit_transform(X_original[['old_feature1']])\n",
    "# X_train_df['new_feature1'] = feature_binned\n",
    "# X_train_df['new_feature1'] = X_train_df['new_feature1'].astype('category')\n",
    "# X_train_df.drop(columns=['old_feature1', 'old_feature2'], inplace=True)\n",
    "# X_train_df.head()"
   ],
   "metadata": {
    "collapsed": false,
    "pycharm": {
     "name": "#%%\n"
    }
   }
  },
  {
   "cell_type": "markdown",
   "source": [
    "### 3.b) Training Data Balancing"
   ],
   "metadata": {
    "collapsed": false
   }
  },
  {
   "cell_type": "code",
   "execution_count": 35,
   "outputs": [],
   "source": [
    "# Not applicable for this iteration of the project"
   ],
   "metadata": {
    "collapsed": false,
    "pycharm": {
     "name": "#%%\n"
    }
   }
  },
  {
   "cell_type": "code",
   "execution_count": 36,
   "outputs": [],
   "source": [
    "# Examine the target classes for imbalanced distribution\n",
    "# Xy_original.groupby('targetVar').size()"
   ],
   "metadata": {
    "collapsed": false,
    "pycharm": {
     "name": "#%%\n"
    }
   }
  },
  {
   "cell_type": "code",
   "execution_count": 37,
   "outputs": [],
   "source": [
    "# # Perform SMOTE transformation on the training data (Block #1 of 2)\n",
    "# X_train_imbal = X_train_df.values\n",
    "# y_train_imbal = y_train_df.values.ravel()\n",
    "# print(\"X_train_imbal.shape: {} y_train_imbal.shape: {}\".format(X_train_imbal.shape, y_train_imbal.shape))"
   ],
   "metadata": {
    "collapsed": false,
    "pycharm": {
     "name": "#%%\n"
    }
   }
  },
  {
   "cell_type": "code",
   "execution_count": 38,
   "outputs": [],
   "source": [
    "# # Perform SMOTE transformation on the training data (Block #2 of 2)\n",
    "# print ('Original class distribution - 1: {} | 0: {}'.format((y_train_imbal==1).sum(), (y_train_imbal==0).sum()))\n",
    "# over_sample = SMOTE(sampling_strategy=0.05, random_state=seedNum)\n",
    "# under_sample = RandomUnderSampler(sampling_strategy=1.0, random_state=seedNum)\n",
    "# steps = [('o', over_sample), ('u', under_sample)]\n",
    "# sample_pipeline = Pipeline(steps=steps)\n",
    "# X_train, y_train = sample_pipeline.fit_resample(X_train_imbal, y_train_imbal)\n",
    "# print ('Resampled class distribution - 1: {} | 0: {}'.format((y_train==1).sum(), (y_train==0).sum()))"
   ],
   "metadata": {
    "collapsed": false,
    "pycharm": {
     "name": "#%%\n"
    }
   }
  },
  {
   "cell_type": "markdown",
   "source": [
    "### 3.c) Display the Final Datasets for Model-Building"
   ],
   "metadata": {
    "collapsed": false
   }
  },
  {
   "cell_type": "code",
   "execution_count": 39,
   "outputs": [
    {
     "name": "stdout",
     "output_type": "stream",
     "text": [
      "X_train.shape: (120, 4) y_train.shape: (120, 3)\n"
     ]
    }
   ],
   "source": [
    "# Finalize the training dataset for the modeling activities\n",
    "class_encoder = preprocessing.LabelEncoder()\n",
    "y_train = tf.keras.utils.to_categorical(class_encoder.fit_transform(y_train_df))\n",
    "print(\"X_train.shape: {} y_train.shape: {}\".format(X_train.shape, y_train.shape))"
   ],
   "metadata": {
    "collapsed": false,
    "pycharm": {
     "name": "#%%\n"
    }
   }
  },
  {
   "cell_type": "code",
   "execution_count": 40,
   "outputs": [],
   "source": [
    "if notifyStatus: status_notify('(AutoKeras Multi-Class) Task 3 - Pre-process Data completed on ' + datetime.now().strftime('%A %B %d, %Y %I:%M:%S %p'))"
   ],
   "metadata": {
    "collapsed": false,
    "pycharm": {
     "name": "#%%\n"
    }
   }
  },
  {
   "cell_type": "markdown",
   "source": [
    "# Task 4 - Train and Evaluate Models"
   ],
   "metadata": {
    "collapsed": false
   }
  },
  {
   "cell_type": "code",
   "execution_count": 41,
   "outputs": [],
   "source": [
    "if notifyStatus: status_notify('(AutoKeras Multi-Class) Task 4 - Train and Evaluate Models has begun on ' + datetime.now().strftime('%A %B %d, %Y %I:%M:%S %p'))"
   ],
   "metadata": {
    "collapsed": false,
    "pycharm": {
     "name": "#%%\n"
    }
   }
  },
  {
   "cell_type": "code",
   "execution_count": 42,
   "outputs": [],
   "source": [
    "# Define the default numbers of input/output for modeling\n",
    "num_inputs = X_train.shape[1]\n",
    "# number of target classes for multi-class modeling\n",
    "num_outputs = 3"
   ],
   "metadata": {
    "collapsed": false,
    "pycharm": {
     "name": "#%%\n"
    }
   }
  },
  {
   "cell_type": "code",
   "execution_count": 43,
   "outputs": [],
   "source": [
    "# Define the baseline model for benchmarking\n",
    "def create_nn_model(n_inputs=num_inputs, n_outputs=num_outputs, layer1_nodes=32, layer2_nodes=32, layer1_dropout=0, layer2_dropout=0, opt_param=default_optimizer, init_param=default_kernel_init):\n",
    "    nn_model = keras.Sequential([\n",
    "        keras.layers.Dense(layer1_nodes, input_shape=(n_inputs,), activation='relu', kernel_initializer=init_param),\n",
    "        keras.layers.Dropout(layer1_dropout),\n",
    "        keras.layers.Dense(layer2_nodes, activation='relu', kernel_initializer=init_param),\n",
    "        keras.layers.Dropout(layer2_dropout),\n",
    "        keras.layers.Dense(n_outputs, activation='softmax', kernel_initializer=init_param)\n",
    "    ])\n",
    "    nn_model.compile(loss=default_loss, optimizer=opt_param, metrics=default_metrics)\n",
    "    return nn_model"
   ],
   "metadata": {
    "collapsed": false,
    "pycharm": {
     "name": "#%%\n"
    }
   }
  },
  {
   "cell_type": "code",
   "execution_count": 44,
   "outputs": [
    {
     "name": "stdout",
     "output_type": "stream",
     "text": [
      "Accuracy measurement from iteration 1 >>> 83.33%\n",
      "Accuracy measurement from iteration 2 >>> 100.00%\n",
      "Accuracy measurement from iteration 3 >>> 95.83%\n",
      "Accuracy measurement from iteration 4 >>> 91.67%\n",
      "Accuracy measurement from iteration 5 >>> 95.83%\n",
      "Accuracy measurement from iteration 6 >>> 100.00%\n",
      "Accuracy measurement from iteration 7 >>> 100.00%\n",
      "Accuracy measurement from iteration 8 >>> 91.67%\n",
      "Accuracy measurement from iteration 9 >>> 95.83%\n",
      "Accuracy measurement from iteration 10 >>> 95.83%\n",
      "Average model accuracy from all iterations: 95.000% (0.049)\n",
      "Total time for model fitting and cross validating: 0:00:01.507341\n"
     ]
    }
   ],
   "source": [
    "# Initialize the default model and get a baseline result\n",
    "startTimeModule = datetime.now()\n",
    "results = list()\n",
    "iteration = 0\n",
    "cv = RepeatedKFold(n_splits=n_folds, n_repeats=n_iterations, random_state=seedNum)\n",
    "reset_random(seedNum)\n",
    "baseline_model = create_nn_model()\n",
    "for train_ix, val_ix in cv.split(X_train):\n",
    "    feature_train, feature_validation = X_train[train_ix], X_train[val_ix]\n",
    "    target_train, target_validation = y_train[train_ix], y_train[val_ix]\n",
    "    baseline_model.fit(feature_train, target_train, epochs=default_epoch, batch_size=default_batch, verbose=0)\n",
    "    model_metric = baseline_model.evaluate(feature_validation, target_validation, verbose=0)[1]\n",
    "    iteration = iteration + 1\n",
    "    print('Accuracy measurement from iteration %d >>> %.2f%%' % (iteration, model_metric*100))\n",
    "    results.append(model_metric)\n",
    "validation_score = np.mean(results)\n",
    "print('Average model accuracy from all iterations: %.3f%% (%.3f)' % (validation_score*100, np.std(results)))\n",
    "print('Total time for model fitting and cross validating:', (datetime.now() - startTimeModule))"
   ],
   "metadata": {
    "collapsed": false,
    "pycharm": {
     "name": "#%%\n"
    }
   }
  },
  {
   "cell_type": "code",
   "execution_count": 45,
   "outputs": [
    {
     "name": "stdout",
     "output_type": "stream",
     "text": [
      "Processing model Model_001 with Layer 1: 48 and Layer 2: 48 nodes\n",
      "Accuracy measurement from iteration 1 >>> 0.92%\n",
      "Accuracy measurement from iteration 2 >>> 0.96%\n",
      "Accuracy measurement from iteration 3 >>> 0.96%\n",
      "Accuracy measurement from iteration 4 >>> 0.96%\n",
      "Accuracy measurement from iteration 5 >>> 1.00%\n",
      "Accuracy measurement from iteration 6 >>> 1.00%\n",
      "Accuracy measurement from iteration 7 >>> 1.00%\n",
      "Accuracy measurement from iteration 8 >>> 0.96%\n",
      "Accuracy measurement from iteration 9 >>> 0.96%\n",
      "Accuracy measurement from iteration 10 >>> 0.96%\n",
      "Average model accuracy from all iterations: 96.67% (0.025)\n",
      "Total time for model fitting and cross validating: 0:00:01.303296\n",
      "\n",
      "Processing model Model_002 with Layer 1: 64 and Layer 2: 64 nodes\n",
      "Accuracy measurement from iteration 1 >>> 0.92%\n",
      "Accuracy measurement from iteration 2 >>> 0.96%\n",
      "Accuracy measurement from iteration 3 >>> 0.96%\n",
      "Accuracy measurement from iteration 4 >>> 0.96%\n",
      "Accuracy measurement from iteration 5 >>> 1.00%\n",
      "Accuracy measurement from iteration 6 >>> 1.00%\n",
      "Accuracy measurement from iteration 7 >>> 1.00%\n",
      "Accuracy measurement from iteration 8 >>> 0.96%\n",
      "Accuracy measurement from iteration 9 >>> 0.96%\n",
      "Accuracy measurement from iteration 10 >>> 0.96%\n",
      "Average model accuracy from all iterations: 96.67% (0.025)\n",
      "Total time for model fitting and cross validating: 0:00:01.334302\n",
      "\n",
      "Processing model Model_003 with Layer 1: 96 and Layer 2: 96 nodes\n",
      "Accuracy measurement from iteration 1 >>> 0.92%\n",
      "Accuracy measurement from iteration 2 >>> 0.96%\n",
      "Accuracy measurement from iteration 3 >>> 0.96%\n",
      "Accuracy measurement from iteration 4 >>> 0.92%\n",
      "Accuracy measurement from iteration 5 >>> 1.00%\n",
      "Accuracy measurement from iteration 6 >>> 1.00%\n",
      "Accuracy measurement from iteration 7 >>> 1.00%\n",
      "Accuracy measurement from iteration 8 >>> 1.00%\n",
      "Accuracy measurement from iteration 9 >>> 1.00%\n",
      "Accuracy measurement from iteration 10 >>> 1.00%\n",
      "Average model accuracy from all iterations: 97.50% (0.033)\n",
      "Total time for model fitting and cross validating: 0:00:01.305296\n",
      "\n",
      "Processing model Model_004 with Layer 1: 128 and Layer 2: 128 nodes\n",
      "Accuracy measurement from iteration 1 >>> 0.92%\n",
      "Accuracy measurement from iteration 2 >>> 0.96%\n",
      "Accuracy measurement from iteration 3 >>> 0.96%\n",
      "Accuracy measurement from iteration 4 >>> 0.92%\n",
      "Accuracy measurement from iteration 5 >>> 1.00%\n",
      "Accuracy measurement from iteration 6 >>> 1.00%\n",
      "Accuracy measurement from iteration 7 >>> 1.00%\n",
      "Accuracy measurement from iteration 8 >>> 0.96%\n",
      "Accuracy measurement from iteration 9 >>> 1.00%\n",
      "Accuracy measurement from iteration 10 >>> 1.00%\n",
      "Average model accuracy from all iterations: 97.08% (0.033)\n",
      "Total time for model fitting and cross validating: 0:00:01.428323\n",
      "\n",
      "Processing model Model_005 with Layer 1: 192 and Layer 2: 192 nodes\n",
      "Accuracy measurement from iteration 1 >>> 0.92%\n",
      "Accuracy measurement from iteration 2 >>> 0.96%\n",
      "Accuracy measurement from iteration 3 >>> 0.96%\n",
      "Accuracy measurement from iteration 4 >>> 0.96%\n",
      "Accuracy measurement from iteration 5 >>> 1.00%\n",
      "Accuracy measurement from iteration 6 >>> 1.00%\n",
      "Accuracy measurement from iteration 7 >>> 1.00%\n",
      "Accuracy measurement from iteration 8 >>> 1.00%\n",
      "Accuracy measurement from iteration 9 >>> 1.00%\n",
      "Accuracy measurement from iteration 10 >>> 1.00%\n",
      "Average model accuracy from all iterations: 97.92% (0.028)\n",
      "Total time for model fitting and cross validating: 0:00:01.475334\n",
      "\n",
      "Total time for performing search of the best layer node parameters: 0:00:06.861553\n"
     ]
    }
   ],
   "source": [
    "# Initialize the grid parameters for layer nodes\n",
    "startTimeModule = datetime.now()\n",
    "nodes_grid = [(48, 48), (64, 64), (96, 96), (128, 128), (192, 192)]\n",
    "l1_dropout, l2_dropout = (0, 0)\n",
    "\n",
    "# Build dataframe for reporting model performance summary\n",
    "nodes_performance = pd.DataFrame(columns=['model_name', 'validation_score', 'layer1_nodes', 'layer2_nodes', 'layer1_dropout', 'layer2_dropout'])\n",
    "\n",
    "serial_number = 0\n",
    "for param in nodes_grid:\n",
    "    startTimeIteration = datetime.now()\n",
    "    serial_number = serial_number + 1\n",
    "    model_name = \"Model_\" + str(serial_number).zfill(3)\n",
    "    l1_nodes, l2_nodes = param\n",
    "    print('Processing model %s with Layer 1: %d and Layer 2: %d nodes' % (model_name, l1_nodes, l2_nodes))\n",
    "    results = list()\n",
    "    iteration = 0\n",
    "    cv = RepeatedKFold(n_splits=n_folds, n_repeats=n_iterations, random_state=seedNum)\n",
    "    reset_random(seedNum)\n",
    "    node_grid_model = create_nn_model(n_inputs=num_inputs,\n",
    "                                     n_outputs=num_outputs,\n",
    "                                     layer1_nodes=l1_nodes,\n",
    "                                     layer2_nodes=l2_nodes,\n",
    "                                     opt_param=default_optimizer,\n",
    "                                     init_param=default_kernel_init)\n",
    "    for train_ix, val_ix in cv.split(X_train):\n",
    "        feature_train, feature_validation = X_train[train_ix], X_train[val_ix]\n",
    "        target_train, target_validation = y_train[train_ix], y_train[val_ix]\n",
    "        node_grid_model.fit(feature_train, target_train, epochs=default_epoch, batch_size=default_batch, verbose=0)\n",
    "        model_metric = node_grid_model.evaluate(feature_validation, target_validation, verbose=0)[1]\n",
    "        iteration = iteration + 1\n",
    "        print('Accuracy measurement from iteration %d >>> %.2f%%' % (iteration, model_metric))\n",
    "        results.append(model_metric)\n",
    "    validation_score = np.mean(results)\n",
    "    print('Average model accuracy from all iterations: %.2f%% (%.3f)' % (validation_score*100, np.std(results)))\n",
    "    print('Total time for model fitting and cross validating:', (datetime.now() - startTimeIteration))\n",
    "    print()\n",
    "    nodes_performance = nodes_performance.append({'model_name': model_name, 'validation_score': validation_score, 'layer1_nodes': l1_nodes, 'layer2_nodes': l2_nodes, 'layer1_dropout': l1_dropout, 'layer2_dropout': l2_dropout}, ignore_index=True)\n",
    "\n",
    "nodes_performance.set_index('model_name', inplace=True)\n",
    "print('Total time for performing search of the best layer node parameters:', (datetime.now() - startTimeModule))"
   ],
   "metadata": {
    "collapsed": false,
    "pycharm": {
     "name": "#%%\n"
    }
   }
  },
  {
   "cell_type": "code",
   "execution_count": 46,
   "outputs": [
    {
     "data": {
      "text/plain": "            validation_score layer1_nodes layer2_nodes layer1_dropout layer2_dropout\nmodel_name                                                                          \nModel_005           0.979167          192          192              0              0\nModel_003           0.975000           96           96              0              0\nModel_004           0.970833          128          128              0              0\nModel_001           0.966667           48           48              0              0\nModel_002           0.966667           64           64              0              0",
      "text/html": "<div>\n<style scoped>\n    .dataframe tbody tr th:only-of-type {\n        vertical-align: middle;\n    }\n\n    .dataframe tbody tr th {\n        vertical-align: top;\n    }\n\n    .dataframe thead th {\n        text-align: right;\n    }\n</style>\n<table border=\"1\" class=\"dataframe\">\n  <thead>\n    <tr style=\"text-align: right;\">\n      <th></th>\n      <th>validation_score</th>\n      <th>layer1_nodes</th>\n      <th>layer2_nodes</th>\n      <th>layer1_dropout</th>\n      <th>layer2_dropout</th>\n    </tr>\n    <tr>\n      <th>model_name</th>\n      <th></th>\n      <th></th>\n      <th></th>\n      <th></th>\n      <th></th>\n    </tr>\n  </thead>\n  <tbody>\n    <tr>\n      <th>Model_005</th>\n      <td>0.979167</td>\n      <td>192</td>\n      <td>192</td>\n      <td>0</td>\n      <td>0</td>\n    </tr>\n    <tr>\n      <th>Model_003</th>\n      <td>0.975000</td>\n      <td>96</td>\n      <td>96</td>\n      <td>0</td>\n      <td>0</td>\n    </tr>\n    <tr>\n      <th>Model_004</th>\n      <td>0.970833</td>\n      <td>128</td>\n      <td>128</td>\n      <td>0</td>\n      <td>0</td>\n    </tr>\n    <tr>\n      <th>Model_001</th>\n      <td>0.966667</td>\n      <td>48</td>\n      <td>48</td>\n      <td>0</td>\n      <td>0</td>\n    </tr>\n    <tr>\n      <th>Model_002</th>\n      <td>0.966667</td>\n      <td>64</td>\n      <td>64</td>\n      <td>0</td>\n      <td>0</td>\n    </tr>\n  </tbody>\n</table>\n</div>"
     },
     "execution_count": 46,
     "metadata": {},
     "output_type": "execute_result"
    }
   ],
   "source": [
    "# Display the model performance summary\n",
    "nodes_performance.sort_values(by=['validation_score'], ascending=False).head()"
   ],
   "metadata": {
    "collapsed": false,
    "pycharm": {
     "name": "#%%\n"
    }
   }
  },
  {
   "cell_type": "code",
   "execution_count": 47,
   "outputs": [
    {
     "name": "stdout",
     "output_type": "stream",
     "text": [
      "Processing model Model_001 with Layer 1: 64 and Layer 2: 64 nodes and dropout parameters of Layer 1: 0.00 and Layer 2: 0.00\n",
      "Accuracy measurement from iteration 1 >>> 91.67%\n",
      "Accuracy measurement from iteration 2 >>> 95.83%\n",
      "Accuracy measurement from iteration 3 >>> 95.83%\n",
      "Accuracy measurement from iteration 4 >>> 95.83%\n",
      "Accuracy measurement from iteration 5 >>> 100.00%\n",
      "Accuracy measurement from iteration 6 >>> 100.00%\n",
      "Accuracy measurement from iteration 7 >>> 100.00%\n",
      "Accuracy measurement from iteration 8 >>> 95.83%\n",
      "Accuracy measurement from iteration 9 >>> 95.83%\n",
      "Accuracy measurement from iteration 10 >>> 95.83%\n",
      "Average model accuracy from all iterations: 96.67% (0.025)\n",
      "Total time for model fitting and cross validating: 0:00:01.328301\n",
      "\n",
      "Processing model Model_002 with Layer 1: 64 and Layer 2: 64 nodes and dropout parameters of Layer 1: 0.00 and Layer 2: 0.50\n",
      "Accuracy measurement from iteration 1 >>> 91.67%\n",
      "Accuracy measurement from iteration 2 >>> 95.83%\n",
      "Accuracy measurement from iteration 3 >>> 95.83%\n",
      "Accuracy measurement from iteration 4 >>> 95.83%\n",
      "Accuracy measurement from iteration 5 >>> 100.00%\n",
      "Accuracy measurement from iteration 6 >>> 100.00%\n",
      "Accuracy measurement from iteration 7 >>> 100.00%\n",
      "Accuracy measurement from iteration 8 >>> 95.83%\n",
      "Accuracy measurement from iteration 9 >>> 95.83%\n",
      "Accuracy measurement from iteration 10 >>> 95.83%\n",
      "Average model accuracy from all iterations: 96.67% (0.025)\n",
      "Total time for model fitting and cross validating: 0:00:01.264287\n",
      "\n",
      "Processing model Model_003 with Layer 1: 64 and Layer 2: 64 nodes and dropout parameters of Layer 1: 0.25 and Layer 2: 0.00\n",
      "Accuracy measurement from iteration 1 >>> 91.67%\n",
      "Accuracy measurement from iteration 2 >>> 95.83%\n",
      "Accuracy measurement from iteration 3 >>> 95.83%\n",
      "Accuracy measurement from iteration 4 >>> 100.00%\n",
      "Accuracy measurement from iteration 5 >>> 100.00%\n",
      "Accuracy measurement from iteration 6 >>> 100.00%\n",
      "Accuracy measurement from iteration 7 >>> 100.00%\n",
      "Accuracy measurement from iteration 8 >>> 95.83%\n",
      "Accuracy measurement from iteration 9 >>> 95.83%\n",
      "Accuracy measurement from iteration 10 >>> 95.83%\n",
      "Average model accuracy from all iterations: 97.08% (0.027)\n",
      "Total time for model fitting and cross validating: 0:00:01.467332\n",
      "\n",
      "Processing model Model_004 with Layer 1: 64 and Layer 2: 64 nodes and dropout parameters of Layer 1: 0.25 and Layer 2: 0.50\n",
      "Accuracy measurement from iteration 1 >>> 91.67%\n",
      "Accuracy measurement from iteration 2 >>> 95.83%\n",
      "Accuracy measurement from iteration 3 >>> 95.83%\n",
      "Accuracy measurement from iteration 4 >>> 100.00%\n",
      "Accuracy measurement from iteration 5 >>> 100.00%\n",
      "Accuracy measurement from iteration 6 >>> 100.00%\n",
      "Accuracy measurement from iteration 7 >>> 100.00%\n",
      "Accuracy measurement from iteration 8 >>> 95.83%\n",
      "Accuracy measurement from iteration 9 >>> 95.83%\n",
      "Accuracy measurement from iteration 10 >>> 95.83%\n",
      "Average model accuracy from all iterations: 97.08% (0.027)\n",
      "Total time for model fitting and cross validating: 0:00:01.261286\n",
      "\n",
      "Processing model Model_005 with Layer 1: 64 and Layer 2: 64 nodes and dropout parameters of Layer 1: 0.50 and Layer 2: 0.00\n",
      "Accuracy measurement from iteration 1 >>> 91.67%\n",
      "Accuracy measurement from iteration 2 >>> 95.83%\n",
      "Accuracy measurement from iteration 3 >>> 95.83%\n",
      "Accuracy measurement from iteration 4 >>> 100.00%\n",
      "Accuracy measurement from iteration 5 >>> 100.00%\n",
      "Accuracy measurement from iteration 6 >>> 100.00%\n",
      "Accuracy measurement from iteration 7 >>> 100.00%\n",
      "Accuracy measurement from iteration 8 >>> 95.83%\n",
      "Accuracy measurement from iteration 9 >>> 95.83%\n",
      "Accuracy measurement from iteration 10 >>> 95.83%\n",
      "Average model accuracy from all iterations: 97.08% (0.027)\n",
      "Total time for model fitting and cross validating: 0:00:01.279289\n",
      "\n",
      "Processing model Model_006 with Layer 1: 64 and Layer 2: 64 nodes and dropout parameters of Layer 1: 0.50 and Layer 2: 0.50\n",
      "Accuracy measurement from iteration 1 >>> 91.67%\n",
      "Accuracy measurement from iteration 2 >>> 95.83%\n",
      "Accuracy measurement from iteration 3 >>> 95.83%\n",
      "Accuracy measurement from iteration 4 >>> 100.00%\n",
      "Accuracy measurement from iteration 5 >>> 100.00%\n",
      "Accuracy measurement from iteration 6 >>> 100.00%\n",
      "Accuracy measurement from iteration 7 >>> 95.83%\n",
      "Accuracy measurement from iteration 8 >>> 95.83%\n",
      "Accuracy measurement from iteration 9 >>> 95.83%\n",
      "Accuracy measurement from iteration 10 >>> 95.83%\n",
      "Average model accuracy from all iterations: 96.67% (0.025)\n",
      "Total time for model fitting and cross validating: 0:00:01.250284\n",
      "\n",
      "Total time for performing grid-search of the best dropout parameters: 0:00:07.869782\n"
     ]
    }
   ],
   "source": [
    "# Initialize the grid parameters for the dropout ratio\n",
    "startTimeModule = datetime.now()\n",
    "l1_nodes = 64\n",
    "l2_nodes = 64\n",
    "l1_dropout_grid = [0, 0.25, 0.5]\n",
    "l2_dropout_grid = [0, 0.5]\n",
    "\n",
    "# Build dataframe for reporting model performance summary\n",
    "dropout_performance = pd.DataFrame(columns=['model_name','validation_score','layer1_nodes','layer2_nodes','layer1_dropout','layer2_dropout'])\n",
    "\n",
    "serial_number = 0\n",
    "for l1_dropout in l1_dropout_grid:\n",
    "    for l2_dropout in l2_dropout_grid:\n",
    "        startTimeIteration = datetime.now()\n",
    "        serial_number = serial_number + 1\n",
    "        model_name = \"Model_\" + str(serial_number).zfill(3)\n",
    "        print('Processing model %s with Layer 1: %d and Layer 2: %d nodes and dropout parameters of Layer 1: %.2f and Layer 2: %.2f' % (model_name, l1_nodes, l2_nodes, l1_dropout, l2_dropout))\n",
    "        results = list()\n",
    "        iteration = 0\n",
    "        cv = RepeatedKFold(n_splits=n_folds, n_repeats=n_iterations, random_state=seedNum)\n",
    "        reset_random(seedNum)\n",
    "        dropout_grid_model = create_nn_model(n_inputs=num_inputs,\n",
    "                                            n_outputs=num_outputs,\n",
    "                                            layer1_nodes=l1_nodes,\n",
    "                                            layer2_nodes=l2_nodes,\n",
    "                                            layer1_dropout=l1_dropout,\n",
    "                                            layer2_dropout=l2_dropout,\n",
    "                                            opt_param=default_optimizer,\n",
    "                                            init_param=default_kernel_init)\n",
    "        for train_ix, val_ix in cv.split(X_train):\n",
    "            feature_train, feature_validation = X_train[train_ix], X_train[val_ix]\n",
    "            target_train, target_validation = y_train[train_ix], y_train[val_ix]\n",
    "            dropout_grid_model.fit(feature_train, target_train, epochs=default_epoch, batch_size=default_batch, verbose=0)\n",
    "            model_metric = dropout_grid_model.evaluate(feature_validation, target_validation, verbose=0)[1]\n",
    "            iteration = iteration + 1\n",
    "            print('Accuracy measurement from iteration %d >>> %.2f%%' % (iteration, model_metric*100))\n",
    "            results.append(model_metric)\n",
    "        validation_score = np.mean(results)\n",
    "        print('Average model accuracy from all iterations: %.2f%% (%.3f)' % (validation_score*100, np.std(results)))\n",
    "        print('Total time for model fitting and cross validating:', (datetime.now() - startTimeIteration))\n",
    "        print()\n",
    "        dropout_performance = dropout_performance.append({'model_name': model_name, 'validation_score': validation_score, 'layer1_nodes': l1_nodes, 'layer2_nodes': l2_nodes, 'layer1_dropout': l1_dropout, 'layer2_dropout': l2_dropout}, ignore_index=True)\n",
    "\n",
    "dropout_performance.set_index('model_name', inplace=True)\n",
    "print('Total time for performing grid-search of the best dropout parameters:', (datetime.now() - startTimeModule))"
   ],
   "metadata": {
    "collapsed": false,
    "pycharm": {
     "name": "#%%\n"
    }
   }
  },
  {
   "cell_type": "code",
   "execution_count": 48,
   "outputs": [
    {
     "data": {
      "text/plain": "            validation_score layer1_nodes layer2_nodes layer1_dropout layer2_dropout\nmodel_name                                                                          \nModel_003           0.970833           64           64           0.25              0\nModel_004           0.970833           64           64           0.25            0.5\nModel_005           0.970833           64           64            0.5              0\nModel_001           0.966667           64           64              0              0\nModel_002           0.966667           64           64              0            0.5",
      "text/html": "<div>\n<style scoped>\n    .dataframe tbody tr th:only-of-type {\n        vertical-align: middle;\n    }\n\n    .dataframe tbody tr th {\n        vertical-align: top;\n    }\n\n    .dataframe thead th {\n        text-align: right;\n    }\n</style>\n<table border=\"1\" class=\"dataframe\">\n  <thead>\n    <tr style=\"text-align: right;\">\n      <th></th>\n      <th>validation_score</th>\n      <th>layer1_nodes</th>\n      <th>layer2_nodes</th>\n      <th>layer1_dropout</th>\n      <th>layer2_dropout</th>\n    </tr>\n    <tr>\n      <th>model_name</th>\n      <th></th>\n      <th></th>\n      <th></th>\n      <th></th>\n      <th></th>\n    </tr>\n  </thead>\n  <tbody>\n    <tr>\n      <th>Model_003</th>\n      <td>0.970833</td>\n      <td>64</td>\n      <td>64</td>\n      <td>0.25</td>\n      <td>0</td>\n    </tr>\n    <tr>\n      <th>Model_004</th>\n      <td>0.970833</td>\n      <td>64</td>\n      <td>64</td>\n      <td>0.25</td>\n      <td>0.5</td>\n    </tr>\n    <tr>\n      <th>Model_005</th>\n      <td>0.970833</td>\n      <td>64</td>\n      <td>64</td>\n      <td>0.5</td>\n      <td>0</td>\n    </tr>\n    <tr>\n      <th>Model_001</th>\n      <td>0.966667</td>\n      <td>64</td>\n      <td>64</td>\n      <td>0</td>\n      <td>0</td>\n    </tr>\n    <tr>\n      <th>Model_002</th>\n      <td>0.966667</td>\n      <td>64</td>\n      <td>64</td>\n      <td>0</td>\n      <td>0.5</td>\n    </tr>\n  </tbody>\n</table>\n</div>"
     },
     "execution_count": 48,
     "metadata": {},
     "output_type": "execute_result"
    }
   ],
   "source": [
    "# Display the model performance summary\n",
    "dropout_performance.sort_values(by=['validation_score'], ascending=False).head()"
   ],
   "metadata": {
    "collapsed": false,
    "pycharm": {
     "name": "#%%\n"
    }
   }
  },
  {
   "cell_type": "code",
   "execution_count": 49,
   "outputs": [
    {
     "data": {
      "text/plain": "<Figure size 1152x648 with 1 Axes>",
      "image/png": "[encoded data removed]"
     },
     "metadata": {
      "needs_background": "light"
     },
     "output_type": "display_data"
    }
   ],
   "source": [
    "# Spot-checking the models\n",
    "fig = plt.figure(figsize=(16,9))\n",
    "title = 'Model Comparison with Validation Metrics after ' + str(default_epoch) + ' epochs'\n",
    "fig.suptitle(title)\n",
    "ax1 = fig.add_subplot(111)\n",
    "ax1.plot(dropout_performance['validation_score'], color='r', lw=2.)\n",
    "plt.legend(['Validation'], loc='lower left')\n",
    "plt.show()"
   ],
   "metadata": {
    "collapsed": false,
    "pycharm": {
     "name": "#%%\n"
    }
   }
  },
  {
   "cell_type": "code",
   "execution_count": 50,
   "outputs": [
    {
     "name": "stdout",
     "output_type": "stream",
     "text": [
      "Fitting final model with Layer 1: 64, Layer 2: 64 with dropout parameters of Layer 1: 0.00, Layer 2: 0.00\n",
      "Epoch 1/20\n",
      "8/8 [==============================] - 0s 625us/step - loss: 0.8062 - accuracy: 0.6167\b\b\b\b\b\b\b\b\b\b\b\b\b\b\b\b\b\b\b\b\b\b\b\b\b\b\b\b\b\b\b\b\b\b\b\b\b\b\b\b\b\b\b\b\b\b\b\b\b\b\b\b\b\b\b\b\b\b\b\b\b\b\b\b\b\b\b\b\b\b\b\b\b\b\n",
      "Epoch 2/20\n",
      "8/8 [==============================] - 0s 500us/step - loss: 0.4302 - accuracy: 0.7833\b\b\b\b\b\b\b\b\b\b\b\b\b\b\b\b\b\b\b\b\b\b\b\b\b\b\b\b\b\b\b\b\b\b\b\b\b\b\b\b\b\b\b\b\b\b\b\b\b\b\b\b\b\b\b\b\b\b\b\b\b\b\b\b\b\b\b\b\b\b\b\b\b\b\n",
      "Epoch 3/20\n",
      "8/8 [==============================] - 0s 500us/step - loss: 0.3164 - accuracy: 0.8667\b\b\b\b\b\b\b\b\b\b\b\b\b\b\b\b\b\b\b\b\b\b\b\b\b\b\b\b\b\b\b\b\b\b\b\b\b\b\b\b\b\b\b\b\b\b\b\b\b\b\b\b\b\b\b\b\b\b\b\b\b\b\b\b\b\b\b\b\b\b\b\b\b\b\n",
      "Epoch 4/20\n",
      "8/8 [==============================] - 0s 500us/step - loss: 0.2615 - accuracy: 0.8750\b\b\b\b\b\b\b\b\b\b\b\b\b\b\b\b\b\b\b\b\b\b\b\b\b\b\b\b\b\b\b\b\b\b\b\b\b\b\b\b\b\b\b\b\b\b\b\b\b\b\b\b\b\b\b\b\b\b\b\b\b\b\b\b\b\b\b\b\b\b\b\b\b\b\n",
      "Epoch 5/20\n",
      "8/8 [==============================] - 0s 500us/step - loss: 0.2158 - accuracy: 0.9250\b\b\b\b\b\b\b\b\b\b\b\b\b\b\b\b\b\b\b\b\b\b\b\b\b\b\b\b\b\b\b\b\b\b\b\b\b\b\b\b\b\b\b\b\b\b\b\b\b\b\b\b\b\b\b\b\b\b\b\b\b\b\b\b\b\b\b\b\b\b\b\b\b\b\n",
      "Epoch 6/20\n",
      "8/8 [==============================] - 0s 625us/step - loss: 0.1761 - accuracy: 0.9583\b\b\b\b\b\b\b\b\b\b\b\b\b\b\b\b\b\b\b\b\b\b\b\b\b\b\b\b\b\b\b\b\b\b\b\b\b\b\b\b\b\b\b\b\b\b\b\b\b\b\b\b\b\b\b\b\b\b\b\b\b\b\b\b\b\b\b\b\b\b\b\b\b\b\n",
      "Epoch 7/20\n",
      "8/8 [==============================] - 0s 625us/step - loss: 0.1470 - accuracy: 0.9583\b\b\b\b\b\b\b\b\b\b\b\b\b\b\b\b\b\b\b\b\b\b\b\b\b\b\b\b\b\b\b\b\b\b\b\b\b\b\b\b\b\b\b\b\b\b\b\b\b\b\b\b\b\b\b\b\b\b\b\b\b\b\b\b\b\b\b\b\b\b\b\b\b\b\n",
      "Epoch 8/20\n",
      "8/8 [==============================] - 0s 500us/step - loss: 0.1273 - accuracy: 0.9583\b\b\b\b\b\b\b\b\b\b\b\b\b\b\b\b\b\b\b\b\b\b\b\b\b\b\b\b\b\b\b\b\b\b\b\b\b\b\b\b\b\b\b\b\b\b\b\b\b\b\b\b\b\b\b\b\b\b\b\b\b\b\b\b\b\b\b\b\b\b\b\b\b\b\n",
      "Epoch 9/20\n",
      "8/8 [==============================] - 0s 625us/step - loss: 0.1019 - accuracy: 0.9667\b\b\b\b\b\b\b\b\b\b\b\b\b\b\b\b\b\b\b\b\b\b\b\b\b\b\b\b\b\b\b\b\b\b\b\b\b\b\b\b\b\b\b\b\b\b\b\b\b\b\b\b\b\b\b\b\b\b\b\b\b\b\b\b\b\b\b\b\b\b\b\b\b\b\n",
      "Epoch 10/20\n",
      "8/8 [==============================] - 0s 500us/step - loss: 0.0891 - accuracy: 0.9750\b\b\b\b\b\b\b\b\b\b\b\b\b\b\b\b\b\b\b\b\b\b\b\b\b\b\b\b\b\b\b\b\b\b\b\b\b\b\b\b\b\b\b\b\b\b\b\b\b\b\b\b\b\b\b\b\b\b\b\b\b\b\b\b\b\b\b\b\b\b\b\b\b\b\n",
      "Epoch 11/20\n",
      "8/8 [==============================] - 0s 625us/step - loss: 0.0847 - accuracy: 0.9583\b\b\b\b\b\b\b\b\b\b\b\b\b\b\b\b\b\b\b\b\b\b\b\b\b\b\b\b\b\b\b\b\b\b\b\b\b\b\b\b\b\b\b\b\b\b\b\b\b\b\b\b\b\b\b\b\b\b\b\b\b\b\b\b\b\b\b\b\b\b\b\b\b\b\n",
      "Epoch 12/20\n",
      "8/8 [==============================] - 0s 625us/step - loss: 0.0821 - accuracy: 0.9667\b\b\b\b\b\b\b\b\b\b\b\b\b\b\b\b\b\b\b\b\b\b\b\b\b\b\b\b\b\b\b\b\b\b\b\b\b\b\b\b\b\b\b\b\b\b\b\b\b\b\b\b\b\b\b\b\b\b\b\b\b\b\b\b\b\b\b\b\b\b\b\b\b\b\n",
      "Epoch 13/20\n",
      "8/8 [==============================] - 0s 625us/step - loss: 0.0719 - accuracy: 0.9667\b\b\b\b\b\b\b\b\b\b\b\b\b\b\b\b\b\b\b\b\b\b\b\b\b\b\b\b\b\b\b\b\b\b\b\b\b\b\b\b\b\b\b\b\b\b\b\b\b\b\b\b\b\b\b\b\b\b\b\b\b\b\b\b\b\b\b\b\b\b\b\b\b\b\n",
      "Epoch 14/20\n",
      "8/8 [==============================] - 0s 500us/step - loss: 0.0683 - accuracy: 0.9750\b\b\b\b\b\b\b\b\b\b\b\b\b\b\b\b\b\b\b\b\b\b\b\b\b\b\b\b\b\b\b\b\b\b\b\b\b\b\b\b\b\b\b\b\b\b\b\b\b\b\b\b\b\b\b\b\b\b\b\b\b\b\b\b\b\b\b\b\b\b\b\b\b\b\n",
      "Epoch 15/20\n",
      "8/8 [==============================] - 0s 625us/step - loss: 0.0633 - accuracy: 0.9750\b\b\b\b\b\b\b\b\b\b\b\b\b\b\b\b\b\b\b\b\b\b\b\b\b\b\b\b\b\b\b\b\b\b\b\b\b\b\b\b\b\b\b\b\b\b\b\b\b\b\b\b\b\b\b\b\b\b\b\b\b\b\b\b\b\b\b\b\b\b\b\b\b\b\n",
      "Epoch 16/20\n",
      "8/8 [==============================] - 0s 750us/step - loss: 0.0601 - accuracy: 0.9833\b\b\b\b\b\b\b\b\b\b\b\b\b\b\b\b\b\b\b\b\b\b\b\b\b\b\b\b\b\b\b\b\b\b\b\b\b\b\b\b\b\b\b\b\b\b\b\b\b\b\b\b\b\b\b\b\b\b\b\b\b\b\b\b\b\b\b\b\b\b\b\b\b\b\n",
      "Epoch 17/20\n",
      "8/8 [==============================] - 0s 500us/step - loss: 0.0568 - accuracy: 0.9750\b\b\b\b\b\b\b\b\b\b\b\b\b\b\b\b\b\b\b\b\b\b\b\b\b\b\b\b\b\b\b\b\b\b\b\b\b\b\b\b\b\b\b\b\b\b\b\b\b\b\b\b\b\b\b\b\b\b\b\b\b\b\b\b\b\b\b\b\b\b\b\b\b\b\n",
      "Epoch 18/20\n",
      "8/8 [==============================] - 0s 625us/step - loss: 0.0551 - accuracy: 0.9750\b\b\b\b\b\b\b\b\b\b\b\b\b\b\b\b\b\b\b\b\b\b\b\b\b\b\b\b\b\b\b\b\b\b\b\b\b\b\b\b\b\b\b\b\b\b\b\b\b\b\b\b\b\b\b\b\b\b\b\b\b\b\b\b\b\b\b\b\b\b\b\b\b\b\n",
      "Epoch 19/20\n",
      "8/8 [==============================] - 0s 625us/step - loss: 0.0566 - accuracy: 0.9833\b\b\b\b\b\b\b\b\b\b\b\b\b\b\b\b\b\b\b\b\b\b\b\b\b\b\b\b\b\b\b\b\b\b\b\b\b\b\b\b\b\b\b\b\b\b\b\b\b\b\b\b\b\b\b\b\b\b\b\b\b\b\b\b\b\b\b\b\b\b\b\b\b\b\n",
      "Epoch 20/20\n",
      "8/8 [==============================] - 0s 625us/step - loss: 0.0520 - accuracy: 0.9750\b\b\b\b\b\b\b\b\b\b\b\b\b\b\b\b\b\b\b\b\b\b\b\b\b\b\b\b\b\b\b\b\b\b\b\b\b\b\b\b\b\b\b\b\b\b\b\b\b\b\b\b\b\b\b\b\b\b\b\b\b\b\b\b\b\b\b\b\b\b\b\b\b\b\n"
     ]
    },
    {
     "data": {
      "text/plain": "<tensorflow.python.keras.callbacks.History at 0x24f50506808>"
     },
     "execution_count": 50,
     "metadata": {},
     "output_type": "execute_result"
    }
   ],
   "source": [
    "# Create the final model for evaluating the test dataset\n",
    "model_to_use = 'Model_001'\n",
    "final_l1_nodes = dropout_performance.loc[model_to_use]['layer1_nodes']\n",
    "final_l2_nodes = dropout_performance.loc[model_to_use]['layer2_nodes']\n",
    "final_l1_dropout = dropout_performance.loc[model_to_use]['layer1_dropout']\n",
    "final_l2_dropout = dropout_performance.loc[model_to_use]['layer2_dropout']\n",
    "final_optimizer = default_optimizer\n",
    "final_kernel_init = default_kernel_init\n",
    "final_epoch = default_epoch\n",
    "final_batch = default_batch\n",
    "print('Fitting final model with Layer 1: %d, Layer 2: %d with dropout parameters of Layer 1: %.2f, Layer 2: %.2f' % (final_l1_nodes, final_l2_nodes, final_l1_dropout, final_l2_dropout))\n",
    "reset_random(seedNum)\n",
    "final_model = create_nn_model(n_inputs=num_inputs,\n",
    "                              n_outputs=num_outputs,\n",
    "                              layer1_nodes=final_l1_nodes,\n",
    "                              layer2_nodes=final_l2_nodes,\n",
    "                              layer1_dropout=final_l1_dropout,\n",
    "                              layer2_dropout=final_l2_dropout,\n",
    "                              opt_param=final_optimizer,\n",
    "                              init_param=final_kernel_init)\n",
    "final_model.fit(X_train, y_train, epochs=final_epoch, batch_size=final_batch, verbose=1)"
   ],
   "metadata": {
    "collapsed": false,
    "pycharm": {
     "name": "#%%\n"
    }
   }
  },
  {
   "cell_type": "code",
   "execution_count": 51,
   "outputs": [
    {
     "name": "stdout",
     "output_type": "stream",
     "text": [
      "Model: \"sequential_12\"\n",
      "_________________________________________________________________\n",
      "Layer (type)                 Output Shape              Param #   \n",
      "=================================================================\n",
      "dense_36 (Dense)             (None, 64)                320       \n",
      "_________________________________________________________________\n",
      "dropout_24 (Dropout)         (None, 64)                0         \n",
      "_________________________________________________________________\n",
      "dense_37 (Dense)             (None, 64)                4160      \n",
      "_________________________________________________________________\n",
      "dropout_25 (Dropout)         (None, 64)                0         \n",
      "_________________________________________________________________\n",
      "dense_38 (Dense)             (None, 3)                 195       \n",
      "=================================================================\n",
      "Total params: 4,675\n",
      "Trainable params: 4,675\n",
      "Non-trainable params: 0\n",
      "_________________________________________________________________\n"
     ]
    }
   ],
   "source": [
    "# Summarize the final model\n",
    "final_model.summary()"
   ],
   "metadata": {
    "collapsed": false,
    "pycharm": {
     "name": "#%%\n"
    }
   }
  },
  {
   "cell_type": "code",
   "execution_count": 52,
   "outputs": [
    {
     "data": {
      "text/plain": "'{\"class_name\": \"Sequential\", \"config\": {\"name\": \"sequential_12\", \"layers\": [{\"class_name\": \"InputLayer\", \"config\": {\"batch_input_shape\": [null, 4], \"dtype\": \"float32\", \"sparse\": false, \"ragged\": false, \"name\": \"dense_36_input\"}}, {\"class_name\": \"Dense\", \"config\": {\"name\": \"dense_36\", \"trainable\": true, \"batch_input_shape\": [null, 4], \"dtype\": \"float32\", \"units\": 64, \"activation\": \"relu\", \"use_bias\": true, \"kernel_initializer\": {\"class_name\": \"GlorotUniform\", \"config\": {\"seed\": 888}}, \"bias_initializer\": {\"class_name\": \"Zeros\", \"config\": {}}, \"kernel_regularizer\": null, \"bias_regularizer\": null, \"activity_regularizer\": null, \"kernel_constraint\": null, \"bias_constraint\": null}}, {\"class_name\": \"Dropout\", \"config\": {\"name\": \"dropout_24\", \"trainable\": true, \"dtype\": \"float32\", \"rate\": 0, \"noise_shape\": null, \"seed\": null}}, {\"class_name\": \"Dense\", \"config\": {\"name\": \"dense_37\", \"trainable\": true, \"dtype\": \"float32\", \"units\": 64, \"activation\": \"relu\", \"use_bias\": true, \"kernel_initializer\": {\"class_name\": \"GlorotUniform\", \"config\": {\"seed\": 888}}, \"bias_initializer\": {\"class_name\": \"Zeros\", \"config\": {}}, \"kernel_regularizer\": null, \"bias_regularizer\": null, \"activity_regularizer\": null, \"kernel_constraint\": null, \"bias_constraint\": null}}, {\"class_name\": \"Dropout\", \"config\": {\"name\": \"dropout_25\", \"trainable\": true, \"dtype\": \"float32\", \"rate\": 0, \"noise_shape\": null, \"seed\": null}}, {\"class_name\": \"Dense\", \"config\": {\"name\": \"dense_38\", \"trainable\": true, \"dtype\": \"float32\", \"units\": 3, \"activation\": \"softmax\", \"use_bias\": true, \"kernel_initializer\": {\"class_name\": \"GlorotUniform\", \"config\": {\"seed\": 888}}, \"bias_initializer\": {\"class_name\": \"Zeros\", \"config\": {}}, \"kernel_regularizer\": null, \"bias_regularizer\": null, \"activity_regularizer\": null, \"kernel_constraint\": null, \"bias_constraint\": null}}]}, \"keras_version\": \"2.4.0\", \"backend\": \"tensorflow\"}'"
     },
     "execution_count": 52,
     "metadata": {},
     "output_type": "execute_result"
    }
   ],
   "source": [
    "# Display the configuration details of the final model\n",
    "final_model.to_json()"
   ],
   "metadata": {
    "collapsed": false,
    "pycharm": {
     "name": "#%%\n"
    }
   }
  },
  {
   "cell_type": "code",
   "execution_count": 53,
   "metadata": {},
   "outputs": [],
   "source": [
    "if notifyStatus: status_notify('(AutoKeras Multi-Class) Task 4 - Train and Evaluate Models completed on ' + datetime.now().strftime('%A %B %d, %Y %I:%M:%S %p'))"
   ]
  },
  {
   "cell_type": "markdown",
   "metadata": {},
   "source": [
    "# Task 5 - Finalize Model and Present Analysis"
   ]
  },
  {
   "cell_type": "code",
   "execution_count": 54,
   "metadata": {},
   "outputs": [],
   "source": [
    "if notifyStatus: status_notify('(AutoKeras Multi-Class) Task 5 - Finalize Model and Present Analysis has begun on ' + datetime.now().strftime('%A %B %d, %Y %I:%M:%S %p'))"
   ]
  },
  {
   "cell_type": "code",
   "execution_count": 55,
   "metadata": {},
   "outputs": [
    {
     "name": "stdout",
     "output_type": "stream",
     "text": [
      "X_test.shape: (30, 4) y_test.shape: (30, 3)\n"
     ]
    }
   ],
   "source": [
    "# Apply the same data preparation steps to the test dataset\n",
    "X_test = preprocessor.transform(X_test_df)\n",
    "# Encode the target variable\n",
    "y_test = tf.keras.utils.to_categorical(class_encoder.transform(y_test_df))\n",
    "print(\"X_test.shape: {} y_test.shape: {}\".format(X_test.shape, y_test.shape))"
   ]
  },
  {
   "cell_type": "code",
   "execution_count": 56,
   "metadata": {},
   "outputs": [
    {
     "name": "stdout",
     "output_type": "stream",
     "text": [
      "Accuracy Score: 1.0\n",
      "[[10  0  0]\n",
      " [ 0 10  0]\n",
      " [ 0  0 10]]\n",
      "              precision    recall  f1-score   support\n",
      "\n",
      "           0       1.00      1.00      1.00        10\n",
      "           1       1.00      1.00      1.00        10\n",
      "           2       1.00      1.00      1.00        10\n",
      "\n",
      "    accuracy                           1.00        30\n",
      "   macro avg       1.00      1.00      1.00        30\n",
      "weighted avg       1.00      1.00      1.00        30\n",
      "\n"
     ]
    }
   ],
   "source": [
    "# test_predictions = final_model.predict(X_test, batch_size=default_batch, verbose=1)\n",
    "test_predictions = np.argmax(final_model.predict(X_test), axis=-1)\n",
    "y_test_original = np.argmax(y_test, axis=-1)\n",
    "print('Accuracy Score:', accuracy_score(y_test_original, test_predictions))\n",
    "print(confusion_matrix(y_test_original, test_predictions))\n",
    "print(classification_report(y_test_original, test_predictions))"
   ]
  },
  {
   "cell_type": "code",
   "execution_count": 57,
   "metadata": {},
   "outputs": [],
   "source": [
    "if notifyStatus: status_notify('(AutoKeras Multi-Class) Task 5 - Finalize Model and Present Analysis completed on ' + datetime.now().strftime('%A %B %d, %Y %I:%M:%S %p'))"
   ]
  },
  {
   "cell_type": "code",
   "execution_count": 58,
   "metadata": {},
   "outputs": [
    {
     "name": "stdout",
     "output_type": "stream",
     "text": [
      "Total time for the script: 0:00:18.519162\n"
     ]
    }
   ],
   "source": [
    "print ('Total time for the script:',(datetime.now() - startTimeScript))"
   ]
  }
 ],
 "metadata": {
  "kernelspec": {
   "display_name": "Python 3",
   "language": "python",
   "name": "python3"
  },
  "language_info": {
   "codemirror_mode": {
    "name": "ipython",
    "version": 3
   },
   "file_extension": ".py",
   "mimetype": "text/x-python",
   "name": "python",
   "nbconvert_exporter": "python",
   "pygments_lexer": "ipython3",
   "version": "3.7.9"
  }
 },
 "nbformat": 4,
 "nbformat_minor": 4
}