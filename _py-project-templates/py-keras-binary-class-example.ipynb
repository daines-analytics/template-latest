{
 "cells": [
  {
   "cell_type": "markdown",
   "metadata": {
    "colab_type": "text",
    "id": "eJ2xTLgBIuLe"
   },
   "source": [
    "# Binary Classification Deep Learning Model for [Project Name] Using Keras Version 2\n",
    "### David Lowe\n",
    "### October 11, 2019\n",
    "Template Credit: Adapted from a template made available by Dr. Jason Brownlee of Machine Learning Mastery. [https://machinelearningmastery.com/]\n",
    "\n",
    "SUMMARY: [Sample Paragraph - The purpose of this project is to construct a predictive model using various machine learning algorithms and to document the end-to-end steps using a template. The Pima Indians Diabetes dataset is a binary classification situation where we are trying to predict one of the two possible outcomes.]\n",
    "\n",
    "INTRODUCTION: [Sample Paragraph - This dataset is originally from the National Institute of Diabetes and Digestive and Kidney Diseases. The objective of the dataset is to diagnostically predict whether or not a patient has diabetes, based on certain diagnostic measurements included in the dataset. The datasets consists of several medical predictor variables and one target variable, Outcome. Predictor variables includes the number of pregnancies the patient has had, their BMI, insulin level, age, and so on.]\n",
    "\n",
    "ANALYSIS: [Sample Paragraph - The baseline performance of the model achieved an average accuracy score of 69.11%. Using the same training parameters, the model processed the test dataset with an accuracy of 78.12%, which was even better than results from the training data.]\n",
    "\n",
    "CONCLUSION: [Sample Paragraph - For this dataset, the model built using Keras and TensorFlow achieved a satisfactory result and should be considered for future modeling activities]\n",
    "\n",
    "Dataset Used: [Pima Indians Diabetes Data Set]\n",
    "\n",
    "Dataset ML Model: Binary classification with numerical attributes\n",
    "\n",
    "Dataset Reference: [https://raw.githubusercontent.com/jbrownlee/Datasets/master/pima-indians-diabetes.data.csv]\n",
    "\n",
    "One potential source of performance benchmarks: [https://machinelearningmastery.com/tutorial-first-neural-network-python-keras/]\n",
    "\n",
    "Any deep-learning modeling project genrally can be broken down into about seven major tasks:\n",
    "0. Prepare Environment\n",
    "1. Load Data\n",
    "2. Define Model\n",
    "3. Compile Model\n",
    "4. Fit Model\n",
    "5. Evaluate Model\n",
    "6. Finalize Model"
   ]
  },
  {
   "cell_type": "markdown",
   "metadata": {
    "colab_type": "text",
    "id": "EqF7WxlHHPKr"
   },
   "source": [
    "# Section 0. Prepare Environment"
   ]
  },
  {
   "cell_type": "code",
   "execution_count": 1,
   "metadata": {},
   "outputs": [],
   "source": [
    "# Create the random seed numbers for reproducible results\n",
    "seedNum = 88"
   ]
  },
  {
   "cell_type": "code",
   "execution_count": 2,
   "metadata": {
    "colab": {
     "base_uri": "https://localhost:8080/",
     "height": 35
    },
    "colab_type": "code",
    "id": "X_BXx9P4HJGn",
    "outputId": "b19fcb52-1d53-4f4c-cd33-9298e58bcc5e"
   },
   "outputs": [],
   "source": [
    "# Load libraries and packages\n",
    "import random\n",
    "random.seed(seedNum)\n",
    "import numpy as np\n",
    "np.random.seed(seedNum)\n",
    "import os\n",
    "import smtplib\n",
    "from datetime import datetime\n",
    "from email.message import EmailMessage\n",
    "from sklearn.model_selection import train_test_split\n",
    "from sklearn.model_selection import StratifiedKFold\n",
    "from sklearn.model_selection import cross_val_score"
   ]
  },
  {
   "cell_type": "code",
   "execution_count": 3,
   "metadata": {},
   "outputs": [
    {
     "name": "stderr",
     "output_type": "stream",
     "text": [
      "Using TensorFlow backend.\n"
     ]
    }
   ],
   "source": [
    "# Configure a new global `tensorflow` session\n",
    "import keras as K\n",
    "from keras.layers import Dense\n",
    "from keras.wrappers.scikit_learn import KerasClassifier\n",
    "import tensorflow as tf\n",
    "tf.set_random_seed(seedNum)\n",
    "session_conf = tf.ConfigProto(intra_op_parallelism_threads=1, inter_op_parallelism_threads=1)\n",
    "sess = tf.Session(graph=tf.get_default_graph(), config=session_conf)\n",
    "K.backend.set_session(sess)"
   ]
  },
  {
   "cell_type": "code",
   "execution_count": 4,
   "metadata": {
    "colab": {},
    "colab_type": "code",
    "id": "YbIqw1TBR0P2"
   },
   "outputs": [],
   "source": [
    "# Begin the timer for the script processing\n",
    "startTimeScript = datetime.now()\n",
    "\n",
    "# Set up the flag to stop sending progress emails (setting to True will send status emails!)\n",
    "notifyStatus = False\n",
    "\n",
    "# Set the flag for splitting the dataset\n",
    "splitDataset = True\n",
    "splitPercentage = 0.25\n",
    "\n",
    "# Set various default Keras modeling parameters\n",
    "kernel_init = K.initializers.glorot_uniform(seed=seedNum)\n",
    "loss = 'binary_crossentropy'\n",
    "optimizer = 'adam'\n",
    "metrics = ['accuracy']\n",
    "epochs = 150\n",
    "batches = 10\n",
    "\n",
    "# Set the number of folds for cross validation\n",
    "folds = 10"
   ]
  },
  {
   "cell_type": "code",
   "execution_count": 5,
   "metadata": {
    "colab": {},
    "colab_type": "code",
    "id": "Un3ZnxByRhDV"
   },
   "outputs": [],
   "source": [
    "# Set up the email notification function\n",
    "def email_notify(msg_text):\n",
    "    sender = os.environ.get('MAIL_SENDER')\n",
    "    receiver = os.environ.get('MAIL_RECEIVER')\n",
    "    gateway = os.environ.get('SMTP_GATEWAY')\n",
    "    smtpuser = os.environ.get('SMTP_USERNAME')\n",
    "    password = os.environ.get('SMTP_PASSWORD')\n",
    "    if sender==None or receiver==None or gateway==None or smtpuser==None or password==None:\n",
    "        sys.exit(\"Incomplete email setup info. Script Processing Aborted!!!\")\n",
    "    msg = EmailMessage()\n",
    "    msg.set_content(msg_text)\n",
    "    msg['Subject'] = 'Notification from Keras Binary Classification Script'\n",
    "    msg['From'] = sender\n",
    "    msg['To'] = receiver\n",
    "    server = smtplib.SMTP(gateway, 587)\n",
    "    server.starttls()\n",
    "    server.login(smtpuser, password)\n",
    "    server.send_message(msg)\n",
    "    server.quit()"
   ]
  },
  {
   "cell_type": "code",
   "execution_count": 6,
   "metadata": {
    "colab": {},
    "colab_type": "code",
    "id": "ehVMNSM6VnRE"
   },
   "outputs": [],
   "source": [
    "if (notifyStatus): email_notify(\"Phase 0 Prepare Environment completed! \"+datetime.now().strftime('%a %B %d, %Y %I:%M:%S %p'))"
   ]
  },
  {
   "cell_type": "markdown",
   "metadata": {
    "colab_type": "text",
    "id": "Hb0U0RL8Hdhy"
   },
   "source": [
    "# Section 1. Load Data"
   ]
  },
  {
   "cell_type": "code",
   "execution_count": 7,
   "metadata": {
    "colab": {},
    "colab_type": "code",
    "id": "L5G5M20LSG9i"
   },
   "outputs": [],
   "source": [
    "if (notifyStatus): email_notify(\"Phase 1 Load Data has begun! \"+datetime.now().strftime('%a %B %d, %Y %I:%M:%S %p'))"
   ]
  },
  {
   "cell_type": "code",
   "execution_count": 8,
   "metadata": {
    "colab": {
     "base_uri": "https://localhost:8080/",
     "height": 146
    },
    "colab_type": "code",
    "id": "F27fJh8CAWb6",
    "outputId": "772d7d84-0f99-4fe9-8a84-becd51b3919e"
   },
   "outputs": [
    {
     "name": "stdout",
     "output_type": "stream",
     "text": [
      "[[  6.    148.     72.    ...   0.627  50.      1.   ]\n",
      " [  1.     85.     66.    ...   0.351  31.      0.   ]\n",
      " [  8.    183.     64.    ...   0.672  32.      1.   ]\n",
      " ...\n",
      " [  5.    121.     72.    ...   0.245  30.      0.   ]\n",
      " [  1.    126.     60.    ...   0.349  47.      1.   ]\n",
      " [  1.     93.     70.    ...   0.315  23.      0.   ]]\n"
     ]
    }
   ],
   "source": [
    "# Load the dataset\n",
    "dataset = np.loadtxt('pima-indians-diabetes.data.csv', delimiter=',')\n",
    "print(dataset)"
   ]
  },
  {
   "cell_type": "code",
   "execution_count": 9,
   "metadata": {
    "colab": {},
    "colab_type": "code",
    "id": "LKbZhVyPAZfX"
   },
   "outputs": [
    {
     "name": "stdout",
     "output_type": "stream",
     "text": [
      "Shape of X_original: (768, 8) | Shape of y_original: (768,)\n"
     ]
    }
   ],
   "source": [
    "# Split the original dataset into input (X) and output (y) variables\n",
    "X_original = dataset[:,0:8]\n",
    "y_original = dataset[:,8]\n",
    "print('Shape of X_original:', X_original.shape, '| Shape of y_original:', y_original.shape)"
   ]
  },
  {
   "cell_type": "code",
   "execution_count": 10,
   "metadata": {},
   "outputs": [
    {
     "name": "stdout",
     "output_type": "stream",
     "text": [
      "Shape of X_train: (576, 8) | Shape of y_train: (576,)\n",
      "Shape of X_test: (192, 8) | Shape of y_test: (192,)\n"
     ]
    }
   ],
   "source": [
    "# Split the data further into training and test datasets\n",
    "if (splitDataset):\n",
    "    X_train, X_test, y_train, y_test = train_test_split(X_original, y_original, test_size=splitPercentage, random_state=seedNum)\n",
    "else:\n",
    "    X_train, y_train = X_original, y_original\n",
    "    X_test, y_test = X_original, y_original\n",
    "print('Shape of X_train:', X_train.shape, '| Shape of y_train:', y_train.shape)\n",
    "print('Shape of X_test:', X_test.shape, '| Shape of y_test:', y_test.shape)"
   ]
  },
  {
   "cell_type": "code",
   "execution_count": 11,
   "metadata": {
    "colab": {},
    "colab_type": "code",
    "id": "d4bUiYdhSara"
   },
   "outputs": [],
   "source": [
    "if (notifyStatus): email_notify(\"Phase 1 Load Data completed! \"+datetime.now().strftime('%a %B %d, %Y %I:%M:%S %p'))"
   ]
  },
  {
   "cell_type": "markdown",
   "metadata": {
    "colab_type": "text",
    "id": "ljQSSE06Hkj0"
   },
   "source": [
    "# Section 2. Define Model"
   ]
  },
  {
   "cell_type": "code",
   "execution_count": 12,
   "metadata": {
    "colab": {},
    "colab_type": "code",
    "id": "fCo4dP5zSdib"
   },
   "outputs": [],
   "source": [
    "if (notifyStatus): email_notify(\"Phase 2 Define Model has begun! \"+datetime.now().strftime('%a %B %d, %Y %I:%M:%S %p'))"
   ]
  },
  {
   "cell_type": "code",
   "execution_count": 13,
   "metadata": {
    "colab": {
     "base_uri": "https://localhost:8080/",
     "height": 147
    },
    "colab_type": "code",
    "id": "AMBRuJibAefO",
    "outputId": "40716f3e-693b-475c-90e6-5a51cbe535dc"
   },
   "outputs": [],
   "source": [
    "# Define the Keras model required for KerasClassifier\n",
    "def create_model():\n",
    "    model = K.models.Sequential()\n",
    "    model.add(Dense(12, input_dim=8, kernel_initializer=kernel_init, activation='relu'))\n",
    "    model.add(Dense(8, kernel_initializer=kernel_init, activation='relu'))\n",
    "    model.add(Dense(1, kernel_initializer=kernel_init, activation='sigmoid'))\n",
    "    model.compile(loss=loss, optimizer=optimizer, metrics=metrics)\n",
    "    return model"
   ]
  },
  {
   "cell_type": "code",
   "execution_count": 14,
   "metadata": {
    "colab": {},
    "colab_type": "code",
    "id": "NGe320KgShbx"
   },
   "outputs": [],
   "source": [
    "if (notifyStatus): email_notify(\"Phase 2 Define Model completed! \"+datetime.now().strftime('%a %B %d, %Y %I:%M:%S %p'))"
   ]
  },
  {
   "cell_type": "markdown",
   "metadata": {
    "colab_type": "text",
    "id": "El40OmF2Hp8E"
   },
   "source": [
    "# Section 3. Compile Model"
   ]
  },
  {
   "cell_type": "code",
   "execution_count": 15,
   "metadata": {
    "colab": {},
    "colab_type": "code",
    "id": "55opOKV4SuW9"
   },
   "outputs": [],
   "source": [
    "if (notifyStatus): email_notify(\"Phase 3 Compile Model has begun! \"+datetime.now().strftime('%a %B %d, %Y %I:%M:%S %p'))"
   ]
  },
  {
   "cell_type": "code",
   "execution_count": 16,
   "metadata": {
    "colab": {
     "base_uri": "https://localhost:8080/",
     "height": 166
    },
    "colab_type": "code",
    "id": "6XG4pa74AgTr",
    "outputId": "f31c5a67-bbd9-4ad8-e02e-dc62326b5eb3"
   },
   "outputs": [],
   "source": [
    "# Initialize the Keras model\n",
    "cv_model = KerasClassifier(build_fn=create_model, epochs=epochs, batch_size=batches, verbose=0)"
   ]
  },
  {
   "cell_type": "code",
   "execution_count": 17,
   "metadata": {
    "colab": {},
    "colab_type": "code",
    "id": "oTbNwS6NSx2C"
   },
   "outputs": [],
   "source": [
    "if (notifyStatus): email_notify(\"Phase 3 Compile Model completed! \"+datetime.now().strftime('%a %B %d, %Y %I:%M:%S %p'))"
   ]
  },
  {
   "cell_type": "markdown",
   "metadata": {
    "colab_type": "text",
    "id": "utyCDnHTIJzX"
   },
   "source": [
    "# Section 4. Fit Model"
   ]
  },
  {
   "cell_type": "code",
   "execution_count": 18,
   "metadata": {
    "colab": {},
    "colab_type": "code",
    "id": "qobEj0hlS0xM"
   },
   "outputs": [],
   "source": [
    "if (notifyStatus): email_notify(\"Phase 4 Fit Model has begun! \"+datetime.now().strftime('%a %B %d, %Y %I:%M:%S %p'))"
   ]
  },
  {
   "cell_type": "code",
   "execution_count": 19,
   "metadata": {
    "colab": {
     "base_uri": "https://localhost:8080/",
     "height": 1000
    },
    "colab_type": "code",
    "id": "AEreg3esAiW3",
    "outputId": "3d77cc8d-b5f4-4cde-d682-146f7d64447b"
   },
   "outputs": [
    {
     "name": "stdout",
     "output_type": "stream",
     "text": [
      "WARNING:tensorflow:From /opt/conda/lib/python3.7/site-packages/keras/backend/tensorflow_backend.py:74: The name tf.get_default_graph is deprecated. Please use tf.compat.v1.get_default_graph instead.\n",
      "\n",
      "WARNING:tensorflow:From /opt/conda/lib/python3.7/site-packages/keras/backend/tensorflow_backend.py:517: The name tf.placeholder is deprecated. Please use tf.compat.v1.placeholder instead.\n",
      "\n",
      "WARNING:tensorflow:From /opt/conda/lib/python3.7/site-packages/keras/backend/tensorflow_backend.py:4138: The name tf.random_uniform is deprecated. Please use tf.random.uniform instead.\n",
      "\n",
      "WARNING:tensorflow:From /opt/conda/lib/python3.7/site-packages/keras/optimizers.py:790: The name tf.train.Optimizer is deprecated. Please use tf.compat.v1.train.Optimizer instead.\n",
      "\n",
      "WARNING:tensorflow:From /opt/conda/lib/python3.7/site-packages/keras/backend/tensorflow_backend.py:3376: The name tf.log is deprecated. Please use tf.math.log instead.\n",
      "\n",
      "WARNING:tensorflow:From /opt/conda/lib/python3.7/site-packages/tensorflow/python/ops/nn_impl.py:180: add_dispatch_support.<locals>.wrapper (from tensorflow.python.ops.array_ops) is deprecated and will be removed in a future version.\n",
      "Instructions for updating:\n",
      "Use tf.where in 2.0, which has the same broadcast rule as np.where\n",
      "WARNING:tensorflow:From /opt/conda/lib/python3.7/site-packages/keras/backend/tensorflow_backend.py:986: The name tf.assign_add is deprecated. Please use tf.compat.v1.assign_add instead.\n",
      "\n",
      "Generating results using the metrics of ['accuracy']\n",
      "All cross-Validate results: [0.67796611 0.68965517 0.56896552 0.68965518 0.72413795 0.71929825\n",
      " 0.75438596 0.73684211 0.63157895 0.71929825]\n",
      "Average cross-Validate results: 0.6911783432942358\n"
     ]
    }
   ],
   "source": [
    "# Fit and evaluate the Keras model using 10-fold cross validation\n",
    "kfold = StratifiedKFold(n_splits=folds, shuffle=True, random_state=seedNum)\n",
    "results = cross_val_score(cv_model, X_train, y_train, cv=kfold)\n",
    "print('Generating results using the metrics of', metrics)\n",
    "print('All cross-Validate results:', results)\n",
    "print('Average cross-Validate results:', results.mean())"
   ]
  },
  {
   "cell_type": "code",
   "execution_count": 20,
   "metadata": {
    "colab": {},
    "colab_type": "code",
    "id": "_Pb01NDTS44-"
   },
   "outputs": [],
   "source": [
    "if (notifyStatus): email_notify(\"Phase 4 Fit Model completed! \"+datetime.now().strftime('%a %B %d, %Y %I:%M:%S %p'))"
   ]
  },
  {
   "cell_type": "markdown",
   "metadata": {
    "colab_type": "text",
    "id": "F6Di1y9BIXey"
   },
   "source": [
    "# Section 5. Evaluate Model"
   ]
  },
  {
   "cell_type": "code",
   "execution_count": 21,
   "metadata": {
    "colab": {},
    "colab_type": "code",
    "id": "waSYHP94S-JU"
   },
   "outputs": [],
   "source": [
    "if (notifyStatus): email_notify(\"Phase 5 Evaluate Model has begun! \"+datetime.now().strftime('%a %B %d, %Y %I:%M:%S %p'))"
   ]
  },
  {
   "cell_type": "code",
   "execution_count": 22,
   "metadata": {},
   "outputs": [
    {
     "name": "stdout",
     "output_type": "stream",
     "text": [
      "Epoch 1/150\n",
      "576/576 [==============================] - 1s 2ms/step - loss: 4.0667 - acc: 0.4358\n",
      "Epoch 2/150\n",
      "576/576 [==============================] - 0s 348us/step - loss: 1.4050 - acc: 0.5573\n",
      "Epoch 3/150\n",
      "576/576 [==============================] - 0s 324us/step - loss: 0.9867 - acc: 0.5799\n",
      "Epoch 4/150\n",
      "576/576 [==============================] - 0s 319us/step - loss: 0.8767 - acc: 0.6111\n",
      "Epoch 5/150\n",
      "576/576 [==============================] - 0s 317us/step - loss: 0.8178 - acc: 0.6198\n",
      "Epoch 6/150\n",
      "576/576 [==============================] - 0s 319us/step - loss: 0.7817 - acc: 0.6111\n",
      "Epoch 7/150\n",
      "576/576 [==============================] - 0s 311us/step - loss: 0.7352 - acc: 0.6146\n",
      "Epoch 8/150\n",
      "576/576 [==============================] - 0s 322us/step - loss: 0.6869 - acc: 0.6302\n",
      "Epoch 9/150\n",
      "576/576 [==============================] - 0s 313us/step - loss: 0.6777 - acc: 0.6319\n",
      "Epoch 10/150\n",
      "576/576 [==============================] - 0s 324us/step - loss: 0.6445 - acc: 0.6563\n",
      "Epoch 11/150\n",
      "576/576 [==============================] - 0s 314us/step - loss: 0.6546 - acc: 0.6476\n",
      "Epoch 12/150\n",
      "576/576 [==============================] - 0s 317us/step - loss: 0.6402 - acc: 0.6510\n",
      "Epoch 13/150\n",
      "576/576 [==============================] - 0s 314us/step - loss: 0.6332 - acc: 0.6458\n",
      "Epoch 14/150\n",
      "576/576 [==============================] - 0s 320us/step - loss: 0.6551 - acc: 0.6615\n",
      "Epoch 15/150\n",
      "576/576 [==============================] - 0s 317us/step - loss: 0.6319 - acc: 0.6493\n",
      "Epoch 16/150\n",
      "576/576 [==============================] - 0s 313us/step - loss: 0.6112 - acc: 0.6563\n",
      "Epoch 17/150\n",
      "576/576 [==============================] - 0s 312us/step - loss: 0.6083 - acc: 0.6615\n",
      "Epoch 18/150\n",
      "576/576 [==============================] - 0s 316us/step - loss: 0.6150 - acc: 0.6615\n",
      "Epoch 19/150\n",
      "576/576 [==============================] - 0s 315us/step - loss: 0.6273 - acc: 0.6736\n",
      "Epoch 20/150\n",
      "576/576 [==============================] - 0s 319us/step - loss: 0.6019 - acc: 0.6823\n",
      "Epoch 21/150\n",
      "576/576 [==============================] - 0s 325us/step - loss: 0.6049 - acc: 0.6667\n",
      "Epoch 22/150\n",
      "576/576 [==============================] - 0s 309us/step - loss: 0.6004 - acc: 0.6615\n",
      "Epoch 23/150\n",
      "576/576 [==============================] - 0s 314us/step - loss: 0.5975 - acc: 0.6892\n",
      "Epoch 24/150\n",
      "576/576 [==============================] - 0s 321us/step - loss: 0.5839 - acc: 0.7031\n",
      "Epoch 25/150\n",
      "576/576 [==============================] - 0s 321us/step - loss: 0.5943 - acc: 0.6910\n",
      "Epoch 26/150\n",
      "576/576 [==============================] - 0s 322us/step - loss: 0.5771 - acc: 0.6788\n",
      "Epoch 27/150\n",
      "576/576 [==============================] - 0s 317us/step - loss: 0.5788 - acc: 0.6927\n",
      "Epoch 28/150\n",
      "576/576 [==============================] - 0s 308us/step - loss: 0.5916 - acc: 0.6753\n",
      "Epoch 29/150\n",
      "576/576 [==============================] - 0s 317us/step - loss: 0.5914 - acc: 0.6944\n",
      "Epoch 30/150\n",
      "576/576 [==============================] - 0s 307us/step - loss: 0.5866 - acc: 0.6875\n",
      "Epoch 31/150\n",
      "576/576 [==============================] - 0s 316us/step - loss: 0.5695 - acc: 0.6962\n",
      "Epoch 32/150\n",
      "576/576 [==============================] - 0s 313us/step - loss: 0.5861 - acc: 0.6823\n",
      "Epoch 33/150\n",
      "576/576 [==============================] - 0s 315us/step - loss: 0.5759 - acc: 0.6910\n",
      "Epoch 34/150\n",
      "576/576 [==============================] - 0s 318us/step - loss: 0.5871 - acc: 0.6806\n",
      "Epoch 35/150\n",
      "576/576 [==============================] - 0s 321us/step - loss: 0.5996 - acc: 0.6892\n",
      "Epoch 36/150\n",
      "576/576 [==============================] - 0s 313us/step - loss: 0.5834 - acc: 0.6892\n",
      "Epoch 37/150\n",
      "576/576 [==============================] - 0s 327us/step - loss: 0.5866 - acc: 0.6962\n",
      "Epoch 38/150\n",
      "576/576 [==============================] - 0s 312us/step - loss: 0.5919 - acc: 0.6944\n",
      "Epoch 39/150\n",
      "576/576 [==============================] - 0s 319us/step - loss: 0.5639 - acc: 0.7014\n",
      "Epoch 40/150\n",
      "576/576 [==============================] - 0s 315us/step - loss: 0.5471 - acc: 0.7170\n",
      "Epoch 41/150\n",
      "576/576 [==============================] - 0s 315us/step - loss: 0.5740 - acc: 0.7049\n",
      "Epoch 42/150\n",
      "576/576 [==============================] - 0s 322us/step - loss: 0.5599 - acc: 0.7066\n",
      "Epoch 43/150\n",
      "576/576 [==============================] - 0s 311us/step - loss: 0.5619 - acc: 0.7205\n",
      "Epoch 44/150\n",
      "576/576 [==============================] - 0s 319us/step - loss: 0.5700 - acc: 0.6997\n",
      "Epoch 45/150\n",
      "576/576 [==============================] - 0s 309us/step - loss: 0.5534 - acc: 0.7205\n",
      "Epoch 46/150\n",
      "576/576 [==============================] - 0s 320us/step - loss: 0.5662 - acc: 0.6944\n",
      "Epoch 47/150\n",
      "576/576 [==============================] - 0s 319us/step - loss: 0.5683 - acc: 0.6927\n",
      "Epoch 48/150\n",
      "576/576 [==============================] - 0s 314us/step - loss: 0.5545 - acc: 0.7083\n",
      "Epoch 49/150\n",
      "576/576 [==============================] - 0s 320us/step - loss: 0.5549 - acc: 0.7257\n",
      "Epoch 50/150\n",
      "576/576 [==============================] - 0s 314us/step - loss: 0.5575 - acc: 0.7118\n",
      "Epoch 51/150\n",
      "576/576 [==============================] - 0s 315us/step - loss: 0.5670 - acc: 0.6892\n",
      "Epoch 52/150\n",
      "576/576 [==============================] - 0s 308us/step - loss: 0.5555 - acc: 0.7083\n",
      "Epoch 53/150\n",
      "576/576 [==============================] - 0s 322us/step - loss: 0.5636 - acc: 0.6962\n",
      "Epoch 54/150\n",
      "576/576 [==============================] - 0s 313us/step - loss: 0.5495 - acc: 0.7222\n",
      "Epoch 55/150\n",
      "576/576 [==============================] - 0s 317us/step - loss: 0.5593 - acc: 0.7066\n",
      "Epoch 56/150\n",
      "576/576 [==============================] - 0s 332us/step - loss: 0.5654 - acc: 0.7240\n",
      "Epoch 57/150\n",
      "576/576 [==============================] - 0s 315us/step - loss: 0.5642 - acc: 0.6997\n",
      "Epoch 58/150\n",
      "576/576 [==============================] - 0s 323us/step - loss: 0.5482 - acc: 0.7101\n",
      "Epoch 59/150\n",
      "576/576 [==============================] - 0s 321us/step - loss: 0.5451 - acc: 0.7205\n",
      "Epoch 60/150\n",
      "576/576 [==============================] - 0s 314us/step - loss: 0.5645 - acc: 0.7049\n",
      "Epoch 61/150\n",
      "576/576 [==============================] - 0s 315us/step - loss: 0.5778 - acc: 0.7031\n",
      "Epoch 62/150\n",
      "576/576 [==============================] - 0s 314us/step - loss: 0.5645 - acc: 0.7222\n",
      "Epoch 63/150\n",
      "576/576 [==============================] - 0s 310us/step - loss: 0.5579 - acc: 0.7066\n",
      "Epoch 64/150\n",
      "576/576 [==============================] - 0s 322us/step - loss: 0.5415 - acc: 0.7135\n",
      "Epoch 65/150\n",
      "576/576 [==============================] - 0s 311us/step - loss: 0.5600 - acc: 0.7153\n",
      "Epoch 66/150\n",
      "576/576 [==============================] - 0s 313us/step - loss: 0.5598 - acc: 0.7083\n",
      "Epoch 67/150\n",
      "576/576 [==============================] - 0s 306us/step - loss: 0.5541 - acc: 0.6997\n",
      "Epoch 68/150\n",
      "576/576 [==============================] - 0s 307us/step - loss: 0.5465 - acc: 0.7153\n",
      "Epoch 69/150\n",
      "576/576 [==============================] - 0s 311us/step - loss: 0.5410 - acc: 0.7205\n",
      "Epoch 70/150\n",
      "576/576 [==============================] - 0s 317us/step - loss: 0.5345 - acc: 0.7292\n",
      "Epoch 71/150\n",
      "576/576 [==============================] - 0s 307us/step - loss: 0.5366 - acc: 0.7257\n",
      "Epoch 72/150\n",
      "576/576 [==============================] - ETA: 0s - loss: 0.5515 - acc: 0.732 - 0s 310us/step - loss: 0.5531 - acc: 0.7274\n",
      "Epoch 73/150\n",
      "576/576 [==============================] - 0s 313us/step - loss: 0.5628 - acc: 0.7170\n",
      "Epoch 74/150\n",
      "576/576 [==============================] - 0s 309us/step - loss: 0.5524 - acc: 0.7188\n",
      "Epoch 75/150\n",
      "576/576 [==============================] - 0s 314us/step - loss: 0.5348 - acc: 0.7170\n",
      "Epoch 76/150\n",
      "576/576 [==============================] - 0s 319us/step - loss: 0.5322 - acc: 0.7326\n",
      "Epoch 77/150\n",
      "576/576 [==============================] - 0s 305us/step - loss: 0.5329 - acc: 0.7326\n",
      "Epoch 78/150\n",
      "576/576 [==============================] - 0s 315us/step - loss: 0.5378 - acc: 0.7448\n",
      "Epoch 79/150\n",
      "576/576 [==============================] - 0s 310us/step - loss: 0.5229 - acc: 0.7361\n",
      "Epoch 80/150\n",
      "576/576 [==============================] - 0s 305us/step - loss: 0.5296 - acc: 0.7309\n",
      "Epoch 81/150\n",
      "576/576 [==============================] - 0s 317us/step - loss: 0.5374 - acc: 0.7500\n",
      "Epoch 82/150\n",
      "576/576 [==============================] - 0s 310us/step - loss: 0.5395 - acc: 0.7309\n",
      "Epoch 83/150\n",
      "576/576 [==============================] - 0s 336us/step - loss: 0.5392 - acc: 0.7344\n",
      "Epoch 84/150\n",
      "576/576 [==============================] - 0s 319us/step - loss: 0.5298 - acc: 0.7552\n",
      "Epoch 85/150\n",
      "576/576 [==============================] - 0s 321us/step - loss: 0.5220 - acc: 0.7396\n",
      "Epoch 86/150\n",
      "576/576 [==============================] - 0s 326us/step - loss: 0.5327 - acc: 0.7448\n",
      "Epoch 87/150\n",
      "576/576 [==============================] - 0s 314us/step - loss: 0.5253 - acc: 0.7500\n",
      "Epoch 88/150\n",
      "576/576 [==============================] - 0s 309us/step - loss: 0.5296 - acc: 0.7378\n",
      "Epoch 89/150\n",
      "576/576 [==============================] - 0s 332us/step - loss: 0.5206 - acc: 0.7587\n",
      "Epoch 90/150\n",
      "576/576 [==============================] - 0s 314us/step - loss: 0.5171 - acc: 0.7448\n",
      "Epoch 91/150\n",
      "576/576 [==============================] - 0s 318us/step - loss: 0.5429 - acc: 0.7170\n",
      "Epoch 92/150\n",
      "576/576 [==============================] - 0s 338us/step - loss: 0.5367 - acc: 0.7344\n",
      "Epoch 93/150\n",
      "576/576 [==============================] - 0s 313us/step - loss: 0.5263 - acc: 0.7465\n",
      "Epoch 94/150\n",
      "576/576 [==============================] - 0s 318us/step - loss: 0.5260 - acc: 0.7326\n",
      "Epoch 95/150\n",
      "576/576 [==============================] - 0s 311us/step - loss: 0.5198 - acc: 0.7483\n",
      "Epoch 96/150\n",
      "576/576 [==============================] - 0s 318us/step - loss: 0.5210 - acc: 0.7378\n",
      "Epoch 97/150\n",
      "576/576 [==============================] - 0s 313us/step - loss: 0.5253 - acc: 0.7344\n",
      "Epoch 98/150\n",
      "576/576 [==============================] - 0s 311us/step - loss: 0.5218 - acc: 0.7413\n",
      "Epoch 99/150\n",
      "576/576 [==============================] - 0s 317us/step - loss: 0.5154 - acc: 0.7378\n",
      "Epoch 100/150\n",
      "576/576 [==============================] - 0s 312us/step - loss: 0.5109 - acc: 0.7483\n",
      "Epoch 101/150\n",
      "576/576 [==============================] - 0s 309us/step - loss: 0.5264 - acc: 0.7500\n",
      "Epoch 102/150\n",
      "576/576 [==============================] - 0s 316us/step - loss: 0.5191 - acc: 0.7396\n",
      "Epoch 103/150\n",
      "576/576 [==============================] - 0s 312us/step - loss: 0.5194 - acc: 0.7517\n",
      "Epoch 104/150\n",
      "576/576 [==============================] - 0s 306us/step - loss: 0.5115 - acc: 0.7378\n",
      "Epoch 105/150\n",
      "576/576 [==============================] - 0s 315us/step - loss: 0.5171 - acc: 0.7517\n",
      "Epoch 106/150\n",
      "576/576 [==============================] - 0s 305us/step - loss: 0.5135 - acc: 0.7326\n",
      "Epoch 107/150\n",
      "576/576 [==============================] - 0s 315us/step - loss: 0.5161 - acc: 0.7396\n",
      "Epoch 108/150\n",
      "576/576 [==============================] - 0s 307us/step - loss: 0.5295 - acc: 0.7413\n",
      "Epoch 109/150\n",
      "576/576 [==============================] - 0s 313us/step - loss: 0.5148 - acc: 0.7448\n",
      "Epoch 110/150\n",
      "576/576 [==============================] - 0s 311us/step - loss: 0.5164 - acc: 0.7378\n",
      "Epoch 111/150\n",
      "576/576 [==============================] - 0s 330us/step - loss: 0.5125 - acc: 0.7517\n",
      "Epoch 112/150\n",
      "576/576 [==============================] - 0s 307us/step - loss: 0.5111 - acc: 0.7517\n",
      "Epoch 113/150\n",
      "576/576 [==============================] - 0s 309us/step - loss: 0.5078 - acc: 0.7517\n",
      "Epoch 114/150\n",
      "576/576 [==============================] - 0s 323us/step - loss: 0.5197 - acc: 0.7292\n",
      "Epoch 115/150\n",
      "576/576 [==============================] - 0s 307us/step - loss: 0.5119 - acc: 0.7535\n",
      "Epoch 116/150\n",
      "576/576 [==============================] - 0s 309us/step - loss: 0.4987 - acc: 0.7622\n",
      "Epoch 117/150\n",
      "576/576 [==============================] - 0s 320us/step - loss: 0.4990 - acc: 0.7622\n",
      "Epoch 118/150\n",
      "576/576 [==============================] - 0s 313us/step - loss: 0.5178 - acc: 0.7274\n",
      "Epoch 119/150\n",
      "576/576 [==============================] - 0s 306us/step - loss: 0.5176 - acc: 0.7587\n",
      "Epoch 120/150\n",
      "576/576 [==============================] - 0s 314us/step - loss: 0.5007 - acc: 0.7639\n",
      "Epoch 121/150\n",
      "576/576 [==============================] - ETA: 0s - loss: 0.4997 - acc: 0.748 - 0s 309us/step - loss: 0.5010 - acc: 0.7483\n",
      "Epoch 122/150\n",
      "576/576 [==============================] - 0s 318us/step - loss: 0.4953 - acc: 0.7622\n",
      "Epoch 123/150\n",
      "576/576 [==============================] - 0s 310us/step - loss: 0.5076 - acc: 0.7483\n",
      "Epoch 124/150\n",
      "576/576 [==============================] - 0s 307us/step - loss: 0.5218 - acc: 0.7344\n",
      "Epoch 125/150\n",
      "576/576 [==============================] - 0s 314us/step - loss: 0.5066 - acc: 0.7483\n",
      "Epoch 126/150\n",
      "576/576 [==============================] - 0s 310us/step - loss: 0.5246 - acc: 0.7413\n",
      "Epoch 127/150\n",
      "576/576 [==============================] - 0s 316us/step - loss: 0.5025 - acc: 0.7587\n",
      "Epoch 128/150\n",
      "576/576 [==============================] - 0s 341us/step - loss: 0.5117 - acc: 0.7552\n",
      "Epoch 129/150\n",
      "576/576 [==============================] - 0s 318us/step - loss: 0.5091 - acc: 0.7604\n",
      "Epoch 130/150\n",
      "576/576 [==============================] - 0s 310us/step - loss: 0.4970 - acc: 0.7517\n",
      "Epoch 131/150\n",
      "576/576 [==============================] - 0s 315us/step - loss: 0.5120 - acc: 0.7483\n",
      "Epoch 132/150\n",
      "576/576 [==============================] - 0s 317us/step - loss: 0.5094 - acc: 0.7500\n",
      "Epoch 133/150\n",
      "576/576 [==============================] - 0s 318us/step - loss: 0.4996 - acc: 0.7535\n",
      "Epoch 134/150\n",
      "576/576 [==============================] - 0s 312us/step - loss: 0.5018 - acc: 0.7431\n",
      "Epoch 135/150\n",
      "576/576 [==============================] - 0s 326us/step - loss: 0.5105 - acc: 0.7656\n",
      "Epoch 136/150\n",
      "576/576 [==============================] - 0s 310us/step - loss: 0.4918 - acc: 0.7708\n",
      "Epoch 137/150\n",
      "576/576 [==============================] - 0s 318us/step - loss: 0.5053 - acc: 0.7622\n",
      "Epoch 138/150\n",
      "576/576 [==============================] - 0s 315us/step - loss: 0.5039 - acc: 0.7622\n",
      "Epoch 139/150\n",
      "576/576 [==============================] - 0s 310us/step - loss: 0.5018 - acc: 0.7448\n",
      "Epoch 140/150\n",
      "576/576 [==============================] - 0s 314us/step - loss: 0.5221 - acc: 0.7622\n",
      "Epoch 141/150\n",
      "576/576 [==============================] - 0s 311us/step - loss: 0.4999 - acc: 0.7535\n",
      "Epoch 142/150\n",
      "576/576 [==============================] - 0s 315us/step - loss: 0.4966 - acc: 0.7639\n",
      "Epoch 143/150\n",
      "576/576 [==============================] - 0s 308us/step - loss: 0.4969 - acc: 0.7604\n",
      "Epoch 144/150\n",
      "576/576 [==============================] - ETA: 0s - loss: 0.4930 - acc: 0.766 - 0s 314us/step - loss: 0.4972 - acc: 0.7656\n",
      "Epoch 145/150\n",
      "576/576 [==============================] - 0s 315us/step - loss: 0.4951 - acc: 0.7552\n",
      "Epoch 146/150\n",
      "576/576 [==============================] - 0s 311us/step - loss: 0.4900 - acc: 0.7569\n",
      "Epoch 147/150\n",
      "576/576 [==============================] - 0s 312us/step - loss: 0.5011 - acc: 0.7552\n",
      "Epoch 148/150\n",
      "576/576 [==============================] - 0s 315us/step - loss: 0.4991 - acc: 0.7604\n",
      "Epoch 149/150\n",
      "576/576 [==============================] - 0s 312us/step - loss: 0.5153 - acc: 0.7604\n",
      "Epoch 150/150\n",
      "576/576 [==============================] - 0s 306us/step - loss: 0.4845 - acc: 0.7691\n"
     ]
    },
    {
     "data": {
      "text/plain": [
       "<keras.callbacks.History at 0x7f2abef9c6d8>"
      ]
     },
     "execution_count": 22,
     "metadata": {},
     "output_type": "execute_result"
    }
   ],
   "source": [
    "# Create the final model for evaluating the test dataset\n",
    "model = create_model()\n",
    "model.fit(X_train, y_train, epochs=epochs, batch_size=batches, verbose=1)"
   ]
  },
  {
   "cell_type": "code",
   "execution_count": 23,
   "metadata": {
    "colab": {
     "base_uri": "https://localhost:8080/",
     "height": 109
    },
    "colab_type": "code",
    "id": "-H_7ah8gPRmw",
    "outputId": "52212ba7-304e-46ac-e6de-a30afa3dc6bd"
   },
   "outputs": [
    {
     "name": "stdout",
     "output_type": "stream",
     "text": [
      "192/192 [==============================] - 0s 1ms/step\n",
      "\n",
      "acc: 78.12%\n",
      "\n",
      "loss: 47.15%\n"
     ]
    }
   ],
   "source": [
    "# Evaluate the Keras model on previously unseen data\n",
    "scores = model.evaluate(X_test, y_test)\n",
    "print(\"\\n%s: %.2f%%\" % (model.metrics_names[1], scores[1]*100))\n",
    "print(\"\\n%s: %.2f%%\" % (model.metrics_names[0], scores[0]*100))"
   ]
  },
  {
   "cell_type": "code",
   "execution_count": 24,
   "metadata": {
    "colab": {},
    "colab_type": "code",
    "id": "0r4rJRXHTBTv"
   },
   "outputs": [],
   "source": [
    "if (notifyStatus): email_notify(\"Phase 5 Evaluate Model completed! \"+datetime.now().strftime('%a %B %d, %Y %I:%M:%S %p'))"
   ]
  },
  {
   "cell_type": "markdown",
   "metadata": {
    "colab_type": "text",
    "id": "ohwYIizSIfPG"
   },
   "source": [
    "# Section 6. Finalize Model"
   ]
  },
  {
   "cell_type": "code",
   "execution_count": 25,
   "metadata": {
    "colab": {},
    "colab_type": "code",
    "id": "yh14j7v8TFPe"
   },
   "outputs": [],
   "source": [
    "if (notifyStatus): email_notify(\"Phase 6 Finalize Model has begun! \"+datetime.now().strftime('%a %B %d, %Y %I:%M:%S %p'))"
   ]
  },
  {
   "cell_type": "code",
   "execution_count": 26,
   "metadata": {
    "colab": {
     "base_uri": "https://localhost:8080/",
     "height": 201
    },
    "colab_type": "code",
    "id": "oUhkDCG8AkUC",
    "outputId": "fb87e85d-6fee-4a5b-9b5f-c2a9fe91099e"
   },
   "outputs": [
    {
     "name": "stdout",
     "output_type": "stream",
     "text": [
      "[6.0, 148.0, 72.0, 35.0, 0.0, 33.6, 0.627, 50.0] => 0 (expected 1)\n",
      "[1.0, 85.0, 66.0, 29.0, 0.0, 26.6, 0.351, 31.0] => 0 (expected 0)\n",
      "[8.0, 183.0, 64.0, 0.0, 0.0, 23.3, 0.672, 32.0] => 1 (expected 1)\n",
      "[1.0, 89.0, 66.0, 23.0, 94.0, 28.1, 0.167, 21.0] => 0 (expected 0)\n",
      "[0.0, 137.0, 40.0, 35.0, 168.0, 43.1, 2.288, 33.0] => 1 (expected 1)\n",
      "[5.0, 116.0, 74.0, 0.0, 0.0, 25.6, 0.201, 30.0] => 0 (expected 0)\n",
      "[3.0, 78.0, 50.0, 32.0, 88.0, 31.0, 0.248, 26.0] => 0 (expected 1)\n",
      "[10.0, 115.0, 0.0, 0.0, 0.0, 35.3, 0.134, 29.0] => 0 (expected 0)\n",
      "[2.0, 197.0, 70.0, 45.0, 543.0, 30.5, 0.158, 53.0] => 1 (expected 1)\n",
      "[8.0, 125.0, 96.0, 0.0, 0.0, 0.0, 0.232, 54.0] => 0 (expected 1)\n",
      "[4.0, 110.0, 92.0, 0.0, 0.0, 37.6, 0.191, 30.0] => 0 (expected 0)\n",
      "[10.0, 168.0, 74.0, 0.0, 0.0, 38.0, 0.537, 34.0] => 1 (expected 1)\n",
      "[10.0, 139.0, 80.0, 0.0, 0.0, 27.1, 1.441, 57.0] => 0 (expected 0)\n",
      "[1.0, 189.0, 60.0, 23.0, 846.0, 30.1, 0.398, 59.0] => 1 (expected 1)\n",
      "[5.0, 166.0, 72.0, 19.0, 175.0, 25.8, 0.587, 51.0] => 1 (expected 1)\n",
      "[7.0, 100.0, 0.0, 0.0, 0.0, 30.0, 0.484, 32.0] => 0 (expected 1)\n",
      "[0.0, 118.0, 84.0, 47.0, 230.0, 45.8, 0.551, 31.0] => 0 (expected 1)\n",
      "[7.0, 107.0, 74.0, 0.0, 0.0, 29.6, 0.254, 31.0] => 0 (expected 1)\n",
      "[1.0, 103.0, 30.0, 38.0, 83.0, 43.3, 0.183, 33.0] => 0 (expected 0)\n",
      "[1.0, 115.0, 70.0, 30.0, 96.0, 34.6, 0.529, 32.0] => 0 (expected 1)\n"
     ]
    }
   ],
   "source": [
    "# Make class predictions with the model\n",
    "predictions = model.predict_classes(X_original)\n",
    "\n",
    "# Summarize the first 20 cases\n",
    "for i in range(20):\n",
    "\tprint('%s => %d (expected %d)' % (X_original[i].tolist(), predictions[i], y_original[i]))"
   ]
  },
  {
   "cell_type": "code",
   "execution_count": 27,
   "metadata": {
    "colab": {},
    "colab_type": "code",
    "id": "UkgS_dVLTIIi"
   },
   "outputs": [],
   "source": [
    "if (notifyStatus): email_notify(\"Phase 6 Finalize Model completed! \"+datetime.now().strftime('%a %B %d, %Y %I:%M:%S %p'))"
   ]
  },
  {
   "cell_type": "code",
   "execution_count": 28,
   "metadata": {
    "colab": {
     "base_uri": "https://localhost:8080/",
     "height": 35
    },
    "colab_type": "code",
    "id": "Qb7Ry_60TMOl",
    "outputId": "08177fca-8793-418e-a88c-131f35590eb2"
   },
   "outputs": [
    {
     "name": "stdout",
     "output_type": "stream",
     "text": [
      "Total time for the script: 0:04:07.515225\n"
     ]
    }
   ],
   "source": [
    "print ('Total time for the script:',(datetime.now() - startTimeScript))"
   ]
  }
 ],
 "metadata": {
  "colab": {
   "collapsed_sections": [],
   "name": "py-keras-classification-binary-class-example.ipynb",
   "provenance": [],
   "toc_visible": true
  },
  "kernelspec": {
   "display_name": "Python 3",
   "language": "python",
   "name": "python3"
  },
  "language_info": {
   "codemirror_mode": {
    "name": "ipython",
    "version": 3
   },
   "file_extension": ".py",
   "mimetype": "text/x-python",
   "name": "python",
   "nbconvert_exporter": "python",
   "pygments_lexer": "ipython3",
   "version": "3.7.3"
  }
 },
 "nbformat": 4,
 "nbformat_minor": 4
}
