{
 "cells": [
  {
   "cell_type": "markdown",
   "metadata": {
    "colab_type": "text",
    "id": "eJ2xTLgBIuLe"
   },
   "source": [
    "# Binary Classification Deep Learning Model for [Project Name] Using Keras Version 1\n",
    "### David Lowe\n",
    "### October 4, 2019\n",
    "Template Credit: Adapted from a template made available by Dr. Jason Brownlee of Machine Learning Mastery. [https://machinelearningmastery.com/]\n",
    "\n",
    "SUMMARY: [Sample Paragraph - The purpose of this project is to construct a predictive model using various machine learning algorithms and to document the end-to-end steps using a template. The Pima Indians Diabetes dataset is a binary classification situation where we are trying to predict one of the two possible outcomes.]\n",
    "\n",
    "INTRODUCTION: [Sample Paragraph - This dataset is originally from the National Institute of Diabetes and Digestive and Kidney Diseases. The objective of the dataset is to diagnostically predict whether or not a patient has diabetes, based on certain diagnostic measurements included in the dataset. The datasets consists of several medical predictor variables and one target variable, Outcome. Predictor variables includes the number of pregnancies the patient has had, their BMI, insulin level, age, and so on.]\n",
    "\n",
    "ANALYSIS: [Sample Paragraph - The baseline performance of the model achieved an accuracy score of 77.47%. Using the optimized tuning parameter available, the model processed the validation dataset with an accuracy of ??.??%, which was worst than the training data and possibly due to over-fitting]\n",
    "\n",
    "CONCLUSION: [Sample Paragraph - For this dataset, the model built using Keras and TensorFlow achieved a satisfactory result and should be considered for future modeling activities]\n",
    "\n",
    "Dataset Used: [Pima Indians Diabetes Data Set]\n",
    "\n",
    "Dataset ML Model: Binary classification with numerical attributes\n",
    "\n",
    "Dataset Reference: [https://raw.githubusercontent.com/jbrownlee/Datasets/master/pima-indians-diabetes.data.csv]\n",
    "\n",
    "One potential source of performance benchmarks: [https://machinelearningmastery.com/tutorial-first-neural-network-python-keras/]\n",
    "\n",
    "Any deep-learning modeling project genrally can be broken down into about seven major tasks:\n",
    "0. Prepare Environment\n",
    "1. Load Data\n",
    "2. Define Model\n",
    "3. Compile Model\n",
    "4. Fit Model\n",
    "5. Evaluate Model\n",
    "6. Finalize Model"
   ]
  },
  {
   "cell_type": "markdown",
   "metadata": {
    "colab_type": "text",
    "id": "EqF7WxlHHPKr"
   },
   "source": [
    "# Section 0. Prepare Environment"
   ]
  },
  {
   "cell_type": "code",
   "execution_count": 1,
   "metadata": {},
   "outputs": [],
   "source": [
    "# Create the random seed numbers for reproducible results\n",
    "seedNum = 88"
   ]
  },
  {
   "cell_type": "code",
   "execution_count": 2,
   "metadata": {
    "colab": {
     "base_uri": "https://localhost:8080/",
     "height": 35
    },
    "colab_type": "code",
    "id": "X_BXx9P4HJGn",
    "outputId": "b19fcb52-1d53-4f4c-cd33-9298e58bcc5e"
   },
   "outputs": [],
   "source": [
    "# Load libraries and packages\n",
    "import random\n",
    "random.seed(seedNum)\n",
    "import numpy as np\n",
    "np.random.seed(seedNum)\n",
    "import os\n",
    "import smtplib\n",
    "from datetime import datetime\n",
    "from email.message import EmailMessage"
   ]
  },
  {
   "cell_type": "code",
   "execution_count": 3,
   "metadata": {},
   "outputs": [
    {
     "name": "stderr",
     "output_type": "stream",
     "text": [
      "Using TensorFlow backend.\n"
     ]
    }
   ],
   "source": [
    "# Configure a new global `tensorflow` session\n",
    "import keras as K\n",
    "from keras.layers import Dense\n",
    "import tensorflow as tf\n",
    "tf.set_random_seed(seedNum)\n",
    "session_conf = tf.ConfigProto(intra_op_parallelism_threads=1, inter_op_parallelism_threads=1)\n",
    "sess = tf.Session(graph=tf.get_default_graph(), config=session_conf)\n",
    "K.backend.set_session(sess)"
   ]
  },
  {
   "cell_type": "code",
   "execution_count": 4,
   "metadata": {
    "colab": {},
    "colab_type": "code",
    "id": "YbIqw1TBR0P2"
   },
   "outputs": [],
   "source": [
    "# Begin the timer for the script processing\n",
    "startTimeScript = datetime.now()\n",
    "\n",
    "# Set up the flag to stop sending progress emails (setting to True will send status emails!)\n",
    "notifyStatus = False\n",
    "\n",
    "# Set the scoring metric\n",
    "scoring = 'accuracy'"
   ]
  },
  {
   "cell_type": "code",
   "execution_count": 5,
   "metadata": {
    "colab": {},
    "colab_type": "code",
    "id": "Un3ZnxByRhDV"
   },
   "outputs": [],
   "source": [
    "# Set up the email notification function\n",
    "def email_notify(msg_text):\n",
    "    sender = os.environ.get('MAIL_SENDER')\n",
    "    receiver = os.environ.get('MAIL_RECEIVER')\n",
    "    gateway = os.environ.get('SMTP_GATEWAY')\n",
    "    smtpuser = os.environ.get('SMTP_USERNAME')\n",
    "    password = os.environ.get('SMTP_PASSWORD')\n",
    "    if sender==None or receiver==None or gateway==None or smtpuser==None or password==None:\n",
    "        sys.exit(\"Incomplete email setup info. Script Processing Aborted!!!\")\n",
    "    msg = EmailMessage()\n",
    "    msg.set_content(msg_text)\n",
    "    msg['Subject'] = 'Notification from Keras Binary Classification Script'\n",
    "    msg['From'] = sender\n",
    "    msg['To'] = receiver\n",
    "    server = smtplib.SMTP(gateway, 587)\n",
    "    server.starttls()\n",
    "    server.login(smtpuser, password)\n",
    "    server.send_message(msg)\n",
    "    server.quit()"
   ]
  },
  {
   "cell_type": "code",
   "execution_count": 6,
   "metadata": {
    "colab": {},
    "colab_type": "code",
    "id": "ehVMNSM6VnRE"
   },
   "outputs": [],
   "source": [
    "if (notifyStatus): email_notify(\"Phase 0 Prepare Environment completed! \"+datetime.now().strftime('%a %B %d, %Y %I:%M:%S %p'))"
   ]
  },
  {
   "cell_type": "markdown",
   "metadata": {
    "colab_type": "text",
    "id": "Hb0U0RL8Hdhy"
   },
   "source": [
    "# Section 1. Load Data"
   ]
  },
  {
   "cell_type": "code",
   "execution_count": 7,
   "metadata": {
    "colab": {},
    "colab_type": "code",
    "id": "L5G5M20LSG9i"
   },
   "outputs": [],
   "source": [
    "if (notifyStatus): email_notify(\"Phase 1 Load Data has begun! \"+datetime.now().strftime('%a %B %d, %Y %I:%M:%S %p'))"
   ]
  },
  {
   "cell_type": "code",
   "execution_count": 8,
   "metadata": {
    "colab": {
     "base_uri": "https://localhost:8080/",
     "height": 146
    },
    "colab_type": "code",
    "id": "F27fJh8CAWb6",
    "outputId": "772d7d84-0f99-4fe9-8a84-becd51b3919e"
   },
   "outputs": [
    {
     "name": "stdout",
     "output_type": "stream",
     "text": [
      "[[  6.    148.     72.    ...   0.627  50.      1.   ]\n",
      " [  1.     85.     66.    ...   0.351  31.      0.   ]\n",
      " [  8.    183.     64.    ...   0.672  32.      1.   ]\n",
      " ...\n",
      " [  5.    121.     72.    ...   0.245  30.      0.   ]\n",
      " [  1.    126.     60.    ...   0.349  47.      1.   ]\n",
      " [  1.     93.     70.    ...   0.315  23.      0.   ]]\n"
     ]
    }
   ],
   "source": [
    "# Load the dataset\n",
    "dataset = np.loadtxt('pima-indians-diabetes.data.csv', delimiter=',')\n",
    "print(dataset)"
   ]
  },
  {
   "cell_type": "code",
   "execution_count": 9,
   "metadata": {
    "colab": {},
    "colab_type": "code",
    "id": "LKbZhVyPAZfX"
   },
   "outputs": [],
   "source": [
    "# Split into input (X) and output (y) variables\n",
    "X = dataset[:,0:8]\n",
    "y = dataset[:,8]"
   ]
  },
  {
   "cell_type": "code",
   "execution_count": 10,
   "metadata": {
    "colab": {},
    "colab_type": "code",
    "id": "d4bUiYdhSara"
   },
   "outputs": [],
   "source": [
    "if (notifyStatus): email_notify(\"Phase 1 Load Data completed! \"+datetime.now().strftime('%a %B %d, %Y %I:%M:%S %p'))"
   ]
  },
  {
   "cell_type": "markdown",
   "metadata": {
    "colab_type": "text",
    "id": "ljQSSE06Hkj0"
   },
   "source": [
    "# Section 2. Define Model"
   ]
  },
  {
   "cell_type": "code",
   "execution_count": 11,
   "metadata": {
    "colab": {},
    "colab_type": "code",
    "id": "fCo4dP5zSdib"
   },
   "outputs": [],
   "source": [
    "if (notifyStatus): email_notify(\"Phase 2 Define Model has begun! \"+datetime.now().strftime('%a %B %d, %Y %I:%M:%S %p'))"
   ]
  },
  {
   "cell_type": "code",
   "execution_count": 12,
   "metadata": {
    "colab": {
     "base_uri": "https://localhost:8080/",
     "height": 147
    },
    "colab_type": "code",
    "id": "AMBRuJibAefO",
    "outputId": "40716f3e-693b-475c-90e6-5a51cbe535dc"
   },
   "outputs": [
    {
     "name": "stderr",
     "output_type": "stream",
     "text": [
      "WARNING: Logging before flag parsing goes to stderr.\n",
      "W0923 19:11:19.318527  5980 deprecation_wrapper.py:119] From C:\\Users\\david.lowe\\Anaconda3\\lib\\site-packages\\keras\\backend\\tensorflow_backend.py:74: The name tf.get_default_graph is deprecated. Please use tf.compat.v1.get_default_graph instead.\n",
      "\n",
      "W0923 19:11:19.326524  5980 deprecation_wrapper.py:119] From C:\\Users\\david.lowe\\Anaconda3\\lib\\site-packages\\keras\\backend\\tensorflow_backend.py:517: The name tf.placeholder is deprecated. Please use tf.compat.v1.placeholder instead.\n",
      "\n",
      "W0923 19:11:19.331522  5980 deprecation_wrapper.py:119] From C:\\Users\\david.lowe\\Anaconda3\\lib\\site-packages\\keras\\backend\\tensorflow_backend.py:4138: The name tf.random_uniform is deprecated. Please use tf.random.uniform instead.\n",
      "\n"
     ]
    }
   ],
   "source": [
    "# Define the Keras model\n",
    "model = K.models.Sequential()\n",
    "model.add(Dense(12, input_dim=8, activation='relu'))\n",
    "model.add(Dense(8, activation='relu'))\n",
    "model.add(Dense(1, activation='sigmoid'))"
   ]
  },
  {
   "cell_type": "code",
   "execution_count": 13,
   "metadata": {
    "colab": {},
    "colab_type": "code",
    "id": "NGe320KgShbx"
   },
   "outputs": [],
   "source": [
    "if (notifyStatus): email_notify(\"Phase 2 Define Model completed! \"+datetime.now().strftime('%a %B %d, %Y %I:%M:%S %p'))"
   ]
  },
  {
   "cell_type": "markdown",
   "metadata": {
    "colab_type": "text",
    "id": "El40OmF2Hp8E"
   },
   "source": [
    "# Section 3. Compile Model"
   ]
  },
  {
   "cell_type": "code",
   "execution_count": 14,
   "metadata": {
    "colab": {},
    "colab_type": "code",
    "id": "55opOKV4SuW9"
   },
   "outputs": [],
   "source": [
    "if (notifyStatus): email_notify(\"Phase 3 Compile Model has begun! \"+datetime.now().strftime('%a %B %d, %Y %I:%M:%S %p'))"
   ]
  },
  {
   "cell_type": "code",
   "execution_count": 15,
   "metadata": {
    "colab": {
     "base_uri": "https://localhost:8080/",
     "height": 166
    },
    "colab_type": "code",
    "id": "6XG4pa74AgTr",
    "outputId": "f31c5a67-bbd9-4ad8-e02e-dc62326b5eb3"
   },
   "outputs": [
    {
     "name": "stderr",
     "output_type": "stream",
     "text": [
      "W0923 19:11:19.456522  5980 deprecation_wrapper.py:119] From C:\\Users\\david.lowe\\Anaconda3\\lib\\site-packages\\keras\\optimizers.py:790: The name tf.train.Optimizer is deprecated. Please use tf.compat.v1.train.Optimizer instead.\n",
      "\n",
      "W0923 19:11:19.506520  5980 deprecation_wrapper.py:119] From C:\\Users\\david.lowe\\Anaconda3\\lib\\site-packages\\keras\\backend\\tensorflow_backend.py:3376: The name tf.log is deprecated. Please use tf.math.log instead.\n",
      "\n",
      "W0923 19:11:19.513525  5980 deprecation.py:323] From C:\\Users\\david.lowe\\Anaconda3\\lib\\site-packages\\tensorflow\\python\\ops\\nn_impl.py:180: add_dispatch_support.<locals>.wrapper (from tensorflow.python.ops.array_ops) is deprecated and will be removed in a future version.\n",
      "Instructions for updating:\n",
      "Use tf.where in 2.0, which has the same broadcast rule as np.where\n"
     ]
    }
   ],
   "source": [
    "# Compile the Keras model\n",
    "model.compile(loss='binary_crossentropy', optimizer='adam', metrics=[scoring])"
   ]
  },
  {
   "cell_type": "code",
   "execution_count": 16,
   "metadata": {
    "colab": {},
    "colab_type": "code",
    "id": "oTbNwS6NSx2C"
   },
   "outputs": [],
   "source": [
    "if (notifyStatus): email_notify(\"Phase 3 Compile Model completed! \"+datetime.now().strftime('%a %B %d, %Y %I:%M:%S %p'))"
   ]
  },
  {
   "cell_type": "markdown",
   "metadata": {
    "colab_type": "text",
    "id": "utyCDnHTIJzX"
   },
   "source": [
    "# Section 4. Fit Model"
   ]
  },
  {
   "cell_type": "code",
   "execution_count": 17,
   "metadata": {
    "colab": {},
    "colab_type": "code",
    "id": "qobEj0hlS0xM"
   },
   "outputs": [],
   "source": [
    "if (notifyStatus): email_notify(\"Phase 4 Fit Model has begun! \"+datetime.now().strftime('%a %B %d, %Y %I:%M:%S %p'))"
   ]
  },
  {
   "cell_type": "code",
   "execution_count": 18,
   "metadata": {
    "colab": {
     "base_uri": "https://localhost:8080/",
     "height": 1000
    },
    "colab_type": "code",
    "id": "AEreg3esAiW3",
    "outputId": "3d77cc8d-b5f4-4cde-d682-146f7d64447b"
   },
   "outputs": [
    {
     "name": "stderr",
     "output_type": "stream",
     "text": [
      "W0923 19:11:19.792690  5980 deprecation_wrapper.py:119] From C:\\Users\\david.lowe\\Anaconda3\\lib\\site-packages\\keras\\backend\\tensorflow_backend.py:986: The name tf.assign_add is deprecated. Please use tf.compat.v1.assign_add instead.\n",
      "\n"
     ]
    },
    {
     "name": "stdout",
     "output_type": "stream",
     "text": [
      "Epoch 1/150\n",
      "768/768 [==============================] - 1s 852us/step - loss: 4.4672 - acc: 0.5898\n",
      "Epoch 2/150\n",
      "768/768 [==============================] - 0s 169us/step - loss: 3.8297 - acc: 0.6094\n",
      "Epoch 3/150\n",
      "768/768 [==============================] - 0s 156us/step - loss: 3.1609 - acc: 0.5703\n",
      "Epoch 4/150\n",
      "768/768 [==============================] - 0s 174us/step - loss: 1.9222 - acc: 0.5365\n",
      "Epoch 5/150\n",
      "768/768 [==============================] - 0s 139us/step - loss: 1.4600 - acc: 0.5755\n",
      "Epoch 6/150\n",
      "768/768 [==============================] - 0s 142us/step - loss: 1.1855 - acc: 0.5859\n",
      "Epoch 7/150\n",
      "768/768 [==============================] - 0s 148us/step - loss: 1.0255 - acc: 0.6146\n",
      "Epoch 8/150\n",
      "768/768 [==============================] - 0s 134us/step - loss: 1.0110 - acc: 0.6198\n",
      "Epoch 9/150\n",
      "768/768 [==============================] - 0s 150us/step - loss: 0.8797 - acc: 0.6432\n",
      "Epoch 10/150\n",
      "768/768 [==============================] - 0s 182us/step - loss: 0.8729 - acc: 0.6445\n",
      "Epoch 11/150\n",
      "768/768 [==============================] - 0s 149us/step - loss: 0.8025 - acc: 0.6589\n",
      "Epoch 12/150\n",
      "768/768 [==============================] - 0s 134us/step - loss: 0.7878 - acc: 0.6680\n",
      "Epoch 13/150\n",
      "768/768 [==============================] - 0s 186us/step - loss: 0.7203 - acc: 0.6654\n",
      "Epoch 14/150\n",
      "768/768 [==============================] - 0s 147us/step - loss: 0.7633 - acc: 0.6797\n",
      "Epoch 15/150\n",
      "768/768 [==============================] - 0s 147us/step - loss: 0.7016 - acc: 0.6914\n",
      "Epoch 16/150\n",
      "768/768 [==============================] - 0s 134us/step - loss: 0.6810 - acc: 0.6784\n",
      "Epoch 17/150\n",
      "768/768 [==============================] - 0s 141us/step - loss: 0.7391 - acc: 0.6758\n",
      "Epoch 18/150\n",
      "768/768 [==============================] - 0s 135us/step - loss: 0.7251 - acc: 0.6667\n",
      "Epoch 19/150\n",
      "768/768 [==============================] - 0s 135us/step - loss: 0.7211 - acc: 0.6667\n",
      "Epoch 20/150\n",
      "768/768 [==============================] - 0s 135us/step - loss: 0.7078 - acc: 0.6654\n",
      "Epoch 21/150\n",
      "768/768 [==============================] - 0s 151us/step - loss: 0.6552 - acc: 0.6914\n",
      "Epoch 22/150\n",
      "768/768 [==============================] - 0s 176us/step - loss: 0.6454 - acc: 0.6966\n",
      "Epoch 23/150\n",
      "768/768 [==============================] - 0s 169us/step - loss: 0.6386 - acc: 0.7070\n",
      "Epoch 24/150\n",
      "768/768 [==============================] - 0s 150us/step - loss: 0.6277 - acc: 0.6849\n",
      "Epoch 25/150\n",
      "768/768 [==============================] - 0s 150us/step - loss: 0.7070 - acc: 0.6758\n",
      "Epoch 26/150\n",
      "768/768 [==============================] - 0s 148us/step - loss: 0.6304 - acc: 0.6797\n",
      "Epoch 27/150\n",
      "768/768 [==============================] - 0s 158us/step - loss: 0.6091 - acc: 0.6836\n",
      "Epoch 28/150\n",
      "768/768 [==============================] - 0s 165us/step - loss: 0.6143 - acc: 0.7057\n",
      "Epoch 29/150\n",
      "768/768 [==============================] - 0s 145us/step - loss: 0.6380 - acc: 0.6862\n",
      "Epoch 30/150\n",
      "768/768 [==============================] - 0s 143us/step - loss: 0.6474 - acc: 0.6966\n",
      "Epoch 31/150\n",
      "768/768 [==============================] - 0s 141us/step - loss: 0.6157 - acc: 0.6836\n",
      "Epoch 32/150\n",
      "768/768 [==============================] - 0s 180us/step - loss: 0.6148 - acc: 0.7083\n",
      "Epoch 33/150\n",
      "768/768 [==============================] - 0s 150us/step - loss: 0.6624 - acc: 0.7005\n",
      "Epoch 34/150\n",
      "768/768 [==============================] - 0s 146us/step - loss: 0.6033 - acc: 0.7096\n",
      "Epoch 35/150\n",
      "768/768 [==============================] - 0s 191us/step - loss: 0.5671 - acc: 0.7148\n",
      "Epoch 36/150\n",
      "768/768 [==============================] - 0s 148us/step - loss: 0.6284 - acc: 0.7005\n",
      "Epoch 37/150\n",
      "768/768 [==============================] - 0s 160us/step - loss: 0.6660 - acc: 0.6849\n",
      "Epoch 38/150\n",
      "768/768 [==============================] - 0s 147us/step - loss: 0.6610 - acc: 0.6940\n",
      "Epoch 39/150\n",
      "768/768 [==============================] - 0s 156us/step - loss: 0.5861 - acc: 0.7318\n",
      "Epoch 40/150\n",
      "768/768 [==============================] - 0s 155us/step - loss: 0.6187 - acc: 0.6862\n",
      "Epoch 41/150\n",
      "768/768 [==============================] - 0s 186us/step - loss: 0.5643 - acc: 0.7227\n",
      "Epoch 42/150\n",
      "768/768 [==============================] - 0s 133us/step - loss: 0.5460 - acc: 0.7357\n",
      "Epoch 43/150\n",
      "768/768 [==============================] - 0s 143us/step - loss: 0.5873 - acc: 0.7109\n",
      "Epoch 44/150\n",
      "768/768 [==============================] - 0s 151us/step - loss: 0.5569 - acc: 0.7253\n",
      "Epoch 45/150\n",
      "768/768 [==============================] - 0s 158us/step - loss: 0.5705 - acc: 0.7083\n",
      "Epoch 46/150\n",
      "768/768 [==============================] - 0s 163us/step - loss: 0.5831 - acc: 0.7174\n",
      "Epoch 47/150\n",
      "768/768 [==============================] - 0s 152us/step - loss: 0.6503 - acc: 0.6888\n",
      "Epoch 48/150\n",
      "768/768 [==============================] - 0s 141us/step - loss: 0.5752 - acc: 0.7135\n",
      "Epoch 49/150\n",
      "768/768 [==============================] - 0s 148us/step - loss: 0.5888 - acc: 0.7174\n",
      "Epoch 50/150\n",
      "768/768 [==============================] - 0s 176us/step - loss: 0.6175 - acc: 0.7135\n",
      "Epoch 51/150\n",
      "768/768 [==============================] - 0s 167us/step - loss: 0.5615 - acc: 0.7266\n",
      "Epoch 52/150\n",
      "768/768 [==============================] - 0s 184us/step - loss: 0.5630 - acc: 0.7292\n",
      "Epoch 53/150\n",
      "768/768 [==============================] - 0s 151us/step - loss: 0.6538 - acc: 0.6992\n",
      "Epoch 54/150\n",
      "768/768 [==============================] - 0s 158us/step - loss: 0.5716 - acc: 0.7305\n",
      "Epoch 55/150\n",
      "768/768 [==============================] - 0s 152us/step - loss: 0.5585 - acc: 0.7227\n",
      "Epoch 56/150\n",
      "768/768 [==============================] - 0s 147us/step - loss: 0.5611 - acc: 0.7422\n",
      "Epoch 57/150\n",
      "768/768 [==============================] - 0s 151us/step - loss: 0.5470 - acc: 0.7161\n",
      "Epoch 58/150\n",
      "768/768 [==============================] - 0s 163us/step - loss: 0.6334 - acc: 0.7174\n",
      "Epoch 59/150\n",
      "768/768 [==============================] - 0s 174us/step - loss: 0.6004 - acc: 0.7279\n",
      "Epoch 60/150\n",
      "768/768 [==============================] - 0s 147us/step - loss: 0.5605 - acc: 0.7188\n",
      "Epoch 61/150\n",
      "768/768 [==============================] - 0s 147us/step - loss: 0.5669 - acc: 0.7174\n",
      "Epoch 62/150\n",
      "768/768 [==============================] - 0s 146us/step - loss: 0.5450 - acc: 0.7357\n",
      "Epoch 63/150\n",
      "768/768 [==============================] - 0s 146us/step - loss: 0.5659 - acc: 0.7279\n",
      "Epoch 64/150\n",
      "768/768 [==============================] - 0s 172us/step - loss: 0.5562 - acc: 0.7292\n",
      "Epoch 65/150\n",
      "768/768 [==============================] - 0s 150us/step - loss: 0.5509 - acc: 0.7096\n",
      "Epoch 66/150\n",
      "768/768 [==============================] - 0s 148us/step - loss: 0.5932 - acc: 0.7057\n",
      "Epoch 67/150\n",
      "768/768 [==============================] - 0s 152us/step - loss: 0.5519 - acc: 0.7500\n",
      "Epoch 68/150\n",
      "768/768 [==============================] - 0s 180us/step - loss: 0.5552 - acc: 0.7174\n",
      "Epoch 69/150\n",
      "768/768 [==============================] - 0s 154us/step - loss: 0.5657 - acc: 0.7161\n",
      "Epoch 70/150\n",
      "768/768 [==============================] - 0s 155us/step - loss: 0.5866 - acc: 0.7279\n",
      "Epoch 71/150\n",
      "768/768 [==============================] - 0s 155us/step - loss: 0.5796 - acc: 0.7253\n",
      "Epoch 72/150\n",
      "768/768 [==============================] - 0s 151us/step - loss: 0.5651 - acc: 0.7253\n",
      "Epoch 73/150\n",
      "768/768 [==============================] - 0s 143us/step - loss: 0.5748 - acc: 0.7266\n",
      "Epoch 74/150\n",
      "768/768 [==============================] - 0s 147us/step - loss: 0.5728 - acc: 0.7188\n",
      "Epoch 75/150\n",
      "768/768 [==============================] - 0s 154us/step - loss: 0.5227 - acc: 0.7513\n",
      "Epoch 76/150\n",
      "768/768 [==============================] - 0s 155us/step - loss: 0.5416 - acc: 0.7474\n",
      "Epoch 77/150\n",
      "768/768 [==============================] - 0s 177us/step - loss: 0.5568 - acc: 0.7279\n",
      "Epoch 78/150\n",
      "768/768 [==============================] - 0s 150us/step - loss: 0.5343 - acc: 0.7240\n",
      "Epoch 79/150\n",
      "768/768 [==============================] - 0s 136us/step - loss: 0.5494 - acc: 0.7357\n",
      "Epoch 80/150\n",
      "768/768 [==============================] - 0s 158us/step - loss: 0.5267 - acc: 0.7539\n",
      "Epoch 81/150\n",
      "768/768 [==============================] - 0s 139us/step - loss: 0.5431 - acc: 0.7461\n",
      "Epoch 82/150\n",
      "768/768 [==============================] - 0s 150us/step - loss: 0.5436 - acc: 0.7253\n",
      "Epoch 83/150\n",
      "768/768 [==============================] - 0s 158us/step - loss: 0.5678 - acc: 0.7318\n",
      "Epoch 84/150\n",
      "768/768 [==============================] - 0s 154us/step - loss: 0.5917 - acc: 0.7187\n",
      "Epoch 85/150\n",
      "768/768 [==============================] - 0s 159us/step - loss: 0.5268 - acc: 0.7409\n",
      "Epoch 86/150\n",
      "768/768 [==============================] - 0s 194us/step - loss: 0.5432 - acc: 0.7409\n",
      "Epoch 87/150\n",
      "768/768 [==============================] - 0s 142us/step - loss: 0.5769 - acc: 0.7383\n",
      "Epoch 88/150\n",
      "768/768 [==============================] - 0s 148us/step - loss: 0.5638 - acc: 0.7292\n",
      "Epoch 89/150\n",
      "768/768 [==============================] - 0s 150us/step - loss: 0.5764 - acc: 0.7318\n",
      "Epoch 90/150\n",
      "768/768 [==============================] - 0s 151us/step - loss: 0.5345 - acc: 0.7383\n",
      "Epoch 91/150\n",
      "768/768 [==============================] - 0s 156us/step - loss: 0.5297 - acc: 0.7448\n",
      "Epoch 92/150\n",
      "768/768 [==============================] - 0s 159us/step - loss: 0.5281 - acc: 0.7396\n",
      "Epoch 93/150\n",
      "768/768 [==============================] - 0s 156us/step - loss: 0.5372 - acc: 0.7383\n",
      "Epoch 94/150\n",
      "768/768 [==============================] - 0s 178us/step - loss: 0.5473 - acc: 0.7435\n",
      "Epoch 95/150\n",
      "768/768 [==============================] - 0s 177us/step - loss: 0.5619 - acc: 0.7370\n",
      "Epoch 96/150\n",
      "768/768 [==============================] - 0s 169us/step - loss: 0.5398 - acc: 0.7383\n",
      "Epoch 97/150\n",
      "768/768 [==============================] - 0s 155us/step - loss: 0.5679 - acc: 0.7227\n",
      "Epoch 98/150\n",
      "768/768 [==============================] - 0s 154us/step - loss: 0.5192 - acc: 0.7409\n",
      "Epoch 99/150\n",
      "768/768 [==============================] - 0s 154us/step - loss: 0.5758 - acc: 0.7135\n",
      "Epoch 100/150\n",
      "768/768 [==============================] - 0s 150us/step - loss: 0.5240 - acc: 0.7513\n",
      "Epoch 101/150\n",
      "768/768 [==============================] - 0s 151us/step - loss: 0.5347 - acc: 0.7500\n",
      "Epoch 102/150\n",
      "768/768 [==============================] - 0s 155us/step - loss: 0.5487 - acc: 0.7448\n",
      "Epoch 103/150\n",
      "768/768 [==============================] - 0s 193us/step - loss: 0.5071 - acc: 0.7500\n",
      "Epoch 104/150\n",
      "768/768 [==============================] - 0s 167us/step - loss: 0.5436 - acc: 0.7487\n",
      "Epoch 105/150\n",
      "768/768 [==============================] - 0s 160us/step - loss: 0.5596 - acc: 0.7318\n",
      "Epoch 106/150\n",
      "768/768 [==============================] - 0s 173us/step - loss: 0.5377 - acc: 0.7279\n",
      "Epoch 107/150\n",
      "768/768 [==============================] - 0s 145us/step - loss: 0.5638 - acc: 0.7253\n",
      "Epoch 108/150\n",
      "768/768 [==============================] - 0s 139us/step - loss: 0.5753 - acc: 0.7227\n",
      "Epoch 109/150\n",
      "768/768 [==============================] - 0s 161us/step - loss: 0.5794 - acc: 0.7318\n",
      "Epoch 110/150\n",
      "768/768 [==============================] - 0s 184us/step - loss: 0.5384 - acc: 0.7578\n",
      "Epoch 111/150\n",
      "768/768 [==============================] - 0s 176us/step - loss: 0.5481 - acc: 0.7292\n",
      "Epoch 112/150\n",
      "768/768 [==============================] - 0s 202us/step - loss: 0.5746 - acc: 0.7383\n",
      "Epoch 113/150\n",
      "768/768 [==============================] - 0s 161us/step - loss: 0.5697 - acc: 0.7383\n",
      "Epoch 114/150\n",
      "768/768 [==============================] - 0s 146us/step - loss: 0.5964 - acc: 0.7370\n",
      "Epoch 115/150\n",
      "768/768 [==============================] - 0s 167us/step - loss: 0.5191 - acc: 0.7526\n",
      "Epoch 116/150\n",
      "768/768 [==============================] - 0s 177us/step - loss: 0.5679 - acc: 0.7357\n",
      "Epoch 117/150\n",
      "768/768 [==============================] - 0s 172us/step - loss: 0.5659 - acc: 0.7357\n",
      "Epoch 118/150\n",
      "768/768 [==============================] - 0s 191us/step - loss: 0.5448 - acc: 0.7279\n",
      "Epoch 119/150\n",
      "768/768 [==============================] - 0s 156us/step - loss: 0.5185 - acc: 0.7591\n",
      "Epoch 120/150\n",
      "768/768 [==============================] - 0s 215us/step - loss: 0.5613 - acc: 0.7305\n",
      "Epoch 121/150\n",
      "768/768 [==============================] - 0s 150us/step - loss: 0.5466 - acc: 0.7435\n",
      "Epoch 122/150\n",
      "768/768 [==============================] - 0s 151us/step - loss: 0.5254 - acc: 0.7409\n",
      "Epoch 123/150\n",
      "768/768 [==============================] - 0s 176us/step - loss: 0.5019 - acc: 0.7487\n",
      "Epoch 124/150\n",
      "768/768 [==============================] - 0s 151us/step - loss: 0.5125 - acc: 0.7695\n",
      "Epoch 125/150\n",
      "768/768 [==============================] - 0s 150us/step - loss: 0.5309 - acc: 0.7552\n",
      "Epoch 126/150\n",
      "768/768 [==============================] - 0s 160us/step - loss: 0.5258 - acc: 0.7578\n",
      "Epoch 127/150\n",
      "768/768 [==============================] - 0s 160us/step - loss: 0.5515 - acc: 0.7266\n",
      "Epoch 128/150\n",
      "768/768 [==============================] - 0s 171us/step - loss: 0.5361 - acc: 0.7370\n",
      "Epoch 129/150\n",
      "768/768 [==============================] - 0s 185us/step - loss: 0.5300 - acc: 0.7357\n",
      "Epoch 130/150\n",
      "768/768 [==============================] - 0s 161us/step - loss: 0.5813 - acc: 0.7435\n",
      "Epoch 131/150\n",
      "768/768 [==============================] - 0s 146us/step - loss: 0.5047 - acc: 0.7617\n",
      "Epoch 132/150\n",
      "768/768 [==============================] - 0s 177us/step - loss: 0.5009 - acc: 0.7565\n",
      "Epoch 133/150\n",
      "768/768 [==============================] - 0s 155us/step - loss: 0.5506 - acc: 0.7487\n",
      "Epoch 134/150\n",
      "768/768 [==============================] - 0s 161us/step - loss: 0.5011 - acc: 0.7500\n",
      "Epoch 135/150\n",
      "768/768 [==============================] - 0s 178us/step - loss: 0.5020 - acc: 0.7552\n",
      "Epoch 136/150\n",
      "768/768 [==============================] - 0s 181us/step - loss: 0.4896 - acc: 0.7604\n",
      "Epoch 137/150\n",
      "768/768 [==============================] - 0s 198us/step - loss: 0.5039 - acc: 0.7500\n",
      "Epoch 138/150\n",
      "768/768 [==============================] - 0s 176us/step - loss: 0.5279 - acc: 0.7383\n",
      "Epoch 139/150\n",
      "768/768 [==============================] - 0s 165us/step - loss: 0.5041 - acc: 0.7656\n",
      "Epoch 140/150\n",
      "768/768 [==============================] - 0s 172us/step - loss: 0.5616 - acc: 0.7383\n",
      "Epoch 141/150\n",
      "768/768 [==============================] - 0s 181us/step - loss: 0.5742 - acc: 0.7227\n",
      "Epoch 142/150\n",
      "768/768 [==============================] - 0s 181us/step - loss: 0.5219 - acc: 0.7513\n",
      "Epoch 143/150\n",
      "768/768 [==============================] - 0s 152us/step - loss: 0.5321 - acc: 0.7630\n",
      "Epoch 144/150\n",
      "768/768 [==============================] - 0s 155us/step - loss: 0.5533 - acc: 0.7383\n",
      "Epoch 145/150\n",
      "768/768 [==============================] - 0s 194us/step - loss: 0.5216 - acc: 0.7383\n",
      "Epoch 146/150\n",
      "768/768 [==============================] - 0s 143us/step - loss: 0.5227 - acc: 0.7539\n",
      "Epoch 147/150\n",
      "768/768 [==============================] - 0s 150us/step - loss: 0.5381 - acc: 0.7487\n",
      "Epoch 148/150\n",
      "768/768 [==============================] - 0s 165us/step - loss: 0.5129 - acc: 0.7487\n",
      "Epoch 149/150\n",
      "768/768 [==============================] - 0s 171us/step - loss: 0.5312 - acc: 0.7214\n",
      "Epoch 150/150\n",
      "768/768 [==============================] - 0s 172us/step - loss: 0.5565 - acc: 0.7539\n"
     ]
    },
    {
     "data": {
      "text/plain": [
       "<keras.callbacks.History at 0x1e70f29d278>"
      ]
     },
     "execution_count": 18,
     "metadata": {},
     "output_type": "execute_result"
    }
   ],
   "source": [
    "# Fit the Keras model on the dataset\n",
    "model.fit(X, y, epochs=150, batch_size=10)"
   ]
  },
  {
   "cell_type": "code",
   "execution_count": 19,
   "metadata": {
    "colab": {},
    "colab_type": "code",
    "id": "_Pb01NDTS44-"
   },
   "outputs": [],
   "source": [
    "if (notifyStatus): email_notify(\"Phase 4 Fit Model completed! \"+datetime.now().strftime('%a %B %d, %Y %I:%M:%S %p'))"
   ]
  },
  {
   "cell_type": "markdown",
   "metadata": {
    "colab_type": "text",
    "id": "F6Di1y9BIXey"
   },
   "source": [
    "# Section 5. Evaluate Model"
   ]
  },
  {
   "cell_type": "code",
   "execution_count": 20,
   "metadata": {
    "colab": {},
    "colab_type": "code",
    "id": "waSYHP94S-JU"
   },
   "outputs": [],
   "source": [
    "if (notifyStatus): email_notify(\"Phase 5 Evaluate Model has begun! \"+datetime.now().strftime('%a %B %d, %Y %I:%M:%S %p'))"
   ]
  },
  {
   "cell_type": "code",
   "execution_count": 21,
   "metadata": {
    "colab": {
     "base_uri": "https://localhost:8080/",
     "height": 109
    },
    "colab_type": "code",
    "id": "-H_7ah8gPRmw",
    "outputId": "52212ba7-304e-46ac-e6de-a30afa3dc6bd"
   },
   "outputs": [
    {
     "name": "stdout",
     "output_type": "stream",
     "text": [
      "768/768 [==============================] - 0s 121us/step\n",
      "\n",
      "acc: 77.47%\n",
      "\n",
      "loss: 46.73%\n"
     ]
    }
   ],
   "source": [
    "# Evaluate the Keras model\n",
    "scores = model.evaluate(X, y)\n",
    "print(\"\\n%s: %.2f%%\" % (model.metrics_names[1], scores[1]*100))\n",
    "print(\"\\n%s: %.2f%%\" % (model.metrics_names[0], scores[0]*100))"
   ]
  },
  {
   "cell_type": "code",
   "execution_count": 22,
   "metadata": {
    "colab": {},
    "colab_type": "code",
    "id": "0r4rJRXHTBTv"
   },
   "outputs": [],
   "source": [
    "if (notifyStatus): email_notify(\"Phase 5 Evaluate Model completed! \"+datetime.now().strftime('%a %B %d, %Y %I:%M:%S %p'))"
   ]
  },
  {
   "cell_type": "markdown",
   "metadata": {
    "colab_type": "text",
    "id": "ohwYIizSIfPG"
   },
   "source": [
    "# Section 6. Finalize Model"
   ]
  },
  {
   "cell_type": "code",
   "execution_count": 23,
   "metadata": {
    "colab": {},
    "colab_type": "code",
    "id": "yh14j7v8TFPe"
   },
   "outputs": [],
   "source": [
    "if (notifyStatus): email_notify(\"Phase 6 Finalize Model has begun! \"+datetime.now().strftime('%a %B %d, %Y %I:%M:%S %p'))"
   ]
  },
  {
   "cell_type": "code",
   "execution_count": 24,
   "metadata": {
    "colab": {
     "base_uri": "https://localhost:8080/",
     "height": 201
    },
    "colab_type": "code",
    "id": "oUhkDCG8AkUC",
    "outputId": "fb87e85d-6fee-4a5b-9b5f-c2a9fe91099e"
   },
   "outputs": [
    {
     "name": "stdout",
     "output_type": "stream",
     "text": [
      "[6.0, 148.0, 72.0, 35.0, 0.0, 33.6, 0.627, 50.0] => 1 (expected 1)\n",
      "[1.0, 85.0, 66.0, 29.0, 0.0, 26.6, 0.351, 31.0] => 0 (expected 0)\n",
      "[8.0, 183.0, 64.0, 0.0, 0.0, 23.3, 0.672, 32.0] => 1 (expected 1)\n",
      "[1.0, 89.0, 66.0, 23.0, 94.0, 28.1, 0.167, 21.0] => 0 (expected 0)\n",
      "[0.0, 137.0, 40.0, 35.0, 168.0, 43.1, 2.288, 33.0] => 1 (expected 1)\n",
      "[5.0, 116.0, 74.0, 0.0, 0.0, 25.6, 0.201, 30.0] => 0 (expected 0)\n",
      "[3.0, 78.0, 50.0, 32.0, 88.0, 31.0, 0.248, 26.0] => 0 (expected 1)\n",
      "[10.0, 115.0, 0.0, 0.0, 0.0, 35.3, 0.134, 29.0] => 1 (expected 0)\n",
      "[2.0, 197.0, 70.0, 45.0, 543.0, 30.5, 0.158, 53.0] => 1 (expected 1)\n",
      "[8.0, 125.0, 96.0, 0.0, 0.0, 0.0, 0.232, 54.0] => 0 (expected 1)\n"
     ]
    }
   ],
   "source": [
    "# Make class predictions with the model\n",
    "predictions = model.predict_classes(X)\n",
    "\n",
    "# Summarize the first 10 cases\n",
    "for i in range(10):\n",
    "\tprint('%s => %d (expected %d)' % (X[i].tolist(), predictions[i], y[i]))"
   ]
  },
  {
   "cell_type": "code",
   "execution_count": 25,
   "metadata": {
    "colab": {},
    "colab_type": "code",
    "id": "UkgS_dVLTIIi"
   },
   "outputs": [],
   "source": [
    "if (notifyStatus): email_notify(\"Phase 6 Finalize Model completed! \"+datetime.now().strftime('%a %B %d, %Y %I:%M:%S %p'))"
   ]
  },
  {
   "cell_type": "code",
   "execution_count": 26,
   "metadata": {
    "colab": {
     "base_uri": "https://localhost:8080/",
     "height": 35
    },
    "colab_type": "code",
    "id": "Qb7Ry_60TMOl",
    "outputId": "08177fca-8793-418e-a88c-131f35590eb2"
   },
   "outputs": [
    {
     "name": "stdout",
     "output_type": "stream",
     "text": [
      "Total time for the script: 0:00:20.337577\n"
     ]
    }
   ],
   "source": [
    "print ('Total time for the script:',(datetime.now() - startTimeScript))"
   ]
  }
 ],
 "metadata": {
  "colab": {
   "collapsed_sections": [],
   "name": "py-keras-classification-binary-class-example.ipynb",
   "provenance": [],
   "toc_visible": true
  },
  "kernelspec": {
   "display_name": "Python 3",
   "language": "python",
   "name": "python3"
  },
  "language_info": {
   "codemirror_mode": {
    "name": "ipython",
    "version": 3
   },
   "file_extension": ".py",
   "mimetype": "text/x-python",
   "name": "python",
   "nbconvert_exporter": "python",
   "pygments_lexer": "ipython3",
   "version": "3.7.3"
  }
 },
 "nbformat": 4,
 "nbformat_minor": 4
}
