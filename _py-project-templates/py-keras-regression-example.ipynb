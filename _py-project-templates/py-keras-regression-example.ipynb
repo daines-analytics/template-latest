{
 "cells": [
  {
   "cell_type": "markdown",
   "metadata": {},
   "source": [
    "# Regression Deep Learning Model for [PROJECT NAME] Using Keras Version 3\n",
    "### David Lowe\n",
    "### November 11, 2019\n",
    "\n",
    "Template Credit: Adapted from a template made available by Dr. Jason Brownlee of Machine Learning Mastery. [https://machinelearningmastery.com/]\n",
    "\n",
    "SUMMARY: The purpose of this project is to construct a predictive model using various machine learning algorithms and to document the end-to-end steps using a template. The [PROJECT NAME] dataset is a regression situation where we are trying to predict the value of a continuous variable.\n",
    "\n",
    "INTRODUCTION: [Sample Paragraph - The purpose of the analysis is to predict the housing values in the suburbs of Boston by using the home sale transaction history.]\n",
    "\n",
    "ANALYSIS: [Sample Paragraph - The baseline performance of the model achieved an average mean squared error of 70.08. After tuning the hyperparameters, the final model processed the test dataset with a mean squared error of 13.08, which was much better than the baseline result from the training dataset.]\n",
    "\n",
    "CONCLUSION: For this dataset, the model built using Keras and TensorFlow achieved a satisfactory result and should be considered for future modeling activities.\n",
    "\n",
    "Dataset Used: [PROJECT NAME] Dataset\n",
    "\n",
    "Dataset ML Model: Regression with numerical attributes\n",
    "\n",
    "Dataset Reference: [https://raw.githubusercontent.com/jbrownlee/Datasets/master/housing.data]\n",
    "\n",
    "One potential source of performance benchmarks: [https://machinelearningmastery.com/regression-tutorial-keras-deep-learning-library-python/]\n",
    "\n",
    "Any deep-learning modeling project genrally can be broken down into about seven major tasks:\n",
    "0. Prepare Environment\n",
    "1. Load Data\n",
    "2. Define Model\n",
    "3. Fit and Evaluate Model\n",
    "4. Optimize Model\n",
    "5. Finalize Model"
   ]
  },
  {
   "cell_type": "markdown",
   "metadata": {},
   "source": [
    "# Section 0. Prepare Environment"
   ]
  },
  {
   "cell_type": "code",
   "execution_count": 31,
   "metadata": {},
   "outputs": [],
   "source": [
    "# Set the warning message filter\n",
    "import warnings\n",
    "warnings.filterwarnings(\"ignore\", category=FutureWarning)\n",
    "warnings.filterwarnings(\"ignore\", category=DeprecationWarning)"
   ]
  },
  {
   "cell_type": "code",
   "execution_count": 32,
   "metadata": {},
   "outputs": [],
   "source": [
    "# Set the random seed number for reproducible results\n",
    "seedNum = 888"
   ]
  },
  {
   "cell_type": "code",
   "execution_count": 33,
   "metadata": {},
   "outputs": [],
   "source": [
    "# Load libraries and packages\n",
    "import random\n",
    "random.seed(seedNum)\n",
    "import numpy as np\n",
    "np.random.seed(seedNum)\n",
    "import tensorflow as tf\n",
    "tf.random.set_seed(seedNum)\n",
    "import keras as K\n",
    "from keras.layers import Dense\n",
    "from keras.wrappers.scikit_learn import KerasClassifier\n",
    "from keras.wrappers.scikit_learn import KerasRegressor\n",
    "from keras.utils import np_utils\n",
    "import pandas as pd\n",
    "import os\n",
    "import sys\n",
    "import shutil\n",
    "import urllib.request\n",
    "import zipfile\n",
    "import smtplib\n",
    "import matplotlib.pyplot as plt\n",
    "from datetime import datetime\n",
    "from email.message import EmailMessage\n",
    "from sklearn.model_selection import train_test_split\n",
    "from sklearn.model_selection import KFold\n",
    "from sklearn.model_selection import StratifiedKFold\n",
    "from sklearn.model_selection import cross_val_score\n",
    "from sklearn.model_selection import GridSearchCV\n",
    "from sklearn.model_selection import RandomizedSearchCV\n",
    "from sklearn import preprocessing\n",
    "from sklearn.pipeline import Pipeline"
   ]
  },
  {
   "cell_type": "code",
   "execution_count": 34,
   "metadata": {},
   "outputs": [
    {
     "name": "stdout",
     "output_type": "stream",
     "text": [
      "Num GPUs Available:  0\n"
     ]
    }
   ],
   "source": [
    "# Begin the timer for the script processing\n",
    "startTimeScript = datetime.now()\n",
    "\n",
    "# Set up the verbose flag to print detailed messages for debugging (setting to True will activate)\n",
    "verbose = True\n",
    "tf.debugging.set_log_device_placement(verbose)\n",
    "\n",
    "# Set up the number of CPU cores available for multi-thread processing\n",
    "n_jobs = -1\n",
    "print(\"Num GPUs Available: \", len(tf.config.experimental.list_physical_devices('GPU')))\n",
    "\n",
    "# Set up the flag to stop sending progress emails (setting to True will send status emails!)\n",
    "notifyStatus = False\n",
    "\n",
    "# Set the number of folds for cross validation\n",
    "n_folds = 5\n",
    "\n",
    "# Set the flag for splitting the dataset\n",
    "splitDataset = True\n",
    "splitPercentage = 0.25\n",
    "\n",
    "# Set various default Keras modeling parameters\n",
    "default_kernel_init = K.initializers.RandomNormal(seed=seedNum)\n",
    "default_loss = 'mean_squared_error'\n",
    "default_optimizer = 'adam'\n",
    "default_epochs = 150\n",
    "default_batches = 8"
   ]
  },
  {
   "cell_type": "code",
   "execution_count": 35,
   "metadata": {},
   "outputs": [],
   "source": [
    "# Set up the email notification function\n",
    "def email_notify(msg_text):\n",
    "    sender = os.environ.get('MAIL_SENDER')\n",
    "    receiver = os.environ.get('MAIL_RECEIVER')\n",
    "    gateway = os.environ.get('SMTP_GATEWAY')\n",
    "    smtpuser = os.environ.get('SMTP_USERNAME')\n",
    "    password = os.environ.get('SMTP_PASSWORD')\n",
    "    if sender==None or receiver==None or gateway==None or smtpuser==None or password==None:\n",
    "        sys.exit(\"Incomplete email setup info. Script Processing Aborted!!!\")\n",
    "    msg = EmailMessage()\n",
    "    msg.set_content(msg_text)\n",
    "    msg['Subject'] = 'Notification from Keras Regression Script'\n",
    "    msg['From'] = sender\n",
    "    msg['To'] = receiver\n",
    "    server = smtplib.SMTP(gateway, 587)\n",
    "    server.starttls()\n",
    "    server.login(smtpuser, password)\n",
    "    server.send_message(msg)\n",
    "    server.quit()"
   ]
  },
  {
   "cell_type": "code",
   "execution_count": 36,
   "metadata": {},
   "outputs": [],
   "source": [
    "if (notifyStatus): email_notify(\"Phase 0 Prepare Environment completed! \"+datetime.now().strftime('%a %B %d, %Y %I:%M:%S %p'))"
   ]
  },
  {
   "cell_type": "markdown",
   "metadata": {},
   "source": [
    "# Section 1. Load Data"
   ]
  },
  {
   "cell_type": "code",
   "execution_count": 37,
   "metadata": {},
   "outputs": [],
   "source": [
    "if (notifyStatus): email_notify(\"Phase 1 Load Data has begun! \"+datetime.now().strftime('%a %B %d, %Y %I:%M:%S %p'))"
   ]
  },
  {
   "cell_type": "code",
   "execution_count": 38,
   "metadata": {},
   "outputs": [
    {
     "name": "stdout",
     "output_type": "stream",
     "text": [
      "[[6.3200e-03 1.8000e+01 2.3100e+00 ... 3.9690e+02 4.9800e+00 2.4000e+01]\n",
      " [2.7310e-02 0.0000e+00 7.0700e+00 ... 3.9690e+02 9.1400e+00 2.1600e+01]\n",
      " [2.7290e-02 0.0000e+00 7.0700e+00 ... 3.9283e+02 4.0300e+00 3.4700e+01]\n",
      " ...\n",
      " [6.0760e-02 0.0000e+00 1.1930e+01 ... 3.9690e+02 5.6400e+00 2.3900e+01]\n",
      " [1.0959e-01 0.0000e+00 1.1930e+01 ... 3.9345e+02 6.4800e+00 2.2000e+01]\n",
      " [4.7410e-02 0.0000e+00 1.1930e+01 ... 3.9690e+02 7.8800e+00 1.1900e+01]]\n"
     ]
    }
   ],
   "source": [
    "# Load the dataset\n",
    "df_original = pd.read_csv(\"https://archive.ics.uci.edu/ml/machine-learning-databases/housing/housing.data\", delim_whitespace=True, header=None)\n",
    "dataset = df_original.values\n",
    "print(dataset)"
   ]
  },
  {
   "cell_type": "code",
   "execution_count": 39,
   "metadata": {},
   "outputs": [
    {
     "name": "stdout",
     "output_type": "stream",
     "text": [
      "Shape of X_original: (506, 13) | Shape of y_original: (506,)\n"
     ]
    }
   ],
   "source": [
    "# Split the original dataset into input (X) and output (y) variables\n",
    "X_original = dataset[:,0:13].astype(float)\n",
    "y_original = dataset[:,13]\n",
    "print('Shape of X_original:', X_original.shape, '| Shape of y_original:', y_original.shape)"
   ]
  },
  {
   "cell_type": "code",
   "execution_count": 40,
   "metadata": {},
   "outputs": [
    {
     "name": "stdout",
     "output_type": "stream",
     "text": [
      "X_train.shape: (379, 13) X_train.type: <class 'numpy.ndarray'>\n",
      "y_train.shape: (379,) y_train.type: <class 'numpy.ndarray'>\n",
      "X_test.shape: (127, 13) X_test.type: <class 'numpy.ndarray'>\n",
      "y_test.shape: (127,) y_test.type: <class 'numpy.ndarray'>\n"
     ]
    }
   ],
   "source": [
    "X_encoded = X_original\n",
    "y_encoded = y_original\n",
    "if (splitDataset):\n",
    "    X_train, X_test, y_train, y_test = train_test_split(X_encoded, y_encoded, test_size=splitPercentage, random_state=seedNum)\n",
    "else:\n",
    "    X_train, y_train = X_encoded, y_encoded\n",
    "    X_test, y_test = X_encoded, y_encoded\n",
    "print(\"X_train.shape: {} X_train.type: {}\".format(X_train.shape, type(X_train)))\n",
    "print(\"y_train.shape: {} y_train.type: {}\".format(y_train.shape, type(y_train)))\n",
    "print(\"X_test.shape: {} X_test.type: {}\".format(X_test.shape, type(X_test)))\n",
    "print(\"y_test.shape: {} y_test.type: {}\".format(y_test.shape, type(y_test)))"
   ]
  },
  {
   "cell_type": "code",
   "execution_count": 41,
   "metadata": {},
   "outputs": [],
   "source": [
    "if (notifyStatus): email_notify(\"Phase 1 Load Data completed! \"+datetime.now().strftime('%a %B %d, %Y %I:%M:%S %p'))"
   ]
  },
  {
   "cell_type": "markdown",
   "metadata": {},
   "source": [
    "# Section 2. Define Model"
   ]
  },
  {
   "cell_type": "code",
   "execution_count": 42,
   "metadata": {},
   "outputs": [],
   "source": [
    "if (notifyStatus): email_notify(\"Phase 2 Define Model has begun! \"+datetime.now().strftime('%a %B %d, %Y %I:%M:%S %p'))"
   ]
  },
  {
   "cell_type": "code",
   "execution_count": 43,
   "metadata": {},
   "outputs": [],
   "source": [
    "# Define the Keras model required for KerasClassifier\n",
    "def create_default_model():\n",
    "    default_model = K.models.Sequential()\n",
    "    default_model.add(Dense(13, input_dim=13, kernel_initializer=default_kernel_init, activation='relu'))\n",
    "    default_model.add(Dense(1, kernel_initializer=default_kernel_init))\n",
    "    default_model.compile(loss=default_loss, optimizer=default_optimizer)\n",
    "    return default_model"
   ]
  },
  {
   "cell_type": "code",
   "execution_count": 44,
   "metadata": {},
   "outputs": [],
   "source": [
    "# Initialize the Keras model\n",
    "estimators = []\n",
    "estimators.append(('standardize', preprocessing.Normalizer()))\n",
    "estimators.append(('mlp', KerasRegressor(build_fn=create_default_model, epochs=default_epochs, batch_size=default_batches, verbose=0)))\n",
    "cv_model = Pipeline(estimators)"
   ]
  },
  {
   "cell_type": "code",
   "execution_count": 45,
   "metadata": {},
   "outputs": [],
   "source": [
    "if (notifyStatus): email_notify(\"Phase 2 Define Model completed! \"+datetime.now().strftime('%a %B %d, %Y %I:%M:%S %p'))"
   ]
  },
  {
   "cell_type": "markdown",
   "metadata": {},
   "source": [
    "# Section 3. Fit and Evaluate Model"
   ]
  },
  {
   "cell_type": "code",
   "execution_count": 46,
   "metadata": {},
   "outputs": [],
   "source": [
    "if (notifyStatus): email_notify(\"Phase 3 Fit and Evaluate Model has begun! \"+datetime.now().strftime('%a %B %d, %Y %I:%M:%S %p'))"
   ]
  },
  {
   "cell_type": "code",
   "execution_count": 47,
   "metadata": {},
   "outputs": [
    {
     "name": "stdout",
     "output_type": "stream",
     "text": [
      "Executing op RandomStandardNormal in device /job:localhost/replica:0/task:0/device:CPU:0\n",
      "Executing op Mul in device /job:localhost/replica:0/task:0/device:CPU:0\n",
      "Executing op Add in device /job:localhost/replica:0/task:0/device:CPU:0\n",
      "Executing op VarHandleOp in device /job:localhost/replica:0/task:0/device:CPU:0\n",
      "Executing op VarIsInitializedOp in device /job:localhost/replica:0/task:0/device:CPU:0\n",
      "Executing op LogicalNot in device /job:localhost/replica:0/task:0/device:CPU:0\n",
      "Executing op Assert in device /job:localhost/replica:0/task:0/device:CPU:0\n",
      "Executing op AssignVariableOp in device /job:localhost/replica:0/task:0/device:CPU:0\n",
      "Executing op Fill in device /job:localhost/replica:0/task:0/device:CPU:0\n",
      "Executing op VarHandleOp in device /job:localhost/replica:0/task:0/device:CPU:0\n",
      "Executing op RandomStandardNormal in device /job:localhost/replica:0/task:0/device:CPU:0\n",
      "Executing op VarHandleOp in device /job:localhost/replica:0/task:0/device:CPU:0\n",
      "Executing op Reshape in device /job:localhost/replica:0/task:0/device:CPU:0\n",
      "Executing op VarHandleOp in device /job:localhost/replica:0/task:0/device:CPU:0\n",
      "Executing op VarHandleOp in device /job:localhost/replica:0/task:0/device:CPU:0\n",
      "Executing op AssignVariableOp in device /job:localhost/replica:0/task:0/device:CPU:0\n",
      "Executing op VarHandleOp in device /job:localhost/replica:0/task:0/device:CPU:0\n",
      "Executing op __inference_keras_scratch_graph_249694 in device /job:localhost/replica:0/task:0/device:CPU:0\n",
      "Executing op __inference_keras_scratch_graph_272527 in device /job:localhost/replica:0/task:0/device:CPU:0\n",
      "Executing op RandomStandardNormal in device /job:localhost/replica:0/task:0/device:CPU:0\n",
      "Executing op RandomStandardNormal in device /job:localhost/replica:0/task:0/device:CPU:0\n",
      "Executing op __inference_keras_scratch_graph_273259 in device /job:localhost/replica:0/task:0/device:CPU:0\n",
      "Executing op __inference_keras_scratch_graph_296092 in device /job:localhost/replica:0/task:0/device:CPU:0\n",
      "Executing op RandomStandardNormal in device /job:localhost/replica:0/task:0/device:CPU:0\n",
      "Executing op RandomStandardNormal in device /job:localhost/replica:0/task:0/device:CPU:0\n",
      "Executing op DestroyResourceOp in device /job:localhost/replica:0/task:0/device:CPU:0\n",
      "Executing op __inference_keras_scratch_graph_296824 in device /job:localhost/replica:0/task:0/device:CPU:0\n",
      "Executing op __inference_keras_scratch_graph_319657 in device /job:localhost/replica:0/task:0/device:CPU:0\n",
      "Executing op RandomStandardNormal in device /job:localhost/replica:0/task:0/device:CPU:0\n",
      "Executing op RandomStandardNormal in device /job:localhost/replica:0/task:0/device:CPU:0\n",
      "Executing op __inference_keras_scratch_graph_320389 in device /job:localhost/replica:0/task:0/device:CPU:0\n",
      "Executing op __inference_keras_scratch_graph_343222 in device /job:localhost/replica:0/task:0/device:CPU:0\n",
      "Executing op RandomStandardNormal in device /job:localhost/replica:0/task:0/device:CPU:0\n",
      "Executing op RandomStandardNormal in device /job:localhost/replica:0/task:0/device:CPU:0\n",
      "Executing op __inference_keras_scratch_graph_343954 in device /job:localhost/replica:0/task:0/device:CPU:0\n",
      "Executing op __inference_keras_scratch_graph_366787 in device /job:localhost/replica:0/task:0/device:CPU:0\n",
      "Generating results using the metrics of mean_squared_error\n",
      "All cross-Validate results: [-87.19937714 -83.25313307 -50.12106665 -59.92109811 -67.12524862]\n",
      "Baseline results [mean (std)]: -69.52 (13.97)\n",
      "Total time for performing cross-validation of the default model: 0:01:03.528751\n"
     ]
    }
   ],
   "source": [
    "startTimeModule = datetime.now()\n",
    "\n",
    "# Fit and evaluate the Keras model using 10-fold cross validation\n",
    "kfold = KFold(n_splits=n_folds, shuffle=True, random_state=seedNum)\n",
    "results = cross_val_score(cv_model, X_train, y_train, cv=kfold)\n",
    "print('Generating results using the metrics of', default_loss)\n",
    "print('All cross-Validate results:', results)\n",
    "print('Baseline results [mean (std)]: %.2f (%.2f)' % (results.mean(), results.std()))\n",
    "\n",
    "print('Total time for performing cross-validation of the default model:', (datetime.now() - startTimeModule))"
   ]
  },
  {
   "cell_type": "code",
   "execution_count": 48,
   "metadata": {},
   "outputs": [],
   "source": [
    "if (notifyStatus): email_notify(\"Phase 3 Fit and Evaluate Model completed! \"+datetime.now().strftime('%a %B %d, %Y %I:%M:%S %p'))"
   ]
  },
  {
   "cell_type": "markdown",
   "metadata": {},
   "source": [
    "# Section 4. Optimize Model"
   ]
  },
  {
   "cell_type": "code",
   "execution_count": 49,
   "metadata": {},
   "outputs": [],
   "source": [
    "if (notifyStatus): email_notify(\"Phase 4 Optimize Model has begun! \"+datetime.now().strftime('%a %B %d, %Y %I:%M:%S %p'))"
   ]
  },
  {
   "cell_type": "code",
   "execution_count": 50,
   "metadata": {},
   "outputs": [],
   "source": [
    "# Define the Keras model required for KerasClassifier\n",
    "def create_customized_model(optimizer, kernel_init):\n",
    "    customized_model = K.models.Sequential()\n",
    "    customized_model.add(Dense(13, input_dim=13, kernel_initializer=kernel_init, activation='relu'))\n",
    "    customized_model.add(Dense(1, kernel_initializer=kernel_init))\n",
    "    customized_model.compile(loss=default_loss, optimizer=optimizer)\n",
    "    return customized_model"
   ]
  },
  {
   "cell_type": "code",
   "execution_count": 51,
   "metadata": {},
   "outputs": [
    {
     "name": "stdout",
     "output_type": "stream",
     "text": [
      "Fitting 5 folds for each of 54 candidates, totalling 270 fits\n"
     ]
    },
    {
     "name": "stderr",
     "output_type": "stream",
     "text": [
      "[Parallel(n_jobs=-1)]: Using backend LokyBackend with 12 concurrent workers.\n"
     ]
    },
    {
     "name": "stdout",
     "output_type": "stream",
     "text": [
      "Executing op ReadVariableOp in device /job:localhost/replica:0/task:0/device:CPU:0\n",
      "Executing op ReadVariableOp in device /job:localhost/replica:0/task:0/device:CPU:0\n"
     ]
    },
    {
     "name": "stderr",
     "output_type": "stream",
     "text": [
      "[Parallel(n_jobs=-1)]: Done   8 tasks      | elapsed:   29.5s\n",
      "[Parallel(n_jobs=-1)]: Done 104 tasks      | elapsed:  4.0min\n",
      "[Parallel(n_jobs=-1)]: Done 270 out of 270 | elapsed:  6.8min finished\n"
     ]
    },
    {
     "name": "stdout",
     "output_type": "stream",
     "text": [
      "Executing op __inference_keras_scratch_graph_368763 in device /job:localhost/replica:0/task:0/device:CPU:0\n",
      "Best: -25.185132 using {'batch_size': 8, 'epochs': 200, 'kernel_init': <keras.initializers.RandomNormal object at 0x7f5a6f532d10>, 'optimizer': <keras.optimizers.Adam object at 0x7f5a6f532950>}\n",
      "-27.133658 (12.105422) with: {'batch_size': 8, 'epochs': 100, 'kernel_init': <keras.initializers.RandomNormal object at 0x7f5a6f532d10>, 'optimizer': <keras.optimizers.RMSprop object at 0x7f5a6f532fd0>}\n",
      "-29.097372 (11.330128) with: {'batch_size': 8, 'epochs': 100, 'kernel_init': <keras.initializers.RandomNormal object at 0x7f5a6f532d10>, 'optimizer': <keras.optimizers.Adam object at 0x7f5a6f532950>}\n",
      "-42.767426 (17.694832) with: {'batch_size': 8, 'epochs': 100, 'kernel_init': <keras.initializers.VarianceScaling object at 0x7f5a6f532790>, 'optimizer': <keras.optimizers.RMSprop object at 0x7f5a6f532fd0>}\n",
      "-41.662408 (16.236490) with: {'batch_size': 8, 'epochs': 100, 'kernel_init': <keras.initializers.VarianceScaling object at 0x7f5a6f532790>, 'optimizer': <keras.optimizers.Adam object at 0x7f5a6f532950>}\n",
      "-37.669598 (10.699671) with: {'batch_size': 8, 'epochs': 100, 'kernel_init': <keras.initializers.Orthogonal object at 0x7f5a6f532d90>, 'optimizer': <keras.optimizers.RMSprop object at 0x7f5a6f532fd0>}\n",
      "-40.335511 (12.675009) with: {'batch_size': 8, 'epochs': 100, 'kernel_init': <keras.initializers.Orthogonal object at 0x7f5a6f532d90>, 'optimizer': <keras.optimizers.Adam object at 0x7f5a6f532950>}\n",
      "-36.009149 (7.652362) with: {'batch_size': 8, 'epochs': 150, 'kernel_init': <keras.initializers.RandomNormal object at 0x7f5a6f532d10>, 'optimizer': <keras.optimizers.RMSprop object at 0x7f5a6f532fd0>}\n",
      "-29.039556 (10.176656) with: {'batch_size': 8, 'epochs': 150, 'kernel_init': <keras.initializers.RandomNormal object at 0x7f5a6f532d10>, 'optimizer': <keras.optimizers.Adam object at 0x7f5a6f532950>}\n",
      "-37.567206 (8.744138) with: {'batch_size': 8, 'epochs': 150, 'kernel_init': <keras.initializers.VarianceScaling object at 0x7f5a6f532790>, 'optimizer': <keras.optimizers.RMSprop object at 0x7f5a6f532fd0>}\n",
      "-42.305105 (11.791434) with: {'batch_size': 8, 'epochs': 150, 'kernel_init': <keras.initializers.VarianceScaling object at 0x7f5a6f532790>, 'optimizer': <keras.optimizers.Adam object at 0x7f5a6f532950>}\n",
      "-36.849688 (12.154331) with: {'batch_size': 8, 'epochs': 150, 'kernel_init': <keras.initializers.Orthogonal object at 0x7f5a6f532d90>, 'optimizer': <keras.optimizers.RMSprop object at 0x7f5a6f532fd0>}\n",
      "-38.686272 (10.679435) with: {'batch_size': 8, 'epochs': 150, 'kernel_init': <keras.initializers.Orthogonal object at 0x7f5a6f532d90>, 'optimizer': <keras.optimizers.Adam object at 0x7f5a6f532950>}\n",
      "-32.770452 (12.782624) with: {'batch_size': 8, 'epochs': 200, 'kernel_init': <keras.initializers.RandomNormal object at 0x7f5a6f532d10>, 'optimizer': <keras.optimizers.RMSprop object at 0x7f5a6f532fd0>}\n",
      "-25.185132 (11.058215) with: {'batch_size': 8, 'epochs': 200, 'kernel_init': <keras.initializers.RandomNormal object at 0x7f5a6f532d10>, 'optimizer': <keras.optimizers.Adam object at 0x7f5a6f532950>}\n",
      "-34.485155 (10.183168) with: {'batch_size': 8, 'epochs': 200, 'kernel_init': <keras.initializers.VarianceScaling object at 0x7f5a6f532790>, 'optimizer': <keras.optimizers.RMSprop object at 0x7f5a6f532fd0>}\n",
      "-35.374197 (15.304835) with: {'batch_size': 8, 'epochs': 200, 'kernel_init': <keras.initializers.VarianceScaling object at 0x7f5a6f532790>, 'optimizer': <keras.optimizers.Adam object at 0x7f5a6f532950>}\n",
      "-33.894484 (11.535193) with: {'batch_size': 8, 'epochs': 200, 'kernel_init': <keras.initializers.Orthogonal object at 0x7f5a6f532d90>, 'optimizer': <keras.optimizers.RMSprop object at 0x7f5a6f532fd0>}\n",
      "-35.137297 (11.827779) with: {'batch_size': 8, 'epochs': 200, 'kernel_init': <keras.initializers.Orthogonal object at 0x7f5a6f532d90>, 'optimizer': <keras.optimizers.Adam object at 0x7f5a6f532950>}\n",
      "-40.676299 (19.716207) with: {'batch_size': 16, 'epochs': 100, 'kernel_init': <keras.initializers.RandomNormal object at 0x7f5a6f532d10>, 'optimizer': <keras.optimizers.RMSprop object at 0x7f5a6f532fd0>}\n",
      "-37.606176 (14.254019) with: {'batch_size': 16, 'epochs': 100, 'kernel_init': <keras.initializers.RandomNormal object at 0x7f5a6f532d10>, 'optimizer': <keras.optimizers.Adam object at 0x7f5a6f532950>}\n",
      "-44.999432 (18.683639) with: {'batch_size': 16, 'epochs': 100, 'kernel_init': <keras.initializers.VarianceScaling object at 0x7f5a6f532790>, 'optimizer': <keras.optimizers.RMSprop object at 0x7f5a6f532fd0>}\n",
      "-58.262256 (33.997743) with: {'batch_size': 16, 'epochs': 100, 'kernel_init': <keras.initializers.VarianceScaling object at 0x7f5a6f532790>, 'optimizer': <keras.optimizers.Adam object at 0x7f5a6f532950>}\n",
      "-38.958797 (11.471543) with: {'batch_size': 16, 'epochs': 100, 'kernel_init': <keras.initializers.Orthogonal object at 0x7f5a6f532d90>, 'optimizer': <keras.optimizers.RMSprop object at 0x7f5a6f532fd0>}\n",
      "-49.574129 (17.930900) with: {'batch_size': 16, 'epochs': 100, 'kernel_init': <keras.initializers.Orthogonal object at 0x7f5a6f532d90>, 'optimizer': <keras.optimizers.Adam object at 0x7f5a6f532950>}\n",
      "-35.009704 (10.759750) with: {'batch_size': 16, 'epochs': 150, 'kernel_init': <keras.initializers.RandomNormal object at 0x7f5a6f532d10>, 'optimizer': <keras.optimizers.RMSprop object at 0x7f5a6f532fd0>}\n",
      "-26.781227 (9.024400) with: {'batch_size': 16, 'epochs': 150, 'kernel_init': <keras.initializers.RandomNormal object at 0x7f5a6f532d10>, 'optimizer': <keras.optimizers.Adam object at 0x7f5a6f532950>}\n",
      "-38.090953 (13.419438) with: {'batch_size': 16, 'epochs': 150, 'kernel_init': <keras.initializers.VarianceScaling object at 0x7f5a6f532790>, 'optimizer': <keras.optimizers.RMSprop object at 0x7f5a6f532fd0>}\n",
      "-43.206791 (27.396876) with: {'batch_size': 16, 'epochs': 150, 'kernel_init': <keras.initializers.VarianceScaling object at 0x7f5a6f532790>, 'optimizer': <keras.optimizers.Adam object at 0x7f5a6f532950>}\n",
      "-37.764243 (10.343518) with: {'batch_size': 16, 'epochs': 150, 'kernel_init': <keras.initializers.Orthogonal object at 0x7f5a6f532d90>, 'optimizer': <keras.optimizers.RMSprop object at 0x7f5a6f532fd0>}\n",
      "-43.973454 (14.020880) with: {'batch_size': 16, 'epochs': 150, 'kernel_init': <keras.initializers.Orthogonal object at 0x7f5a6f532d90>, 'optimizer': <keras.optimizers.Adam object at 0x7f5a6f532950>}\n",
      "-30.395068 (14.208892) with: {'batch_size': 16, 'epochs': 200, 'kernel_init': <keras.initializers.RandomNormal object at 0x7f5a6f532d10>, 'optimizer': <keras.optimizers.RMSprop object at 0x7f5a6f532fd0>}\n",
      "-29.499396 (10.947900) with: {'batch_size': 16, 'epochs': 200, 'kernel_init': <keras.initializers.RandomNormal object at 0x7f5a6f532d10>, 'optimizer': <keras.optimizers.Adam object at 0x7f5a6f532950>}\n",
      "-34.707648 (10.368779) with: {'batch_size': 16, 'epochs': 200, 'kernel_init': <keras.initializers.VarianceScaling object at 0x7f5a6f532790>, 'optimizer': <keras.optimizers.RMSprop object at 0x7f5a6f532fd0>}\n",
      "-36.068263 (9.501911) with: {'batch_size': 16, 'epochs': 200, 'kernel_init': <keras.initializers.VarianceScaling object at 0x7f5a6f532790>, 'optimizer': <keras.optimizers.Adam object at 0x7f5a6f532950>}\n",
      "-37.571841 (10.574973) with: {'batch_size': 16, 'epochs': 200, 'kernel_init': <keras.initializers.Orthogonal object at 0x7f5a6f532d90>, 'optimizer': <keras.optimizers.RMSprop object at 0x7f5a6f532fd0>}\n",
      "-38.829229 (12.240291) with: {'batch_size': 16, 'epochs': 200, 'kernel_init': <keras.initializers.Orthogonal object at 0x7f5a6f532d90>, 'optimizer': <keras.optimizers.Adam object at 0x7f5a6f532950>}\n",
      "-42.078511 (13.868223) with: {'batch_size': 32, 'epochs': 100, 'kernel_init': <keras.initializers.RandomNormal object at 0x7f5a6f532d10>, 'optimizer': <keras.optimizers.RMSprop object at 0x7f5a6f532fd0>}\n",
      "-42.575942 (21.050399) with: {'batch_size': 32, 'epochs': 100, 'kernel_init': <keras.initializers.RandomNormal object at 0x7f5a6f532d10>, 'optimizer': <keras.optimizers.Adam object at 0x7f5a6f532950>}\n",
      "-44.069832 (21.603339) with: {'batch_size': 32, 'epochs': 100, 'kernel_init': <keras.initializers.VarianceScaling object at 0x7f5a6f532790>, 'optimizer': <keras.optimizers.RMSprop object at 0x7f5a6f532fd0>}\n",
      "-83.022267 (50.066579) with: {'batch_size': 32, 'epochs': 100, 'kernel_init': <keras.initializers.VarianceScaling object at 0x7f5a6f532790>, 'optimizer': <keras.optimizers.Adam object at 0x7f5a6f532950>}\n",
      "-42.442715 (14.012666) with: {'batch_size': 32, 'epochs': 100, 'kernel_init': <keras.initializers.Orthogonal object at 0x7f5a6f532d90>, 'optimizer': <keras.optimizers.RMSprop object at 0x7f5a6f532fd0>}\n",
      "-72.889024 (21.139308) with: {'batch_size': 32, 'epochs': 100, 'kernel_init': <keras.initializers.Orthogonal object at 0x7f5a6f532d90>, 'optimizer': <keras.optimizers.Adam object at 0x7f5a6f532950>}\n",
      "-34.508828 (12.784328) with: {'batch_size': 32, 'epochs': 150, 'kernel_init': <keras.initializers.RandomNormal object at 0x7f5a6f532d10>, 'optimizer': <keras.optimizers.RMSprop object at 0x7f5a6f532fd0>}\n",
      "-33.689902 (15.173984) with: {'batch_size': 32, 'epochs': 150, 'kernel_init': <keras.initializers.RandomNormal object at 0x7f5a6f532d10>, 'optimizer': <keras.optimizers.Adam object at 0x7f5a6f532950>}\n",
      "-40.844717 (13.594215) with: {'batch_size': 32, 'epochs': 150, 'kernel_init': <keras.initializers.VarianceScaling object at 0x7f5a6f532790>, 'optimizer': <keras.optimizers.RMSprop object at 0x7f5a6f532fd0>}\n",
      "-42.672140 (14.415439) with: {'batch_size': 32, 'epochs': 150, 'kernel_init': <keras.initializers.VarianceScaling object at 0x7f5a6f532790>, 'optimizer': <keras.optimizers.Adam object at 0x7f5a6f532950>}\n",
      "-41.852238 (13.216278) with: {'batch_size': 32, 'epochs': 150, 'kernel_init': <keras.initializers.Orthogonal object at 0x7f5a6f532d90>, 'optimizer': <keras.optimizers.RMSprop object at 0x7f5a6f532fd0>}\n",
      "-54.473220 (19.365842) with: {'batch_size': 32, 'epochs': 150, 'kernel_init': <keras.initializers.Orthogonal object at 0x7f5a6f532d90>, 'optimizer': <keras.optimizers.Adam object at 0x7f5a6f532950>}\n",
      "-34.478490 (11.292922) with: {'batch_size': 32, 'epochs': 200, 'kernel_init': <keras.initializers.RandomNormal object at 0x7f5a6f532d10>, 'optimizer': <keras.optimizers.RMSprop object at 0x7f5a6f532fd0>}\n",
      "-29.511326 (12.699691) with: {'batch_size': 32, 'epochs': 200, 'kernel_init': <keras.initializers.RandomNormal object at 0x7f5a6f532d10>, 'optimizer': <keras.optimizers.Adam object at 0x7f5a6f532950>}\n",
      "-35.707992 (9.919189) with: {'batch_size': 32, 'epochs': 200, 'kernel_init': <keras.initializers.VarianceScaling object at 0x7f5a6f532790>, 'optimizer': <keras.optimizers.RMSprop object at 0x7f5a6f532fd0>}\n",
      "-50.598480 (14.047876) with: {'batch_size': 32, 'epochs': 200, 'kernel_init': <keras.initializers.VarianceScaling object at 0x7f5a6f532790>, 'optimizer': <keras.optimizers.Adam object at 0x7f5a6f532950>}\n",
      "-38.321870 (14.808288) with: {'batch_size': 32, 'epochs': 200, 'kernel_init': <keras.initializers.Orthogonal object at 0x7f5a6f532d90>, 'optimizer': <keras.optimizers.RMSprop object at 0x7f5a6f532fd0>}\n",
      "-47.741375 (17.328317) with: {'batch_size': 32, 'epochs': 200, 'kernel_init': <keras.initializers.Orthogonal object at 0x7f5a6f532d90>, 'optimizer': <keras.optimizers.Adam object at 0x7f5a6f532950>}\n",
      "Total time for performing grid-search of the best parameters: 0:07:10.324184\n"
     ]
    }
   ],
   "source": [
    "startTimeModule = datetime.now()\n",
    "\n",
    "# Create model for grid search\n",
    "grid_model = KerasRegressor(build_fn=create_customized_model, verbose=0)\n",
    "\n",
    "# Perform grid search using different epochs, batch sizes, and optimizers\n",
    "optz_1 = K.optimizers.RMSprop()\n",
    "optz_2 = K.optimizers.Adam()\n",
    "optimizer_grid = [optz_1, optz_2]\n",
    "init_1 = K.initializers.RandomNormal(seed=seedNum)\n",
    "init_2 = K.initializers.glorot_normal(seed=seedNum)\n",
    "init_3 = K.initializers.Orthogonal(seed=seedNum)\n",
    "init_grid = [init_1, init_2, init_3]\n",
    "epoch_grid = [100, 150, 200]\n",
    "batch_grid = [8, 16, 32]\n",
    "param_grid = dict(optimizer=optimizer_grid, kernel_init=init_grid, epochs=epoch_grid, batch_size=batch_grid)\n",
    "grid = GridSearchCV(estimator=grid_model, param_grid=param_grid, cv=n_folds, n_jobs=n_jobs, verbose=3)\n",
    "# n_iter = (n_folds * len(optimizer_grid) * len(init_grid) * len(epoch_grid) * len(batch_grid)) * 0.30\n",
    "# grid = RandomizedSearchCV(estimator=grid_model, param_grid=param_grid, n_iter=n_iter, cv=n_folds, n_jobs=n_jobs, verbose=3)\n",
    "grid_result = grid.fit(X_train, y_train)\n",
    "\n",
    "# summarize results\n",
    "print(\"Best: %f using %s\" % (grid_result.best_score_, grid_result.best_params_))\n",
    "means = grid_result.cv_results_['mean_test_score']\n",
    "stds = grid_result.cv_results_['std_test_score']\n",
    "params = grid_result.cv_results_['params']\n",
    "for mean, stdev, param in zip(means, stds, params):\n",
    "\tprint(\"%f (%f) with: %r\" % (mean, stdev, param))\n",
    "\n",
    "print('Total time for performing grid-search of the best parameters:', (datetime.now() - startTimeModule))"
   ]
  },
  {
   "cell_type": "code",
   "execution_count": 52,
   "metadata": {},
   "outputs": [],
   "source": [
    "best_optimizer = grid_result.best_params_[\"optimizer\"]\n",
    "best_kernel_init = grid_result.best_params_[\"kernel_init\"]\n",
    "best_epoch = grid_result.best_params_[\"epochs\"]\n",
    "best_batch = grid_result.best_params_[\"batch_size\"]"
   ]
  },
  {
   "cell_type": "code",
   "execution_count": 53,
   "metadata": {},
   "outputs": [
    {
     "name": "stdout",
     "output_type": "stream",
     "text": [
      "Forming the final model using: optimizer=<keras.optimizers.Adam object at 0x7f5a6f532950>, kernel=<keras.initializers.RandomNormal object at 0x7f5a6f532d10>, epochs=200, batch_size=8\n",
      "Epoch 1/200\n",
      "Executing op __inference_keras_scratch_graph_407816 in device /job:localhost/replica:0/task:0/device:CPU:0\n",
      "379/379 [==============================] - 0s 1ms/step - loss: 104.7505\n",
      "Epoch 2/200\n",
      "379/379 [==============================] - 0s 465us/step - loss: 67.9343\n",
      "Epoch 3/200\n",
      "379/379 [==============================] - 0s 436us/step - loss: 64.4657\n",
      "Epoch 4/200\n",
      "379/379 [==============================] - 0s 441us/step - loss: 60.2644\n",
      "Epoch 5/200\n",
      "379/379 [==============================] - 0s 442us/step - loss: 59.0753\n",
      "Epoch 6/200\n",
      "379/379 [==============================] - 0s 427us/step - loss: 57.1229\n",
      "Epoch 7/200\n",
      "379/379 [==============================] - 0s 446us/step - loss: 54.3751\n",
      "Epoch 8/200\n",
      "379/379 [==============================] - 0s 452us/step - loss: 53.4244\n",
      "Epoch 9/200\n",
      "379/379 [==============================] - 0s 435us/step - loss: 51.1766\n",
      "Epoch 10/200\n",
      "379/379 [==============================] - 0s 450us/step - loss: 49.4632\n",
      "Epoch 11/200\n",
      "379/379 [==============================] - 0s 445us/step - loss: 47.7697\n",
      "Epoch 12/200\n",
      "379/379 [==============================] - 0s 442us/step - loss: 44.6293\n",
      "Epoch 13/200\n",
      "379/379 [==============================] - 0s 449us/step - loss: 44.8651\n",
      "Epoch 14/200\n",
      "379/379 [==============================] - 0s 420us/step - loss: 43.8630\n",
      "Epoch 15/200\n",
      "379/379 [==============================] - 0s 489us/step - loss: 43.1891\n",
      "Epoch 16/200\n",
      "379/379 [==============================] - 0s 453us/step - loss: 39.5047\n",
      "Epoch 17/200\n",
      "379/379 [==============================] - 0s 447us/step - loss: 39.8196\n",
      "Epoch 18/200\n",
      "379/379 [==============================] - 0s 457us/step - loss: 38.2672\n",
      "Epoch 19/200\n",
      "379/379 [==============================] - 0s 456us/step - loss: 36.8701\n",
      "Epoch 20/200\n",
      "379/379 [==============================] - 0s 441us/step - loss: 36.2857\n",
      "Epoch 21/200\n",
      "379/379 [==============================] - 0s 452us/step - loss: 37.3114\n",
      "Epoch 22/200\n",
      "379/379 [==============================] - 0s 446us/step - loss: 40.9778\n",
      "Epoch 23/200\n",
      "379/379 [==============================] - 0s 440us/step - loss: 35.0262\n",
      "Epoch 24/200\n",
      "379/379 [==============================] - 0s 450us/step - loss: 33.8919\n",
      "Epoch 25/200\n",
      "379/379 [==============================] - 0s 445us/step - loss: 34.5867\n",
      "Epoch 26/200\n",
      "379/379 [==============================] - 0s 446us/step - loss: 34.4846\n",
      "Epoch 27/200\n",
      "379/379 [==============================] - 0s 451us/step - loss: 32.2411\n",
      "Epoch 28/200\n",
      "379/379 [==============================] - 0s 450us/step - loss: 32.1413\n",
      "Epoch 29/200\n",
      "379/379 [==============================] - 0s 445us/step - loss: 32.3550\n",
      "Epoch 30/200\n",
      "379/379 [==============================] - 0s 446us/step - loss: 30.5571\n",
      "Epoch 31/200\n",
      "379/379 [==============================] - 0s 442us/step - loss: 30.4581\n",
      "Epoch 32/200\n",
      "379/379 [==============================] - 0s 441us/step - loss: 30.2626\n",
      "Epoch 33/200\n",
      "379/379 [==============================] - 0s 440us/step - loss: 30.4907\n",
      "Epoch 34/200\n",
      "379/379 [==============================] - 0s 447us/step - loss: 29.4977\n",
      "Epoch 35/200\n",
      "379/379 [==============================] - 0s 444us/step - loss: 28.6339\n",
      "Epoch 36/200\n",
      "379/379 [==============================] - 0s 453us/step - loss: 29.2375\n",
      "Epoch 37/200\n",
      "379/379 [==============================] - 0s 445us/step - loss: 27.9949\n",
      "Epoch 38/200\n",
      "379/379 [==============================] - 0s 456us/step - loss: 28.8514\n",
      "Epoch 39/200\n",
      "379/379 [==============================] - 0s 430us/step - loss: 29.1735\n",
      "Epoch 40/200\n",
      "379/379 [==============================] - 0s 457us/step - loss: 28.3905\n",
      "Epoch 41/200\n",
      "379/379 [==============================] - 0s 470us/step - loss: 28.0879\n",
      "Epoch 42/200\n",
      "379/379 [==============================] - 0s 450us/step - loss: 27.0884\n",
      "Epoch 43/200\n",
      "379/379 [==============================] - 0s 437us/step - loss: 25.9704\n",
      "Epoch 44/200\n",
      "379/379 [==============================] - 0s 454us/step - loss: 26.7228\n",
      "Epoch 45/200\n",
      "379/379 [==============================] - 0s 462us/step - loss: 25.9290\n",
      "Epoch 46/200\n",
      "379/379 [==============================] - 0s 479us/step - loss: 25.9310\n",
      "Epoch 47/200\n",
      "379/379 [==============================] - 0s 458us/step - loss: 25.8362\n",
      "Epoch 48/200\n",
      "379/379 [==============================] - 0s 469us/step - loss: 25.3354\n",
      "Epoch 49/200\n",
      "379/379 [==============================] - 0s 521us/step - loss: 25.8084\n",
      "Epoch 50/200\n",
      "379/379 [==============================] - 0s 458us/step - loss: 24.7612\n",
      "Epoch 51/200\n",
      "379/379 [==============================] - 0s 458us/step - loss: 24.3983\n",
      "Epoch 52/200\n",
      "379/379 [==============================] - 0s 438us/step - loss: 23.3567\n",
      "Epoch 53/200\n",
      "379/379 [==============================] - 0s 480us/step - loss: 24.3899\n",
      "Epoch 54/200\n",
      "379/379 [==============================] - 0s 458us/step - loss: 23.8424\n",
      "Epoch 55/200\n",
      "379/379 [==============================] - 0s 462us/step - loss: 23.6646\n",
      "Epoch 56/200\n",
      "379/379 [==============================] - 0s 441us/step - loss: 23.5396\n",
      "Epoch 57/200\n",
      "379/379 [==============================] - 0s 443us/step - loss: 25.0880\n",
      "Epoch 58/200\n",
      "379/379 [==============================] - 0s 451us/step - loss: 22.3725\n",
      "Epoch 59/200\n",
      "379/379 [==============================] - 0s 450us/step - loss: 21.6947\n",
      "Epoch 60/200\n",
      "379/379 [==============================] - 0s 444us/step - loss: 24.8188\n",
      "Epoch 61/200\n",
      "379/379 [==============================] - 0s 439us/step - loss: 21.9689\n",
      "Epoch 62/200\n",
      "379/379 [==============================] - 0s 445us/step - loss: 21.5650\n",
      "Epoch 63/200\n",
      "379/379 [==============================] - 0s 449us/step - loss: 22.6571\n",
      "Epoch 64/200\n",
      "379/379 [==============================] - 0s 444us/step - loss: 21.6112\n",
      "Epoch 65/200\n",
      "379/379 [==============================] - 0s 444us/step - loss: 22.2403\n",
      "Epoch 66/200\n",
      "379/379 [==============================] - 0s 441us/step - loss: 21.6390\n",
      "Epoch 67/200\n",
      "379/379 [==============================] - 0s 455us/step - loss: 22.4177\n",
      "Epoch 68/200\n",
      "379/379 [==============================] - 0s 457us/step - loss: 21.4492\n",
      "Epoch 69/200\n",
      "379/379 [==============================] - 0s 449us/step - loss: 22.1744\n",
      "Epoch 70/200\n",
      "379/379 [==============================] - 0s 447us/step - loss: 21.1822\n",
      "Epoch 71/200\n",
      "379/379 [==============================] - 0s 447us/step - loss: 20.5013\n",
      "Epoch 72/200\n",
      "379/379 [==============================] - 0s 447us/step - loss: 21.4177\n",
      "Epoch 73/200\n",
      "379/379 [==============================] - 0s 446us/step - loss: 20.8181\n",
      "Epoch 74/200\n",
      "379/379 [==============================] - 0s 445us/step - loss: 21.0831\n",
      "Epoch 75/200\n",
      "379/379 [==============================] - 0s 461us/step - loss: 22.1100\n",
      "Epoch 76/200\n",
      "379/379 [==============================] - 0s 461us/step - loss: 21.2105\n",
      "Epoch 77/200\n",
      "379/379 [==============================] - 0s 450us/step - loss: 20.2863\n",
      "Epoch 78/200\n",
      "379/379 [==============================] - 0s 459us/step - loss: 21.2830\n",
      "Epoch 79/200\n",
      "379/379 [==============================] - 0s 447us/step - loss: 20.0927\n",
      "Epoch 80/200\n",
      "379/379 [==============================] - 0s 441us/step - loss: 20.9681\n",
      "Epoch 81/200\n",
      "379/379 [==============================] - 0s 427us/step - loss: 20.7410\n",
      "Epoch 82/200\n",
      "379/379 [==============================] - 0s 458us/step - loss: 20.5525\n",
      "Epoch 83/200\n",
      "379/379 [==============================] - 0s 449us/step - loss: 21.7366\n",
      "Epoch 84/200\n",
      "379/379 [==============================] - 0s 431us/step - loss: 22.9775\n",
      "Epoch 85/200\n",
      "379/379 [==============================] - 0s 453us/step - loss: 21.0623\n",
      "Epoch 86/200\n",
      "379/379 [==============================] - 0s 430us/step - loss: 19.6314\n",
      "Epoch 87/200\n",
      "379/379 [==============================] - 0s 446us/step - loss: 20.4840\n",
      "Epoch 88/200\n",
      "379/379 [==============================] - 0s 444us/step - loss: 20.2074\n",
      "Epoch 89/200\n",
      "379/379 [==============================] - 0s 448us/step - loss: 19.8522\n",
      "Epoch 90/200\n",
      "379/379 [==============================] - 0s 453us/step - loss: 21.5597\n",
      "Epoch 91/200\n",
      "379/379 [==============================] - 0s 453us/step - loss: 20.3732\n",
      "Epoch 92/200\n",
      "379/379 [==============================] - 0s 454us/step - loss: 20.3504\n",
      "Epoch 93/200\n",
      "379/379 [==============================] - 0s 435us/step - loss: 21.3679\n",
      "Epoch 94/200\n",
      "379/379 [==============================] - 0s 456us/step - loss: 21.0032\n",
      "Epoch 95/200\n",
      "379/379 [==============================] - 0s 480us/step - loss: 19.8976\n",
      "Epoch 96/200\n",
      "379/379 [==============================] - 0s 440us/step - loss: 18.3921\n",
      "Epoch 97/200\n",
      "379/379 [==============================] - 0s 443us/step - loss: 19.3309\n",
      "Epoch 98/200\n",
      "379/379 [==============================] - 0s 456us/step - loss: 20.5256\n",
      "Epoch 99/200\n",
      "379/379 [==============================] - 0s 447us/step - loss: 18.8071\n",
      "Epoch 100/200\n",
      "379/379 [==============================] - 0s 444us/step - loss: 19.6594\n",
      "Epoch 101/200\n",
      "379/379 [==============================] - 0s 449us/step - loss: 18.8610\n",
      "Epoch 102/200\n",
      "379/379 [==============================] - 0s 448us/step - loss: 18.9219\n",
      "Epoch 103/200\n",
      "379/379 [==============================] - 0s 469us/step - loss: 19.5633\n",
      "Epoch 104/200\n",
      "379/379 [==============================] - 0s 454us/step - loss: 19.1025\n",
      "Epoch 105/200\n",
      "379/379 [==============================] - 0s 450us/step - loss: 18.8141\n",
      "Epoch 106/200\n",
      "379/379 [==============================] - 0s 432us/step - loss: 19.4803\n",
      "Epoch 107/200\n",
      "379/379 [==============================] - 0s 446us/step - loss: 19.5202\n",
      "Epoch 108/200\n",
      "379/379 [==============================] - 0s 449us/step - loss: 19.0375\n",
      "Epoch 109/200\n",
      "379/379 [==============================] - 0s 467us/step - loss: 19.7495\n",
      "Epoch 110/200\n",
      "379/379 [==============================] - 0s 455us/step - loss: 19.8071\n",
      "Epoch 111/200\n",
      "379/379 [==============================] - 0s 449us/step - loss: 19.0569\n",
      "Epoch 112/200\n",
      "379/379 [==============================] - 0s 438us/step - loss: 17.6414\n",
      "Epoch 113/200\n",
      "379/379 [==============================] - 0s 450us/step - loss: 19.0036\n",
      "Epoch 114/200\n",
      "379/379 [==============================] - 0s 439us/step - loss: 18.0524\n",
      "Epoch 115/200\n",
      "379/379 [==============================] - 0s 472us/step - loss: 18.3160\n",
      "Epoch 116/200\n",
      "379/379 [==============================] - 0s 440us/step - loss: 20.0166\n",
      "Epoch 117/200\n",
      "379/379 [==============================] - 0s 467us/step - loss: 18.2951\n",
      "Epoch 118/200\n",
      "379/379 [==============================] - 0s 446us/step - loss: 19.2358\n",
      "Epoch 119/200\n",
      "379/379 [==============================] - 0s 449us/step - loss: 19.0158\n",
      "Epoch 120/200\n",
      "379/379 [==============================] - 0s 453us/step - loss: 18.8798\n",
      "Epoch 121/200\n",
      "379/379 [==============================] - 0s 446us/step - loss: 18.8028\n",
      "Epoch 122/200\n",
      "379/379 [==============================] - 0s 445us/step - loss: 18.1904\n",
      "Epoch 123/200\n",
      "379/379 [==============================] - 0s 443us/step - loss: 18.1932\n",
      "Epoch 124/200\n",
      "379/379 [==============================] - 0s 447us/step - loss: 18.4327\n",
      "Epoch 125/200\n",
      "379/379 [==============================] - 0s 411us/step - loss: 19.2931\n",
      "Epoch 126/200\n",
      "379/379 [==============================] - 0s 431us/step - loss: 17.9260\n",
      "Epoch 127/200\n",
      "379/379 [==============================] - 0s 449us/step - loss: 19.1613\n",
      "Epoch 128/200\n",
      "379/379 [==============================] - 0s 450us/step - loss: 17.7549\n",
      "Epoch 129/200\n",
      "379/379 [==============================] - 0s 456us/step - loss: 18.2922\n",
      "Epoch 130/200\n",
      "379/379 [==============================] - 0s 442us/step - loss: 17.6549\n",
      "Epoch 131/200\n",
      "379/379 [==============================] - 0s 454us/step - loss: 18.5459\n",
      "Epoch 132/200\n",
      "379/379 [==============================] - 0s 453us/step - loss: 18.0185\n",
      "Epoch 133/200\n",
      "379/379 [==============================] - 0s 447us/step - loss: 18.8630\n",
      "Epoch 134/200\n",
      "379/379 [==============================] - 0s 443us/step - loss: 17.9981\n",
      "Epoch 135/200\n",
      "379/379 [==============================] - 0s 443us/step - loss: 18.1050\n",
      "Epoch 136/200\n",
      "379/379 [==============================] - 0s 448us/step - loss: 18.6973\n",
      "Epoch 137/200\n",
      "379/379 [==============================] - 0s 446us/step - loss: 17.3083\n",
      "Epoch 138/200\n",
      "379/379 [==============================] - 0s 447us/step - loss: 17.3300\n",
      "Epoch 139/200\n",
      "379/379 [==============================] - 0s 447us/step - loss: 17.8659\n",
      "Epoch 140/200\n",
      "379/379 [==============================] - 0s 447us/step - loss: 18.2897\n",
      "Epoch 141/200\n",
      "379/379 [==============================] - 0s 446us/step - loss: 17.8507\n",
      "Epoch 142/200\n",
      "379/379 [==============================] - 0s 446us/step - loss: 18.5963\n",
      "Epoch 143/200\n",
      "379/379 [==============================] - 0s 445us/step - loss: 18.1698\n",
      "Epoch 144/200\n",
      "379/379 [==============================] - 0s 444us/step - loss: 18.4171\n",
      "Epoch 145/200\n",
      "379/379 [==============================] - 0s 445us/step - loss: 17.7383\n",
      "Epoch 146/200\n",
      "379/379 [==============================] - 0s 441us/step - loss: 18.0032\n",
      "Epoch 147/200\n",
      "379/379 [==============================] - 0s 449us/step - loss: 18.5199\n",
      "Epoch 148/200\n",
      "379/379 [==============================] - 0s 441us/step - loss: 18.2837\n",
      "Epoch 149/200\n",
      "379/379 [==============================] - 0s 444us/step - loss: 18.2907\n",
      "Epoch 150/200\n",
      "379/379 [==============================] - 0s 444us/step - loss: 18.0472\n",
      "Epoch 151/200\n",
      "379/379 [==============================] - 0s 467us/step - loss: 17.3176\n",
      "Epoch 152/200\n",
      "379/379 [==============================] - 0s 464us/step - loss: 17.6253\n",
      "Epoch 153/200\n",
      "379/379 [==============================] - 0s 474us/step - loss: 16.5899\n",
      "Epoch 154/200\n",
      "379/379 [==============================] - 0s 452us/step - loss: 17.8376\n",
      "Epoch 155/200\n",
      "379/379 [==============================] - 0s 445us/step - loss: 17.2744\n",
      "Epoch 156/200\n",
      "379/379 [==============================] - 0s 454us/step - loss: 17.2264\n",
      "Epoch 157/200\n",
      "379/379 [==============================] - 0s 439us/step - loss: 17.3576\n",
      "Epoch 158/200\n",
      "379/379 [==============================] - 0s 458us/step - loss: 21.4016\n",
      "Epoch 159/200\n",
      "379/379 [==============================] - 0s 440us/step - loss: 16.9913\n",
      "Epoch 160/200\n",
      "379/379 [==============================] - 0s 451us/step - loss: 18.0803\n",
      "Epoch 161/200\n",
      "379/379 [==============================] - 0s 440us/step - loss: 18.4827\n",
      "Epoch 162/200\n",
      "379/379 [==============================] - 0s 449us/step - loss: 17.2206\n",
      "Epoch 163/200\n",
      "379/379 [==============================] - 0s 454us/step - loss: 18.0472\n",
      "Epoch 164/200\n",
      "379/379 [==============================] - 0s 451us/step - loss: 17.6158\n",
      "Epoch 165/200\n",
      "379/379 [==============================] - 0s 460us/step - loss: 17.8545\n",
      "Epoch 166/200\n",
      "379/379 [==============================] - 0s 439us/step - loss: 16.8177\n",
      "Epoch 167/200\n",
      "379/379 [==============================] - 0s 450us/step - loss: 17.1221\n",
      "Epoch 168/200\n",
      "379/379 [==============================] - 0s 452us/step - loss: 18.1318\n",
      "Epoch 169/200\n",
      "379/379 [==============================] - 0s 448us/step - loss: 16.7306\n",
      "Epoch 170/200\n",
      "379/379 [==============================] - 0s 431us/step - loss: 18.0015\n",
      "Epoch 171/200\n",
      "379/379 [==============================] - 0s 438us/step - loss: 17.4672\n",
      "Epoch 172/200\n",
      "379/379 [==============================] - 0s 447us/step - loss: 18.4627\n",
      "Epoch 173/200\n",
      "379/379 [==============================] - 0s 463us/step - loss: 18.6065\n",
      "Epoch 174/200\n",
      "379/379 [==============================] - 0s 447us/step - loss: 17.2352\n",
      "Epoch 175/200\n",
      "379/379 [==============================] - 0s 469us/step - loss: 16.4374\n",
      "Epoch 176/200\n",
      "379/379 [==============================] - 0s 454us/step - loss: 18.3615\n",
      "Epoch 177/200\n",
      "379/379 [==============================] - 0s 439us/step - loss: 18.6537\n",
      "Epoch 178/200\n",
      "379/379 [==============================] - 0s 447us/step - loss: 18.0490\n",
      "Epoch 179/200\n",
      "379/379 [==============================] - 0s 445us/step - loss: 16.6069\n",
      "Epoch 180/200\n",
      "379/379 [==============================] - 0s 448us/step - loss: 16.5307\n",
      "Epoch 181/200\n",
      "379/379 [==============================] - 0s 450us/step - loss: 17.5141\n",
      "Epoch 182/200\n",
      "379/379 [==============================] - 0s 454us/step - loss: 17.0845\n",
      "Epoch 183/200\n",
      "379/379 [==============================] - 0s 444us/step - loss: 17.1570\n",
      "Epoch 184/200\n",
      "379/379 [==============================] - 0s 447us/step - loss: 16.4988\n",
      "Epoch 185/200\n",
      "379/379 [==============================] - 0s 447us/step - loss: 17.4978\n",
      "Epoch 186/200\n",
      "379/379 [==============================] - 0s 444us/step - loss: 17.9391\n",
      "Epoch 187/200\n",
      "379/379 [==============================] - 0s 446us/step - loss: 17.6700\n",
      "Epoch 188/200\n",
      "379/379 [==============================] - 0s 440us/step - loss: 17.4595\n",
      "Epoch 189/200\n",
      "379/379 [==============================] - 0s 467us/step - loss: 17.1637\n",
      "Epoch 190/200\n",
      "379/379 [==============================] - 0s 433us/step - loss: 16.9447\n",
      "Epoch 191/200\n",
      "379/379 [==============================] - 0s 439us/step - loss: 18.4677\n",
      "Epoch 192/200\n",
      "379/379 [==============================] - 0s 442us/step - loss: 16.4201\n",
      "Epoch 193/200\n",
      "379/379 [==============================] - 0s 447us/step - loss: 16.8227\n",
      "Epoch 194/200\n",
      "379/379 [==============================] - 0s 452us/step - loss: 16.6193\n",
      "Epoch 195/200\n",
      "379/379 [==============================] - 0s 440us/step - loss: 16.7707\n",
      "Epoch 196/200\n",
      "379/379 [==============================] - 0s 445us/step - loss: 17.4639\n",
      "Epoch 197/200\n",
      "379/379 [==============================] - 0s 410us/step - loss: 16.3956\n",
      "Epoch 198/200\n",
      "379/379 [==============================] - 0s 445us/step - loss: 16.3247\n",
      "Epoch 199/200\n",
      "379/379 [==============================] - 0s 445us/step - loss: 17.8301\n",
      "Epoch 200/200\n",
      "379/379 [==============================] - 0s 445us/step - loss: 16.7841\n"
     ]
    },
    {
     "data": {
      "text/plain": [
       "<keras.callbacks.callbacks.History at 0x7f5a6f640310>"
      ]
     },
     "execution_count": 53,
     "metadata": {},
     "output_type": "execute_result"
    }
   ],
   "source": [
    "# Create the final model for evaluating the test dataset\n",
    "print('Forming the final model using: optimizer=%s, kernel=%s, epochs=%d, batch_size=%d'\n",
    "      % (best_optimizer, best_kernel_init, best_epoch, best_batch))\n",
    "final_model = create_customized_model(best_optimizer, best_kernel_init)\n",
    "final_model.fit(X_train, y_train, epochs=best_epochs, batch_size=best_batches, verbose=1)"
   ]
  },
  {
   "cell_type": "code",
   "execution_count": 54,
   "metadata": {},
   "outputs": [
    {
     "name": "stdout",
     "output_type": "stream",
     "text": [
      "Model: \"sequential_14\"\n",
      "_________________________________________________________________\n",
      "Layer (type)                 Output Shape              Param #   \n",
      "=================================================================\n",
      "dense_27 (Dense)             (None, 13)                182       \n",
      "_________________________________________________________________\n",
      "dense_28 (Dense)             (None, 1)                 14        \n",
      "=================================================================\n",
      "Total params: 196\n",
      "Trainable params: 196\n",
      "Non-trainable params: 0\n",
      "_________________________________________________________________\n",
      "None\n"
     ]
    }
   ],
   "source": [
    "# Display a summary of the final model\n",
    "print(final_model.summary())"
   ]
  },
  {
   "cell_type": "code",
   "execution_count": 55,
   "metadata": {},
   "outputs": [
    {
     "name": "stdout",
     "output_type": "stream",
     "text": [
      "Executing op __inference_keras_scratch_graph_468649 in device /job:localhost/replica:0/task:0/device:CPU:0\n",
      "127/127 [==============================] - 0s 284us/step\n",
      "Final MSE of the model: 12.78\n"
     ]
    }
   ],
   "source": [
    "# Evaluate the Keras model on previously unseen data\n",
    "scores = final_model.evaluate(X_test, y_test)\n",
    "print(\"Final MSE of the model: %.2f\" % (scores))"
   ]
  },
  {
   "cell_type": "code",
   "execution_count": 56,
   "metadata": {},
   "outputs": [],
   "source": [
    "if (notifyStatus): email_notify(\"Phase 4 Optimize Model completed! \"+datetime.now().strftime('%a %B %d, %Y %I:%M:%S %p'))"
   ]
  },
  {
   "cell_type": "markdown",
   "metadata": {},
   "source": [
    "# Section 5. Finalize Model"
   ]
  },
  {
   "cell_type": "code",
   "execution_count": 57,
   "metadata": {},
   "outputs": [],
   "source": [
    "if (notifyStatus): email_notify(\"Phase 5 Finalize Model has begun! \"+datetime.now().strftime('%a %B %d, %Y %I:%M:%S %p'))"
   ]
  },
  {
   "cell_type": "code",
   "execution_count": 58,
   "metadata": {},
   "outputs": [
    {
     "name": "stdout",
     "output_type": "stream",
     "text": [
      "Executing op __inference_keras_scratch_graph_468682 in device /job:localhost/replica:0/task:0/device:CPU:0\n",
      "Data item #0 predicted to be 20.63 (expected 22.40)\n",
      "Data item #1 predicted to be 37.62 (expected 32.40)\n",
      "Data item #2 predicted to be 20.12 (expected 21.70)\n",
      "Data item #3 predicted to be 19.91 (expected 24.50)\n",
      "Data item #4 predicted to be 20.99 (expected 16.80)\n",
      "Data item #5 predicted to be 22.65 (expected 21.10)\n",
      "Data item #6 predicted to be 31.88 (expected 29.40)\n",
      "Data item #7 predicted to be 21.84 (expected 28.70)\n",
      "Data item #8 predicted to be 20.23 (expected 21.50)\n",
      "Data item #9 predicted to be 15.63 (expected 13.60)\n",
      "Data item #10 predicted to be 20.48 (expected 21.40)\n",
      "Data item #11 predicted to be 23.20 (expected 24.80)\n",
      "Data item #12 predicted to be 18.90 (expected 16.80)\n",
      "Data item #13 predicted to be 19.99 (expected 19.40)\n",
      "Data item #14 predicted to be 19.66 (expected 21.70)\n",
      "Data item #15 predicted to be 12.48 (expected 17.20)\n",
      "Data item #16 predicted to be 14.24 (expected 17.10)\n",
      "Data item #17 predicted to be 22.01 (expected 18.70)\n",
      "Data item #18 predicted to be 22.24 (expected 22.30)\n",
      "Data item #19 predicted to be 28.10 (expected 25.00)\n"
     ]
    }
   ],
   "source": [
    "# Make class predictions with the model\n",
    "predictions = final_model.predict(X_test)\n",
    "\n",
    "# Summarize the first 20 cases\n",
    "for i in range(20):\n",
    "\tprint('Data item #%d predicted to be %.2f (expected %.2f)' % (i, predictions[i], y_test[i]))"
   ]
  },
  {
   "cell_type": "code",
   "execution_count": 59,
   "metadata": {},
   "outputs": [],
   "source": [
    "if (notifyStatus): email_notify(\"Phase 5 Finalize Model completed! \"+datetime.now().strftime('%a %B %d, %Y %I:%M:%S %p'))"
   ]
  },
  {
   "cell_type": "code",
   "execution_count": 60,
   "metadata": {},
   "outputs": [
    {
     "name": "stdout",
     "output_type": "stream",
     "text": [
      "Total time for the script: 0:08:51.590135\n"
     ]
    }
   ],
   "source": [
    "print ('Total time for the script:',(datetime.now() - startTimeScript))"
   ]
  }
 ],
 "metadata": {
  "kernelspec": {
   "display_name": "Python 3",
   "language": "python",
   "name": "python3"
  },
  "language_info": {
   "codemirror_mode": {
    "name": "ipython",
    "version": 3
   },
   "file_extension": ".py",
   "mimetype": "text/x-python",
   "name": "python",
   "nbconvert_exporter": "python",
   "pygments_lexer": "ipython3",
   "version": "3.7.5"
  }
 },
 "nbformat": 4,
 "nbformat_minor": 4
}
