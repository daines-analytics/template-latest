{
 "cells": [
  {
   "cell_type": "markdown",
   "metadata": {},
   "source": [
    "# Regression Deep Learning Model for [Project Name] Using Keras Version 1\n",
    "### David Lowe\n",
    "### October 25, 2019\n",
    "Template Credit: Adapted from a template made available by Dr. Jason Brownlee of Machine Learning Mastery. [https://machinelearningmastery.com/]\n",
    "\n",
    "SUMMARY: [Sample Paragraph - The purpose of this project is to construct a predictive model using various machine learning algorithms and to document the end-to-end steps using a template. The Boston Housing Dataset is a regression situation where we are trying to predict the value of a continuous variable.]\n",
    "\n",
    "INTRODUCTION: [Sample Paragraph - The purpose of the analysis is to predict the housing values in the suburbs of Boston by using the home sale transaction history.]\n",
    "\n",
    "ANALYSIS: [Sample Paragraph - The baseline performance of the model achieved an average MSE score of 16.91. Using the same training parameters, the model processed the test dataset with an RMSE of 15.93, which was even better than results from the training data.]\n",
    "\n",
    "CONCLUSION: [Sample Paragraph - For this dataset, the model built using Keras and TensorFlow achieved a satisfactory result and should be considered for future modeling activities.]\n",
    "\n",
    "Dataset Used: [Boston Housing Price Data Set]\n",
    "\n",
    "Dataset ML Model: Regression with numerical attributes\n",
    "\n",
    "Dataset Reference: [https://raw.githubusercontent.com/jbrownlee/Datasets/master/housing.data]\n",
    "\n",
    "One potential source of performance benchmarks: [https://machinelearningmastery.com/regression-tutorial-keras-deep-learning-library-python/]\n",
    "\n",
    "Any deep-learning modeling project genrally can be broken down into about seven major tasks:\n",
    "0. Prepare Environment\n",
    "1. Load Data\n",
    "2. Define Model\n",
    "3. Fit and Evaluate Model\n",
    "4. Optimize Model\n",
    "5. Finalize Model"
   ]
  },
  {
   "cell_type": "markdown",
   "metadata": {},
   "source": [
    "# Section 0. Prepare Environment"
   ]
  },
  {
   "cell_type": "code",
   "execution_count": 1,
   "metadata": {},
   "outputs": [],
   "source": [
    "# Create the random seed numbers for reproducible results\n",
    "seedNum = 88"
   ]
  },
  {
   "cell_type": "code",
   "execution_count": 2,
   "metadata": {},
   "outputs": [],
   "source": [
    "# Load libraries and packages\n",
    "import random\n",
    "random.seed(seedNum)\n",
    "import numpy as np\n",
    "np.random.seed(seedNum)\n",
    "import pandas as pd\n",
    "import os\n",
    "import smtplib\n",
    "from datetime import datetime\n",
    "from email.message import EmailMessage\n",
    "from sklearn.model_selection import train_test_split\n",
    "from sklearn.model_selection import KFold\n",
    "from sklearn.model_selection import StratifiedKFold\n",
    "from sklearn.model_selection import cross_val_score\n",
    "from sklearn.model_selection import GridSearchCV\n",
    "from sklearn.preprocessing import StandardScaler\n",
    "from sklearn.pipeline import Pipeline"
   ]
  },
  {
   "cell_type": "code",
   "execution_count": 3,
   "metadata": {},
   "outputs": [
    {
     "name": "stderr",
     "output_type": "stream",
     "text": [
      "Using TensorFlow backend.\n"
     ]
    }
   ],
   "source": [
    "# Configure a new global `tensorflow` session\n",
    "import keras as K\n",
    "from keras.layers import Dense\n",
    "from keras.wrappers.scikit_learn import KerasRegressor\n",
    "import tensorflow as tf\n",
    "tf.set_random_seed(seedNum)\n",
    "session_conf = tf.ConfigProto(intra_op_parallelism_threads=1, inter_op_parallelism_threads=1)\n",
    "sess = tf.Session(graph=tf.get_default_graph(), config=session_conf)\n",
    "K.backend.set_session(sess)"
   ]
  },
  {
   "cell_type": "code",
   "execution_count": 4,
   "metadata": {
    "colab": {},
    "colab_type": "code",
    "id": "YbIqw1TBR0P2"
   },
   "outputs": [],
   "source": [
    "# Begin the timer for the script processing\n",
    "startTimeScript = datetime.now()\n",
    "\n",
    "# Set up the flag to stop sending progress emails (setting to True will send status emails!)\n",
    "notifyStatus = False\n",
    "\n",
    "# Set the flag for splitting the dataset\n",
    "splitDataset = True\n",
    "splitPercentage = 0.25\n",
    "\n",
    "# Set various default Keras modeling parameters\n",
    "default_kernel_init = K.initializers.glorot_uniform(seed=seedNum)\n",
    "default_loss = 'mean_squared_error'\n",
    "default_optimizer = 'adam'\n",
    "default_epochs = 100\n",
    "default_batches = 5\n",
    "\n",
    "# Set the number of folds for cross validation\n",
    "folds = 10"
   ]
  },
  {
   "cell_type": "code",
   "execution_count": 5,
   "metadata": {
    "colab": {},
    "colab_type": "code",
    "id": "Un3ZnxByRhDV"
   },
   "outputs": [],
   "source": [
    "# Set up the email notification function\n",
    "def email_notify(msg_text):\n",
    "    sender = os.environ.get('MAIL_SENDER')\n",
    "    receiver = os.environ.get('MAIL_RECEIVER')\n",
    "    gateway = os.environ.get('SMTP_GATEWAY')\n",
    "    smtpuser = os.environ.get('SMTP_USERNAME')\n",
    "    password = os.environ.get('SMTP_PASSWORD')\n",
    "    if sender==None or receiver==None or gateway==None or smtpuser==None or password==None:\n",
    "        sys.exit(\"Incomplete email setup info. Script Processing Aborted!!!\")\n",
    "    msg = EmailMessage()\n",
    "    msg.set_content(msg_text)\n",
    "    msg['Subject'] = 'Notification from Keras Binary Classification Script'\n",
    "    msg['From'] = sender\n",
    "    msg['To'] = receiver\n",
    "    server = smtplib.SMTP(gateway, 587)\n",
    "    server.starttls()\n",
    "    server.login(smtpuser, password)\n",
    "    server.send_message(msg)\n",
    "    server.quit()"
   ]
  },
  {
   "cell_type": "code",
   "execution_count": 6,
   "metadata": {
    "colab": {},
    "colab_type": "code",
    "id": "ehVMNSM6VnRE"
   },
   "outputs": [],
   "source": [
    "if (notifyStatus): email_notify(\"Phase 0 Prepare Environment completed! \"+datetime.now().strftime('%a %B %d, %Y %I:%M:%S %p'))"
   ]
  },
  {
   "cell_type": "markdown",
   "metadata": {
    "colab_type": "text",
    "id": "Hb0U0RL8Hdhy"
   },
   "source": [
    "# Section 1. Load Data"
   ]
  },
  {
   "cell_type": "code",
   "execution_count": 7,
   "metadata": {
    "colab": {},
    "colab_type": "code",
    "id": "L5G5M20LSG9i"
   },
   "outputs": [],
   "source": [
    "if (notifyStatus): email_notify(\"Phase 1 Load Data has begun! \"+datetime.now().strftime('%a %B %d, %Y %I:%M:%S %p'))"
   ]
  },
  {
   "cell_type": "code",
   "execution_count": 8,
   "metadata": {
    "colab": {
     "base_uri": "https://localhost:8080/",
     "height": 146
    },
    "colab_type": "code",
    "id": "F27fJh8CAWb6",
    "outputId": "772d7d84-0f99-4fe9-8a84-becd51b3919e"
   },
   "outputs": [
    {
     "name": "stdout",
     "output_type": "stream",
     "text": [
      "[[6.3200e-03 1.8000e+01 2.3100e+00 ... 3.9690e+02 4.9800e+00 2.4000e+01]\n",
      " [2.7310e-02 0.0000e+00 7.0700e+00 ... 3.9690e+02 9.1400e+00 2.1600e+01]\n",
      " [2.7290e-02 0.0000e+00 7.0700e+00 ... 3.9283e+02 4.0300e+00 3.4700e+01]\n",
      " ...\n",
      " [6.0760e-02 0.0000e+00 1.1930e+01 ... 3.9690e+02 5.6400e+00 2.3900e+01]\n",
      " [1.0959e-01 0.0000e+00 1.1930e+01 ... 3.9345e+02 6.4800e+00 2.2000e+01]\n",
      " [4.7410e-02 0.0000e+00 1.1930e+01 ... 3.9690e+02 7.8800e+00 1.1900e+01]]\n"
     ]
    }
   ],
   "source": [
    "# Load the dataset\n",
    "df_original = pd.read_csv(\"housing.csv\", delim_whitespace=True, header=None)\n",
    "dataset = df_original.values\n",
    "print(dataset)"
   ]
  },
  {
   "cell_type": "code",
   "execution_count": 9,
   "metadata": {
    "colab": {},
    "colab_type": "code",
    "id": "LKbZhVyPAZfX"
   },
   "outputs": [
    {
     "name": "stdout",
     "output_type": "stream",
     "text": [
      "Shape of X_original: (506, 13) | Shape of y_original: (506,)\n"
     ]
    }
   ],
   "source": [
    "# Split the original dataset into input (X) and output (y) variables\n",
    "X_original = dataset[:,0:13]\n",
    "y_original = dataset[:,13]\n",
    "print('Shape of X_original:', X_original.shape, '| Shape of y_original:', y_original.shape)"
   ]
  },
  {
   "cell_type": "code",
   "execution_count": 10,
   "metadata": {},
   "outputs": [
    {
     "name": "stdout",
     "output_type": "stream",
     "text": [
      "Shape of X_train: (379, 13) | Shape of y_train: (379,)\n",
      "Shape of X_test: (127, 13) | Shape of y_test: (127,)\n"
     ]
    }
   ],
   "source": [
    "# Split the data further into training and test datasets\n",
    "if (splitDataset):\n",
    "    X_train, X_test, y_train, y_test = train_test_split(X_original, y_original, test_size=splitPercentage, random_state=seedNum)\n",
    "else:\n",
    "    X_train, y_train = X_original, y_original\n",
    "    X_test, y_test = X_original, y_original\n",
    "print('Shape of X_train:', X_train.shape, '| Shape of y_train:', y_train.shape)\n",
    "print('Shape of X_test:', X_test.shape, '| Shape of y_test:', y_test.shape)"
   ]
  },
  {
   "cell_type": "code",
   "execution_count": 11,
   "metadata": {
    "colab": {},
    "colab_type": "code",
    "id": "d4bUiYdhSara"
   },
   "outputs": [],
   "source": [
    "if (notifyStatus): email_notify(\"Phase 1 Load Data completed! \"+datetime.now().strftime('%a %B %d, %Y %I:%M:%S %p'))"
   ]
  },
  {
   "cell_type": "markdown",
   "metadata": {
    "colab_type": "text",
    "id": "ljQSSE06Hkj0"
   },
   "source": [
    "# Section 2. Define Model"
   ]
  },
  {
   "cell_type": "code",
   "execution_count": 12,
   "metadata": {
    "colab": {},
    "colab_type": "code",
    "id": "fCo4dP5zSdib"
   },
   "outputs": [],
   "source": [
    "if (notifyStatus): email_notify(\"Phase 2 Define Model has begun! \"+datetime.now().strftime('%a %B %d, %Y %I:%M:%S %p'))"
   ]
  },
  {
   "cell_type": "code",
   "execution_count": 13,
   "metadata": {
    "colab": {
     "base_uri": "https://localhost:8080/",
     "height": 147
    },
    "colab_type": "code",
    "id": "AMBRuJibAefO",
    "outputId": "40716f3e-693b-475c-90e6-5a51cbe535dc"
   },
   "outputs": [],
   "source": [
    "# Define the Keras model required for KerasClassifier\n",
    "def create_baseline_model():\n",
    "    model = K.models.Sequential()\n",
    "    model.add(Dense(13, input_dim=13, kernel_initializer=default_kernel_init, activation='relu'))\n",
    "    model.add(Dense(1, kernel_initializer=default_kernel_init))\n",
    "    model.compile(loss=default_loss, optimizer=default_optimizer)\n",
    "    return model"
   ]
  },
  {
   "cell_type": "code",
   "execution_count": 14,
   "metadata": {
    "colab": {
     "base_uri": "https://localhost:8080/",
     "height": 166
    },
    "colab_type": "code",
    "id": "6XG4pa74AgTr",
    "outputId": "f31c5a67-bbd9-4ad8-e02e-dc62326b5eb3"
   },
   "outputs": [],
   "source": [
    "# Initialize the Keras model\n",
    "estimators = []\n",
    "estimators.append(('standardize', StandardScaler()))\n",
    "estimators.append(('mlp', KerasRegressor(build_fn=create_baseline_model, epochs=default_epochs, batch_size=default_batches, verbose=0)))\n",
    "cv_model = Pipeline(estimators)"
   ]
  },
  {
   "cell_type": "code",
   "execution_count": 15,
   "metadata": {
    "colab": {},
    "colab_type": "code",
    "id": "oTbNwS6NSx2C"
   },
   "outputs": [],
   "source": [
    "if (notifyStatus): email_notify(\"Phase 2 Define Model completed! \"+datetime.now().strftime('%a %B %d, %Y %I:%M:%S %p'))"
   ]
  },
  {
   "cell_type": "markdown",
   "metadata": {
    "colab_type": "text",
    "id": "utyCDnHTIJzX"
   },
   "source": [
    "# Section 3. Fit and Evaluate Model"
   ]
  },
  {
   "cell_type": "code",
   "execution_count": 16,
   "metadata": {
    "colab": {},
    "colab_type": "code",
    "id": "qobEj0hlS0xM"
   },
   "outputs": [],
   "source": [
    "if (notifyStatus): email_notify(\"Phase 3 Fit and Evaluate Model has begun! \"+datetime.now().strftime('%a %B %d, %Y %I:%M:%S %p'))"
   ]
  },
  {
   "cell_type": "code",
   "execution_count": 17,
   "metadata": {
    "colab": {
     "base_uri": "https://localhost:8080/",
     "height": 1000
    },
    "colab_type": "code",
    "id": "AEreg3esAiW3",
    "outputId": "3d77cc8d-b5f4-4cde-d682-146f7d64447b"
   },
   "outputs": [
    {
     "name": "stdout",
     "output_type": "stream",
     "text": [
      "WARNING:tensorflow:From /opt/conda/lib/python3.7/site-packages/keras/backend/tensorflow_backend.py:74: The name tf.get_default_graph is deprecated. Please use tf.compat.v1.get_default_graph instead.\n",
      "\n",
      "WARNING:tensorflow:From /opt/conda/lib/python3.7/site-packages/keras/backend/tensorflow_backend.py:517: The name tf.placeholder is deprecated. Please use tf.compat.v1.placeholder instead.\n",
      "\n",
      "WARNING:tensorflow:From /opt/conda/lib/python3.7/site-packages/keras/backend/tensorflow_backend.py:4138: The name tf.random_uniform is deprecated. Please use tf.random.uniform instead.\n",
      "\n",
      "WARNING:tensorflow:From /opt/conda/lib/python3.7/site-packages/keras/optimizers.py:790: The name tf.train.Optimizer is deprecated. Please use tf.compat.v1.train.Optimizer instead.\n",
      "\n",
      "WARNING:tensorflow:From /opt/conda/lib/python3.7/site-packages/keras/backend/tensorflow_backend.py:986: The name tf.assign_add is deprecated. Please use tf.compat.v1.assign_add instead.\n",
      "\n",
      "WARNING:tensorflow:From /opt/conda/lib/python3.7/site-packages/keras/backend/tensorflow_backend.py:973: The name tf.assign is deprecated. Please use tf.compat.v1.assign instead.\n",
      "\n",
      "All cross-validated results: [-10.62944558 -13.62060684 -10.09922258  -9.91811327 -30.31830477\n",
      " -17.00155454  -8.80626255 -23.08936269 -32.2089179  -13.40236817]\n",
      "Baseline: -16.91 (8.22) MSE\n"
     ]
    }
   ],
   "source": [
    "# Fit and evaluate the Keras model using 10-fold cross validation\n",
    "kfold = KFold(n_splits=folds, shuffle=True, random_state=seedNum)\n",
    "results = cross_val_score(cv_model, X_train, y_train, cv=kfold)\n",
    "print('All cross-validated results:', results)\n",
    "print('Baseline: %.2f (%.2f) MSE' % (results.mean(), results.std()))"
   ]
  },
  {
   "cell_type": "code",
   "execution_count": 18,
   "metadata": {
    "colab": {},
    "colab_type": "code",
    "id": "_Pb01NDTS44-"
   },
   "outputs": [],
   "source": [
    "if (notifyStatus): email_notify(\"Phase 3 Fit and Evaluate Model completed! \"+datetime.now().strftime('%a %B %d, %Y %I:%M:%S %p'))"
   ]
  },
  {
   "cell_type": "markdown",
   "metadata": {
    "colab_type": "text",
    "id": "F6Di1y9BIXey"
   },
   "source": [
    "# Section 4. Optimize Model"
   ]
  },
  {
   "cell_type": "code",
   "execution_count": 19,
   "metadata": {
    "colab": {},
    "colab_type": "code",
    "id": "waSYHP94S-JU"
   },
   "outputs": [],
   "source": [
    "if (notifyStatus): email_notify(\"Phase 4 Optimize Model has begun! \"+datetime.now().strftime('%a %B %d, %Y %I:%M:%S %p'))"
   ]
  },
  {
   "cell_type": "code",
   "execution_count": 20,
   "metadata": {},
   "outputs": [],
   "source": [
    "# Define the Keras model required for KerasClassifier\n",
    "def create_grid_model(optimizer, kernel_init):\n",
    "    model = K.models.Sequential()\n",
    "    model.add(Dense(13, input_dim=13, kernel_initializer=kernel_init, activation='relu'))\n",
    "    model.add(Dense(1, kernel_initializer=kernel_init))\n",
    "    model.compile(loss=default_loss, optimizer=optimizer)\n",
    "    return model"
   ]
  },
  {
   "cell_type": "code",
   "execution_count": 21,
   "metadata": {},
   "outputs": [
    {
     "name": "stderr",
     "output_type": "stream",
     "text": [
      "/opt/conda/lib/python3.7/site-packages/joblib/externals/loky/process_executor.py:706: UserWarning: A worker stopped while some jobs were given to the executor. This can be caused by a too short worker timeout or by a memory leak.\n",
      "  \"timeout or by a memory leak.\", UserWarning\n",
      "/opt/conda/lib/python3.7/site-packages/sklearn/model_selection/_search.py:813: DeprecationWarning: The default of the `iid` parameter will change from True to False in version 0.22 and will be removed in 0.24. This will change numeric results when test-set sizes are unequal.\n",
      "  DeprecationWarning)\n"
     ]
    },
    {
     "name": "stdout",
     "output_type": "stream",
     "text": [
      "Best: -22.899395 using {'batch_size': 5, 'epochs': 200, 'kernel_init': 'RandomNormal', 'optimizer': 'adam'}\n",
      "-358.194775 (43.843678) with: {'batch_size': 5, 'epochs': 100, 'kernel_init': 'Constant', 'optimizer': 'rmsprop'}\n",
      "-364.779522 (44.313025) with: {'batch_size': 5, 'epochs': 100, 'kernel_init': 'Constant', 'optimizer': 'adam'}\n",
      "-31.839012 (2.140355) with: {'batch_size': 5, 'epochs': 100, 'kernel_init': 'RandomNormal', 'optimizer': 'rmsprop'}\n",
      "-27.291999 (5.668850) with: {'batch_size': 5, 'epochs': 100, 'kernel_init': 'RandomNormal', 'optimizer': 'adam'}\n",
      "-29.331149 (3.769105) with: {'batch_size': 5, 'epochs': 100, 'kernel_init': 'RandomUniform', 'optimizer': 'rmsprop'}\n",
      "-30.306892 (8.362598) with: {'batch_size': 5, 'epochs': 100, 'kernel_init': 'RandomUniform', 'optimizer': 'adam'}\n",
      "-270.327445 (37.770698) with: {'batch_size': 5, 'epochs': 150, 'kernel_init': 'Constant', 'optimizer': 'rmsprop'}\n",
      "-279.734062 (38.629240) with: {'batch_size': 5, 'epochs': 150, 'kernel_init': 'Constant', 'optimizer': 'adam'}\n",
      "-24.462620 (4.411933) with: {'batch_size': 5, 'epochs': 150, 'kernel_init': 'RandomNormal', 'optimizer': 'rmsprop'}\n",
      "-26.086865 (7.808914) with: {'batch_size': 5, 'epochs': 150, 'kernel_init': 'RandomNormal', 'optimizer': 'adam'}\n",
      "-34.768661 (8.079634) with: {'batch_size': 5, 'epochs': 150, 'kernel_init': 'RandomUniform', 'optimizer': 'rmsprop'}\n",
      "-23.943063 (3.187720) with: {'batch_size': 5, 'epochs': 150, 'kernel_init': 'RandomUniform', 'optimizer': 'adam'}\n",
      "-200.844855 (32.044266) with: {'batch_size': 5, 'epochs': 200, 'kernel_init': 'Constant', 'optimizer': 'rmsprop'}\n",
      "-211.803787 (33.245526) with: {'batch_size': 5, 'epochs': 200, 'kernel_init': 'Constant', 'optimizer': 'adam'}\n",
      "-26.240757 (7.547203) with: {'batch_size': 5, 'epochs': 200, 'kernel_init': 'RandomNormal', 'optimizer': 'rmsprop'}\n",
      "-22.899395 (3.839996) with: {'batch_size': 5, 'epochs': 200, 'kernel_init': 'RandomNormal', 'optimizer': 'adam'}\n",
      "-30.136325 (7.391905) with: {'batch_size': 5, 'epochs': 200, 'kernel_init': 'RandomUniform', 'optimizer': 'rmsprop'}\n",
      "-23.472194 (2.565126) with: {'batch_size': 5, 'epochs': 200, 'kernel_init': 'RandomUniform', 'optimizer': 'adam'}\n",
      "-461.572257 (49.770734) with: {'batch_size': 10, 'epochs': 100, 'kernel_init': 'Constant', 'optimizer': 'rmsprop'}\n",
      "-464.599984 (49.914086) with: {'batch_size': 10, 'epochs': 100, 'kernel_init': 'Constant', 'optimizer': 'adam'}\n",
      "-32.459268 (3.815737) with: {'batch_size': 10, 'epochs': 100, 'kernel_init': 'RandomNormal', 'optimizer': 'rmsprop'}\n",
      "-30.608469 (2.654496) with: {'batch_size': 10, 'epochs': 100, 'kernel_init': 'RandomNormal', 'optimizer': 'adam'}\n",
      "-35.028711 (11.023143) with: {'batch_size': 10, 'epochs': 100, 'kernel_init': 'RandomUniform', 'optimizer': 'rmsprop'}\n",
      "-33.978880 (9.566935) with: {'batch_size': 10, 'epochs': 100, 'kernel_init': 'RandomUniform', 'optimizer': 'adam'}\n",
      "-404.758046 (46.614948) with: {'batch_size': 10, 'epochs': 150, 'kernel_init': 'Constant', 'optimizer': 'rmsprop'}\n",
      "-409.844482 (46.950790) with: {'batch_size': 10, 'epochs': 150, 'kernel_init': 'Constant', 'optimizer': 'adam'}\n",
      "-33.844200 (2.877270) with: {'batch_size': 10, 'epochs': 150, 'kernel_init': 'RandomNormal', 'optimizer': 'rmsprop'}\n",
      "-27.613773 (7.155495) with: {'batch_size': 10, 'epochs': 150, 'kernel_init': 'RandomNormal', 'optimizer': 'adam'}\n",
      "-41.203899 (7.530313) with: {'batch_size': 10, 'epochs': 150, 'kernel_init': 'RandomUniform', 'optimizer': 'rmsprop'}\n",
      "-27.723807 (3.877215) with: {'batch_size': 10, 'epochs': 150, 'kernel_init': 'RandomUniform', 'optimizer': 'adam'}\n",
      "-352.762917 (43.439625) with: {'batch_size': 10, 'epochs': 200, 'kernel_init': 'Constant', 'optimizer': 'rmsprop'}\n",
      "-359.778914 (43.975521) with: {'batch_size': 10, 'epochs': 200, 'kernel_init': 'Constant', 'optimizer': 'adam'}\n",
      "-34.941543 (16.549596) with: {'batch_size': 10, 'epochs': 200, 'kernel_init': 'RandomNormal', 'optimizer': 'rmsprop'}\n",
      "-25.992345 (3.103377) with: {'batch_size': 10, 'epochs': 200, 'kernel_init': 'RandomNormal', 'optimizer': 'adam'}\n",
      "-38.658779 (3.779492) with: {'batch_size': 10, 'epochs': 200, 'kernel_init': 'RandomUniform', 'optimizer': 'rmsprop'}\n",
      "-26.318986 (2.974306) with: {'batch_size': 10, 'epochs': 200, 'kernel_init': 'RandomUniform', 'optimizer': 'adam'}\n",
      "-500.521604 (51.800296) with: {'batch_size': 15, 'epochs': 100, 'kernel_init': 'Constant', 'optimizer': 'rmsprop'}\n",
      "-502.371268 (51.940252) with: {'batch_size': 15, 'epochs': 100, 'kernel_init': 'Constant', 'optimizer': 'adam'}\n",
      "-47.748476 (11.025938) with: {'batch_size': 15, 'epochs': 100, 'kernel_init': 'RandomNormal', 'optimizer': 'rmsprop'}\n",
      "-32.533516 (8.132569) with: {'batch_size': 15, 'epochs': 100, 'kernel_init': 'RandomNormal', 'optimizer': 'adam'}\n",
      "-41.123463 (7.139469) with: {'batch_size': 15, 'epochs': 100, 'kernel_init': 'RandomUniform', 'optimizer': 'rmsprop'}\n",
      "-31.909073 (4.375858) with: {'batch_size': 15, 'epochs': 100, 'kernel_init': 'RandomUniform', 'optimizer': 'adam'}\n",
      "-459.309918 (49.670350) with: {'batch_size': 15, 'epochs': 150, 'kernel_init': 'Constant', 'optimizer': 'rmsprop'}\n",
      "-462.432266 (49.831190) with: {'batch_size': 15, 'epochs': 150, 'kernel_init': 'Constant', 'optimizer': 'adam'}\n",
      "-32.684463 (6.201545) with: {'batch_size': 15, 'epochs': 150, 'kernel_init': 'RandomNormal', 'optimizer': 'rmsprop'}\n",
      "-32.587160 (8.786886) with: {'batch_size': 15, 'epochs': 150, 'kernel_init': 'RandomNormal', 'optimizer': 'adam'}\n",
      "-30.817729 (10.736833) with: {'batch_size': 15, 'epochs': 150, 'kernel_init': 'RandomUniform', 'optimizer': 'rmsprop'}\n",
      "-30.425690 (5.147144) with: {'batch_size': 15, 'epochs': 150, 'kernel_init': 'RandomUniform', 'optimizer': 'adam'}\n",
      "-420.288755 (47.449890) with: {'batch_size': 15, 'epochs': 200, 'kernel_init': 'Constant', 'optimizer': 'rmsprop'}\n",
      "-424.809884 (47.815642) with: {'batch_size': 15, 'epochs': 200, 'kernel_init': 'Constant', 'optimizer': 'adam'}\n",
      "-30.749110 (7.371060) with: {'batch_size': 15, 'epochs': 200, 'kernel_init': 'RandomNormal', 'optimizer': 'rmsprop'}\n",
      "-25.142412 (4.032877) with: {'batch_size': 15, 'epochs': 200, 'kernel_init': 'RandomNormal', 'optimizer': 'adam'}\n",
      "-30.353249 (3.517917) with: {'batch_size': 15, 'epochs': 200, 'kernel_init': 'RandomUniform', 'optimizer': 'rmsprop'}\n",
      "-26.347366 (3.757017) with: {'batch_size': 15, 'epochs': 200, 'kernel_init': 'RandomUniform', 'optimizer': 'adam'}\n"
     ]
    }
   ],
   "source": [
    "# Create model for grid search\n",
    "grid_model = KerasRegressor(build_fn=create_grid_model, verbose=0)\n",
    "\n",
    "# Perform grid search using different epochs, batch sizes, and optimizers\n",
    "optimizer_grid = ['rmsprop', 'adam']\n",
    "init_grid = ['Constant', 'RandomNormal', 'RandomUniform']\n",
    "epoch_grid = [100, 150, 200]\n",
    "batch_grid = [5, 10, 15]\n",
    "param_grid = dict(optimizer=optimizer_grid, kernel_init=init_grid, epochs=epoch_grid, batch_size=batch_grid)\n",
    "grid = GridSearchCV(estimator=grid_model, param_grid=param_grid, cv=5, n_jobs=-1)\n",
    "grid_result = grid.fit(X_train, y_train)\n",
    "\n",
    "# summarize results\n",
    "print(\"Best: %f using %s\" % (grid_result.best_score_, grid_result.best_params_))\n",
    "means = grid_result.cv_results_['mean_test_score']\n",
    "stds = grid_result.cv_results_['std_test_score']\n",
    "params = grid_result.cv_results_['params']\n",
    "for mean, stdev, param in zip(means, stds, params):\n",
    "\tprint(\"%f (%f) with: %r\" % (mean, stdev, param))"
   ]
  },
  {
   "cell_type": "code",
   "execution_count": 22,
   "metadata": {},
   "outputs": [],
   "source": [
    "best_optimizer = 'adam'\n",
    "best_kernel_init = 'RandomUniform'\n",
    "best_epochs = 200\n",
    "best_batches = 5"
   ]
  },
  {
   "cell_type": "code",
   "execution_count": 23,
   "metadata": {},
   "outputs": [
    {
     "name": "stdout",
     "output_type": "stream",
     "text": [
      "Epoch 1/200\n",
      "379/379 [==============================] - 2s 4ms/step - loss: 378.6646\n",
      "Epoch 2/200\n",
      "379/379 [==============================] - 0s 461us/step - loss: 123.6092\n",
      "Epoch 3/200\n",
      "379/379 [==============================] - 0s 479us/step - loss: 102.9423\n",
      "Epoch 4/200\n",
      "379/379 [==============================] - 0s 471us/step - loss: 87.2843\n",
      "Epoch 5/200\n",
      "379/379 [==============================] - 0s 471us/step - loss: 78.5822\n",
      "Epoch 6/200\n",
      "379/379 [==============================] - 0s 474us/step - loss: 73.8281\n",
      "Epoch 7/200\n",
      "379/379 [==============================] - 0s 455us/step - loss: 72.2980\n",
      "Epoch 8/200\n",
      "379/379 [==============================] - 0s 457us/step - loss: 69.0642\n",
      "Epoch 9/200\n",
      "379/379 [==============================] - 0s 459us/step - loss: 66.7748\n",
      "Epoch 10/200\n",
      "379/379 [==============================] - 0s 430us/step - loss: 66.7891\n",
      "Epoch 11/200\n",
      "379/379 [==============================] - 0s 442us/step - loss: 63.5015\n",
      "Epoch 12/200\n",
      "379/379 [==============================] - 0s 446us/step - loss: 61.8945\n",
      "Epoch 13/200\n",
      "379/379 [==============================] - 0s 468us/step - loss: 62.1337\n",
      "Epoch 14/200\n",
      "379/379 [==============================] - 0s 437us/step - loss: 60.3326\n",
      "Epoch 15/200\n",
      "379/379 [==============================] - 0s 433us/step - loss: 58.7901\n",
      "Epoch 16/200\n",
      "379/379 [==============================] - 0s 442us/step - loss: 57.4104\n",
      "Epoch 17/200\n",
      "379/379 [==============================] - 0s 447us/step - loss: 57.7344\n",
      "Epoch 18/200\n",
      "379/379 [==============================] - 0s 465us/step - loss: 56.1929\n",
      "Epoch 19/200\n",
      "379/379 [==============================] - 0s 447us/step - loss: 53.9033\n",
      "Epoch 20/200\n",
      "379/379 [==============================] - 0s 450us/step - loss: 52.9355\n",
      "Epoch 21/200\n",
      "379/379 [==============================] - 0s 446us/step - loss: 52.0568\n",
      "Epoch 22/200\n",
      "379/379 [==============================] - 0s 457us/step - loss: 52.0948\n",
      "Epoch 23/200\n",
      "379/379 [==============================] - 0s 418us/step - loss: 48.0470\n",
      "Epoch 24/200\n",
      "379/379 [==============================] - 0s 432us/step - loss: 47.4573\n",
      "Epoch 25/200\n",
      "379/379 [==============================] - 0s 413us/step - loss: 46.2521\n",
      "Epoch 26/200\n",
      "379/379 [==============================] - 0s 427us/step - loss: 44.8592\n",
      "Epoch 27/200\n",
      "379/379 [==============================] - 0s 444us/step - loss: 43.8885\n",
      "Epoch 28/200\n",
      "379/379 [==============================] - 0s 450us/step - loss: 41.6575\n",
      "Epoch 29/200\n",
      "379/379 [==============================] - 0s 445us/step - loss: 41.9868\n",
      "Epoch 30/200\n",
      "379/379 [==============================] - 0s 482us/step - loss: 39.3545\n",
      "Epoch 31/200\n",
      "379/379 [==============================] - 0s 461us/step - loss: 38.9533\n",
      "Epoch 32/200\n",
      "379/379 [==============================] - 0s 445us/step - loss: 36.9672\n",
      "Epoch 33/200\n",
      "379/379 [==============================] - 0s 466us/step - loss: 36.6103\n",
      "Epoch 34/200\n",
      "379/379 [==============================] - 0s 445us/step - loss: 37.9395\n",
      "Epoch 35/200\n",
      "379/379 [==============================] - 0s 445us/step - loss: 35.1347\n",
      "Epoch 36/200\n",
      "379/379 [==============================] - 0s 465us/step - loss: 33.9419\n",
      "Epoch 37/200\n",
      "379/379 [==============================] - 0s 441us/step - loss: 33.4653\n",
      "Epoch 38/200\n",
      "379/379 [==============================] - 0s 465us/step - loss: 33.0248\n",
      "Epoch 39/200\n",
      "379/379 [==============================] - 0s 451us/step - loss: 32.1778\n",
      "Epoch 40/200\n",
      "379/379 [==============================] - 0s 458us/step - loss: 30.8341\n",
      "Epoch 41/200\n",
      "379/379 [==============================] - 0s 465us/step - loss: 30.9214\n",
      "Epoch 42/200\n",
      "379/379 [==============================] - 0s 467us/step - loss: 31.5991\n",
      "Epoch 43/200\n",
      "379/379 [==============================] - 0s 454us/step - loss: 31.1000\n",
      "Epoch 44/200\n",
      "379/379 [==============================] - 0s 461us/step - loss: 29.7505\n",
      "Epoch 45/200\n",
      "379/379 [==============================] - 0s 449us/step - loss: 28.7025\n",
      "Epoch 46/200\n",
      "379/379 [==============================] - 0s 450us/step - loss: 28.5499\n",
      "Epoch 47/200\n",
      "379/379 [==============================] - 0s 452us/step - loss: 30.1784\n",
      "Epoch 48/200\n",
      "379/379 [==============================] - 0s 465us/step - loss: 28.2121\n",
      "Epoch 49/200\n",
      "379/379 [==============================] - 0s 446us/step - loss: 28.2828\n",
      "Epoch 50/200\n",
      "379/379 [==============================] - 0s 444us/step - loss: 27.5634\n",
      "Epoch 51/200\n",
      "379/379 [==============================] - 0s 448us/step - loss: 26.6347\n",
      "Epoch 52/200\n",
      "379/379 [==============================] - 0s 454us/step - loss: 26.1805\n",
      "Epoch 53/200\n",
      "379/379 [==============================] - 0s 487us/step - loss: 25.9617\n",
      "Epoch 54/200\n",
      "379/379 [==============================] - 0s 455us/step - loss: 27.1798\n",
      "Epoch 55/200\n",
      "379/379 [==============================] - 0s 445us/step - loss: 26.2722\n",
      "Epoch 56/200\n",
      "379/379 [==============================] - 0s 451us/step - loss: 26.1551\n",
      "Epoch 57/200\n",
      "379/379 [==============================] - 0s 459us/step - loss: 25.7728\n",
      "Epoch 58/200\n",
      "379/379 [==============================] - 0s 442us/step - loss: 26.7169\n",
      "Epoch 59/200\n",
      "379/379 [==============================] - 0s 466us/step - loss: 25.8702\n",
      "Epoch 60/200\n",
      "379/379 [==============================] - 0s 463us/step - loss: 26.5806\n",
      "Epoch 61/200\n",
      "379/379 [==============================] - 0s 460us/step - loss: 27.1747\n",
      "Epoch 62/200\n",
      "379/379 [==============================] - 0s 453us/step - loss: 25.5202\n",
      "Epoch 63/200\n",
      "379/379 [==============================] - 0s 472us/step - loss: 25.5037\n",
      "Epoch 64/200\n",
      "379/379 [==============================] - 0s 497us/step - loss: 24.9677\n",
      "Epoch 65/200\n",
      "379/379 [==============================] - 0s 461us/step - loss: 24.7276\n",
      "Epoch 66/200\n",
      "379/379 [==============================] - 0s 455us/step - loss: 24.3237\n",
      "Epoch 67/200\n",
      "379/379 [==============================] - 0s 468us/step - loss: 23.4230\n",
      "Epoch 68/200\n",
      "379/379 [==============================] - 0s 448us/step - loss: 23.6127\n",
      "Epoch 69/200\n",
      "379/379 [==============================] - 0s 450us/step - loss: 25.8236\n",
      "Epoch 70/200\n",
      "379/379 [==============================] - 0s 453us/step - loss: 25.3588\n",
      "Epoch 71/200\n",
      "379/379 [==============================] - 0s 484us/step - loss: 24.3722\n",
      "Epoch 72/200\n",
      "379/379 [==============================] - 0s 443us/step - loss: 26.6907\n",
      "Epoch 73/200\n",
      "379/379 [==============================] - 0s 442us/step - loss: 24.8024\n",
      "Epoch 74/200\n",
      "379/379 [==============================] - 0s 450us/step - loss: 24.4142\n",
      "Epoch 75/200\n",
      "379/379 [==============================] - 0s 459us/step - loss: 23.6160\n",
      "Epoch 76/200\n",
      "379/379 [==============================] - 0s 461us/step - loss: 23.3641\n",
      "Epoch 77/200\n",
      "379/379 [==============================] - 0s 448us/step - loss: 23.9525\n",
      "Epoch 78/200\n",
      "379/379 [==============================] - 0s 453us/step - loss: 23.6567\n",
      "Epoch 79/200\n",
      "379/379 [==============================] - 0s 451us/step - loss: 24.7594\n",
      "Epoch 80/200\n",
      "379/379 [==============================] - 0s 458us/step - loss: 25.2622\n",
      "Epoch 81/200\n",
      "379/379 [==============================] - 0s 444us/step - loss: 22.8776\n",
      "Epoch 82/200\n",
      "379/379 [==============================] - 0s 455us/step - loss: 22.6379\n",
      "Epoch 83/200\n",
      "379/379 [==============================] - 0s 466us/step - loss: 24.7068\n",
      "Epoch 84/200\n",
      "379/379 [==============================] - 0s 446us/step - loss: 23.4632\n",
      "Epoch 85/200\n",
      "379/379 [==============================] - 0s 450us/step - loss: 22.6617\n",
      "Epoch 86/200\n",
      "379/379 [==============================] - 0s 454us/step - loss: 23.0968\n",
      "Epoch 87/200\n",
      "379/379 [==============================] - 0s 458us/step - loss: 22.6836\n",
      "Epoch 88/200\n",
      "379/379 [==============================] - 0s 486us/step - loss: 22.6108\n",
      "Epoch 89/200\n",
      "379/379 [==============================] - 0s 449us/step - loss: 23.6129\n",
      "Epoch 90/200\n",
      "379/379 [==============================] - 0s 448us/step - loss: 22.1020\n",
      "Epoch 91/200\n",
      "379/379 [==============================] - 0s 444us/step - loss: 22.9832\n",
      "Epoch 92/200\n",
      "379/379 [==============================] - 0s 465us/step - loss: 23.1156\n",
      "Epoch 93/200\n",
      "379/379 [==============================] - 0s 447us/step - loss: 23.3044\n",
      "Epoch 94/200\n",
      "379/379 [==============================] - 0s 448us/step - loss: 23.7647\n",
      "Epoch 95/200\n",
      "379/379 [==============================] - 0s 456us/step - loss: 23.3347\n",
      "Epoch 96/200\n",
      "379/379 [==============================] - 0s 456us/step - loss: 22.0453\n",
      "Epoch 97/200\n",
      "379/379 [==============================] - 0s 499us/step - loss: 22.0660\n",
      "Epoch 98/200\n",
      "379/379 [==============================] - 0s 448us/step - loss: 21.9732\n",
      "Epoch 99/200\n",
      "379/379 [==============================] - 0s 455us/step - loss: 23.7557\n",
      "Epoch 100/200\n",
      "379/379 [==============================] - 0s 436us/step - loss: 22.0689\n",
      "Epoch 101/200\n",
      "379/379 [==============================] - 0s 460us/step - loss: 22.3998\n",
      "Epoch 102/200\n",
      "379/379 [==============================] - 0s 479us/step - loss: 21.6132\n",
      "Epoch 103/200\n",
      "379/379 [==============================] - 0s 467us/step - loss: 21.9594\n",
      "Epoch 104/200\n",
      "379/379 [==============================] - 0s 447us/step - loss: 21.8057\n",
      "Epoch 105/200\n",
      "379/379 [==============================] - 0s 447us/step - loss: 21.3931\n",
      "Epoch 106/200\n",
      "379/379 [==============================] - 0s 451us/step - loss: 21.5951\n",
      "Epoch 107/200\n",
      "379/379 [==============================] - 0s 454us/step - loss: 21.6519\n",
      "Epoch 108/200\n",
      "379/379 [==============================] - 0s 458us/step - loss: 21.8975\n",
      "Epoch 109/200\n",
      "379/379 [==============================] - 0s 458us/step - loss: 20.9260\n",
      "Epoch 110/200\n",
      "379/379 [==============================] - 0s 467us/step - loss: 22.0657\n",
      "Epoch 111/200\n",
      "379/379 [==============================] - 0s 467us/step - loss: 23.2776\n",
      "Epoch 112/200\n",
      "379/379 [==============================] - 0s 459us/step - loss: 22.2133\n",
      "Epoch 113/200\n",
      "379/379 [==============================] - 0s 473us/step - loss: 21.3931\n",
      "Epoch 114/200\n",
      "379/379 [==============================] - 0s 450us/step - loss: 21.0524\n",
      "Epoch 115/200\n",
      "379/379 [==============================] - 0s 453us/step - loss: 20.9184\n",
      "Epoch 116/200\n",
      "379/379 [==============================] - 0s 453us/step - loss: 20.9370\n",
      "Epoch 117/200\n",
      "379/379 [==============================] - 0s 446us/step - loss: 21.8891\n",
      "Epoch 118/200\n",
      "379/379 [==============================] - 0s 448us/step - loss: 22.8401\n",
      "Epoch 119/200\n",
      "379/379 [==============================] - 0s 443us/step - loss: 22.2823\n",
      "Epoch 120/200\n",
      "379/379 [==============================] - 0s 454us/step - loss: 21.5242\n",
      "Epoch 121/200\n",
      "379/379 [==============================] - 0s 447us/step - loss: 22.4299\n",
      "Epoch 122/200\n",
      "379/379 [==============================] - 0s 465us/step - loss: 21.0573\n",
      "Epoch 123/200\n",
      "379/379 [==============================] - 0s 446us/step - loss: 21.6606\n",
      "Epoch 124/200\n",
      "379/379 [==============================] - 0s 473us/step - loss: 21.4247\n",
      "Epoch 125/200\n",
      "379/379 [==============================] - 0s 447us/step - loss: 21.8164\n",
      "Epoch 126/200\n",
      "379/379 [==============================] - 0s 439us/step - loss: 20.9221\n",
      "Epoch 127/200\n",
      "379/379 [==============================] - 0s 452us/step - loss: 21.8543\n",
      "Epoch 128/200\n",
      "379/379 [==============================] - 0s 459us/step - loss: 22.3948\n",
      "Epoch 129/200\n",
      "379/379 [==============================] - 0s 450us/step - loss: 20.6068\n",
      "Epoch 130/200\n",
      "379/379 [==============================] - 0s 455us/step - loss: 21.7580\n",
      "Epoch 131/200\n",
      "379/379 [==============================] - 0s 450us/step - loss: 20.6540\n",
      "Epoch 132/200\n",
      "379/379 [==============================] - 0s 457us/step - loss: 20.2158\n",
      "Epoch 133/200\n",
      "379/379 [==============================] - 0s 468us/step - loss: 21.0000\n",
      "Epoch 134/200\n",
      "379/379 [==============================] - 0s 448us/step - loss: 20.2834\n",
      "Epoch 135/200\n",
      "379/379 [==============================] - 0s 452us/step - loss: 20.7206\n",
      "Epoch 136/200\n",
      "379/379 [==============================] - 0s 451us/step - loss: 20.5855\n",
      "Epoch 137/200\n",
      "379/379 [==============================] - 0s 441us/step - loss: 20.9335\n",
      "Epoch 138/200\n",
      "379/379 [==============================] - 0s 481us/step - loss: 21.0497\n",
      "Epoch 139/200\n",
      "379/379 [==============================] - 0s 437us/step - loss: 20.6254\n",
      "Epoch 140/200\n",
      "379/379 [==============================] - 0s 503us/step - loss: 22.6312\n",
      "Epoch 141/200\n",
      "379/379 [==============================] - 0s 446us/step - loss: 20.7358\n",
      "Epoch 142/200\n",
      "379/379 [==============================] - 0s 444us/step - loss: 21.8409\n",
      "Epoch 143/200\n",
      "379/379 [==============================] - 0s 449us/step - loss: 20.7841\n",
      "Epoch 144/200\n",
      "379/379 [==============================] - 0s 453us/step - loss: 20.3292\n",
      "Epoch 145/200\n",
      "379/379 [==============================] - 0s 482us/step - loss: 21.2528\n",
      "Epoch 146/200\n",
      "379/379 [==============================] - 0s 455us/step - loss: 20.6337\n",
      "Epoch 147/200\n",
      "379/379 [==============================] - 0s 455us/step - loss: 21.0641\n",
      "Epoch 148/200\n",
      "379/379 [==============================] - 0s 496us/step - loss: 20.8344\n",
      "Epoch 149/200\n",
      "379/379 [==============================] - 0s 458us/step - loss: 20.7737\n",
      "Epoch 150/200\n",
      "379/379 [==============================] - 0s 449us/step - loss: 22.7852\n",
      "Epoch 151/200\n",
      "379/379 [==============================] - 0s 456us/step - loss: 21.0652\n",
      "Epoch 152/200\n",
      "379/379 [==============================] - 0s 446us/step - loss: 20.2192\n",
      "Epoch 153/200\n",
      "379/379 [==============================] - 0s 445us/step - loss: 20.5932\n",
      "Epoch 154/200\n",
      "379/379 [==============================] - 0s 444us/step - loss: 20.2562\n",
      "Epoch 155/200\n",
      "379/379 [==============================] - 0s 528us/step - loss: 20.7884\n",
      "Epoch 156/200\n",
      "379/379 [==============================] - 0s 455us/step - loss: 19.8222\n",
      "Epoch 157/200\n",
      "379/379 [==============================] - 0s 454us/step - loss: 19.7770\n",
      "Epoch 158/200\n",
      "379/379 [==============================] - 0s 449us/step - loss: 19.8605\n",
      "Epoch 159/200\n",
      "379/379 [==============================] - 0s 447us/step - loss: 20.4581\n",
      "Epoch 160/200\n",
      "379/379 [==============================] - 0s 468us/step - loss: 20.2594\n",
      "Epoch 161/200\n",
      "379/379 [==============================] - 0s 453us/step - loss: 20.4703\n",
      "Epoch 162/200\n",
      "379/379 [==============================] - 0s 454us/step - loss: 20.4186\n",
      "Epoch 163/200\n",
      "379/379 [==============================] - 0s 443us/step - loss: 20.6004\n",
      "Epoch 164/200\n",
      "379/379 [==============================] - 0s 486us/step - loss: 20.6181\n",
      "Epoch 165/200\n",
      "379/379 [==============================] - 0s 452us/step - loss: 20.7285\n",
      "Epoch 166/200\n",
      "379/379 [==============================] - 0s 449us/step - loss: 19.8728\n",
      "Epoch 167/200\n",
      "379/379 [==============================] - 0s 466us/step - loss: 19.9300\n",
      "Epoch 168/200\n",
      "379/379 [==============================] - 0s 445us/step - loss: 19.9809\n",
      "Epoch 169/200\n",
      "379/379 [==============================] - 0s 436us/step - loss: 20.0138\n",
      "Epoch 170/200\n",
      "379/379 [==============================] - 0s 476us/step - loss: 19.8513\n",
      "Epoch 171/200\n",
      "379/379 [==============================] - 0s 461us/step - loss: 20.5543\n",
      "Epoch 172/200\n",
      "379/379 [==============================] - 0s 455us/step - loss: 19.6910\n",
      "Epoch 173/200\n",
      "379/379 [==============================] - 0s 468us/step - loss: 20.1479\n",
      "Epoch 174/200\n",
      "379/379 [==============================] - 0s 460us/step - loss: 20.1238\n",
      "Epoch 175/200\n",
      "379/379 [==============================] - 0s 476us/step - loss: 20.3541\n",
      "Epoch 176/200\n",
      "379/379 [==============================] - 0s 469us/step - loss: 20.5261\n",
      "Epoch 177/200\n",
      "379/379 [==============================] - 0s 461us/step - loss: 20.2402\n",
      "Epoch 178/200\n",
      "379/379 [==============================] - 0s 473us/step - loss: 22.1764\n",
      "Epoch 179/200\n",
      "379/379 [==============================] - 0s 466us/step - loss: 19.3533\n",
      "Epoch 180/200\n",
      "379/379 [==============================] - 0s 507us/step - loss: 19.4331\n",
      "Epoch 181/200\n",
      "379/379 [==============================] - 0s 453us/step - loss: 20.4371\n",
      "Epoch 182/200\n",
      "379/379 [==============================] - 0s 451us/step - loss: 20.1073\n",
      "Epoch 183/200\n",
      "379/379 [==============================] - 0s 454us/step - loss: 20.6383\n",
      "Epoch 184/200\n",
      "379/379 [==============================] - 0s 454us/step - loss: 20.2978\n",
      "Epoch 185/200\n",
      "379/379 [==============================] - 0s 446us/step - loss: 19.9171\n",
      "Epoch 186/200\n",
      "379/379 [==============================] - 0s 451us/step - loss: 20.1105\n",
      "Epoch 187/200\n",
      "379/379 [==============================] - 0s 464us/step - loss: 20.1166\n",
      "Epoch 188/200\n",
      "379/379 [==============================] - 0s 450us/step - loss: 19.8337\n",
      "Epoch 189/200\n",
      "379/379 [==============================] - 0s 462us/step - loss: 20.5199\n",
      "Epoch 190/200\n",
      "379/379 [==============================] - 0s 514us/step - loss: 19.4083\n",
      "Epoch 191/200\n",
      "379/379 [==============================] - 0s 715us/step - loss: 20.1086\n",
      "Epoch 192/200\n",
      "379/379 [==============================] - 0s 435us/step - loss: 19.8882\n",
      "Epoch 193/200\n",
      "379/379 [==============================] - 0s 435us/step - loss: 19.5632\n",
      "Epoch 194/200\n",
      "379/379 [==============================] - 0s 432us/step - loss: 19.4801\n",
      "Epoch 195/200\n",
      "379/379 [==============================] - 0s 461us/step - loss: 19.8782\n",
      "Epoch 196/200\n",
      "379/379 [==============================] - 0s 451us/step - loss: 19.3563\n",
      "Epoch 197/200\n",
      "379/379 [==============================] - 0s 436us/step - loss: 19.0020\n",
      "Epoch 198/200\n",
      "379/379 [==============================] - 0s 450us/step - loss: 20.4029\n",
      "Epoch 199/200\n",
      "379/379 [==============================] - 0s 430us/step - loss: 20.2162\n",
      "Epoch 200/200\n",
      "379/379 [==============================] - 0s 466us/step - loss: 19.2788\n"
     ]
    },
    {
     "data": {
      "text/plain": [
       "<keras.callbacks.History at 0x7f01604890b8>"
      ]
     },
     "execution_count": 23,
     "metadata": {},
     "output_type": "execute_result"
    }
   ],
   "source": [
    "# Create the final model for evaluating the test dataset\n",
    "final_model = create_grid_model(best_optimizer, best_kernel_init)\n",
    "final_model.fit(X_train, y_train, epochs=best_epochs, batch_size=best_batches, verbose=1)"
   ]
  },
  {
   "cell_type": "code",
   "execution_count": 24,
   "metadata": {},
   "outputs": [
    {
     "name": "stdout",
     "output_type": "stream",
     "text": [
      "_________________________________________________________________\n",
      "Layer (type)                 Output Shape              Param #   \n",
      "=================================================================\n",
      "dense_23 (Dense)             (None, 13)                182       \n",
      "_________________________________________________________________\n",
      "dense_24 (Dense)             (None, 1)                 14        \n",
      "=================================================================\n",
      "Total params: 196\n",
      "Trainable params: 196\n",
      "Non-trainable params: 0\n",
      "_________________________________________________________________\n",
      "None\n"
     ]
    }
   ],
   "source": [
    "# Display a summary of the final model\n",
    "print(final_model.summary())"
   ]
  },
  {
   "cell_type": "code",
   "execution_count": 25,
   "metadata": {
    "colab": {
     "base_uri": "https://localhost:8080/",
     "height": 109
    },
    "colab_type": "code",
    "id": "-H_7ah8gPRmw",
    "outputId": "52212ba7-304e-46ac-e6de-a30afa3dc6bd"
   },
   "outputs": [
    {
     "name": "stdout",
     "output_type": "stream",
     "text": [
      "127/127 [==============================] - 0s 3ms/step\n",
      "Final MSE of the model: 15.93\n"
     ]
    }
   ],
   "source": [
    "# Evaluate the Keras model on previously unseen data\n",
    "scores = final_model.evaluate(X_test, y_test)\n",
    "print(\"Final MSE of the model: %.2f\" % (scores))"
   ]
  },
  {
   "cell_type": "code",
   "execution_count": 26,
   "metadata": {
    "colab": {},
    "colab_type": "code",
    "id": "0r4rJRXHTBTv"
   },
   "outputs": [],
   "source": [
    "if (notifyStatus): email_notify(\"Phase 4 Optimize Model completed! \"+datetime.now().strftime('%a %B %d, %Y %I:%M:%S %p'))"
   ]
  },
  {
   "cell_type": "markdown",
   "metadata": {
    "colab_type": "text",
    "id": "ohwYIizSIfPG"
   },
   "source": [
    "# Section 5. Finalize Model"
   ]
  },
  {
   "cell_type": "code",
   "execution_count": 27,
   "metadata": {
    "colab": {},
    "colab_type": "code",
    "id": "yh14j7v8TFPe"
   },
   "outputs": [],
   "source": [
    "if (notifyStatus): email_notify(\"Phase 5 Finalize Model has begun! \"+datetime.now().strftime('%a %B %d, %Y %I:%M:%S %p'))"
   ]
  },
  {
   "cell_type": "code",
   "execution_count": 28,
   "metadata": {
    "colab": {
     "base_uri": "https://localhost:8080/",
     "height": 201
    },
    "colab_type": "code",
    "id": "oUhkDCG8AkUC",
    "outputId": "fb87e85d-6fee-4a5b-9b5f-c2a9fe91099e"
   },
   "outputs": [
    {
     "name": "stdout",
     "output_type": "stream",
     "text": [
      "[0.6147, 0.0, 6.2, 0.0, 0.507, 6.618, 80.8, 3.2721, 8.0, 307.0, 17.4, 396.9, 7.6] => 28 (expected 30)\n",
      "[3.5350099999999998, 0.0, 19.58, 1.0, 0.871, 6.152, 82.6, 1.7455, 5.0, 403.0, 14.7, 88.01, 15.02] => 11 (expected 15)\n",
      "[0.10612, 30.0, 4.93, 0.0, 0.428, 6.095, 65.1, 6.3361, 6.0, 300.0, 16.6, 394.62, 12.4] => 21 (expected 20)\n",
      "[16.8118, 0.0, 18.1, 0.0, 0.7, 5.277, 98.1, 1.4261, 24.0, 666.0, 20.2, 396.9, 30.81] => 8 (expected 7)\n",
      "[0.31827, 0.0, 9.9, 0.0, 0.544, 5.914, 83.2, 3.9986, 4.0, 304.0, 18.4, 390.7, 18.33] => 17 (expected 17)\n",
      "[0.09744, 0.0, 5.96, 0.0, 0.499, 5.841, 61.4, 3.3779, 5.0, 279.0, 19.2, 377.56, 11.41] => 20 (expected 20)\n",
      "[0.03466, 35.0, 6.06, 0.0, 0.4379, 6.031, 23.3, 6.6407, 1.0, 304.0, 16.9, 362.25, 7.83] => 21 (expected 19)\n",
      "[0.28955, 0.0, 10.59, 0.0, 0.489, 5.412, 9.8, 3.5875, 4.0, 277.0, 18.6, 348.93, 29.55] => 12 (expected 23)\n",
      "[0.76162, 20.0, 3.97, 0.0, 0.647, 5.56, 62.8, 1.9865, 5.0, 264.0, 13.0, 392.4, 10.45] => 22 (expected 22)\n",
      "[0.02009, 95.0, 2.68, 0.0, 0.4161, 8.034, 31.9, 5.118, 4.0, 224.0, 14.7, 390.55, 2.88] => 43 (expected 50)\n",
      "[0.015380000000000001, 90.0, 3.75, 0.0, 0.394, 7.454, 34.2, 6.3361, 3.0, 244.0, 15.9, 386.34, 3.11] => 37 (expected 44)\n",
      "[0.06162, 0.0, 4.39, 0.0, 0.442, 5.898, 52.3, 8.0136, 3.0, 352.0, 18.8, 364.61, 12.67] => 17 (expected 17)\n",
      "[0.22188000000000002, 20.0, 6.96, 1.0, 0.464, 7.691, 51.8, 4.3665, 3.0, 223.0, 18.6, 390.77, 6.58] => 31 (expected 35)\n",
      "[0.14866, 0.0, 8.56, 0.0, 0.52, 6.727, 79.9, 2.7778, 5.0, 384.0, 20.9, 394.76, 9.42] => 20 (expected 27)\n",
      "[0.037380000000000004, 0.0, 5.19, 0.0, 0.515, 6.31, 38.5, 6.4584, 5.0, 224.0, 20.2, 389.4, 6.75] => 23 (expected 20)\n",
      "[0.07244, 60.0, 1.69, 0.0, 0.411, 5.884, 18.5, 10.7103, 4.0, 411.0, 18.3, 392.33, 7.79] => 21 (expected 18)\n",
      "[0.44178, 0.0, 6.2, 0.0, 0.504, 6.552, 21.4, 3.3751, 8.0, 307.0, 17.4, 380.34, 3.76] => 33 (expected 31)\n",
      "[0.08221, 22.0, 5.86, 0.0, 0.431, 6.957, 6.8, 8.9067, 7.0, 330.0, 19.1, 386.09, 3.53] => 26 (expected 29)\n",
      "[0.43571000000000004, 0.0, 10.59, 1.0, 0.489, 5.344, 100.0, 3.875, 4.0, 277.0, 18.6, 396.9, 23.09] => 17 (expected 20)\n",
      "[0.6379600000000001, 0.0, 8.14, 0.0, 0.538, 6.096, 84.5, 4.4619, 4.0, 307.0, 21.0, 380.02, 10.26] => 19 (expected 18)\n"
     ]
    }
   ],
   "source": [
    "# Make class predictions with the model\n",
    "predictions = final_model.predict(X_test)\n",
    "\n",
    "# Summarize the first 20 cases\n",
    "for i in range(20):\n",
    "\tprint('%s => %d (expected %d)' % (X_test[i].tolist(), predictions[i], y_test[i]))"
   ]
  },
  {
   "cell_type": "code",
   "execution_count": 29,
   "metadata": {
    "colab": {},
    "colab_type": "code",
    "id": "UkgS_dVLTIIi"
   },
   "outputs": [],
   "source": [
    "if (notifyStatus): email_notify(\"Phase 5 Finalize Model completed! \"+datetime.now().strftime('%a %B %d, %Y %I:%M:%S %p'))"
   ]
  },
  {
   "cell_type": "code",
   "execution_count": 30,
   "metadata": {
    "colab": {
     "base_uri": "https://localhost:8080/",
     "height": 35
    },
    "colab_type": "code",
    "id": "Qb7Ry_60TMOl",
    "outputId": "08177fca-8793-418e-a88c-131f35590eb2"
   },
   "outputs": [
    {
     "name": "stdout",
     "output_type": "stream",
     "text": [
      "Total time for the script: 0:36:13.989221\n"
     ]
    }
   ],
   "source": [
    "print ('Total time for the script:',(datetime.now() - startTimeScript))"
   ]
  }
 ],
 "metadata": {
  "colab": {
   "collapsed_sections": [],
   "name": "py-keras-classification-binary-class-example.ipynb",
   "provenance": [],
   "toc_visible": true
  },
  "kernelspec": {
   "display_name": "Python 3",
   "language": "python",
   "name": "python3"
  },
  "language_info": {
   "codemirror_mode": {
    "name": "ipython",
    "version": 3
   },
   "file_extension": ".py",
   "mimetype": "text/x-python",
   "name": "python",
   "nbconvert_exporter": "python",
   "pygments_lexer": "ipython3",
   "version": "3.7.3"
  }
 },
 "nbformat": 4,
 "nbformat_minor": 4
}
