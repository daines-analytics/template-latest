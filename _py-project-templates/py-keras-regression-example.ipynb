{
 "cells": [
  {
   "cell_type": "markdown",
   "metadata": {},
   "source": [
    "# Regression Deep Learning Model for [PROJECT NAME] Using Keras Version 2\n",
    "### David Lowe\n",
    "### October 31, 2019\n",
    "\n",
    "Template Credit: Adapted from a template made available by Dr. Jason Brownlee of Machine Learning Mastery. [https://machinelearningmastery.com/]\n",
    "\n",
    "SUMMARY: The purpose of this project is to construct a predictive model using various machine learning algorithms and to document the end-to-end steps using a template. The [PROJECT NAME] dataset is a regression situation where we are trying to predict the value of a continuous variable.\n",
    "\n",
    "INTRODUCTION: [Sample Paragraph - The purpose of the analysis is to predict the housing values in the suburbs of Boston by using the home sale transaction history.]\n",
    "\n",
    "ANALYSIS: [Sample Paragraph - The baseline performance of the model achieved an average mean squared error of 70.08. After tuning the hyperparameters, the final model processed the test dataset with a mean squared error of 13.08, which was much better than the baseline result from the training dataset.]\n",
    "\n",
    "CONCLUSION: For this dataset, the model built using Keras and TensorFlow achieved a satisfactory result and should be considered for future modeling activities.\n",
    "\n",
    "Dataset Used: [PROJECT NAME] Dataset\n",
    "\n",
    "Dataset ML Model: Regression with numerical attributes\n",
    "\n",
    "Dataset Reference: [https://raw.githubusercontent.com/jbrownlee/Datasets/master/housing.data]\n",
    "\n",
    "One potential source of performance benchmarks: [https://machinelearningmastery.com/regression-tutorial-keras-deep-learning-library-python/]\n",
    "\n",
    "Any deep-learning modeling project genrally can be broken down into about seven major tasks:\n",
    "0. Prepare Environment\n",
    "1. Load Data\n",
    "2. Define Model\n",
    "3. Fit and Evaluate Model\n",
    "4. Optimize Model\n",
    "5. Finalize Model"
   ]
  },
  {
   "cell_type": "markdown",
   "metadata": {},
   "source": [
    "# Section 0. Prepare Environment"
   ]
  },
  {
   "cell_type": "code",
   "execution_count": 1,
   "metadata": {},
   "outputs": [],
   "source": [
    "# Set the warning message filter\n",
    "import warnings\n",
    "warnings.filterwarnings(\"ignore\", category=FutureWarning)\n",
    "warnings.filterwarnings(\"ignore\", category=DeprecationWarning)"
   ]
  },
  {
   "cell_type": "code",
   "execution_count": 2,
   "metadata": {},
   "outputs": [],
   "source": [
    "# Set the random seed number for reproducible results\n",
    "seedNum = 888"
   ]
  },
  {
   "cell_type": "code",
   "execution_count": 3,
   "metadata": {},
   "outputs": [
    {
     "name": "stderr",
     "output_type": "stream",
     "text": [
      "Using TensorFlow backend.\n"
     ]
    }
   ],
   "source": [
    "# Load libraries and packages\n",
    "import random\n",
    "random.seed(seedNum)\n",
    "import numpy as np\n",
    "np.random.seed(seedNum)\n",
    "import tensorflow as tf\n",
    "tf.random.set_seed(seedNum)\n",
    "import keras as K\n",
    "from keras.layers import Dense\n",
    "from keras.wrappers.scikit_learn import KerasClassifier\n",
    "from keras.wrappers.scikit_learn import KerasRegressor\n",
    "from keras.utils import np_utils\n",
    "import pandas as pd\n",
    "import os\n",
    "import sys\n",
    "import shutil\n",
    "import urllib.request\n",
    "import zipfile\n",
    "import smtplib\n",
    "import matplotlib.pyplot as plt\n",
    "from datetime import datetime\n",
    "from email.message import EmailMessage\n",
    "from sklearn.model_selection import train_test_split\n",
    "from sklearn.model_selection import KFold\n",
    "from sklearn.model_selection import StratifiedKFold\n",
    "from sklearn.model_selection import cross_val_score\n",
    "from sklearn.model_selection import GridSearchCV\n",
    "from sklearn.model_selection import RandomizedSearchCV\n",
    "from sklearn import preprocessing\n",
    "from sklearn.pipeline import Pipeline"
   ]
  },
  {
   "cell_type": "code",
   "execution_count": 4,
   "metadata": {},
   "outputs": [
    {
     "name": "stdout",
     "output_type": "stream",
     "text": [
      "Num GPUs Available:  0\n"
     ]
    }
   ],
   "source": [
    "# Begin the timer for the script processing\n",
    "startTimeScript = datetime.now()\n",
    "\n",
    "# Set up the verbose flag to print detailed messages for debugging (setting to True will activate)\n",
    "verbose = True\n",
    "tf.debugging.set_log_device_placement(verbose)\n",
    "\n",
    "# Set up the number of CPU cores available for multi-thread processing\n",
    "n_jobs = -1\n",
    "print(\"Num GPUs Available: \", len(tf.config.experimental.list_physical_devices('GPU')))\n",
    "\n",
    "# Set up the flag to stop sending progress emails (setting to True will send status emails!)\n",
    "notifyStatus = False\n",
    "\n",
    "# Set the number of folds for cross validation\n",
    "n_folds = 5\n",
    "\n",
    "# Set the flag for splitting the dataset\n",
    "splitDataset = True\n",
    "splitPercentage = 0.25\n",
    "\n",
    "# Set various default Keras modeling parameters\n",
    "default_kernel_init = K.initializers.RandomNormal(seed=seedNum)\n",
    "default_loss = 'mean_squared_error'\n",
    "default_optimizer = 'adam'\n",
    "default_epochs = 100\n",
    "default_batches = 5"
   ]
  },
  {
   "cell_type": "code",
   "execution_count": 5,
   "metadata": {},
   "outputs": [],
   "source": [
    "# Set up the email notification function\n",
    "def email_notify(msg_text):\n",
    "    sender = os.environ.get('MAIL_SENDER')\n",
    "    receiver = os.environ.get('MAIL_RECEIVER')\n",
    "    gateway = os.environ.get('SMTP_GATEWAY')\n",
    "    smtpuser = os.environ.get('SMTP_USERNAME')\n",
    "    password = os.environ.get('SMTP_PASSWORD')\n",
    "    if sender==None or receiver==None or gateway==None or smtpuser==None or password==None:\n",
    "        sys.exit(\"Incomplete email setup info. Script Processing Aborted!!!\")\n",
    "    msg = EmailMessage()\n",
    "    msg.set_content(msg_text)\n",
    "    msg['Subject'] = 'Notification from Keras Regression Script'\n",
    "    msg['From'] = sender\n",
    "    msg['To'] = receiver\n",
    "    server = smtplib.SMTP(gateway, 587)\n",
    "    server.starttls()\n",
    "    server.login(smtpuser, password)\n",
    "    server.send_message(msg)\n",
    "    server.quit()"
   ]
  },
  {
   "cell_type": "code",
   "execution_count": 6,
   "metadata": {},
   "outputs": [],
   "source": [
    "if (notifyStatus): email_notify(\"Phase 0 Prepare Environment completed! \"+datetime.now().strftime('%a %B %d, %Y %I:%M:%S %p'))"
   ]
  },
  {
   "cell_type": "markdown",
   "metadata": {},
   "source": [
    "# Section 1. Load Data"
   ]
  },
  {
   "cell_type": "code",
   "execution_count": 7,
   "metadata": {},
   "outputs": [],
   "source": [
    "if (notifyStatus): email_notify(\"Phase 1 Load Data has begun! \"+datetime.now().strftime('%a %B %d, %Y %I:%M:%S %p'))"
   ]
  },
  {
   "cell_type": "code",
   "execution_count": 8,
   "metadata": {},
   "outputs": [
    {
     "name": "stdout",
     "output_type": "stream",
     "text": [
      "[[6.3200e-03 1.8000e+01 2.3100e+00 ... 3.9690e+02 4.9800e+00 2.4000e+01]\n",
      " [2.7310e-02 0.0000e+00 7.0700e+00 ... 3.9690e+02 9.1400e+00 2.1600e+01]\n",
      " [2.7290e-02 0.0000e+00 7.0700e+00 ... 3.9283e+02 4.0300e+00 3.4700e+01]\n",
      " ...\n",
      " [6.0760e-02 0.0000e+00 1.1930e+01 ... 3.9690e+02 5.6400e+00 2.3900e+01]\n",
      " [1.0959e-01 0.0000e+00 1.1930e+01 ... 3.9345e+02 6.4800e+00 2.2000e+01]\n",
      " [4.7410e-02 0.0000e+00 1.1930e+01 ... 3.9690e+02 7.8800e+00 1.1900e+01]]\n"
     ]
    }
   ],
   "source": [
    "# Load the dataset\n",
    "df_original = pd.read_csv(\"https://archive.ics.uci.edu/ml/machine-learning-databases/housing/housing.data\", delim_whitespace=True, header=None)\n",
    "dataset = df_original.values\n",
    "print(dataset)"
   ]
  },
  {
   "cell_type": "code",
   "execution_count": 9,
   "metadata": {},
   "outputs": [
    {
     "name": "stdout",
     "output_type": "stream",
     "text": [
      "Shape of X_original: (506, 13) | Shape of y_original: (506,)\n"
     ]
    }
   ],
   "source": [
    "# Split the original dataset into input (X) and output (y) variables\n",
    "X_original = dataset[:,0:13].astype(float)\n",
    "y_original = dataset[:,13]\n",
    "print('Shape of X_original:', X_original.shape, '| Shape of y_original:', y_original.shape)"
   ]
  },
  {
   "cell_type": "code",
   "execution_count": 10,
   "metadata": {},
   "outputs": [
    {
     "name": "stdout",
     "output_type": "stream",
     "text": [
      "X_train.shape: (379, 13) X_train.type: <class 'numpy.ndarray'>\n",
      "y_train.shape: (379,) y_train.type: <class 'numpy.ndarray'>\n",
      "X_test.shape: (127, 13) X_test.type: <class 'numpy.ndarray'>\n",
      "y_test.shape: (127,) y_test.type: <class 'numpy.ndarray'>\n"
     ]
    }
   ],
   "source": [
    "X_encoded = X_original\n",
    "y_encoded = y_original\n",
    "if (splitDataset):\n",
    "    X_train, X_test, y_train, y_test = train_test_split(X_encoded, y_encoded, test_size=splitPercentage, random_state=seedNum)\n",
    "else:\n",
    "    X_train, y_train = X_encoded, y_encoded\n",
    "    X_test, y_test = X_encoded, y_encoded\n",
    "print(\"X_train.shape: {} X_train.type: {}\".format(X_train.shape, type(X_train)))\n",
    "print(\"y_train.shape: {} y_train.type: {}\".format(y_train.shape, type(y_train)))\n",
    "print(\"X_test.shape: {} X_test.type: {}\".format(X_test.shape, type(X_test)))\n",
    "print(\"y_test.shape: {} y_test.type: {}\".format(y_test.shape, type(y_test)))"
   ]
  },
  {
   "cell_type": "code",
   "execution_count": 11,
   "metadata": {},
   "outputs": [],
   "source": [
    "if (notifyStatus): email_notify(\"Phase 1 Load Data completed! \"+datetime.now().strftime('%a %B %d, %Y %I:%M:%S %p'))"
   ]
  },
  {
   "cell_type": "markdown",
   "metadata": {},
   "source": [
    "# Section 2. Define Model"
   ]
  },
  {
   "cell_type": "code",
   "execution_count": 12,
   "metadata": {},
   "outputs": [],
   "source": [
    "if (notifyStatus): email_notify(\"Phase 2 Define Model has begun! \"+datetime.now().strftime('%a %B %d, %Y %I:%M:%S %p'))"
   ]
  },
  {
   "cell_type": "code",
   "execution_count": 13,
   "metadata": {},
   "outputs": [],
   "source": [
    "# Define the Keras model required for KerasClassifier\n",
    "def create_default_model():\n",
    "    default_model = K.models.Sequential()\n",
    "    default_model.add(Dense(13, input_dim=13, kernel_initializer=default_kernel_init, activation='relu'))\n",
    "    default_model.add(Dense(1, kernel_initializer=default_kernel_init))\n",
    "    default_model.compile(loss=default_loss, optimizer=default_optimizer)\n",
    "    return default_model"
   ]
  },
  {
   "cell_type": "code",
   "execution_count": 14,
   "metadata": {},
   "outputs": [],
   "source": [
    "# Initialize the Keras model\n",
    "estimators = []\n",
    "estimators.append(('standardize', preprocessing.Normalizer()))\n",
    "estimators.append(('mlp', KerasRegressor(build_fn=create_default_model, epochs=default_epochs, batch_size=default_batches, verbose=0)))\n",
    "cv_model = Pipeline(estimators)"
   ]
  },
  {
   "cell_type": "code",
   "execution_count": 15,
   "metadata": {},
   "outputs": [],
   "source": [
    "if (notifyStatus): email_notify(\"Phase 2 Define Model completed! \"+datetime.now().strftime('%a %B %d, %Y %I:%M:%S %p'))"
   ]
  },
  {
   "cell_type": "markdown",
   "metadata": {},
   "source": [
    "# Section 3. Fit and Evaluate Model"
   ]
  },
  {
   "cell_type": "code",
   "execution_count": 16,
   "metadata": {},
   "outputs": [],
   "source": [
    "if (notifyStatus): email_notify(\"Phase 3 Fit and Evaluate Model has begun! \"+datetime.now().strftime('%a %B %d, %Y %I:%M:%S %p'))"
   ]
  },
  {
   "cell_type": "code",
   "execution_count": 17,
   "metadata": {},
   "outputs": [
    {
     "name": "stdout",
     "output_type": "stream",
     "text": [
      "Executing op RandomStandardNormal in device /job:localhost/replica:0/task:0/device:CPU:0\n",
      "Executing op Mul in device /job:localhost/replica:0/task:0/device:CPU:0\n",
      "Executing op Add in device /job:localhost/replica:0/task:0/device:CPU:0\n",
      "Executing op VarHandleOp in device /job:localhost/replica:0/task:0/device:CPU:0\n",
      "Executing op VarIsInitializedOp in device /job:localhost/replica:0/task:0/device:CPU:0\n",
      "Executing op LogicalNot in device /job:localhost/replica:0/task:0/device:CPU:0\n",
      "Executing op Assert in device /job:localhost/replica:0/task:0/device:CPU:0\n",
      "Executing op AssignVariableOp in device /job:localhost/replica:0/task:0/device:CPU:0\n",
      "Executing op Fill in device /job:localhost/replica:0/task:0/device:CPU:0\n",
      "Executing op VarHandleOp in device /job:localhost/replica:0/task:0/device:CPU:0\n",
      "Executing op RandomStandardNormal in device /job:localhost/replica:0/task:0/device:CPU:0\n",
      "Executing op VarHandleOp in device /job:localhost/replica:0/task:0/device:CPU:0\n",
      "Executing op Reshape in device /job:localhost/replica:0/task:0/device:CPU:0\n",
      "Executing op VarHandleOp in device /job:localhost/replica:0/task:0/device:CPU:0\n",
      "Executing op VarHandleOp in device /job:localhost/replica:0/task:0/device:CPU:0\n",
      "Executing op AssignVariableOp in device /job:localhost/replica:0/task:0/device:CPU:0\n",
      "Executing op VarHandleOp in device /job:localhost/replica:0/task:0/device:CPU:0\n",
      "Executing op __inference_keras_scratch_graph_693 in device /job:localhost/replica:0/task:0/device:CPU:0\n",
      "Executing op __inference_keras_scratch_graph_25126 in device /job:localhost/replica:0/task:0/device:CPU:0\n",
      "Executing op RandomStandardNormal in device /job:localhost/replica:0/task:0/device:CPU:0\n",
      "Executing op RandomStandardNormal in device /job:localhost/replica:0/task:0/device:CPU:0\n",
      "Executing op DestroyResourceOp in device /job:localhost/replica:0/task:0/device:CPU:0\n",
      "Executing op __inference_keras_scratch_graph_25882 in device /job:localhost/replica:0/task:0/device:CPU:0\n",
      "Executing op __inference_keras_scratch_graph_50315 in device /job:localhost/replica:0/task:0/device:CPU:0\n",
      "Executing op RandomStandardNormal in device /job:localhost/replica:0/task:0/device:CPU:0\n",
      "Executing op RandomStandardNormal in device /job:localhost/replica:0/task:0/device:CPU:0\n",
      "Executing op __inference_keras_scratch_graph_51071 in device /job:localhost/replica:0/task:0/device:CPU:0\n",
      "Executing op __inference_keras_scratch_graph_75504 in device /job:localhost/replica:0/task:0/device:CPU:0\n",
      "Executing op RandomStandardNormal in device /job:localhost/replica:0/task:0/device:CPU:0\n",
      "Executing op RandomStandardNormal in device /job:localhost/replica:0/task:0/device:CPU:0\n",
      "Executing op __inference_keras_scratch_graph_76260 in device /job:localhost/replica:0/task:0/device:CPU:0\n",
      "Executing op __inference_keras_scratch_graph_100693 in device /job:localhost/replica:0/task:0/device:CPU:0\n",
      "Executing op RandomStandardNormal in device /job:localhost/replica:0/task:0/device:CPU:0\n",
      "Executing op RandomStandardNormal in device /job:localhost/replica:0/task:0/device:CPU:0\n",
      "Executing op __inference_keras_scratch_graph_101449 in device /job:localhost/replica:0/task:0/device:CPU:0\n",
      "Executing op __inference_keras_scratch_graph_125882 in device /job:localhost/replica:0/task:0/device:CPU:0\n",
      "Generating results using the metrics of mean_squared_error\n",
      "All cross-Validate results: [-87.38288351 -83.81351198 -50.9617352  -60.40492785 -67.82704519]\n",
      "Baseline results [mean (std)]: -70.08 (13.80)\n",
      "Total time for performing cross-validation of the default model: 0:01:06.173501\n"
     ]
    }
   ],
   "source": [
    "startTimeModule = datetime.now()\n",
    "\n",
    "# Fit and evaluate the Keras model using 10-fold cross validation\n",
    "kfold = KFold(n_splits=n_folds, shuffle=True, random_state=seedNum)\n",
    "results = cross_val_score(cv_model, X_train, y_train, cv=kfold)\n",
    "print('Generating results using the metrics of', default_loss)\n",
    "print('All cross-Validate results:', results)\n",
    "print('Baseline results [mean (std)]: %.2f (%.2f)' % (results.mean(), results.std()))\n",
    "\n",
    "print('Total time for performing cross-validation of the default model:', (datetime.now() - startTimeModule))"
   ]
  },
  {
   "cell_type": "code",
   "execution_count": 18,
   "metadata": {},
   "outputs": [],
   "source": [
    "if (notifyStatus): email_notify(\"Phase 3 Fit and Evaluate Model completed! \"+datetime.now().strftime('%a %B %d, %Y %I:%M:%S %p'))"
   ]
  },
  {
   "cell_type": "markdown",
   "metadata": {},
   "source": [
    "# Section 4. Optimize Model"
   ]
  },
  {
   "cell_type": "code",
   "execution_count": 19,
   "metadata": {},
   "outputs": [],
   "source": [
    "if (notifyStatus): email_notify(\"Phase 4 Optimize Model has begun! \"+datetime.now().strftime('%a %B %d, %Y %I:%M:%S %p'))"
   ]
  },
  {
   "cell_type": "code",
   "execution_count": 20,
   "metadata": {},
   "outputs": [],
   "source": [
    "# Define the Keras model required for KerasClassifier\n",
    "def create_customized_model(optimizer, kernel_init):\n",
    "    customized_model = K.models.Sequential()\n",
    "    customized_model.add(Dense(13, input_dim=13, kernel_initializer=kernel_init, activation='relu'))\n",
    "    customized_model.add(Dense(1, kernel_initializer=kernel_init))\n",
    "    customized_model.compile(loss=default_loss, optimizer=optimizer)\n",
    "    return customized_model"
   ]
  },
  {
   "cell_type": "code",
   "execution_count": 21,
   "metadata": {},
   "outputs": [
    {
     "name": "stdout",
     "output_type": "stream",
     "text": [
      "Executing op RandomStandardNormal in device /job:localhost/replica:0/task:0/device:CPU:0\n",
      "Executing op RandomStandardNormal in device /job:localhost/replica:0/task:0/device:CPU:0\n"
     ]
    },
    {
     "name": "stderr",
     "output_type": "stream",
     "text": [
      "/usr/local/lib/python3.7/site-packages/sklearn/model_selection/_search.py:814: DeprecationWarning: The default of the `iid` parameter will change from True to False in version 0.22 and will be removed in 0.24. This will change numeric results when test-set sizes are unequal.\n",
      "  DeprecationWarning)\n"
     ]
    },
    {
     "name": "stdout",
     "output_type": "stream",
     "text": [
      "Executing op __inference_keras_scratch_graph_126634 in device /job:localhost/replica:0/task:0/device:CPU:0\n",
      "Best: -21.875625 using {'batch_size': 5, 'epochs': 200, 'kernel_init': 'RandomNormal', 'optimizer': 'adam'}\n",
      "-26.363718 (9.890555) with: {'batch_size': 5, 'epochs': 100, 'kernel_init': 'RandomNormal', 'optimizer': 'rmsprop'}\n",
      "-28.748425 (9.264949) with: {'batch_size': 5, 'epochs': 100, 'kernel_init': 'RandomNormal', 'optimizer': 'adam'}\n",
      "-36.629009 (10.121549) with: {'batch_size': 5, 'epochs': 100, 'kernel_init': 'glorot_normal', 'optimizer': 'rmsprop'}\n",
      "-36.657122 (14.736011) with: {'batch_size': 5, 'epochs': 100, 'kernel_init': 'glorot_normal', 'optimizer': 'adam'}\n",
      "-36.647870 (13.520263) with: {'batch_size': 5, 'epochs': 100, 'kernel_init': 'Orthogonal', 'optimizer': 'rmsprop'}\n",
      "-35.195018 (12.109513) with: {'batch_size': 5, 'epochs': 100, 'kernel_init': 'Orthogonal', 'optimizer': 'adam'}\n",
      "-26.832822 (10.553505) with: {'batch_size': 5, 'epochs': 150, 'kernel_init': 'RandomNormal', 'optimizer': 'rmsprop'}\n",
      "-22.646740 (10.562036) with: {'batch_size': 5, 'epochs': 150, 'kernel_init': 'RandomNormal', 'optimizer': 'adam'}\n",
      "-33.708373 (9.656097) with: {'batch_size': 5, 'epochs': 150, 'kernel_init': 'glorot_normal', 'optimizer': 'rmsprop'}\n",
      "-33.622613 (14.244714) with: {'batch_size': 5, 'epochs': 150, 'kernel_init': 'glorot_normal', 'optimizer': 'adam'}\n",
      "-34.857396 (12.557053) with: {'batch_size': 5, 'epochs': 150, 'kernel_init': 'Orthogonal', 'optimizer': 'rmsprop'}\n",
      "-38.143118 (11.914482) with: {'batch_size': 5, 'epochs': 150, 'kernel_init': 'Orthogonal', 'optimizer': 'adam'}\n",
      "-22.062302 (10.781735) with: {'batch_size': 5, 'epochs': 200, 'kernel_init': 'RandomNormal', 'optimizer': 'rmsprop'}\n",
      "-21.875625 (12.575182) with: {'batch_size': 5, 'epochs': 200, 'kernel_init': 'RandomNormal', 'optimizer': 'adam'}\n",
      "-32.404175 (11.419146) with: {'batch_size': 5, 'epochs': 200, 'kernel_init': 'glorot_normal', 'optimizer': 'rmsprop'}\n",
      "-31.740602 (11.519422) with: {'batch_size': 5, 'epochs': 200, 'kernel_init': 'glorot_normal', 'optimizer': 'adam'}\n",
      "-32.656571 (14.527508) with: {'batch_size': 5, 'epochs': 200, 'kernel_init': 'Orthogonal', 'optimizer': 'rmsprop'}\n",
      "-36.222859 (15.993647) with: {'batch_size': 5, 'epochs': 200, 'kernel_init': 'Orthogonal', 'optimizer': 'adam'}\n",
      "-37.009210 (12.670451) with: {'batch_size': 10, 'epochs': 100, 'kernel_init': 'RandomNormal', 'optimizer': 'rmsprop'}\n",
      "-31.581039 (7.434289) with: {'batch_size': 10, 'epochs': 100, 'kernel_init': 'RandomNormal', 'optimizer': 'adam'}\n",
      "-45.755444 (13.835452) with: {'batch_size': 10, 'epochs': 100, 'kernel_init': 'glorot_normal', 'optimizer': 'rmsprop'}\n",
      "-44.309182 (20.679949) with: {'batch_size': 10, 'epochs': 100, 'kernel_init': 'glorot_normal', 'optimizer': 'adam'}\n",
      "-53.643955 (18.974109) with: {'batch_size': 10, 'epochs': 100, 'kernel_init': 'Orthogonal', 'optimizer': 'rmsprop'}\n",
      "-40.462312 (13.957437) with: {'batch_size': 10, 'epochs': 100, 'kernel_init': 'Orthogonal', 'optimizer': 'adam'}\n",
      "-33.041955 (11.384025) with: {'batch_size': 10, 'epochs': 150, 'kernel_init': 'RandomNormal', 'optimizer': 'rmsprop'}\n",
      "-25.349507 (10.447934) with: {'batch_size': 10, 'epochs': 150, 'kernel_init': 'RandomNormal', 'optimizer': 'adam'}\n",
      "-38.273681 (10.564821) with: {'batch_size': 10, 'epochs': 150, 'kernel_init': 'glorot_normal', 'optimizer': 'rmsprop'}\n",
      "-37.544317 (14.439467) with: {'batch_size': 10, 'epochs': 150, 'kernel_init': 'glorot_normal', 'optimizer': 'adam'}\n",
      "-40.508122 (14.967848) with: {'batch_size': 10, 'epochs': 150, 'kernel_init': 'Orthogonal', 'optimizer': 'rmsprop'}\n",
      "-35.587705 (13.268144) with: {'batch_size': 10, 'epochs': 150, 'kernel_init': 'Orthogonal', 'optimizer': 'adam'}\n",
      "-24.569390 (13.010419) with: {'batch_size': 10, 'epochs': 200, 'kernel_init': 'RandomNormal', 'optimizer': 'rmsprop'}\n",
      "-28.125778 (10.435372) with: {'batch_size': 10, 'epochs': 200, 'kernel_init': 'RandomNormal', 'optimizer': 'adam'}\n",
      "-37.759620 (8.903132) with: {'batch_size': 10, 'epochs': 200, 'kernel_init': 'glorot_normal', 'optimizer': 'rmsprop'}\n",
      "-43.372437 (24.553780) with: {'batch_size': 10, 'epochs': 200, 'kernel_init': 'glorot_normal', 'optimizer': 'adam'}\n",
      "-34.966488 (15.568574) with: {'batch_size': 10, 'epochs': 200, 'kernel_init': 'Orthogonal', 'optimizer': 'rmsprop'}\n",
      "-38.776481 (13.279366) with: {'batch_size': 10, 'epochs': 200, 'kernel_init': 'Orthogonal', 'optimizer': 'adam'}\n",
      "-39.171432 (16.018594) with: {'batch_size': 15, 'epochs': 100, 'kernel_init': 'RandomNormal', 'optimizer': 'rmsprop'}\n",
      "-36.252724 (12.302023) with: {'batch_size': 15, 'epochs': 100, 'kernel_init': 'RandomNormal', 'optimizer': 'adam'}\n",
      "-47.664428 (12.658615) with: {'batch_size': 15, 'epochs': 100, 'kernel_init': 'glorot_normal', 'optimizer': 'rmsprop'}\n",
      "-51.835216 (17.553934) with: {'batch_size': 15, 'epochs': 100, 'kernel_init': 'glorot_normal', 'optimizer': 'adam'}\n",
      "-39.558178 (13.564156) with: {'batch_size': 15, 'epochs': 100, 'kernel_init': 'Orthogonal', 'optimizer': 'rmsprop'}\n",
      "-45.301945 (16.694289) with: {'batch_size': 15, 'epochs': 100, 'kernel_init': 'Orthogonal', 'optimizer': 'adam'}\n",
      "-38.452811 (11.613894) with: {'batch_size': 15, 'epochs': 150, 'kernel_init': 'RandomNormal', 'optimizer': 'rmsprop'}\n",
      "-28.633650 (12.559927) with: {'batch_size': 15, 'epochs': 150, 'kernel_init': 'RandomNormal', 'optimizer': 'adam'}\n",
      "-42.555867 (14.553196) with: {'batch_size': 15, 'epochs': 150, 'kernel_init': 'glorot_normal', 'optimizer': 'rmsprop'}\n",
      "-40.010029 (12.480117) with: {'batch_size': 15, 'epochs': 150, 'kernel_init': 'glorot_normal', 'optimizer': 'adam'}\n",
      "-37.431070 (15.375758) with: {'batch_size': 15, 'epochs': 150, 'kernel_init': 'Orthogonal', 'optimizer': 'rmsprop'}\n",
      "-39.762583 (13.840382) with: {'batch_size': 15, 'epochs': 150, 'kernel_init': 'Orthogonal', 'optimizer': 'adam'}\n",
      "-29.519157 (13.408056) with: {'batch_size': 15, 'epochs': 200, 'kernel_init': 'RandomNormal', 'optimizer': 'rmsprop'}\n",
      "-29.758377 (10.146543) with: {'batch_size': 15, 'epochs': 200, 'kernel_init': 'RandomNormal', 'optimizer': 'adam'}\n",
      "-47.525945 (22.780553) with: {'batch_size': 15, 'epochs': 200, 'kernel_init': 'glorot_normal', 'optimizer': 'rmsprop'}\n",
      "-39.500964 (12.703218) with: {'batch_size': 15, 'epochs': 200, 'kernel_init': 'glorot_normal', 'optimizer': 'adam'}\n",
      "-40.873327 (13.131752) with: {'batch_size': 15, 'epochs': 200, 'kernel_init': 'Orthogonal', 'optimizer': 'rmsprop'}\n",
      "-40.443986 (10.629155) with: {'batch_size': 15, 'epochs': 200, 'kernel_init': 'Orthogonal', 'optimizer': 'adam'}\n",
      "Total time for performing grid-search of the best parameters: 0:11:19.571705\n"
     ]
    }
   ],
   "source": [
    "startTimeModule = datetime.now()\n",
    "\n",
    "# Create model for grid search\n",
    "grid_model = KerasRegressor(build_fn=create_customized_model, verbose=0)\n",
    "\n",
    "# Perform grid search using different epochs, batch sizes, and optimizers\n",
    "optimizer_grid = ['rmsprop', 'adam']\n",
    "init_grid = ['RandomNormal', 'glorot_normal', 'Orthogonal']\n",
    "epoch_grid = [100, 150, 200]\n",
    "batch_grid = [5, 10, 15]\n",
    "param_grid = dict(optimizer=optimizer_grid, kernel_init=init_grid, epochs=epoch_grid, batch_size=batch_grid)\n",
    "grid = GridSearchCV(estimator=grid_model, param_grid=param_grid, cv=5, n_jobs=-1)\n",
    "grid_result = grid.fit(X_train, y_train)\n",
    "\n",
    "# summarize results\n",
    "print(\"Best: %f using %s\" % (grid_result.best_score_, grid_result.best_params_))\n",
    "means = grid_result.cv_results_['mean_test_score']\n",
    "stds = grid_result.cv_results_['std_test_score']\n",
    "params = grid_result.cv_results_['params']\n",
    "for mean, stdev, param in zip(means, stds, params):\n",
    "\tprint(\"%f (%f) with: %r\" % (mean, stdev, param))\n",
    "\n",
    "print('Total time for performing grid-search of the best parameters:', (datetime.now() - startTimeModule))"
   ]
  },
  {
   "cell_type": "code",
   "execution_count": 22,
   "metadata": {},
   "outputs": [],
   "source": [
    "best_optimizer = 'adam'\n",
    "best_kernel_init = 'RandomUniform'\n",
    "best_epochs = 200\n",
    "best_batches = 5"
   ]
  },
  {
   "cell_type": "code",
   "execution_count": 23,
   "metadata": {},
   "outputs": [
    {
     "name": "stdout",
     "output_type": "stream",
     "text": [
      "Executing op RandomUniform in device /job:localhost/replica:0/task:0/device:CPU:0\n",
      "Executing op Sub in device /job:localhost/replica:0/task:0/device:CPU:0\n",
      "Executing op RandomUniform in device /job:localhost/replica:0/task:0/device:CPU:0\n",
      "Epoch 1/200\n",
      "Executing op __inference_keras_scratch_graph_188128 in device /job:localhost/replica:0/task:0/device:CPU:0\n",
      "379/379 [==============================] - 0s 1ms/step - loss: 283.6526\n",
      "Epoch 2/200\n",
      "379/379 [==============================] - 0s 460us/step - loss: 102.9670\n",
      "Epoch 3/200\n",
      "379/379 [==============================] - 0s 430us/step - loss: 85.7596\n",
      "Epoch 4/200\n",
      "379/379 [==============================] - 0s 424us/step - loss: 75.9497\n",
      "Epoch 5/200\n",
      "379/379 [==============================] - 0s 428us/step - loss: 70.1791\n",
      "Epoch 6/200\n",
      "379/379 [==============================] - 0s 413us/step - loss: 67.2599\n",
      "Epoch 7/200\n",
      "379/379 [==============================] - 0s 414us/step - loss: 67.5220\n",
      "Epoch 8/200\n",
      "379/379 [==============================] - 0s 407us/step - loss: 63.3667\n",
      "Epoch 9/200\n",
      "379/379 [==============================] - 0s 410us/step - loss: 62.0536\n",
      "Epoch 10/200\n",
      "379/379 [==============================] - 0s 403us/step - loss: 61.4634\n",
      "Epoch 11/200\n",
      "379/379 [==============================] - 0s 413us/step - loss: 60.1215\n",
      "Epoch 12/200\n",
      "379/379 [==============================] - 0s 395us/step - loss: 57.0021\n",
      "Epoch 13/200\n",
      "379/379 [==============================] - 0s 408us/step - loss: 56.3706\n",
      "Epoch 14/200\n",
      "379/379 [==============================] - 0s 400us/step - loss: 54.9315\n",
      "Epoch 15/200\n",
      "379/379 [==============================] - 0s 422us/step - loss: 52.7047\n",
      "Epoch 16/200\n",
      "379/379 [==============================] - 0s 413us/step - loss: 52.2130\n",
      "Epoch 17/200\n",
      "379/379 [==============================] - 0s 421us/step - loss: 49.6681\n",
      "Epoch 18/200\n",
      "379/379 [==============================] - 0s 405us/step - loss: 47.8008\n",
      "Epoch 19/200\n",
      "379/379 [==============================] - 0s 411us/step - loss: 49.3276\n",
      "Epoch 20/200\n",
      "379/379 [==============================] - 0s 429us/step - loss: 46.6279\n",
      "Epoch 21/200\n",
      "379/379 [==============================] - 0s 417us/step - loss: 44.1232\n",
      "Epoch 22/200\n",
      "379/379 [==============================] - 0s 428us/step - loss: 43.3641\n",
      "Epoch 23/200\n",
      "379/379 [==============================] - 0s 422us/step - loss: 41.8192\n",
      "Epoch 24/200\n",
      "379/379 [==============================] - 0s 410us/step - loss: 40.5856\n",
      "Epoch 25/200\n",
      "379/379 [==============================] - 0s 411us/step - loss: 39.2829\n",
      "Epoch 26/200\n",
      "379/379 [==============================] - 0s 416us/step - loss: 38.2870\n",
      "Epoch 27/200\n",
      "379/379 [==============================] - 0s 406us/step - loss: 37.2582\n",
      "Epoch 28/200\n",
      "379/379 [==============================] - 0s 404us/step - loss: 38.3820\n",
      "Epoch 29/200\n",
      "379/379 [==============================] - 0s 423us/step - loss: 36.2754\n",
      "Epoch 30/200\n",
      "379/379 [==============================] - 0s 539us/step - loss: 34.4908\n",
      "Epoch 31/200\n",
      "379/379 [==============================] - 0s 404us/step - loss: 35.9271\n",
      "Epoch 32/200\n",
      "379/379 [==============================] - 0s 428us/step - loss: 33.9375\n",
      "Epoch 33/200\n",
      "379/379 [==============================] - 0s 412us/step - loss: 34.6946\n",
      "Epoch 34/200\n",
      "379/379 [==============================] - 0s 394us/step - loss: 34.7786\n",
      "Epoch 35/200\n",
      "379/379 [==============================] - 0s 408us/step - loss: 32.8805\n",
      "Epoch 36/200\n",
      "379/379 [==============================] - 0s 425us/step - loss: 32.2675\n",
      "Epoch 37/200\n",
      "379/379 [==============================] - 0s 425us/step - loss: 31.2963\n",
      "Epoch 38/200\n",
      "379/379 [==============================] - 0s 401us/step - loss: 32.3152\n",
      "Epoch 39/200\n",
      "379/379 [==============================] - 0s 424us/step - loss: 30.8159\n",
      "Epoch 40/200\n",
      "379/379 [==============================] - 0s 419us/step - loss: 31.1664\n",
      "Epoch 41/200\n",
      "379/379 [==============================] - 0s 416us/step - loss: 30.3687\n",
      "Epoch 42/200\n",
      "379/379 [==============================] - 0s 435us/step - loss: 31.5864\n",
      "Epoch 43/200\n",
      "379/379 [==============================] - 0s 426us/step - loss: 29.7276\n",
      "Epoch 44/200\n",
      "379/379 [==============================] - 0s 410us/step - loss: 31.1302\n",
      "Epoch 45/200\n",
      "379/379 [==============================] - 0s 410us/step - loss: 29.3303\n",
      "Epoch 46/200\n",
      "379/379 [==============================] - 0s 400us/step - loss: 29.8253\n",
      "Epoch 47/200\n",
      "379/379 [==============================] - 0s 414us/step - loss: 30.6338\n",
      "Epoch 48/200\n",
      "379/379 [==============================] - 0s 419us/step - loss: 29.1294\n",
      "Epoch 49/200\n",
      "379/379 [==============================] - 0s 421us/step - loss: 28.3766\n",
      "Epoch 50/200\n",
      "379/379 [==============================] - 0s 430us/step - loss: 27.9201\n",
      "Epoch 51/200\n",
      "379/379 [==============================] - 0s 431us/step - loss: 29.1430\n",
      "Epoch 52/200\n",
      "379/379 [==============================] - 0s 432us/step - loss: 27.5348\n",
      "Epoch 53/200\n",
      "379/379 [==============================] - 0s 423us/step - loss: 26.9644\n",
      "Epoch 54/200\n",
      "379/379 [==============================] - 0s 411us/step - loss: 26.9363\n",
      "Epoch 55/200\n",
      "379/379 [==============================] - 0s 427us/step - loss: 29.4318\n",
      "Epoch 56/200\n",
      "379/379 [==============================] - 0s 432us/step - loss: 27.8243\n",
      "Epoch 57/200\n",
      "379/379 [==============================] - 0s 436us/step - loss: 26.5212\n",
      "Epoch 58/200\n",
      "379/379 [==============================] - 0s 426us/step - loss: 26.7488\n",
      "Epoch 59/200\n",
      "379/379 [==============================] - 0s 425us/step - loss: 26.7818\n",
      "Epoch 60/200\n",
      "379/379 [==============================] - 0s 427us/step - loss: 25.3933\n",
      "Epoch 61/200\n",
      "379/379 [==============================] - 0s 435us/step - loss: 28.0835\n",
      "Epoch 62/200\n",
      "379/379 [==============================] - 0s 447us/step - loss: 25.3151\n",
      "Epoch 63/200\n",
      "379/379 [==============================] - 0s 427us/step - loss: 25.9667\n",
      "Epoch 64/200\n",
      "379/379 [==============================] - 0s 421us/step - loss: 25.4125\n",
      "Epoch 65/200\n",
      "379/379 [==============================] - 0s 425us/step - loss: 25.9640\n",
      "Epoch 66/200\n",
      "379/379 [==============================] - 0s 431us/step - loss: 25.3668\n",
      "Epoch 67/200\n",
      "379/379 [==============================] - 0s 424us/step - loss: 24.6252\n",
      "Epoch 68/200\n",
      "379/379 [==============================] - 0s 422us/step - loss: 25.2784\n",
      "Epoch 69/200\n",
      "379/379 [==============================] - 0s 414us/step - loss: 25.3806\n",
      "Epoch 70/200\n",
      "379/379 [==============================] - 0s 421us/step - loss: 23.9368\n",
      "Epoch 71/200\n",
      "379/379 [==============================] - 0s 421us/step - loss: 24.0366\n",
      "Epoch 72/200\n",
      "379/379 [==============================] - 0s 408us/step - loss: 23.8417\n",
      "Epoch 73/200\n",
      "379/379 [==============================] - 0s 411us/step - loss: 24.4143\n",
      "Epoch 74/200\n",
      "379/379 [==============================] - 0s 416us/step - loss: 24.3660\n",
      "Epoch 75/200\n",
      "379/379 [==============================] - 0s 419us/step - loss: 24.3602\n",
      "Epoch 76/200\n",
      "379/379 [==============================] - 0s 420us/step - loss: 22.7380\n",
      "Epoch 77/200\n",
      "379/379 [==============================] - 0s 404us/step - loss: 23.3296\n",
      "Epoch 78/200\n",
      "379/379 [==============================] - 0s 406us/step - loss: 23.6827\n",
      "Epoch 79/200\n",
      "379/379 [==============================] - 0s 401us/step - loss: 23.1521\n",
      "Epoch 80/200\n",
      "379/379 [==============================] - 0s 405us/step - loss: 24.8358\n",
      "Epoch 81/200\n",
      "379/379 [==============================] - 0s 419us/step - loss: 22.4389\n",
      "Epoch 82/200\n",
      "379/379 [==============================] - 0s 418us/step - loss: 24.4677\n",
      "Epoch 83/200\n",
      "379/379 [==============================] - 0s 409us/step - loss: 22.6710\n",
      "Epoch 84/200\n",
      "379/379 [==============================] - 0s 427us/step - loss: 22.3459\n",
      "Epoch 85/200\n",
      "379/379 [==============================] - 0s 414us/step - loss: 22.8476\n",
      "Epoch 86/200\n",
      "379/379 [==============================] - 0s 415us/step - loss: 21.5599\n",
      "Epoch 87/200\n",
      "379/379 [==============================] - 0s 398us/step - loss: 21.5256\n",
      "Epoch 88/200\n",
      "379/379 [==============================] - 0s 410us/step - loss: 22.1532\n",
      "Epoch 89/200\n",
      "379/379 [==============================] - 0s 419us/step - loss: 21.3234\n",
      "Epoch 90/200\n",
      "379/379 [==============================] - 0s 420us/step - loss: 22.3151\n",
      "Epoch 91/200\n",
      "379/379 [==============================] - 0s 413us/step - loss: 21.5299\n",
      "Epoch 92/200\n",
      "379/379 [==============================] - 0s 428us/step - loss: 20.4542\n",
      "Epoch 93/200\n",
      "379/379 [==============================] - 0s 406us/step - loss: 21.5372\n",
      "Epoch 94/200\n",
      "379/379 [==============================] - 0s 423us/step - loss: 21.7678\n",
      "Epoch 95/200\n",
      "379/379 [==============================] - 0s 417us/step - loss: 20.9495\n",
      "Epoch 96/200\n",
      "379/379 [==============================] - 0s 397us/step - loss: 21.1199\n",
      "Epoch 97/200\n",
      "379/379 [==============================] - 0s 398us/step - loss: 19.9442\n",
      "Epoch 98/200\n",
      "379/379 [==============================] - 0s 407us/step - loss: 22.2766\n",
      "Epoch 99/200\n",
      "379/379 [==============================] - 0s 422us/step - loss: 21.5645\n",
      "Epoch 100/200\n",
      "379/379 [==============================] - 0s 425us/step - loss: 19.8796\n",
      "Epoch 101/200\n",
      "379/379 [==============================] - 0s 413us/step - loss: 21.5019\n",
      "Epoch 102/200\n",
      "379/379 [==============================] - 0s 423us/step - loss: 20.1080\n",
      "Epoch 103/200\n",
      "379/379 [==============================] - 0s 432us/step - loss: 20.3705\n",
      "Epoch 104/200\n",
      "379/379 [==============================] - 0s 422us/step - loss: 22.6295\n",
      "Epoch 105/200\n",
      "379/379 [==============================] - 0s 423us/step - loss: 21.3167\n",
      "Epoch 106/200\n",
      "379/379 [==============================] - 0s 413us/step - loss: 19.8761\n",
      "Epoch 107/200\n",
      "379/379 [==============================] - 0s 424us/step - loss: 21.0309\n",
      "Epoch 108/200\n",
      "379/379 [==============================] - 0s 412us/step - loss: 19.1667\n",
      "Epoch 109/200\n",
      "379/379 [==============================] - 0s 415us/step - loss: 19.4013\n",
      "Epoch 110/200\n",
      "379/379 [==============================] - 0s 415us/step - loss: 19.8524\n",
      "Epoch 111/200\n",
      "379/379 [==============================] - 0s 419us/step - loss: 20.2498\n",
      "Epoch 112/200\n",
      "379/379 [==============================] - 0s 426us/step - loss: 19.6847\n",
      "Epoch 113/200\n",
      "379/379 [==============================] - 0s 423us/step - loss: 19.3379\n",
      "Epoch 114/200\n",
      "379/379 [==============================] - 0s 425us/step - loss: 19.7335\n",
      "Epoch 115/200\n",
      "379/379 [==============================] - 0s 410us/step - loss: 20.0188\n",
      "Epoch 116/200\n",
      "379/379 [==============================] - 0s 415us/step - loss: 19.4436\n",
      "Epoch 117/200\n",
      "379/379 [==============================] - 0s 425us/step - loss: 19.1752\n",
      "Epoch 118/200\n",
      "379/379 [==============================] - 0s 405us/step - loss: 18.8384\n",
      "Epoch 119/200\n",
      "379/379 [==============================] - 0s 400us/step - loss: 19.3626\n",
      "Epoch 120/200\n",
      "379/379 [==============================] - 0s 425us/step - loss: 20.8164\n",
      "Epoch 121/200\n",
      "379/379 [==============================] - 0s 392us/step - loss: 19.0856\n",
      "Epoch 122/200\n",
      "379/379 [==============================] - 0s 397us/step - loss: 19.5619\n",
      "Epoch 123/200\n",
      "379/379 [==============================] - 0s 404us/step - loss: 18.4760\n",
      "Epoch 124/200\n",
      "379/379 [==============================] - 0s 425us/step - loss: 20.1240\n",
      "Epoch 125/200\n",
      "379/379 [==============================] - 0s 426us/step - loss: 19.2097\n",
      "Epoch 126/200\n",
      "379/379 [==============================] - 0s 421us/step - loss: 17.8743\n",
      "Epoch 127/200\n",
      "379/379 [==============================] - 0s 425us/step - loss: 18.4663\n",
      "Epoch 128/200\n",
      "379/379 [==============================] - 0s 445us/step - loss: 18.1912\n",
      "Epoch 129/200\n",
      "379/379 [==============================] - 0s 417us/step - loss: 18.9606\n",
      "Epoch 130/200\n",
      "379/379 [==============================] - 0s 432us/step - loss: 18.5748\n",
      "Epoch 131/200\n",
      "379/379 [==============================] - 0s 435us/step - loss: 18.8802\n",
      "Epoch 132/200\n",
      "379/379 [==============================] - 0s 413us/step - loss: 18.3116\n",
      "Epoch 133/200\n",
      "379/379 [==============================] - 0s 424us/step - loss: 17.7351\n",
      "Epoch 134/200\n",
      "379/379 [==============================] - 0s 397us/step - loss: 18.5054\n",
      "Epoch 135/200\n",
      "379/379 [==============================] - 0s 413us/step - loss: 18.9685\n",
      "Epoch 136/200\n",
      "379/379 [==============================] - 0s 416us/step - loss: 19.3565\n",
      "Epoch 137/200\n",
      "379/379 [==============================] - 0s 424us/step - loss: 18.6216\n",
      "Epoch 138/200\n",
      "379/379 [==============================] - 0s 429us/step - loss: 19.0536\n",
      "Epoch 139/200\n",
      "379/379 [==============================] - 0s 426us/step - loss: 19.1650\n",
      "Epoch 140/200\n",
      "379/379 [==============================] - 0s 405us/step - loss: 19.1280\n",
      "Epoch 141/200\n",
      "379/379 [==============================] - 0s 428us/step - loss: 18.5615\n",
      "Epoch 142/200\n",
      "379/379 [==============================] - 0s 430us/step - loss: 18.8998\n",
      "Epoch 143/200\n",
      "379/379 [==============================] - 0s 430us/step - loss: 18.4076\n",
      "Epoch 144/200\n",
      "379/379 [==============================] - 0s 428us/step - loss: 17.9435\n",
      "Epoch 145/200\n",
      "379/379 [==============================] - 0s 431us/step - loss: 18.3803\n",
      "Epoch 146/200\n",
      "379/379 [==============================] - 0s 441us/step - loss: 19.0763\n",
      "Epoch 147/200\n",
      "379/379 [==============================] - 0s 428us/step - loss: 18.1186\n",
      "Epoch 148/200\n",
      "379/379 [==============================] - 0s 424us/step - loss: 18.0563\n",
      "Epoch 149/200\n",
      "379/379 [==============================] - 0s 431us/step - loss: 17.5510\n",
      "Epoch 150/200\n",
      "379/379 [==============================] - 0s 431us/step - loss: 18.0650\n",
      "Epoch 151/200\n",
      "379/379 [==============================] - 0s 425us/step - loss: 17.7656\n",
      "Epoch 152/200\n",
      "379/379 [==============================] - 0s 412us/step - loss: 20.5648\n",
      "Epoch 153/200\n",
      "379/379 [==============================] - 0s 420us/step - loss: 19.2072\n",
      "Epoch 154/200\n",
      "379/379 [==============================] - 0s 419us/step - loss: 17.3668\n",
      "Epoch 155/200\n",
      "379/379 [==============================] - 0s 417us/step - loss: 19.7743\n",
      "Epoch 156/200\n",
      "379/379 [==============================] - 0s 413us/step - loss: 17.2963\n",
      "Epoch 157/200\n",
      "379/379 [==============================] - 0s 421us/step - loss: 18.2657\n",
      "Epoch 158/200\n",
      "379/379 [==============================] - 0s 409us/step - loss: 19.0180\n",
      "Epoch 159/200\n",
      "379/379 [==============================] - 0s 419us/step - loss: 18.2812\n",
      "Epoch 160/200\n",
      "379/379 [==============================] - 0s 414us/step - loss: 17.4010\n",
      "Epoch 161/200\n",
      "379/379 [==============================] - 0s 417us/step - loss: 17.2938\n",
      "Epoch 162/200\n",
      "379/379 [==============================] - 0s 409us/step - loss: 16.5360\n",
      "Epoch 163/200\n",
      "379/379 [==============================] - 0s 421us/step - loss: 18.2911\n",
      "Epoch 164/200\n",
      "379/379 [==============================] - 0s 407us/step - loss: 17.5192\n",
      "Epoch 165/200\n",
      "379/379 [==============================] - 0s 415us/step - loss: 18.9203\n",
      "Epoch 166/200\n",
      "379/379 [==============================] - 0s 421us/step - loss: 17.3987\n",
      "Epoch 167/200\n",
      "379/379 [==============================] - 0s 419us/step - loss: 17.0573\n",
      "Epoch 168/200\n",
      "379/379 [==============================] - 0s 424us/step - loss: 16.9448\n",
      "Epoch 169/200\n",
      "379/379 [==============================] - 0s 413us/step - loss: 16.8862\n",
      "Epoch 170/200\n",
      "379/379 [==============================] - 0s 406us/step - loss: 16.8497\n",
      "Epoch 171/200\n",
      "379/379 [==============================] - 0s 413us/step - loss: 18.1646\n",
      "Epoch 172/200\n",
      "379/379 [==============================] - 0s 409us/step - loss: 18.2659\n",
      "Epoch 173/200\n",
      "379/379 [==============================] - 0s 410us/step - loss: 16.6191\n",
      "Epoch 174/200\n",
      "379/379 [==============================] - 0s 411us/step - loss: 17.4427\n",
      "Epoch 175/200\n",
      "379/379 [==============================] - 0s 420us/step - loss: 18.0260\n",
      "Epoch 176/200\n",
      "379/379 [==============================] - 0s 410us/step - loss: 17.1557\n",
      "Epoch 177/200\n",
      "379/379 [==============================] - 0s 420us/step - loss: 17.2567\n",
      "Epoch 178/200\n",
      "379/379 [==============================] - 0s 416us/step - loss: 18.6604\n",
      "Epoch 179/200\n",
      "379/379 [==============================] - 0s 426us/step - loss: 18.5586\n",
      "Epoch 180/200\n",
      "379/379 [==============================] - 0s 411us/step - loss: 17.2897\n",
      "Epoch 181/200\n",
      "379/379 [==============================] - 0s 412us/step - loss: 17.4178\n",
      "Epoch 182/200\n",
      "379/379 [==============================] - 0s 409us/step - loss: 18.7446\n",
      "Epoch 183/200\n",
      "379/379 [==============================] - 0s 429us/step - loss: 17.1283\n",
      "Epoch 184/200\n",
      "379/379 [==============================] - 0s 393us/step - loss: 17.2961\n",
      "Epoch 185/200\n",
      "379/379 [==============================] - 0s 425us/step - loss: 17.5413\n",
      "Epoch 186/200\n",
      "379/379 [==============================] - 0s 420us/step - loss: 18.0636\n",
      "Epoch 187/200\n",
      "379/379 [==============================] - 0s 416us/step - loss: 17.3653\n",
      "Epoch 188/200\n",
      "379/379 [==============================] - 0s 401us/step - loss: 18.8136\n",
      "Epoch 189/200\n",
      "379/379 [==============================] - 0s 419us/step - loss: 16.5625\n",
      "Epoch 190/200\n",
      "379/379 [==============================] - 0s 428us/step - loss: 16.8238\n",
      "Epoch 191/200\n",
      "379/379 [==============================] - 0s 424us/step - loss: 17.1250\n",
      "Epoch 192/200\n",
      "379/379 [==============================] - 0s 445us/step - loss: 16.8579\n",
      "Epoch 193/200\n",
      "379/379 [==============================] - 0s 415us/step - loss: 16.8045\n",
      "Epoch 194/200\n",
      "379/379 [==============================] - 0s 421us/step - loss: 16.7306\n",
      "Epoch 195/200\n",
      "379/379 [==============================] - 0s 426us/step - loss: 17.1532\n",
      "Epoch 196/200\n",
      "379/379 [==============================] - 0s 412us/step - loss: 16.8929\n",
      "Epoch 197/200\n",
      "379/379 [==============================] - 0s 431us/step - loss: 17.4549\n",
      "Epoch 198/200\n",
      "379/379 [==============================] - 0s 419us/step - loss: 16.9835\n",
      "Epoch 199/200\n",
      "379/379 [==============================] - 0s 414us/step - loss: 16.3910\n",
      "Epoch 200/200\n",
      "379/379 [==============================] - 0s 429us/step - loss: 17.3556\n"
     ]
    },
    {
     "data": {
      "text/plain": [
       "<keras.callbacks.callbacks.History at 0x7f59646fd450>"
      ]
     },
     "execution_count": 23,
     "metadata": {},
     "output_type": "execute_result"
    }
   ],
   "source": [
    "# Create the final model for evaluating the test dataset\n",
    "final_model = create_customized_model(best_optimizer, best_kernel_init)\n",
    "final_model.fit(X_train, y_train, epochs=best_epochs, batch_size=best_batches, verbose=1)"
   ]
  },
  {
   "cell_type": "code",
   "execution_count": 24,
   "metadata": {},
   "outputs": [
    {
     "name": "stdout",
     "output_type": "stream",
     "text": [
      "Model: \"sequential_7\"\n",
      "_________________________________________________________________\n",
      "Layer (type)                 Output Shape              Param #   \n",
      "=================================================================\n",
      "dense_13 (Dense)             (None, 13)                182       \n",
      "_________________________________________________________________\n",
      "dense_14 (Dense)             (None, 1)                 14        \n",
      "=================================================================\n",
      "Total params: 196\n",
      "Trainable params: 196\n",
      "Non-trainable params: 0\n",
      "_________________________________________________________________\n",
      "None\n"
     ]
    }
   ],
   "source": [
    "# Display a summary of the final model\n",
    "print(final_model.summary())"
   ]
  },
  {
   "cell_type": "code",
   "execution_count": 25,
   "metadata": {},
   "outputs": [
    {
     "name": "stdout",
     "output_type": "stream",
     "text": [
      "Executing op __inference_keras_scratch_graph_248961 in device /job:localhost/replica:0/task:0/device:CPU:0\n",
      "127/127 [==============================] - 0s 288us/step\n",
      "Final MSE of the model: 13.08\n"
     ]
    }
   ],
   "source": [
    "# Evaluate the Keras model on previously unseen data\n",
    "scores = final_model.evaluate(X_test, y_test)\n",
    "print(\"Final MSE of the model: %.2f\" % (scores))"
   ]
  },
  {
   "cell_type": "code",
   "execution_count": 26,
   "metadata": {},
   "outputs": [],
   "source": [
    "if (notifyStatus): email_notify(\"Phase 4 Optimize Model completed! \"+datetime.now().strftime('%a %B %d, %Y %I:%M:%S %p'))"
   ]
  },
  {
   "cell_type": "markdown",
   "metadata": {},
   "source": [
    "# Section 5. Finalize Model"
   ]
  },
  {
   "cell_type": "code",
   "execution_count": 27,
   "metadata": {},
   "outputs": [],
   "source": [
    "if (notifyStatus): email_notify(\"Phase 5 Finalize Model has begun! \"+datetime.now().strftime('%a %B %d, %Y %I:%M:%S %p'))"
   ]
  },
  {
   "cell_type": "code",
   "execution_count": 28,
   "metadata": {},
   "outputs": [
    {
     "name": "stdout",
     "output_type": "stream",
     "text": [
      "Executing op __inference_keras_scratch_graph_248994 in device /job:localhost/replica:0/task:0/device:CPU:0\n",
      "Data item #0 predicted to be 20.65 (expected 22.40)\n",
      "Data item #1 predicted to be 40.07 (expected 32.40)\n",
      "Data item #2 predicted to be 20.00 (expected 21.70)\n",
      "Data item #3 predicted to be 20.02 (expected 24.50)\n",
      "Data item #4 predicted to be 23.66 (expected 16.80)\n",
      "Data item #5 predicted to be 24.14 (expected 21.10)\n",
      "Data item #6 predicted to be 33.50 (expected 29.40)\n",
      "Data item #7 predicted to be 22.45 (expected 28.70)\n",
      "Data item #8 predicted to be 20.35 (expected 21.50)\n",
      "Data item #9 predicted to be 15.95 (expected 13.60)\n",
      "Data item #10 predicted to be 22.33 (expected 21.40)\n",
      "Data item #11 predicted to be 24.77 (expected 24.80)\n",
      "Data item #12 predicted to be 19.22 (expected 16.80)\n",
      "Data item #13 predicted to be 20.53 (expected 19.40)\n",
      "Data item #14 predicted to be 19.88 (expected 21.70)\n",
      "Data item #15 predicted to be 12.54 (expected 17.20)\n",
      "Data item #16 predicted to be 14.73 (expected 17.10)\n",
      "Data item #17 predicted to be 23.01 (expected 18.70)\n",
      "Data item #18 predicted to be 23.54 (expected 22.30)\n",
      "Data item #19 predicted to be 29.37 (expected 25.00)\n"
     ]
    }
   ],
   "source": [
    "# Make class predictions with the model\n",
    "predictions = final_model.predict(X_test)\n",
    "\n",
    "# Summarize the first 20 cases\n",
    "for i in range(20):\n",
    "\tprint('Data item #%d predicted to be %.2f (expected %.2f)' % (i, predictions[i], y_test[i]))"
   ]
  },
  {
   "cell_type": "code",
   "execution_count": 29,
   "metadata": {},
   "outputs": [],
   "source": [
    "if (notifyStatus): email_notify(\"Phase 5 Finalize Model completed! \"+datetime.now().strftime('%a %B %d, %Y %I:%M:%S %p'))"
   ]
  },
  {
   "cell_type": "code",
   "execution_count": 30,
   "metadata": {},
   "outputs": [
    {
     "name": "stdout",
     "output_type": "stream",
     "text": [
      "Total time for the script: 0:13:01.570185\n"
     ]
    }
   ],
   "source": [
    "print ('Total time for the script:',(datetime.now() - startTimeScript))"
   ]
  }
 ],
 "metadata": {
  "kernelspec": {
   "display_name": "Python 3",
   "language": "python",
   "name": "python3"
  },
  "language_info": {
   "codemirror_mode": {
    "name": "ipython",
    "version": 3
   },
   "file_extension": ".py",
   "mimetype": "text/x-python",
   "name": "python",
   "nbconvert_exporter": "python",
   "pygments_lexer": "ipython3",
   "version": "3.7.5"
  }
 },
 "nbformat": 4,
 "nbformat_minor": 4
}
